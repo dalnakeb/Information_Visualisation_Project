{
 "cells": [
  {
   "cell_type": "markdown",
   "id": "25b60aec",
   "metadata": {},
   "source": [
    "## Imports"
   ]
  },
  {
   "cell_type": "code",
   "execution_count": 2,
   "id": "181e88f3",
   "metadata": {},
   "outputs": [],
   "source": [
    "import plotly.express as px\n",
    "from dash import Dash, html, dcc, Input, Output, callback\n",
    "import matplotlib.pyplot as plt\n",
    "import numpy as np\n",
    "import pandas as pd\n",
    "import re\n",
    "import pycountry\n",
    "import geopandas as gpd\n",
    "import json"
   ]
  },
  {
   "cell_type": "code",
   "execution_count": 3,
   "id": "7aae4bab",
   "metadata": {},
   "outputs": [],
   "source": [
    "iris = px.data.iris()\n",
    "fig  = px.scatter(iris, x=\"sepal_length\", y=\"petal_length\",\n",
    "                  color=\"species\", title=\"Iris scatter\")"
   ]
  },
  {
   "cell_type": "code",
   "execution_count": 4,
   "id": "e891f104",
   "metadata": {},
   "outputs": [],
   "source": [
    "app = Dash(__name__)   # \"inline\", \"external\", or \"jupyterlab\"\n",
    "\n",
    "app.layout = html.Div(\n",
    "    [\n",
    "        dcc.Dropdown(\n",
    "            options=[{\"label\": s, \"value\": s} for s in iris[\"species\"].unique()],\n",
    "            value=\"setosa\",\n",
    "            id=\"species\"\n",
    "        ),\n",
    "        dcc.Graph(id=\"graph\", figure=fig)\n",
    "    ]\n",
    ")"
   ]
  },
  {
   "cell_type": "code",
   "execution_count": 9,
   "id": "3107b50a",
   "metadata": {},
   "outputs": [
    {
     "data": {
      "text/html": [
       "\n",
       "        <iframe\n",
       "            width=\"100%\"\n",
       "            height=\"650\"\n",
       "            src=\"http://127.0.0.1:8051/\"\n",
       "            frameborder=\"0\"\n",
       "            allowfullscreen\n",
       "            \n",
       "        ></iframe>\n",
       "        "
      ],
      "text/plain": [
       "<IPython.lib.display.IFrame at 0x1aa589e4ad0>"
      ]
     },
     "metadata": {},
     "output_type": "display_data"
    }
   ],
   "source": [
    "\n",
    "@callback(Output(\"graph\", \"figure\"), Input(\"species\", \"value\"))\n",
    "def update(selected):\n",
    "    return px.scatter(\n",
    "        iris[iris[\"species\"] == selected],\n",
    "        x=\"sepal_length\", y=\"petal_length\",\n",
    "        color=\"species\", title=f\"Iris scatter – {selected}\"\n",
    "    )\n",
    "\n",
    "app.run(debug=True, port=8051, jupyter_mode=\"inline\")"
   ]
  },
  {
   "cell_type": "markdown",
   "id": "cd25695f",
   "metadata": {},
   "source": [
    "## Load Data"
   ]
  },
  {
   "cell_type": "code",
   "execution_count": 10,
   "id": "2f9876ca",
   "metadata": {},
   "outputs": [
    {
     "data": {
      "text/html": [
       "<div>\n",
       "<style scoped>\n",
       "    .dataframe tbody tr th:only-of-type {\n",
       "        vertical-align: middle;\n",
       "    }\n",
       "\n",
       "    .dataframe tbody tr th {\n",
       "        vertical-align: top;\n",
       "    }\n",
       "\n",
       "    .dataframe thead th {\n",
       "        text-align: right;\n",
       "    }\n",
       "</style>\n",
       "<table border=\"1\" class=\"dataframe\">\n",
       "  <thead>\n",
       "    <tr style=\"text-align: right;\">\n",
       "      <th></th>\n",
       "      <th>Company</th>\n",
       "      <th>Valuation</th>\n",
       "      <th>Country</th>\n",
       "      <th>City</th>\n",
       "      <th>Industry</th>\n",
       "      <th>Year</th>\n",
       "    </tr>\n",
       "  </thead>\n",
       "  <tbody>\n",
       "    <tr>\n",
       "      <th>0</th>\n",
       "      <td>Red Ventures</td>\n",
       "      <td>1.00</td>\n",
       "      <td>United States</td>\n",
       "      <td>Fort Mill</td>\n",
       "      <td>Other</td>\n",
       "      <td>2015</td>\n",
       "    </tr>\n",
       "    <tr>\n",
       "      <th>1</th>\n",
       "      <td>Tanium</td>\n",
       "      <td>9.00</td>\n",
       "      <td>United States</td>\n",
       "      <td>Kirkland</td>\n",
       "      <td>Cybersecurity</td>\n",
       "      <td>2015</td>\n",
       "    </tr>\n",
       "    <tr>\n",
       "      <th>2</th>\n",
       "      <td>Planet Labs</td>\n",
       "      <td>2.20</td>\n",
       "      <td>United States</td>\n",
       "      <td>San Francisco</td>\n",
       "      <td>Other</td>\n",
       "      <td>2015</td>\n",
       "    </tr>\n",
       "    <tr>\n",
       "      <th>3</th>\n",
       "      <td>Illumio</td>\n",
       "      <td>2.75</td>\n",
       "      <td>United States</td>\n",
       "      <td>Sunnyvale</td>\n",
       "      <td>Cybersecurity</td>\n",
       "      <td>2015</td>\n",
       "    </tr>\n",
       "    <tr>\n",
       "      <th>4</th>\n",
       "      <td>Infinidat</td>\n",
       "      <td>1.60</td>\n",
       "      <td>United States</td>\n",
       "      <td>Waltham</td>\n",
       "      <td>Hardware</td>\n",
       "      <td>2015</td>\n",
       "    </tr>\n",
       "  </tbody>\n",
       "</table>\n",
       "</div>"
      ],
      "text/plain": [
       "        Company  Valuation        Country           City       Industry  Year\n",
       "0  Red Ventures       1.00  United States      Fort Mill          Other  2015\n",
       "1        Tanium       9.00  United States       Kirkland  Cybersecurity  2015\n",
       "2   Planet Labs       2.20  United States  San Francisco          Other  2015\n",
       "3       Illumio       2.75  United States      Sunnyvale  Cybersecurity  2015\n",
       "4     Infinidat       1.60  United States        Waltham       Hardware  2015"
      ]
     },
     "execution_count": 10,
     "metadata": {},
     "output_type": "execute_result"
    }
   ],
   "source": [
    "filename = \"World_Wide_Unicorn_Startups.csv\"\n",
    "unicorn = pd.read_csv(f\"../data/{filename}\")\n",
    "unicorn.head()"
   ]
  },
  {
   "cell_type": "code",
   "execution_count": 11,
   "id": "ff4499ac",
   "metadata": {},
   "outputs": [
    {
     "data": {
      "text/html": [
       "<div>\n",
       "<style scoped>\n",
       "    .dataframe tbody tr th:only-of-type {\n",
       "        vertical-align: middle;\n",
       "    }\n",
       "\n",
       "    .dataframe tbody tr th {\n",
       "        vertical-align: top;\n",
       "    }\n",
       "\n",
       "    .dataframe thead th {\n",
       "        text-align: right;\n",
       "    }\n",
       "</style>\n",
       "<table border=\"1\" class=\"dataframe\">\n",
       "  <thead>\n",
       "    <tr style=\"text-align: right;\">\n",
       "      <th></th>\n",
       "      <th>Country</th>\n",
       "      <th>Quality of Life Index</th>\n",
       "      <th>Purchasing Power Index</th>\n",
       "      <th>Cost of Living Index</th>\n",
       "      <th>Property Price to Income Ratio</th>\n",
       "      <th>Year</th>\n",
       "      <th>GDP per Capita</th>\n",
       "    </tr>\n",
       "  </thead>\n",
       "  <tbody>\n",
       "    <tr>\n",
       "      <th>0</th>\n",
       "      <td>Argentina</td>\n",
       "      <td>77.0</td>\n",
       "      <td>59.4</td>\n",
       "      <td>67.1</td>\n",
       "      <td>11.6</td>\n",
       "      <td>2015</td>\n",
       "      <td>14833.199680</td>\n",
       "    </tr>\n",
       "    <tr>\n",
       "      <th>1</th>\n",
       "      <td>Australia</td>\n",
       "      <td>180.8</td>\n",
       "      <td>110.4</td>\n",
       "      <td>99.3</td>\n",
       "      <td>7.1</td>\n",
       "      <td>2015</td>\n",
       "      <td>52009.802759</td>\n",
       "    </tr>\n",
       "    <tr>\n",
       "      <th>2</th>\n",
       "      <td>Austria</td>\n",
       "      <td>182.6</td>\n",
       "      <td>104.6</td>\n",
       "      <td>76.9</td>\n",
       "      <td>9.6</td>\n",
       "      <td>2015</td>\n",
       "      <td>43908.420277</td>\n",
       "    </tr>\n",
       "    <tr>\n",
       "      <th>3</th>\n",
       "      <td>Belgium</td>\n",
       "      <td>136.0</td>\n",
       "      <td>86.2</td>\n",
       "      <td>87.2</td>\n",
       "      <td>6.5</td>\n",
       "      <td>2015</td>\n",
       "      <td>40889.673570</td>\n",
       "    </tr>\n",
       "    <tr>\n",
       "      <th>4</th>\n",
       "      <td>Brazil</td>\n",
       "      <td>29.8</td>\n",
       "      <td>41.2</td>\n",
       "      <td>55.3</td>\n",
       "      <td>16.7</td>\n",
       "      <td>2015</td>\n",
       "      <td>8936.195589</td>\n",
       "    </tr>\n",
       "  </tbody>\n",
       "</table>\n",
       "</div>"
      ],
      "text/plain": [
       "     Country  Quality of Life Index  Purchasing Power Index  \\\n",
       "0  Argentina                   77.0                    59.4   \n",
       "1  Australia                  180.8                   110.4   \n",
       "2    Austria                  182.6                   104.6   \n",
       "3    Belgium                  136.0                    86.2   \n",
       "4     Brazil                   29.8                    41.2   \n",
       "\n",
       "   Cost of Living Index  Property Price to Income Ratio  Year  GDP per Capita  \n",
       "0                  67.1                            11.6  2015    14833.199680  \n",
       "1                  99.3                             7.1  2015    52009.802759  \n",
       "2                  76.9                             9.6  2015    43908.420277  \n",
       "3                  87.2                             6.5  2015    40889.673570  \n",
       "4                  55.3                            16.7  2015     8936.195589  "
      ]
     },
     "execution_count": 11,
     "metadata": {},
     "output_type": "execute_result"
    }
   ],
   "source": [
    "filename = \"QOL.csv\"\n",
    "qol_gdp = pd.read_csv(f\"../data/{filename}\")\n",
    "qol_gdp.head()"
   ]
  },
  {
   "cell_type": "markdown",
   "id": "ef6d6df7",
   "metadata": {},
   "source": [
    "## Preprocessing"
   ]
  },
  {
   "cell_type": "markdown",
   "id": "0398242c",
   "metadata": {},
   "source": [
    "#### Cleaning"
   ]
  },
  {
   "cell_type": "markdown",
   "id": "3aae8be9",
   "metadata": {},
   "source": [
    "Cleaning and standardizing column names"
   ]
  },
  {
   "cell_type": "code",
   "execution_count": 12,
   "id": "1fbe2982",
   "metadata": {},
   "outputs": [],
   "source": [
    "unicorn.columns = unicorn.columns.str.strip().str.replace(' ', '_').str.replace('-', '_')\n",
    "qol_gdp.columns = qol_gdp.columns.str.strip().str.replace(' ', '_').str.replace('-', '_')"
   ]
  },
  {
   "cell_type": "markdown",
   "id": "a14e492c",
   "metadata": {},
   "source": [
    "Standardize country names"
   ]
  },
  {
   "cell_type": "code",
   "execution_count": 13,
   "id": "f9a497c4",
   "metadata": {},
   "outputs": [],
   "source": [
    "def normalize_country(name):\n",
    "    name = str(name).strip()\n",
    "    name = name.replace('U.S.', 'United States').replace('USA', 'United States')\n",
    "    return name.title()"
   ]
  },
  {
   "cell_type": "code",
   "execution_count": 14,
   "id": "f165c95b",
   "metadata": {},
   "outputs": [],
   "source": [
    "unicorn['Country_std'] = unicorn['Country'].apply(normalize_country)\n",
    "qol_gdp['Country_std'] = qol_gdp['Country'].apply(normalize_country)"
   ]
  },
  {
   "cell_type": "markdown",
   "id": "1fcb2c6c",
   "metadata": {},
   "source": [
    "#### Handle missing values and outliers"
   ]
  },
  {
   "cell_type": "code",
   "execution_count": 15,
   "id": "5cbe9e0d",
   "metadata": {},
   "outputs": [
    {
     "name": "stdout",
     "output_type": "stream",
     "text": [
      "<class 'pandas.core.frame.DataFrame'>\n",
      "RangeIndex: 681 entries, 0 to 680\n",
      "Data columns (total 7 columns):\n",
      " #   Column       Non-Null Count  Dtype  \n",
      "---  ------       --------------  -----  \n",
      " 0   Company      681 non-null    object \n",
      " 1   Valuation    681 non-null    float64\n",
      " 2   Country      681 non-null    object \n",
      " 3   City         681 non-null    object \n",
      " 4   Industry     681 non-null    object \n",
      " 5   Year         681 non-null    int64  \n",
      " 6   Country_std  681 non-null    object \n",
      "dtypes: float64(1), int64(1), object(5)\n",
      "memory usage: 37.4+ KB\n"
     ]
    }
   ],
   "source": [
    "unicorn.info()"
   ]
  },
  {
   "cell_type": "code",
   "execution_count": 16,
   "id": "08a2668e",
   "metadata": {},
   "outputs": [
    {
     "data": {
      "text/plain": [
       "Company        0\n",
       "Valuation      0\n",
       "Country        0\n",
       "City           0\n",
       "Industry       0\n",
       "Year           0\n",
       "Country_std    0\n",
       "dtype: int64"
      ]
     },
     "execution_count": 16,
     "metadata": {},
     "output_type": "execute_result"
    }
   ],
   "source": [
    "unicorn.isna().sum()"
   ]
  },
  {
   "cell_type": "code",
   "execution_count": 17,
   "id": "f1415fd4",
   "metadata": {},
   "outputs": [
    {
     "name": "stdout",
     "output_type": "stream",
     "text": [
      "<class 'pandas.core.frame.DataFrame'>\n",
      "RangeIndex: 224 entries, 0 to 223\n",
      "Data columns (total 8 columns):\n",
      " #   Column                          Non-Null Count  Dtype  \n",
      "---  ------                          --------------  -----  \n",
      " 0   Country                         224 non-null    object \n",
      " 1   Quality_of_Life_Index           224 non-null    float64\n",
      " 2   Purchasing_Power_Index          224 non-null    float64\n",
      " 3   Cost_of_Living_Index            224 non-null    float64\n",
      " 4   Property_Price_to_Income_Ratio  224 non-null    float64\n",
      " 5   Year                            224 non-null    int64  \n",
      " 6   GDP_per_Capita                  224 non-null    float64\n",
      " 7   Country_std                     224 non-null    object \n",
      "dtypes: float64(5), int64(1), object(2)\n",
      "memory usage: 14.1+ KB\n"
     ]
    }
   ],
   "source": [
    "qol_gdp.info()"
   ]
  },
  {
   "cell_type": "markdown",
   "id": "9b71ce6c",
   "metadata": {},
   "source": [
    "Check for outliers"
   ]
  },
  {
   "cell_type": "code",
   "execution_count": 46,
   "id": "65e53015",
   "metadata": {},
   "outputs": [],
   "source": [
    "def boxplot_cols(df: pd.DataFrame, cols, *, log: bool = False):\n",
    "    \"\"\"\n",
    "    Plot a separate matplotlib box‑plot for every column listed in `cols`.\n",
    "    \n",
    "    Parameters\n",
    "    ----------\n",
    "    df   : pandas.DataFrame\n",
    "    cols : iterable of str\n",
    "        Column names to plot.\n",
    "    log  : bool, default False\n",
    "        If True, use a logarithmic y‑axis (helps when the data span many orders of magnitude).\n",
    "    \"\"\"\n",
    "    for col in cols:\n",
    "        if col not in df.columns:\n",
    "            print(f\"[skip] '{col}' not found in DataFrame\")\n",
    "            continue\n",
    "        if not pd.api.types.is_numeric_dtype(df[col]):\n",
    "            print(f\"[skip] '{col}' is not numeric\")\n",
    "            continue\n",
    "\n",
    "        data = df[col].dropna()\n",
    "        if data.empty:\n",
    "            print(f\"[skip] '{col}' has only NaNs\")\n",
    "            continue\n",
    "\n",
    "        plt.figure()                          # new figure each time\n",
    "        plt.boxplot(data, vert=True)\n",
    "        if log:\n",
    "            plt.yscale(\"log\")\n",
    "        plt.title(f\"Box plot – {col}\")\n",
    "        plt.ylabel(col)\n",
    "        plt.show()"
   ]
  },
  {
   "cell_type": "code",
   "execution_count": 47,
   "id": "678ebfcf",
   "metadata": {},
   "outputs": [
    {
     "data": {
      "image/png": "[encoded data removed]",
      "text/plain": [
       "<Figure size 640x480 with 1 Axes>"
      ]
     },
     "metadata": {},
     "output_type": "display_data"
    }
   ],
   "source": [
    "boxplot_cols(unicorn, [\"Valuation\"])"
   ]
  },
  {
   "cell_type": "code",
   "execution_count": 48,
   "id": "b8b2677f",
   "metadata": {},
   "outputs": [
    {
     "data": {
      "text/html": [
       "<div>\n",
       "<style scoped>\n",
       "    .dataframe tbody tr th:only-of-type {\n",
       "        vertical-align: middle;\n",
       "    }\n",
       "\n",
       "    .dataframe tbody tr th {\n",
       "        vertical-align: top;\n",
       "    }\n",
       "\n",
       "    .dataframe thead th {\n",
       "        text-align: right;\n",
       "    }\n",
       "</style>\n",
       "<table border=\"1\" class=\"dataframe\">\n",
       "  <thead>\n",
       "    <tr style=\"text-align: right;\">\n",
       "      <th></th>\n",
       "      <th>Company</th>\n",
       "      <th>Valuation</th>\n",
       "      <th>Country</th>\n",
       "      <th>City</th>\n",
       "      <th>Industry</th>\n",
       "      <th>Year</th>\n",
       "      <th>Country_std</th>\n",
       "    </tr>\n",
       "  </thead>\n",
       "  <tbody>\n",
       "    <tr>\n",
       "      <th>30</th>\n",
       "      <td>BYJU's</td>\n",
       "      <td>21.0</td>\n",
       "      <td>India</td>\n",
       "      <td>Bengaluru</td>\n",
       "      <td>Edtech</td>\n",
       "      <td>2017</td>\n",
       "      <td>India</td>\n",
       "    </tr>\n",
       "    <tr>\n",
       "      <th>42</th>\n",
       "      <td>Canva</td>\n",
       "      <td>40.0</td>\n",
       "      <td>Australia</td>\n",
       "      <td>Surry Hills</td>\n",
       "      <td>Internet software &amp; services</td>\n",
       "      <td>2018</td>\n",
       "      <td>Australia</td>\n",
       "    </tr>\n",
       "    <tr>\n",
       "      <th>48</th>\n",
       "      <td>Nubank</td>\n",
       "      <td>30.0</td>\n",
       "      <td>Brazil</td>\n",
       "      <td>Sao Paulo</td>\n",
       "      <td>Fintech</td>\n",
       "      <td>2018</td>\n",
       "      <td>Brazil</td>\n",
       "    </tr>\n",
       "    <tr>\n",
       "      <th>86</th>\n",
       "      <td>Epic Games</td>\n",
       "      <td>28.7</td>\n",
       "      <td>United States</td>\n",
       "      <td>Cary</td>\n",
       "      <td>Other</td>\n",
       "      <td>2018</td>\n",
       "      <td>United States</td>\n",
       "    </tr>\n",
       "    <tr>\n",
       "      <th>104</th>\n",
       "      <td>Databricks</td>\n",
       "      <td>38.0</td>\n",
       "      <td>United States</td>\n",
       "      <td>San Francisco</td>\n",
       "      <td>Data management &amp; analytics</td>\n",
       "      <td>2019</td>\n",
       "      <td>United States</td>\n",
       "    </tr>\n",
       "    <tr>\n",
       "      <th>110</th>\n",
       "      <td>Chime</td>\n",
       "      <td>25.0</td>\n",
       "      <td>United States</td>\n",
       "      <td>San Francisco</td>\n",
       "      <td>Fintech</td>\n",
       "      <td>2019</td>\n",
       "      <td>United States</td>\n",
       "    </tr>\n",
       "    <tr>\n",
       "      <th>236</th>\n",
       "      <td>goPuff</td>\n",
       "      <td>15.0</td>\n",
       "      <td>United States</td>\n",
       "      <td>Philadelphia</td>\n",
       "      <td>E-commerce &amp; direct-to-consumer</td>\n",
       "      <td>2020</td>\n",
       "      <td>United States</td>\n",
       "    </tr>\n",
       "    <tr>\n",
       "      <th>363</th>\n",
       "      <td>J&amp;T Express</td>\n",
       "      <td>20.0</td>\n",
       "      <td>Indonesia</td>\n",
       "      <td>Jakarta</td>\n",
       "      <td>Supply chain, logistics, &amp; delivery</td>\n",
       "      <td>2021</td>\n",
       "      <td>Indonesia</td>\n",
       "    </tr>\n",
       "  </tbody>\n",
       "</table>\n",
       "</div>"
      ],
      "text/plain": [
       "         Company  Valuation        Country           City  \\\n",
       "30        BYJU's       21.0          India      Bengaluru   \n",
       "42         Canva       40.0      Australia    Surry Hills   \n",
       "48        Nubank       30.0         Brazil      Sao Paulo   \n",
       "86    Epic Games       28.7  United States           Cary   \n",
       "104   Databricks       38.0  United States  San Francisco   \n",
       "110        Chime       25.0  United States  San Francisco   \n",
       "236       goPuff       15.0  United States   Philadelphia   \n",
       "363  J&T Express       20.0      Indonesia        Jakarta   \n",
       "\n",
       "                                Industry  Year    Country_std  \n",
       "30                                Edtech  2017          India  \n",
       "42          Internet software & services  2018      Australia  \n",
       "48                               Fintech  2018         Brazil  \n",
       "86                                 Other  2018  United States  \n",
       "104          Data management & analytics  2019  United States  \n",
       "110                              Fintech  2019  United States  \n",
       "236      E-commerce & direct-to-consumer  2020  United States  \n",
       "363  Supply chain, logistics, & delivery  2021      Indonesia  "
      ]
     },
     "execution_count": 48,
     "metadata": {},
     "output_type": "execute_result"
    }
   ],
   "source": [
    "unicorn[unicorn[\"Valuation\"] >= 15]"
   ]
  },
  {
   "cell_type": "code",
   "execution_count": 49,
   "id": "07bffd21",
   "metadata": {},
   "outputs": [
    {
     "name": "stdout",
     "output_type": "stream",
     "text": [
      "[skip] 'Valuation' not found in DataFrame\n"
     ]
    },
    {
     "data": {
      "image/png": "[encoded data removed]",
      "text/plain": [
       "<Figure size 640x480 with 1 Axes>"
      ]
     },
     "metadata": {},
     "output_type": "display_data"
    },
    {
     "data": {
      "image/png": "[encoded data removed]",
      "text/plain": [
       "<Figure size 640x480 with 1 Axes>"
      ]
     },
     "metadata": {},
     "output_type": "display_data"
    },
    {
     "data": {
      "image/png": "[encoded data removed]",
      "text/plain": [
       "<Figure size 640x480 with 1 Axes>"
      ]
     },
     "metadata": {},
     "output_type": "display_data"
    },
    {
     "data": {
      "image/png": "[encoded data removed]",
      "text/plain": [
       "<Figure size 640x480 with 1 Axes>"
      ]
     },
     "metadata": {},
     "output_type": "display_data"
    },
    {
     "data": {
      "image/png": "[encoded data removed]",
      "text/plain": [
       "<Figure size 640x480 with 1 Axes>"
      ]
     },
     "metadata": {},
     "output_type": "display_data"
    }
   ],
   "source": [
    "cols_to_check = [\"Valuation\", \"Quality_of_Life_Index\", \"Purchasing_Power_Index\", \"Cost_of_Living_Index\", \"Property_Price_to_Income_Ratio\", \"GDP_per_Capita\"]\n",
    "boxplot_cols(qol_gdp, cols_to_check)"
   ]
  },
  {
   "cell_type": "code",
   "execution_count": 50,
   "id": "d03d75af",
   "metadata": {},
   "outputs": [
    {
     "data": {
      "text/html": [
       "<div>\n",
       "<style scoped>\n",
       "    .dataframe tbody tr th:only-of-type {\n",
       "        vertical-align: middle;\n",
       "    }\n",
       "\n",
       "    .dataframe tbody tr th {\n",
       "        vertical-align: top;\n",
       "    }\n",
       "\n",
       "    .dataframe thead th {\n",
       "        text-align: right;\n",
       "    }\n",
       "</style>\n",
       "<table border=\"1\" class=\"dataframe\">\n",
       "  <thead>\n",
       "    <tr style=\"text-align: right;\">\n",
       "      <th></th>\n",
       "      <th>Country</th>\n",
       "      <th>Quality_of_Life_Index</th>\n",
       "      <th>Purchasing_Power_Index</th>\n",
       "      <th>Cost_of_Living_Index</th>\n",
       "      <th>Property_Price_to_Income_Ratio</th>\n",
       "      <th>Year</th>\n",
       "      <th>GDP_per_Capita</th>\n",
       "      <th>Country_std</th>\n",
       "    </tr>\n",
       "  </thead>\n",
       "  <tbody>\n",
       "    <tr>\n",
       "      <th>215</th>\n",
       "      <td>Philippines</td>\n",
       "      <td>78.4</td>\n",
       "      <td>19.7</td>\n",
       "      <td>40.7</td>\n",
       "      <td>30.1</td>\n",
       "      <td>2021</td>\n",
       "      <td>3484.385958</td>\n",
       "      <td>Philippines</td>\n",
       "    </tr>\n",
       "    <tr>\n",
       "      <th>183</th>\n",
       "      <td>Philippines</td>\n",
       "      <td>85.4</td>\n",
       "      <td>23.5</td>\n",
       "      <td>37.6</td>\n",
       "      <td>24.6</td>\n",
       "      <td>2020</td>\n",
       "      <td>3227.579102</td>\n",
       "      <td>Philippines</td>\n",
       "    </tr>\n",
       "    <tr>\n",
       "      <th>160</th>\n",
       "      <td>Argentina</td>\n",
       "      <td>115.3</td>\n",
       "      <td>47.2</td>\n",
       "      <td>33.0</td>\n",
       "      <td>24.5</td>\n",
       "      <td>2020</td>\n",
       "      <td>8535.599420</td>\n",
       "      <td>Argentina</td>\n",
       "    </tr>\n",
       "    <tr>\n",
       "      <th>61</th>\n",
       "      <td>Thailand</td>\n",
       "      <td>63.8</td>\n",
       "      <td>40.1</td>\n",
       "      <td>40.0</td>\n",
       "      <td>24.4</td>\n",
       "      <td>2016</td>\n",
       "      <td>5833.577101</td>\n",
       "      <td>Thailand</td>\n",
       "    </tr>\n",
       "    <tr>\n",
       "      <th>93</th>\n",
       "      <td>Thailand</td>\n",
       "      <td>57.2</td>\n",
       "      <td>34.3</td>\n",
       "      <td>43.7</td>\n",
       "      <td>24.4</td>\n",
       "      <td>2017</td>\n",
       "      <td>6413.091815</td>\n",
       "      <td>Thailand</td>\n",
       "    </tr>\n",
       "    <tr>\n",
       "      <th>56</th>\n",
       "      <td>Singapore</td>\n",
       "      <td>93.1</td>\n",
       "      <td>110.5</td>\n",
       "      <td>83.7</td>\n",
       "      <td>23.2</td>\n",
       "      <td>2016</td>\n",
       "      <td>57199.330206</td>\n",
       "      <td>Singapore</td>\n",
       "    </tr>\n",
       "    <tr>\n",
       "      <th>125</th>\n",
       "      <td>Thailand</td>\n",
       "      <td>101.2</td>\n",
       "      <td>38.6</td>\n",
       "      <td>48.9</td>\n",
       "      <td>22.8</td>\n",
       "      <td>2018</td>\n",
       "      <td>7099.775256</td>\n",
       "      <td>Thailand</td>\n",
       "    </tr>\n",
       "    <tr>\n",
       "      <th>192</th>\n",
       "      <td>Argentina</td>\n",
       "      <td>110.5</td>\n",
       "      <td>34.6</td>\n",
       "      <td>37.9</td>\n",
       "      <td>22.7</td>\n",
       "      <td>2021</td>\n",
       "      <td>10738.017960</td>\n",
       "      <td>Argentina</td>\n",
       "    </tr>\n",
       "    <tr>\n",
       "      <th>184</th>\n",
       "      <td>Singapore</td>\n",
       "      <td>144.4</td>\n",
       "      <td>89.0</td>\n",
       "      <td>81.1</td>\n",
       "      <td>22.3</td>\n",
       "      <td>2020</td>\n",
       "      <td>62184.900233</td>\n",
       "      <td>Singapore</td>\n",
       "    </tr>\n",
       "    <tr>\n",
       "      <th>189</th>\n",
       "      <td>Thailand</td>\n",
       "      <td>101.9</td>\n",
       "      <td>35.5</td>\n",
       "      <td>49.8</td>\n",
       "      <td>22.3</td>\n",
       "      <td>2020</td>\n",
       "      <td>6985.645229</td>\n",
       "      <td>Thailand</td>\n",
       "    </tr>\n",
       "    <tr>\n",
       "      <th>120</th>\n",
       "      <td>Singapore</td>\n",
       "      <td>150.5</td>\n",
       "      <td>95.9</td>\n",
       "      <td>91.4</td>\n",
       "      <td>22.2</td>\n",
       "      <td>2018</td>\n",
       "      <td>66891.747901</td>\n",
       "      <td>Singapore</td>\n",
       "    </tr>\n",
       "    <tr>\n",
       "      <th>221</th>\n",
       "      <td>Thailand</td>\n",
       "      <td>100.3</td>\n",
       "      <td>31.4</td>\n",
       "      <td>49.3</td>\n",
       "      <td>22.2</td>\n",
       "      <td>2021</td>\n",
       "      <td>7058.069402</td>\n",
       "      <td>Thailand</td>\n",
       "    </tr>\n",
       "    <tr>\n",
       "      <th>206</th>\n",
       "      <td>Indonesia</td>\n",
       "      <td>90.1</td>\n",
       "      <td>20.9</td>\n",
       "      <td>37.4</td>\n",
       "      <td>22.0</td>\n",
       "      <td>2021</td>\n",
       "      <td>4287.173140</td>\n",
       "      <td>Indonesia</td>\n",
       "    </tr>\n",
       "    <tr>\n",
       "      <th>157</th>\n",
       "      <td>Thailand</td>\n",
       "      <td>103.3</td>\n",
       "      <td>40.9</td>\n",
       "      <td>47.5</td>\n",
       "      <td>21.9</td>\n",
       "      <td>2019</td>\n",
       "      <td>7605.694380</td>\n",
       "      <td>Thailand</td>\n",
       "    </tr>\n",
       "    <tr>\n",
       "      <th>151</th>\n",
       "      <td>Philippines</td>\n",
       "      <td>90.7</td>\n",
       "      <td>29.5</td>\n",
       "      <td>35.1</td>\n",
       "      <td>21.8</td>\n",
       "      <td>2019</td>\n",
       "      <td>3400.789521</td>\n",
       "      <td>Philippines</td>\n",
       "    </tr>\n",
       "    <tr>\n",
       "      <th>152</th>\n",
       "      <td>Singapore</td>\n",
       "      <td>156.9</td>\n",
       "      <td>103.8</td>\n",
       "      <td>69.8</td>\n",
       "      <td>21.6</td>\n",
       "      <td>2019</td>\n",
       "      <td>66478.061383</td>\n",
       "      <td>Singapore</td>\n",
       "    </tr>\n",
       "    <tr>\n",
       "      <th>88</th>\n",
       "      <td>Singapore</td>\n",
       "      <td>86.5</td>\n",
       "      <td>92.7</td>\n",
       "      <td>82.4</td>\n",
       "      <td>21.6</td>\n",
       "      <td>2017</td>\n",
       "      <td>61251.318162</td>\n",
       "      <td>Singapore</td>\n",
       "    </tr>\n",
       "    <tr>\n",
       "      <th>24</th>\n",
       "      <td>Singapore</td>\n",
       "      <td>111.3</td>\n",
       "      <td>75.4</td>\n",
       "      <td>93.6</td>\n",
       "      <td>21.4</td>\n",
       "      <td>2015</td>\n",
       "      <td>55742.912702</td>\n",
       "      <td>Singapore</td>\n",
       "    </tr>\n",
       "    <tr>\n",
       "      <th>78</th>\n",
       "      <td>Indonesia</td>\n",
       "      <td>62.0</td>\n",
       "      <td>27.6</td>\n",
       "      <td>41.1</td>\n",
       "      <td>21.0</td>\n",
       "      <td>2017</td>\n",
       "      <td>3798.883262</td>\n",
       "      <td>Indonesia</td>\n",
       "    </tr>\n",
       "    <tr>\n",
       "      <th>29</th>\n",
       "      <td>Thailand</td>\n",
       "      <td>47.4</td>\n",
       "      <td>38.8</td>\n",
       "      <td>46.5</td>\n",
       "      <td>20.8</td>\n",
       "      <td>2015</td>\n",
       "      <td>5688.852581</td>\n",
       "      <td>Thailand</td>\n",
       "    </tr>\n",
       "    <tr>\n",
       "      <th>49</th>\n",
       "      <td>Japan</td>\n",
       "      <td>176.1</td>\n",
       "      <td>117.6</td>\n",
       "      <td>81.3</td>\n",
       "      <td>20.2</td>\n",
       "      <td>2016</td>\n",
       "      <td>39349.477475</td>\n",
       "      <td>Japan</td>\n",
       "    </tr>\n",
       "    <tr>\n",
       "      <th>60</th>\n",
       "      <td>Switzerland</td>\n",
       "      <td>208.5</td>\n",
       "      <td>178.7</td>\n",
       "      <td>123.1</td>\n",
       "      <td>8.6</td>\n",
       "      <td>2016</td>\n",
       "      <td>82137.742393</td>\n",
       "      <td>Switzerland</td>\n",
       "    </tr>\n",
       "  </tbody>\n",
       "</table>\n",
       "</div>"
      ],
      "text/plain": [
       "         Country  Quality_of_Life_Index  Purchasing_Power_Index  \\\n",
       "215  Philippines                   78.4                    19.7   \n",
       "183  Philippines                   85.4                    23.5   \n",
       "160    Argentina                  115.3                    47.2   \n",
       "61      Thailand                   63.8                    40.1   \n",
       "93      Thailand                   57.2                    34.3   \n",
       "56     Singapore                   93.1                   110.5   \n",
       "125     Thailand                  101.2                    38.6   \n",
       "192    Argentina                  110.5                    34.6   \n",
       "184    Singapore                  144.4                    89.0   \n",
       "189     Thailand                  101.9                    35.5   \n",
       "120    Singapore                  150.5                    95.9   \n",
       "221     Thailand                  100.3                    31.4   \n",
       "206    Indonesia                   90.1                    20.9   \n",
       "157     Thailand                  103.3                    40.9   \n",
       "151  Philippines                   90.7                    29.5   \n",
       "152    Singapore                  156.9                   103.8   \n",
       "88     Singapore                   86.5                    92.7   \n",
       "24     Singapore                  111.3                    75.4   \n",
       "78     Indonesia                   62.0                    27.6   \n",
       "29      Thailand                   47.4                    38.8   \n",
       "49         Japan                  176.1                   117.6   \n",
       "60   Switzerland                  208.5                   178.7   \n",
       "\n",
       "     Cost_of_Living_Index  Property_Price_to_Income_Ratio  Year  \\\n",
       "215                  40.7                            30.1  2021   \n",
       "183                  37.6                            24.6  2020   \n",
       "160                  33.0                            24.5  2020   \n",
       "61                   40.0                            24.4  2016   \n",
       "93                   43.7                            24.4  2017   \n",
       "56                   83.7                            23.2  2016   \n",
       "125                  48.9                            22.8  2018   \n",
       "192                  37.9                            22.7  2021   \n",
       "184                  81.1                            22.3  2020   \n",
       "189                  49.8                            22.3  2020   \n",
       "120                  91.4                            22.2  2018   \n",
       "221                  49.3                            22.2  2021   \n",
       "206                  37.4                            22.0  2021   \n",
       "157                  47.5                            21.9  2019   \n",
       "151                  35.1                            21.8  2019   \n",
       "152                  69.8                            21.6  2019   \n",
       "88                   82.4                            21.6  2017   \n",
       "24                   93.6                            21.4  2015   \n",
       "78                   41.1                            21.0  2017   \n",
       "29                   46.5                            20.8  2015   \n",
       "49                   81.3                            20.2  2016   \n",
       "60                  123.1                             8.6  2016   \n",
       "\n",
       "     GDP_per_Capita  Country_std  \n",
       "215     3484.385958  Philippines  \n",
       "183     3227.579102  Philippines  \n",
       "160     8535.599420    Argentina  \n",
       "61      5833.577101     Thailand  \n",
       "93      6413.091815     Thailand  \n",
       "56     57199.330206    Singapore  \n",
       "125     7099.775256     Thailand  \n",
       "192    10738.017960    Argentina  \n",
       "184    62184.900233    Singapore  \n",
       "189     6985.645229     Thailand  \n",
       "120    66891.747901    Singapore  \n",
       "221     7058.069402     Thailand  \n",
       "206     4287.173140    Indonesia  \n",
       "157     7605.694380     Thailand  \n",
       "151     3400.789521  Philippines  \n",
       "152    66478.061383    Singapore  \n",
       "88     61251.318162    Singapore  \n",
       "24     55742.912702    Singapore  \n",
       "78      3798.883262    Indonesia  \n",
       "29      5688.852581     Thailand  \n",
       "49     39349.477475        Japan  \n",
       "60     82137.742393  Switzerland  "
      ]
     },
     "execution_count": 50,
     "metadata": {},
     "output_type": "execute_result"
    }
   ],
   "source": [
    "qol_gdp[(qol_gdp[\"Property_Price_to_Income_Ratio\"] > 20) | (qol_gdp[\"Purchasing_Power_Index\"] > 150)].sort_values([\"Property_Price_to_Income_Ratio\", \"Purchasing_Power_Index\"], ascending=False)"
   ]
  },
  {
   "cell_type": "markdown",
   "id": "ef44041b",
   "metadata": {},
   "source": [
    "Adding ISO3 codes for countries"
   ]
  },
  {
   "cell_type": "code",
   "execution_count": 18,
   "id": "f70d57ec",
   "metadata": {},
   "outputs": [],
   "source": [
    "def country_to_iso3(name):\n",
    "    try: return pycountry.countries.lookup(name).alpha_3\n",
    "    except: return None"
   ]
  },
  {
   "cell_type": "code",
   "execution_count": 19,
   "id": "40074325",
   "metadata": {},
   "outputs": [],
   "source": [
    "unicorn['ISO3'] = unicorn['Country_std'].apply(country_to_iso3)"
   ]
  },
  {
   "cell_type": "markdown",
   "id": "bcc9a674",
   "metadata": {},
   "source": [
    "Merge country shapes (Natural Earth)\n"
   ]
  },
  {
   "cell_type": "code",
   "execution_count": 20,
   "id": "312331df",
   "metadata": {},
   "outputs": [
    {
     "name": "stdout",
     "output_type": "stream",
     "text": [
      "Index(['featurecla', 'scalerank', 'LABELRANK', 'SOVEREIGNT', 'SOV_A3',\n",
      "       'ADM0_DIF', 'LEVEL', 'TYPE', 'TLC', 'ADMIN',\n",
      "       ...\n",
      "       'FCLASS_TR', 'FCLASS_ID', 'FCLASS_PL', 'FCLASS_GR', 'FCLASS_IT',\n",
      "       'FCLASS_NL', 'FCLASS_SE', 'FCLASS_BD', 'FCLASS_UA', 'geometry'],\n",
      "      dtype='object', length=169)\n"
     ]
    }
   ],
   "source": [
    "world = gpd.read_file(\"../data/ne_110m_admin_0_countries/ne_110m_admin_0_countries.shp\").to_crs(4326)\n",
    "print(world.columns)"
   ]
  },
  {
   "cell_type": "code",
   "execution_count": 21,
   "id": "e9eaf0cc",
   "metadata": {},
   "outputs": [
    {
     "data": {
      "text/html": [
       "<div>\n",
       "<style scoped>\n",
       "    .dataframe tbody tr th:only-of-type {\n",
       "        vertical-align: middle;\n",
       "    }\n",
       "\n",
       "    .dataframe tbody tr th {\n",
       "        vertical-align: top;\n",
       "    }\n",
       "\n",
       "    .dataframe thead th {\n",
       "        text-align: right;\n",
       "    }\n",
       "</style>\n",
       "<table border=\"1\" class=\"dataframe\">\n",
       "  <thead>\n",
       "    <tr style=\"text-align: right;\">\n",
       "      <th></th>\n",
       "      <th>ISO3</th>\n",
       "      <th>Country_std</th>\n",
       "      <th>n_unicorns</th>\n",
       "      <th>total_val</th>\n",
       "      <th>geometry</th>\n",
       "    </tr>\n",
       "  </thead>\n",
       "  <tbody>\n",
       "    <tr>\n",
       "      <th>0</th>\n",
       "      <td>ARE</td>\n",
       "      <td>United Arab Emirates</td>\n",
       "      <td>3</td>\n",
       "      <td>4.50</td>\n",
       "      <td>POLYGON ((51.57952 24.2455, 51.75744 24.29407,...</td>\n",
       "    </tr>\n",
       "    <tr>\n",
       "      <th>1</th>\n",
       "      <td>ARG</td>\n",
       "      <td>Argentina</td>\n",
       "      <td>1</td>\n",
       "      <td>2.45</td>\n",
       "      <td>MULTIPOLYGON (((-68.63401 -52.63637, -68.25 -5...</td>\n",
       "    </tr>\n",
       "    <tr>\n",
       "      <th>2</th>\n",
       "      <td>AUS</td>\n",
       "      <td>Australia</td>\n",
       "      <td>6</td>\n",
       "      <td>50.60</td>\n",
       "      <td>MULTIPOLYGON (((147.68926 -40.80826, 148.28907...</td>\n",
       "    </tr>\n",
       "    <tr>\n",
       "      <th>3</th>\n",
       "      <td>AUT</td>\n",
       "      <td>Austria</td>\n",
       "      <td>2</td>\n",
       "      <td>5.81</td>\n",
       "      <td>POLYGON ((16.97967 48.1235, 16.90375 47.71487,...</td>\n",
       "    </tr>\n",
       "    <tr>\n",
       "      <th>4</th>\n",
       "      <td>BEL</td>\n",
       "      <td>Belgium</td>\n",
       "      <td>2</td>\n",
       "      <td>7.55</td>\n",
       "      <td>POLYGON ((6.15666 50.80372, 6.04307 50.12805, ...</td>\n",
       "    </tr>\n",
       "  </tbody>\n",
       "</table>\n",
       "</div>"
      ],
      "text/plain": [
       "  ISO3           Country_std  n_unicorns  total_val  \\\n",
       "0  ARE  United Arab Emirates           3       4.50   \n",
       "1  ARG             Argentina           1       2.45   \n",
       "2  AUS             Australia           6      50.60   \n",
       "3  AUT               Austria           2       5.81   \n",
       "4  BEL               Belgium           2       7.55   \n",
       "\n",
       "                                            geometry  \n",
       "0  POLYGON ((51.57952 24.2455, 51.75744 24.29407,...  \n",
       "1  MULTIPOLYGON (((-68.63401 -52.63637, -68.25 -5...  \n",
       "2  MULTIPOLYGON (((147.68926 -40.80826, 148.28907...  \n",
       "3  POLYGON ((16.97967 48.1235, 16.90375 47.71487,...  \n",
       "4  POLYGON ((6.15666 50.80372, 6.04307 50.12805, ...  "
      ]
     },
     "execution_count": 21,
     "metadata": {},
     "output_type": "execute_result"
    }
   ],
   "source": [
    "import pyproj\n",
    "\n",
    "countries_gdf = world[['ISO_A3','geometry']].rename(columns={'ISO_A3':'ISO3'})\n",
    "\n",
    "unicorn_agg = (\n",
    "    unicorn\n",
    "      .groupby([\"ISO3\", \"Country_std\"], as_index=False)\n",
    "      .agg(\n",
    "          n_unicorns = (\"ISO3\", \"size\"),      # count\n",
    "          total_val  = (\"Valuation\", \"sum\")   # sum\n",
    "      )\n",
    ")\n",
    "\n",
    "unicorn_agg_geo = pd.merge(unicorn_agg, countries_gdf, on='ISO3', how='left')\n",
    "unicorn_agg_gdf = gpd.GeoDataFrame(unicorn_agg_geo, geometry='geometry').to_crs(4326)\n",
    "unicorn_agg_gdf.head()\n"
   ]
  },
  {
   "cell_type": "code",
   "execution_count": 22,
   "id": "885d7d50",
   "metadata": {},
   "outputs": [
    {
     "name": "stdout",
     "output_type": "stream",
     "text": [
      "<class 'geopandas.geodataframe.GeoDataFrame'>\n",
      "RangeIndex: 32 entries, 0 to 31\n",
      "Data columns (total 5 columns):\n",
      " #   Column       Non-Null Count  Dtype   \n",
      "---  ------       --------------  -----   \n",
      " 0   ISO3         32 non-null     object  \n",
      " 1   Country_std  32 non-null     object  \n",
      " 2   n_unicorns   32 non-null     int64   \n",
      " 3   total_val    32 non-null     float64 \n",
      " 4   geometry     29 non-null     geometry\n",
      "dtypes: float64(1), geometry(1), int64(1), object(2)\n",
      "memory usage: 1.4+ KB\n"
     ]
    }
   ],
   "source": [
    "unicorn_agg_gdf.info()"
   ]
  },
  {
   "cell_type": "markdown",
   "id": "7bd57965",
   "metadata": {},
   "source": [
    "Visualizing map for unicorn data"
   ]
  },
  {
   "cell_type": "code",
   "execution_count": 132,
   "id": "735336ae",
   "metadata": {},
   "outputs": [
    {
     "data": {
      "text/html": [
       "<div style=\"width:100%;\"><div style=\"position:relative;width:100%;height:0;padding-bottom:60%;\"><span style=\"color:#565656\">Make this Notebook Trusted to load map: File -> Trust Notebook</span><iframe srcdoc=\"&lt;!DOCTYPE html&gt;\n",
       "&lt;html&gt;\n",
       "&lt;head&gt;\n",
       "    \n",
       "    &lt;meta http-equiv=&quot;content-type&quot; content=&quot;text/html; charset=UTF-8&quot; /&gt;\n",
       "    \n",
       "        &lt;script&gt;\n",
       "            L_NO_TOUCH = false;\n",
       "            L_DISABLE_3D = false;\n",
       "        &lt;/script&gt;\n",
       "    \n",
       "    &lt;style&gt;html, body {width: 100%;height: 100%;margin: 0;padding: 0;}&lt;/style&gt;\n",
       "    &lt;style&gt;#map {position:absolute;top:0;bottom:0;right:0;left:0;}&lt;/style&gt;\n",
       "    &lt;script src=&quot;https://cdn.jsdelivr.net/npm/leaflet@1.9.3/dist/leaflet.js&quot;&gt;&lt;/script&gt;\n",
       "    &lt;script src=&quot;https://code.jquery.com/jquery-3.7.1.min.js&quot;&gt;&lt;/script&gt;\n",
       "    &lt;script src=&quot;https://cdn.jsdelivr.net/npm/bootstrap@5.2.2/dist/js/bootstrap.bundle.min.js&quot;&gt;&lt;/script&gt;\n",
       "    &lt;script src=&quot;https://cdnjs.cloudflare.com/ajax/libs/Leaflet.awesome-markers/2.0.2/leaflet.awesome-markers.js&quot;&gt;&lt;/script&gt;\n",
       "    &lt;link rel=&quot;stylesheet&quot; href=&quot;https://cdn.jsdelivr.net/npm/leaflet@1.9.3/dist/leaflet.css&quot;/&gt;\n",
       "    &lt;link rel=&quot;stylesheet&quot; href=&quot;https://cdn.jsdelivr.net/npm/bootstrap@5.2.2/dist/css/bootstrap.min.css&quot;/&gt;\n",
       "    &lt;link rel=&quot;stylesheet&quot; href=&quot;https://netdna.bootstrapcdn.com/bootstrap/3.0.0/css/bootstrap-glyphicons.css&quot;/&gt;\n",
       "    &lt;link rel=&quot;stylesheet&quot; href=&quot;https://cdn.jsdelivr.net/npm/@fortawesome/fontawesome-free@6.2.0/css/all.min.css&quot;/&gt;\n",
       "    &lt;link rel=&quot;stylesheet&quot; href=&quot;https://cdnjs.cloudflare.com/ajax/libs/Leaflet.awesome-markers/2.0.2/leaflet.awesome-markers.css&quot;/&gt;\n",
       "    &lt;link rel=&quot;stylesheet&quot; href=&quot;https://cdn.jsdelivr.net/gh/python-visualization/folium/folium/templates/leaflet.awesome.rotate.min.css&quot;/&gt;\n",
       "    \n",
       "            &lt;meta name=&quot;viewport&quot; content=&quot;width=device-width,\n",
       "                initial-scale=1.0, maximum-scale=1.0, user-scalable=no&quot; /&gt;\n",
       "            &lt;style&gt;\n",
       "                #map_5a48651f7ae6ba1cf2f42e974447839d {\n",
       "                    position: relative;\n",
       "                    width: 100.0%;\n",
       "                    height: 100.0%;\n",
       "                    left: 0.0%;\n",
       "                    top: 0.0%;\n",
       "                }\n",
       "                .leaflet-container { font-size: 1rem; }\n",
       "            &lt;/style&gt;\n",
       "        \n",
       "    \n",
       "                    &lt;style&gt;\n",
       "                        .foliumtooltip {\n",
       "                            \n",
       "                        }\n",
       "                       .foliumtooltip table{\n",
       "                            margin: auto;\n",
       "                        }\n",
       "                        .foliumtooltip tr{\n",
       "                            text-align: left;\n",
       "                        }\n",
       "                        .foliumtooltip th{\n",
       "                            padding: 2px; padding-right: 8px;\n",
       "                        }\n",
       "                    &lt;/style&gt;\n",
       "            \n",
       "&lt;/head&gt;\n",
       "&lt;body&gt;\n",
       "    \n",
       "    \n",
       "            &lt;div class=&quot;folium-map&quot; id=&quot;map_5a48651f7ae6ba1cf2f42e974447839d&quot; &gt;&lt;/div&gt;\n",
       "        \n",
       "&lt;/body&gt;\n",
       "&lt;script&gt;\n",
       "    \n",
       "    \n",
       "            var map_5a48651f7ae6ba1cf2f42e974447839d = L.map(\n",
       "                &quot;map_5a48651f7ae6ba1cf2f42e974447839d&quot;,\n",
       "                {\n",
       "                    center: [13.810705000000006, -9.11082078697352],\n",
       "                    crs: L.CRS.EPSG3857,\n",
       "                    ...{\n",
       "  &quot;zoom&quot;: 10,\n",
       "  &quot;zoomControl&quot;: true,\n",
       "  &quot;preferCanvas&quot;: false,\n",
       "}\n",
       "\n",
       "                }\n",
       "            );\n",
       "            L.control.scale().addTo(map_5a48651f7ae6ba1cf2f42e974447839d);\n",
       "\n",
       "            \n",
       "\n",
       "        \n",
       "    \n",
       "            var tile_layer_0ff751483ae94172b229f001968a4c35 = L.tileLayer(\n",
       "                &quot;https://tile.openstreetmap.org/{z}/{x}/{y}.png&quot;,\n",
       "                {\n",
       "  &quot;minZoom&quot;: 0,\n",
       "  &quot;maxZoom&quot;: 19,\n",
       "  &quot;maxNativeZoom&quot;: 19,\n",
       "  &quot;noWrap&quot;: false,\n",
       "  &quot;attribution&quot;: &quot;\\u0026copy; \\u003ca href=\\&quot;https://www.openstreetmap.org/copyright\\&quot;\\u003eOpenStreetMap\\u003c/a\\u003e contributors&quot;,\n",
       "  &quot;subdomains&quot;: &quot;abc&quot;,\n",
       "  &quot;detectRetina&quot;: false,\n",
       "  &quot;tms&quot;: false,\n",
       "  &quot;opacity&quot;: 1,\n",
       "}\n",
       "\n",
       "            );\n",
       "        \n",
       "    \n",
       "            tile_layer_0ff751483ae94172b229f001968a4c35.addTo(map_5a48651f7ae6ba1cf2f42e974447839d);\n",
       "        \n",
       "    \n",
       "            map_5a48651f7ae6ba1cf2f42e974447839d.fitBounds(\n",
       "                [[-55.61183, -171.79111060289122], [83.23324000000001, 153.56946902894418]],\n",
       "                {}\n",
       "            );\n",
       "        \n",
       "    \n",
       "        function geo_json_8053dd15cb12bc672476e1977dfaa776_styler(feature) {\n",
       "            switch(feature.id) {\n",
       "                default:\n",
       "                    return {&quot;fillOpacity&quot;: 0.5, &quot;weight&quot;: 2};\n",
       "            }\n",
       "        }\n",
       "        function geo_json_8053dd15cb12bc672476e1977dfaa776_highlighter(feature) {\n",
       "            switch(feature.id) {\n",
       "                default:\n",
       "                    return {&quot;fillOpacity&quot;: 0.75};\n",
       "            }\n",
       "        }\n",
       "        function geo_json_8053dd15cb12bc672476e1977dfaa776_pointToLayer(feature, latlng) {\n",
       "            var opts = {&quot;bubblingMouseEvents&quot;: true, &quot;color&quot;: &quot;#3388ff&quot;, &quot;dashArray&quot;: null, &quot;dashOffset&quot;: null, &quot;fill&quot;: true, &quot;fillColor&quot;: &quot;#3388ff&quot;, &quot;fillOpacity&quot;: 0.2, &quot;fillRule&quot;: &quot;evenodd&quot;, &quot;lineCap&quot;: &quot;round&quot;, &quot;lineJoin&quot;: &quot;round&quot;, &quot;opacity&quot;: 1.0, &quot;radius&quot;: 2, &quot;stroke&quot;: true, &quot;weight&quot;: 3};\n",
       "            \n",
       "            let style = geo_json_8053dd15cb12bc672476e1977dfaa776_styler(feature)\n",
       "            Object.assign(opts, style)\n",
       "            \n",
       "            return new L.CircleMarker(latlng, opts)\n",
       "        }\n",
       "\n",
       "        function geo_json_8053dd15cb12bc672476e1977dfaa776_onEachFeature(feature, layer) {\n",
       "            layer.on({\n",
       "                mouseout: function(e) {\n",
       "                    if(typeof e.target.setStyle === &quot;function&quot;){\n",
       "                            geo_json_8053dd15cb12bc672476e1977dfaa776.resetStyle(e.target);\n",
       "                    }\n",
       "                },\n",
       "                mouseover: function(e) {\n",
       "                    if(typeof e.target.setStyle === &quot;function&quot;){\n",
       "                        const highlightStyle = geo_json_8053dd15cb12bc672476e1977dfaa776_highlighter(e.target.feature)\n",
       "                        e.target.setStyle(highlightStyle);\n",
       "                    }\n",
       "                },\n",
       "            });\n",
       "        };\n",
       "        var geo_json_8053dd15cb12bc672476e1977dfaa776 = L.geoJson(null, {\n",
       "                onEachFeature: geo_json_8053dd15cb12bc672476e1977dfaa776_onEachFeature,\n",
       "            \n",
       "                style: geo_json_8053dd15cb12bc672476e1977dfaa776_styler,\n",
       "                pointToLayer: geo_json_8053dd15cb12bc672476e1977dfaa776_pointToLayer,\n",
       "            ...{\n",
       "}\n",
       "        });\n",
       "\n",
       "        function geo_json_8053dd15cb12bc672476e1977dfaa776_add (data) {\n",
       "            geo_json_8053dd15cb12bc672476e1977dfaa776\n",
       "                .addData(data);\n",
       "        }\n",
       "            geo_json_8053dd15cb12bc672476e1977dfaa776_add({&quot;bbox&quot;: [-171.79111060289122, -55.61183, 153.56946902894418, 83.23324000000001], &quot;features&quot;: [{&quot;bbox&quot;: [51.57951867046327, 22.496947536707136, 56.396847365144005, 26.05546417897398], &quot;geometry&quot;: {&quot;coordinates&quot;: [[[51.57951867046327, 24.245497137951105], [51.757440626844186, 24.29407298430547], [51.79438927593287, 24.019826158132506], [52.57708051942561, 24.177439276622707], [53.404006788960146, 24.15131684009917], [54.00800092958758, 24.121757920828216], [54.69302371604863, 24.79789236093509], [55.43902469261414, 25.43914520924494], [56.07082075381456, 26.05546417897398], [56.261041701080956, 25.71460643157677], [56.396847365144005, 24.924732163995486], [55.88623253766801, 24.920830593357447], [55.804118686756226, 24.269604193615265], [55.98121382022046, 24.13054291431783], [55.52863162620824, 23.933604030853502], [55.525841098864475, 23.524869289640932], [55.234489373602884, 23.110992743415324], [55.208341098863194, 22.708329982997046], [55.006803012924905, 22.496947536707136], [52.000733270074335, 23.00115448657894], [51.61770755392698, 24.01421926522883], [51.57951867046327, 24.245497137951105]]], &quot;type&quot;: &quot;Polygon&quot;}, &quot;id&quot;: &quot;0&quot;, &quot;properties&quot;: {&quot;Country_std&quot;: &quot;United Arab Emirates&quot;, &quot;ISO3&quot;: &quot;ARE&quot;, &quot;n_unicorns&quot;: 3, &quot;total_val&quot;: 4.5}, &quot;type&quot;: &quot;Feature&quot;}, {&quot;bbox&quot;: [-73.4154357571201, -55.25, -53.628348965048744, -21.83231047942072], &quot;geometry&quot;: {&quot;coordinates&quot;: [[[[-68.63401022758323, -52.63637045887449], [-68.25, -53.1], [-67.75, -53.85], [-66.45, -54.45], [-65.05, -54.699999999999996], [-65.5, -55.2], [-66.45, -55.25], [-66.95992000000001, -54.896810000000016], [-67.56244, -54.87001], [-68.63335000000001, -54.869499999999995], [-68.63401022758323, -52.63637045887449]]], [[[-57.62513342958296, -30.21629485445426], [-57.87493730328188, -31.016556084926208], [-58.14244035504076, -32.044503676076154], [-58.13264767112145, -33.040566908502015], [-58.349611172098875, -33.26318897881541], [-58.42707414410439, -33.909454441057576], [-58.49544206402655, -34.43148976007008], [-57.22582963726366, -35.28802662530788], [-57.36235877137878, -35.977390232081476], [-56.73748735210545, -36.41312590916655], [-56.78828528504836, -36.901571547189334], [-57.74915686708346, -38.18387053807989], [-59.23185706240189, -38.720220228837235], [-61.23744523786564, -38.9284245745412], [-62.33595699731013, -38.827707208004334], [-62.125763108962936, -39.42410491308485], [-62.330530971919494, -40.17258635840034], [-62.145994432205214, -40.67689666113672], [-62.745802781816984, -41.0287614886121], [-63.77049475773255, -41.16678923926369], [-64.73208980981973, -40.80267709733515], [-65.11803524439158, -41.06431487402891], [-64.97856055363582, -42.05800099056934], [-64.3034079657425, -42.35901620866951], [-63.75594784204239, -42.043686618824495], [-63.458059048095876, -42.563138116222405], [-64.37880388045633, -42.87355844499969], [-65.18180396183975, -43.495380954767796], [-65.32882341171013, -44.501366062193696], [-65.5652689276616, -45.036785577169795], [-66.50996578638934, -45.03962778094586], [-67.29379391139247, -45.55189625425519], [-67.58054643418008, -46.30177296324257], [-66.59706641301729, -47.033924655953825], [-65.64102657740149, -47.23613453551193], [-65.98508826360079, -48.133289076531135], [-67.16617896184769, -48.697337334996945], [-67.81608761256643, -49.86966887797038], [-68.72874508327321, -50.26421843851883], [-69.13853919134777, -50.732510267947795], [-68.81556148952356, -51.771104011594126], [-68.14999487982038, -52.34998340612768], [-68.57154537624133, -52.299443855346226], [-69.49836218939609, -52.14276091263727], [-71.91480383979638, -52.0090223058659], [-72.32940385607407, -51.42595631287243], [-72.30997351753234, -50.67700977966632], [-72.97574683296469, -50.741450290734285], [-73.32805091011453, -50.378785088909915], [-73.4154357571201, -49.31843637471297], [-72.64824744331494, -48.87861825947683], [-72.33116085477201, -48.2442383766618], [-72.44735531278027, -47.73853281025352], [-71.91725847033024, -46.88483814879177], [-71.55200944689128, -45.5607329241771], [-71.65931555854536, -44.973688653341426], [-71.22277889675976, -44.784242852559416], [-71.32980078803622, -44.407521661151655], [-71.79362260607193, -44.207172133156064], [-71.46405615913051, -43.787611179378345], [-71.91542395698389, -43.40856454851745], [-72.14889807807856, -42.254888197601375], [-71.7468037584155, -42.05138640723598], [-71.91573401557763, -40.83233936947069], [-71.68076127794649, -39.808164157878046], [-71.41351660834906, -38.91602223079114], [-70.81466427273469, -38.55299529394074], [-71.11862504747549, -37.57682748794724], [-71.12188066270987, -36.65812387466232], [-70.36476925320164, -36.00508879978992], [-70.38804948594913, -35.16968759535949], [-69.81730912950152, -34.1935714657983], [-69.81477698431922, -33.273886000299825], [-70.0743993801536, -33.09120981214805], [-70.53506893581951, -31.36501026787031], [-69.91900834825194, -30.33633920666828], [-70.01355038112992, -29.367922865518572], [-69.65613033718317, -28.459141127233686], [-69.00123491074825, -27.52121388113618], [-68.29554155137043, -26.89933969493578], [-68.59479977077268, -26.506908868111296], [-68.38600114609736, -26.185016371365215], [-68.41765296087614, -24.51855478281688], [-67.32844295924417, -24.02530323659095], [-66.9852339341777, -22.98634856536284], [-67.1066735500636, -22.735924574476417], [-66.27333940292485, -21.83231047942072], [-64.96489213729461, -22.075861504812327], [-64.37702104354226, -22.79809132252354], [-63.986838141522476, -21.99364430103595], [-62.84646847192156, -22.03498544686945], [-62.685057135657885, -22.249029229422387], [-60.846564704009914, -23.880712579038292], [-60.02896603050403, -24.032796319273274], [-58.80712846539498, -24.77145924245331], [-57.77721716981794, -25.16233977630904], [-57.63366004091113, -25.60365650808164], [-58.61817359071975, -27.123718763947096], [-57.60975969097614, -27.395898532828387], [-56.486701626192996, -27.548499037386293], [-55.69584550639816, -27.387837009390864], [-54.78879492859505, -26.621785577096134], [-54.625290696823576, -25.739255466415514], [-54.13004960795439, -25.547639255477254], [-53.628348965048744, -26.124865004177472], [-53.64873531758789, -26.92347258881609], [-54.490725267135524, -27.47475676850579], [-55.16228634298457, -27.881915378533463], [-56.29089962423908, -28.852760512000895], [-57.62513342958296, -30.21629485445426]]]], &quot;type&quot;: &quot;MultiPolygon&quot;}, &quot;id&quot;: &quot;1&quot;, &quot;properties&quot;: {&quot;Country_std&quot;: &quot;Argentina&quot;, &quot;ISO3&quot;: &quot;ARG&quot;, &quot;n_unicorns&quot;: 1, &quot;total_val&quot;: 2.45}, &quot;type&quot;: &quot;Feature&quot;}, {&quot;bbox&quot;: [113.33895307826242, -43.6345972633621, 153.56946902894418, -10.668185723516686], &quot;geometry&quot;: {&quot;coordinates&quot;: [[[[147.68925947488418, -40.808258152022674], [148.289067824496, -40.87543751400211], [148.35986453673587, -42.06244516374644], [148.01730146707303, -42.40702361426865], [147.91405195535384, -43.211522312188535], [147.56456424376393, -42.937688897473905], [146.87034305235488, -43.6345972633621], [146.66332726459365, -43.58085377377856], [146.04837772032033, -43.549744561538844], [145.4319295595106, -42.693776137056254], [145.29509036680173, -42.033609714527564], [144.71807132383066, -41.16255177181576], [144.7437545106797, -40.70397511165767], [145.3979781434948, -40.79254851660594], [146.3641207216237, -41.13769540788336], [146.90858361225088, -41.00054615658073], [147.68925947488418, -40.808258152022674]]], [[[126.14871382050114, -32.21596607842059], [125.08862348846566, -32.72875131605285], [124.22164798390492, -32.95948658623607], [124.02894656788851, -33.4838473447017], [123.65966678273077, -33.89017913181271], [122.81103641163364, -33.914467054989885], [122.1830644064228, -34.0034021949642], [121.29919070850259, -33.821036065406176], [120.58026818245806, -33.93017669040661], [119.89369510302822, -33.9760653622818], [119.29889936734875, -34.50936614353394], [119.00734093635802, -34.46414926527854], [118.5057178081008, -34.74681934991509], [118.02497195848949, -35.0647327613747], [117.29550744025741, -35.02545867283287], [116.62510908413495, -35.02509693780683], [115.56434695847966, -34.38642791111157], [115.02680870977957, -34.19651702243893], [115.04861616420676, -33.623425388322055], [115.54512332566708, -33.48725798923297], [115.7146737000167, -33.25957162855497], [115.67937869676135, -32.900368747694166], [115.80164513556394, -32.205062351207005], [115.68961063035516, -31.612437025683807], [115.160909051577, -30.601594333622465], [114.99704308477948, -30.03072478609414], [115.04003787644629, -29.46109547294082], [114.64197431850201, -28.81023080822467], [114.6164978373821, -28.51639861421308], [114.17357913620847, -28.11807667410732], [114.04888390508816, -27.334765313427106], [113.47749759323692, -26.543134047147902], [113.33895307826242, -26.116545098578484], [113.77835778204022, -26.549025160429174], [113.44096235560656, -25.621278171493167], [113.93690107631167, -25.91123463308287], [114.23285200404723, -26.29844614024588], [114.21616051641698, -25.786281019801123], [113.7212553243577, -24.99893889740214], [113.62534386602397, -24.683971042583167], [113.39352339076264, -24.384764499613226], [113.5020438985756, -23.806350192970285], [113.70699262904515, -23.56021534596409], [113.84341841029567, -23.059987481378755], [113.73655154831609, -22.47547535572538], [114.1497563009219, -21.75588103606104], [114.22530724493262, -22.517488295178673], [114.6477620789187, -21.829519952076954], [115.46016727097924, -21.495173435148537], [115.94737267462702, -21.068687839443704], [116.71161543179153, -20.701681817306824], [117.16631635952771, -20.623598728113805], [117.44154503791424, -20.74689869556221], [118.229558953933, -20.37420826587322], [118.83608523974274, -20.263310642174858], [118.98780724495168, -20.044202569257315], [119.25249393115067, -19.952941989829867], [119.80522505094451, -19.976506442954964], [120.85622033089668, -19.683707777589206], [121.39985639860717, -19.239755547769725], [121.65513797412902, -18.70531788500717], [122.24166548064179, -18.197648614171804], [122.28662397673571, -17.798603204013958], [122.3127722514754, -17.25496713630345], [123.01257449757193, -16.405199883695886], [123.43378909718304, -17.268558037996215], [123.85934451710659, -17.069035332917288], [123.50324222218329, -16.596506036040402], [123.81707319549184, -16.111316013252], [124.25828657439985, -16.327943617419535], [124.37972619028575, -15.56705982835399], [124.92615278534004, -15.07510019293536], [125.16727501841387, -14.680395603090028], [125.67008670461381, -14.510070082256014], [125.68579634003055, -14.23065561285385], [126.12514936737608, -14.347340996968903], [126.14282270721986, -14.095986830301227], [126.58258914602374, -13.952791436420448], [127.06586714081732, -13.817967624570954], [127.80463341686196, -14.27690601975508], [128.35968997610894, -14.869169610252243], [128.98554324759584, -14.875990899314765], [129.62147342337965, -14.969783623924522], [129.40960005098293, -14.42066985439107], [129.8886405783286, -13.618703301653492], [130.33946577364293, -13.357375583553484], [130.18350630098604, -13.107520033422276], [130.61779503796697, -12.536392103732489], [131.22349450086, -12.183648776908166], [131.73509118054955, -12.302452894747184], [132.5752982931831, -12.114040622611007], [132.55721154188097, -11.603012383676678], [131.82469811414364, -11.27378183354515], [132.3572237489114, -11.128519382372696], [133.01956058159635, -11.376411228076812], [133.55084598198908, -11.786515394745116], [134.39306847548204, -12.042365411022182], [134.67863244032696, -11.941182956594693], [135.29849124566795, -12.248606052299046], [135.8826933127276, -11.962266940969776], [136.2583809754895, -12.049341729381588], [136.49247521377168, -11.857208754120398], [136.951620314685, -12.351958916882793], [136.6851249533558, -12.887223402562022], [136.3054065288751, -13.291229750219884], [135.96175825413417, -13.324509372615852], [136.07761681533253, -13.724278252825783], [135.78383629775323, -14.2239893530882], [135.4286641786112, -14.715432224183912], [135.50018436090318, -14.997740573794424], [136.2951745952813, -15.55026498785913], [137.06536014215942, -15.87076222093333], [137.5804708192448, -16.21508228929408], [138.30321740127897, -16.807604261952704], [138.58516401586343, -16.806622409739155], [139.10854292211548, -17.06267913174539], [139.2605749859182, -17.371600843986208], [140.21524539607827, -17.710804945550066], [140.87546349503924, -17.369068698803908], [141.07111046769626, -16.83204721442676], [141.27409549373874, -16.38887013109165], [141.39822228410384, -15.840531508042588], [141.70218305884464, -15.044921156476901], [141.56338016170866, -14.561333103089552], [141.6355204611881, -14.270394789286307], [141.5198686057189, -13.698078301653808], [141.65092003801107, -12.944687595270585], [141.8426912782462, -12.741547539931231], [141.68699018775084, -12.407614434461145], [141.9286291851476, -11.877465915578817], [142.11848839738798, -11.328042087451612], [142.1437064963464, -11.042736504768186], [142.51526004452495, -10.668185723516686], [142.797310011974, -11.157354831591562], [142.86676313697427, -11.784706719614903], [143.11594689348573, -11.905629571177885], [143.15863162655876, -12.325655612846232], [143.5221236512998, -12.834358412327433], [143.5971578309876, -13.400422051652612], [143.5618111513, -13.763655694232192], [143.9220992372389, -14.548310642151996], [144.56371382057483, -14.171176039285903], [144.89490807513346, -14.594457696188641], [145.3747237489635, -14.98497649501833], [145.27199100156724, -15.428205254785732], [145.4852596376358, -16.28567229580478], [145.637033319277, -16.78491830817657], [145.88890425026761, -16.906926364817686], [146.16030887266453, -17.761654554925272], [146.06367394427872, -18.28007252367734], [146.38747846901964, -18.958274021075887], [147.4710815777479, -19.48072275154673], [148.17760176004242, -19.9559392229028], [148.84841352762322, -20.391209812097244], [148.71746544819558, -20.63346892668155], [149.28942020080206, -21.260510756111135], [149.6783370302307, -22.342511895438385], [150.07738244038853, -22.122783705333337], [150.48293908101516, -22.556142266532994], [150.72726525289113, -22.402404880464665], [150.89955447815225, -23.462236830338696], [151.60917524638427, -24.07625619883074], [152.07353966695905, -24.457886651306225], [152.8551973818059, -25.267501316023], [153.1361621441768, -26.071173191026215], [153.16194868389044, -26.641319268502457], [153.0929089703485, -27.260299574494514], [153.56946902894418, -28.11006682710208], [153.51210818910022, -28.99507740653271], [153.339095493787, -29.45820159273248], [153.06924116435886, -30.350240166954794], [153.08960167868184, -30.923641859665423], [152.89157759013938, -31.640445651986], [152.45000247620533, -32.550002536755265], [151.70911746643674, -33.041342054986394], [151.3439717958624, -33.81602345147387], [151.0105554547152, -34.31036020277793], [150.71413943908902, -35.173459974916796], [150.3282198427333, -35.671879164371916], [150.0752120302323, -36.42020558039054], [149.9461243023672, -37.10905242284121], [149.99728397033613, -37.42526051203518], [149.42388227762552, -37.77268116633344], [148.30462243061584, -37.809061374666925], [147.38173302631526, -38.21921721776752], [146.92212283751132, -38.606532077795116], [146.31792199115478, -39.03575652441141], [145.4896521343806, -38.59376799901902], [144.87697635312816, -38.41744801203915], [145.03221235573295, -37.89618783951102], [144.48568240781407, -38.085323581699285], [143.60997358619602, -38.8094654274053], [142.74542687395297, -38.538267510737555], [142.17832970598192, -38.380034275059835], [141.60658165910468, -38.30851409276788], [140.63857872941327, -38.019332777662555], [139.99215823787426, -37.402936293285094], [139.8065881695141, -36.64360279718831], [139.57414757706528, -36.13836231867066], [139.08280805883413, -35.732754001611745], [138.12074791885635, -35.61229623793939], [138.44946170466494, -35.127261244447865], [138.20756432510672, -34.38472258884593], [137.71917036351618, -35.076825046531], [136.8294055523147, -35.26053476332861], [137.35237104710848, -34.7073385556441], [137.50388634658827, -34.13026783624075], [137.8901160015377, -33.64047861097838], [137.81032759007905, -32.90000701266812], [136.9968371929404, -33.752771498348615], [136.37206912653164, -34.094766127256236], [135.98904341038428, -34.89011809666046], [135.20821251845405, -34.478670342752565], [135.23921837782916, -33.94795338311502], [134.6134167827746, -33.222778008763164], [134.08590376193916, -32.84807219821479], [134.27390262261702, -32.61723357516699], [132.99077680880976, -32.01122405368019], [132.28808068250487, -31.982646986622782], [131.32633060112084, -31.49580331800104], [129.53579389863972, -31.590422865527465], [128.24093753470225, -31.948488864877852], [127.1028674663383, -32.28226694105106], [126.14871382050114, -32.21596607842059]]]], &quot;type&quot;: &quot;MultiPolygon&quot;}, &quot;id&quot;: &quot;2&quot;, &quot;properties&quot;: {&quot;Country_std&quot;: &quot;Australia&quot;, &quot;ISO3&quot;: &quot;AUS&quot;, &quot;n_unicorns&quot;: 6, &quot;total_val&quot;: 50.6}, &quot;type&quot;: &quot;Feature&quot;}, {&quot;bbox&quot;: [9.479969516649021, 46.43181732846955, 16.979666782304037, 49.03907420510758], &quot;geometry&quot;: {&quot;coordinates&quot;: [[[16.979666782304037, 48.123497015976305], [16.90375410326726, 47.71486562762833], [16.340584344150415, 47.71290192320123], [16.534267612380376, 47.49617096616912], [16.202298211337364, 46.85238597267696], [16.011663852612656, 46.6836107448117], [15.137091912504985, 46.65870270444703], [14.63247155117483, 46.43181732846955], [13.806475457421527, 46.509306138691215], [12.376485223040817, 46.76755910906985], [12.153088006243054, 47.11539317482645], [11.16482791509327, 46.94157949481273], [11.048555942436536, 46.75135854754634], [10.44270145024663, 46.89354625099743], [9.932448357796659, 46.92072805438296], [9.479969516649021, 47.102809963563374], [9.632931756232978, 47.34760122332999], [9.59422610844635, 47.52505809182027], [9.89606814946319, 47.580196845075704], [10.402083774465211, 47.30248769793916], [10.544504021861599, 47.5663992376538], [11.426414015354737, 47.523766181012974], [12.141357456112788, 47.703083401065776], [12.620759718484493, 47.67238760028441], [12.932626987365948, 47.467645575544], [13.02585127122049, 47.63758352313583], [12.884102817443875, 48.28914581968786], [13.243357374737, 48.416114813829054], [13.595945672264437, 48.87717194273715], [14.338897739324722, 48.55530528420721], [14.901447381254057, 48.964401760445824], [15.253415561593982, 49.03907420510758], [16.02964725105022, 48.73389903420793], [16.499282667718774, 48.78580801044511], [16.960288120194576, 48.5969823268506], [16.879982944413, 48.47001333270947], [16.979666782304037, 48.123497015976305]]], &quot;type&quot;: &quot;Polygon&quot;}, &quot;id&quot;: &quot;3&quot;, &quot;properties&quot;: {&quot;Country_std&quot;: &quot;Austria&quot;, &quot;ISO3&quot;: &quot;AUT&quot;, &quot;n_unicorns&quot;: 2, &quot;total_val&quot;: 5.8100000000000005}, &quot;type&quot;: &quot;Feature&quot;}, {&quot;bbox&quot;: [2.5135730322461427, 49.529483547557504, 6.15665815595878, 51.47502370869813], &quot;geometry&quot;: {&quot;coordinates&quot;: [[[6.15665815595878, 50.80372101501058], [6.043073357781111, 50.128051662794235], [5.782417433300907, 50.09032786722122], [5.674051954784829, 49.529483547557504], [4.799221632515724, 49.98537303323637], [4.2860229834250845, 49.907496649772554], [3.588184441755658, 50.37899241800356], [3.1232515804256877, 50.78036326761455], [2.658422071960274, 50.796848049515745], [2.5135730322461427, 51.14850617126183], [3.3149711442285366, 51.345780951536085], [3.3150114849641596, 51.34577662473805], [3.3149711442285366, 51.34575511331991], [4.047071160507528, 51.26725861266857], [4.973991326526914, 51.47502370869813], [5.606975945670001, 51.03729848896978], [6.15665815595878, 50.80372101501058]]], &quot;type&quot;: &quot;Polygon&quot;}, &quot;id&quot;: &quot;4&quot;, &quot;properties&quot;: {&quot;Country_std&quot;: &quot;Belgium&quot;, &quot;ISO3&quot;: &quot;BEL&quot;, &quot;n_unicorns&quot;: 2, &quot;total_val&quot;: 7.55}, &quot;type&quot;: &quot;Feature&quot;}, {&quot;bbox&quot;: [-73.98723548042966, -33.768377780900764, -34.729993455533034, 5.244486395687602], &quot;geometry&quot;: {&quot;coordinates&quot;: [[[-53.373661668498244, -33.768377780900764], [-53.6505439927181, -33.20200408298183], [-53.209588995971544, -32.727666110974724], [-53.78795162618219, -32.047242526987624], [-54.57245154480512, -31.494511407193748], [-55.601510179249345, -30.853878676071393], [-55.97324459494094, -30.883075860316303], [-56.976025763564735, -30.109686374636127], [-57.62513342958296, -30.21629485445426], [-56.29089962423908, -28.852760512000895], [-55.16228634298457, -27.881915378533463], [-54.490725267135524, -27.47475676850579], [-53.64873531758789, -26.92347258881609], [-53.628348965048744, -26.124865004177472], [-54.13004960795439, -25.547639255477254], [-54.625290696823576, -25.739255466415514], [-54.42894609233059, -25.162184747012166], [-54.29347632507745, -24.570799655863965], [-54.29295956075452, -24.02101409271073], [-54.65283423523513, -23.83957813893396], [-55.02790178080955, -24.00127369557523], [-55.40074723979542, -23.956935316668805], [-55.517639329639636, -23.571997572526637], [-55.610682745981144, -22.655619398694846], [-55.79795813660691, -22.356929620047822], [-56.47331743022939, -22.086300144135283], [-56.8815095689029, -22.28215382252148], [-57.937155727761294, -22.090175876557172], [-57.8706739976178, -20.73268767668195], [-58.166392381408045, -20.176700941653678], [-57.85380164247451, -19.96999521248619], [-57.949997321185826, -19.40000416430682], [-57.67600887717431, -18.96183969490403], [-57.49837114117099, -18.174187513911292], [-57.734558274961, -17.55246835700777], [-58.28080400250225, -17.271710300366017], [-58.38805843772404, -16.877109063385276], [-58.24121985536668, -16.299573256091293], [-60.158389655179036, -16.258283786690086], [-60.54296566429515, -15.093910414289596], [-60.251148851142936, -15.07721892665932], [-60.26432634137737, -14.645979099183641], [-60.45919816755003, -14.354007256734555], [-60.503304002511136, -13.775954685117659], [-61.08412126325565, -13.479383640194598], [-61.71320431176078, -13.489202162330052], [-62.127080857986385, -13.198780612849724], [-62.803060268796386, -13.000653171442686], [-63.19649878605057, -12.627032565972435], [-64.3163529120316, -12.461978041232193], [-65.40228146021303, -11.566270440317155], [-65.32189876978302, -10.895872084194679], [-65.44483700220539, -10.511451104375432], [-65.33843522811642, -9.761987806846392], [-66.6469083319628, -9.931331475466862], [-67.17380123561074, -10.306812432499612], [-68.04819230820539, -10.712059014532485], [-68.27125362819326, -11.01452117273682], [-68.78615759954948, -11.03638030359628], [-69.52967810736496, -10.951734307502194], [-70.0937522040469, -11.123971856331012], [-70.54868567572841, -11.009146823778465], [-70.48189388699117, -9.490118096558845], [-71.30241227892154, -10.079436130415374], [-72.18489071316985, -10.053597914269432], [-72.56303300646564, -9.520193780152717], [-73.22671342639016, -9.462212823121234], [-73.01538265653255, -9.032833347208062], [-73.57105933296707, -8.424446709835834], [-73.98723548042966, -7.523829847853065], [-73.7234014553635, -7.340998630404414], [-73.72448666044164, -6.91859547285064], [-73.1200274319236, -6.629930922068239], [-73.21971126981461, -6.089188734566078], [-72.9645072089412, -5.7412513159448935], [-72.89192765978726, -5.274561455916981], [-71.74840572781655, -4.593982842633011], [-70.92884334988358, -4.401591485210368], [-70.7947688463023, -4.251264743673303], [-69.89363521999663, -4.2981869441943275], [-69.44410193548961, -1.5562871232198177], [-69.42048580593223, -1.1226185034264091], [-69.5770653957766, -0.549991957200163], [-70.02065589057005, -0.18515634521953928], [-70.01556576198931, 0.5414142928042054], [-69.45239600287246, 0.7061587589506929], [-69.25243404811906, 0.6026508650700748], [-69.21863766140018, 0.9856765812174331], [-69.80459672715773, 1.0890811222334662], [-69.81697323269162, 1.7148052026396243], [-67.86856502955884, 1.6924551456733923], [-67.5378100246747, 2.03716278727633], [-67.2599975246736, 1.7199986840849562], [-67.0650481838525, 1.130112209473225], [-66.87632585312258, 1.253360500489336], [-66.32576514348496, 0.7244522159820121], [-65.54826738143757, 0.7892544620760303], [-65.35471330428837, 1.0952822941085003], [-64.61101192895987, 1.3287305769870417], [-64.19930579289051, 1.49285492594602], [-64.08308549666609, 1.9163691267940803], [-63.368788011311665, 2.200899562993129], [-63.42286739770512, 2.4110676131241746], [-64.2699991522658, 2.497005520025567], [-64.40882788761792, 3.126786200366624], [-64.3684944322141, 3.797210394705246], [-64.81606401229402, 4.056445217297423], [-64.62865943058755, 4.14848094320925], [-63.88834286157416, 4.020530096854571], [-63.093197597899106, 3.7705711938587854], [-62.804533047116706, 4.006965033377952], [-62.08542965355913, 4.162123521334308], [-60.96689327660154, 4.536467596856639], [-60.601179165271944, 4.91809804933213], [-60.73357418480372, 5.200277207861901], [-60.21368343773133, 5.244486395687602], [-59.980958624904886, 5.014061184098139], [-60.11100236676738, 4.574966538914083], [-59.767405768458715, 4.423502915866607], [-59.53803992373123, 3.9588025984819377], [-59.815413174057866, 3.6064985213320853], [-59.97452490908456, 2.755232652188056], [-59.71854570172675, 2.2496304386443597], [-59.64604366722126, 1.786893825686789], [-59.03086157900265, 1.3176976586927225], [-58.540012986878295, 1.2680882836925207], [-58.429477098205965, 1.4639419620787208], [-58.11344987652502, 1.5071951359070253], [-57.66097103537737, 1.6825849471056387], [-57.335822923396904, 1.9485377058957594], [-56.78270423036083, 1.8637108422886541], [-56.539385748914555, 1.8995226098669207], [-55.995698004771754, 1.8176671411166012], [-55.905600145070885, 2.0219957543986595], [-56.0733418442903, 2.2207949894254995], [-55.973322109589375, 2.510363877773017], [-55.569755011606, 2.4215062524471307], [-55.09758744975514, 2.5237480737366127], [-54.524754197799716, 2.3118488631237852], [-54.08806250671725, 2.105556545414629], [-53.77852067728892, 2.3767027856500818], [-53.554839240113544, 2.334896551925951], [-53.41846513529531, 2.0533891870159806], [-52.939657151894956, 2.1248576928756364], [-52.55642473001842, 2.504705308437053], [-52.249337531123956, 3.241094468596245], [-51.65779741067889, 4.156232408053029], [-51.31714636901086, 4.203490505383954], [-51.069771287629656, 3.650397650564031], [-50.508875291533656, 1.901563828942457], [-49.97407589374506, 1.736483465986069], [-49.94710079608871, 1.0461896834312228], [-50.699251268096916, 0.22298411702168153], [-50.38821082213214, -0.07844451253681939], [-48.62056677915632, -0.2354891902718208], [-48.58449662941659, -1.2378052710050014], [-47.824956427590635, -0.5816179337628], [-46.566583624851226, -0.941027520352776], [-44.905703090990414, -1.551739597178134], [-44.417619187993665, -2.137750339367976], [-44.58158850765578, -2.691308282078524], [-43.418791266440195, -2.383110039889793], [-41.47265682632825, -2.9120183243971165], [-39.97866533055404, -2.873054294449041], [-38.50038347019657, -3.7006523576033956], [-37.2232521225352, -4.820945733258917], [-36.45293738457639, -5.109403578312154], [-35.59779578301047, -5.149504489770649], [-35.23538896334756, -5.464937432480247], [-34.89602983248683, -6.738193047719711], [-34.729993455533034, -7.343220716992967], [-35.12821204277422, -8.996401462442286], [-35.636966518687714, -9.649281508017815], [-37.046518724097, -11.040721123908803], [-37.68361161960736, -12.171194756725823], [-38.42387651218844, -13.038118584854288], [-38.67388709161652, -13.057652276260619], [-38.953275722802545, -13.793369642800023], [-38.88229814304965, -15.667053724838768], [-39.16109249526431, -17.208406670808472], [-39.2673392400564, -17.867746270420483], [-39.58352149103423, -18.262295830968938], [-39.76082333022764, -19.59911345792741], [-40.77474077001034, -20.904511814052423], [-40.94475623225061, -21.93731698983781], [-41.754164191238225, -22.370675551037458], [-41.98828426773656, -22.970070489190896], [-43.07470374202475, -22.96769337330547], [-44.64781185563781, -23.351959323827842], [-45.35213578955992, -23.796841729428582], [-46.47209326840554, -24.088968601174543], [-47.64897233742066, -24.885199069927722], [-48.4954581365777, -25.877024834905654], [-48.64100480812774, -26.623697605090932], [-48.474735887228654, -27.17591196056189], [-48.661520351747626, -28.18613453543572], [-48.8884574041574, -28.674115085567884], [-49.587329474472675, -29.224469089476337], [-50.696874152211485, -30.98446502047296], [-51.576226162306156, -31.77769825615321], [-52.256081305538046, -32.24536996839467], [-52.712099982297694, -33.19657805759118], [-53.373661668498244, -33.768377780900764]]], &quot;type&quot;: &quot;Polygon&quot;}, &quot;id&quot;: &quot;5&quot;, &quot;properties&quot;: {&quot;Country_std&quot;: &quot;Brazil&quot;, &quot;ISO3&quot;: &quot;BRA&quot;, &quot;n_unicorns&quot;: 15, &quot;total_val&quot;: 61.05}, &quot;type&quot;: &quot;Feature&quot;}, {&quot;bbox&quot;: [-140.99778, 41.675105088867326, -52.64809872090421, 83.23324000000001], &quot;geometry&quot;: {&quot;coordinates&quot;: [[[[-122.84000000000003, 49.000000000000114], [-122.97421000000001, 49.00253777777778], [-124.91024, 49.98456], [-125.62461, 50.416560000000004], [-127.43561000000001, 50.83061], [-127.99276, 51.71583], [-127.85032, 52.32961], [-129.12979, 52.75538], [-129.30523, 53.561589999999995], [-130.51497, 54.28757], [-130.53610895273684, 54.80275447679924], [-130.53611, 54.802780000000006], [-129.98, 55.285000000000004], [-130.00778000000003, 55.915830000000085], [-131.70781, 56.55212], [-132.73042, 57.692890000000006], [-133.35556000000003, 58.41028000000001], [-134.27111000000002, 58.86111000000005], [-134.94500000000005, 59.2705600000001], [-135.47583, 59.787780000000005], [-136.47972000000004, 59.46389000000005], [-137.4525, 58.905], [-138.34089, 59.562110000000004], [-139.03900000000002, 60.0], [-140.013, 60.27682000000001], [-140.99778, 60.30639000000001], [-140.9925, 66.00003000000001], [-140.986, 69.712], [-140.98598761037601, 69.71199839952635], [-139.12052, 69.47102], [-137.54636000000002, 68.99002], [-136.50358, 68.89804], [-135.62576, 69.31512000000001], [-134.41464000000002, 69.62743], [-132.92925000000002, 69.50534], [-131.43135999999998, 69.94451], [-129.79471, 70.19369], [-129.10773, 69.77927000000001], [-128.36156, 70.01286], [-128.13817, 70.48384], [-127.44712000000001, 70.37721], [-125.75632000000002, 69.48058], [-124.42483, 70.1584], [-124.28968, 69.39968999999999], [-123.06108, 69.56372], [-122.6835, 69.85553], [-121.47226, 69.79778], [-119.94288, 69.37786], [-117.60268, 69.01128], [-116.22643, 68.84151], [-115.24690000000001, 68.90591], [-113.89793999999999, 68.3989], [-115.30489, 67.90261000000001], [-113.49727, 67.68815000000001], [-110.798, 67.80611999999999], [-109.94619, 67.98104000000001], [-108.8802, 67.38144], [-107.79239, 67.88736], [-108.81299, 68.31164], [-108.16721000000001, 68.65392], [-106.95, 68.7], [-106.15, 68.8], [-105.34282000000002, 68.56122], [-104.33791000000001, 68.018], [-103.22115000000001, 68.09775], [-101.45433, 67.64689], [-99.90195, 67.80566], [-98.4432, 67.78165], [-98.5586, 68.40394], [-97.66948000000001, 68.57864000000001], [-96.11991, 68.23939], [-96.12588, 67.29338], [-95.48943, 68.0907], [-94.685, 68.06383], [-94.23282000000002, 69.06903000000001], [-95.30408, 69.68571], [-96.47131, 70.08976], [-96.39115, 71.19482], [-95.2088, 71.92053], [-93.88997, 71.76015], [-92.87818, 71.31869], [-91.51964000000001, 70.19129000000001], [-92.40692000000001, 69.69997000000001], [-90.5471, 69.49766], [-90.55151000000001, 68.47499], [-89.21515, 69.25873], [-88.01966, 68.61508], [-88.31748999999999, 67.87338000000001], [-87.35017, 67.19872], [-86.30606999999999, 67.92146], [-85.57664, 68.78456], [-85.52197, 69.88211], [-84.10081000000001, 69.80539], [-82.62258, 69.65826], [-81.28043000000001, 69.16202000000001], [-81.22019999999999, 68.66567], [-81.96436000000001, 68.13253], [-81.25928, 67.59716], [-81.38653000000001, 67.11078], [-83.34456, 66.41154], [-84.73542, 66.2573], [-85.76943, 66.55833], [-86.06760000000001, 66.05625], [-87.03143, 65.21297], [-87.32324, 64.77563], [-88.48296, 64.09897000000001], [-89.91444, 64.03273], [-90.70398, 63.610170000000004], [-90.77004000000001, 62.960210000000004], [-91.93342, 62.83508], [-93.15698, 62.02469000000001], [-94.24153, 60.89865], [-94.62930999999999, 60.11021], [-94.6846, 58.94882], [-93.21502000000001, 58.78212], [-92.76462000000001, 57.84571], [-92.29702999999999, 57.08709], [-90.89769, 57.28468], [-89.03953, 56.85172], [-88.03978000000001, 56.47162], [-87.32421, 55.999140000000004], [-86.07121, 55.72383], [-85.01181000000001, 55.302600000000005], [-83.36055, 55.24489], [-82.27285, 55.14832], [-82.43620000000001, 54.282270000000004], [-82.12502, 53.27703], [-81.40075, 52.157880000000006], [-79.91289, 51.208420000000004], [-79.14301, 51.533930000000005], [-78.60191, 52.56208], [-79.12421, 54.14145], [-79.82958, 54.66772], [-78.22874, 55.136449999999996], [-77.0956, 55.83741], [-76.54137, 56.53423000000001], [-76.62319000000001, 57.20263], [-77.30226, 58.05209], [-78.51688, 58.80458], [-77.33676, 59.852610000000006], [-77.77272, 60.75788000000001], [-78.10687, 62.31964000000001], [-77.41067, 62.55053], [-75.69621000000001, 62.2784], [-74.6682, 62.181110000000004], [-73.83988000000001, 62.4438], [-72.90853, 62.10507], [-71.67708, 61.52535], [-71.37369000000001, 61.137170000000005], [-69.59042, 61.06141], [-69.62033, 60.221250000000005], [-69.28790000000001, 58.95736], [-68.37455, 58.80106], [-67.64976, 58.21206], [-66.20178, 58.76731], [-65.24517, 59.87071], [-64.58352000000001, 60.33558], [-63.804750000000006, 59.442600000000006], [-62.502359999999996, 58.16708], [-61.396550000000005, 56.96745000000001], [-61.798660000000005, 56.33945], [-60.46853, 55.775479999999995], [-59.56962, 55.20407], [-57.97508, 54.94549000000001], [-57.3332, 54.6265], [-56.93689, 53.780319999999996], [-56.15811, 53.647490000000005], [-55.75632, 53.27036], [-55.68338, 52.146640000000005], [-56.40916000000001, 51.770700000000005], [-57.12691, 51.419720000000005], [-58.77482, 51.0643], [-60.03309000000001, 50.24277], [-61.72366, 50.08046], [-63.86251, 50.29099], [-65.36331, 50.2982], [-66.39905, 50.228970000000004], [-67.23631, 49.511559999999996], [-68.51114, 49.068360000000006], [-69.95362, 47.74488], [-71.10458, 46.82171], [-70.25522, 46.986059999999995], [-68.65, 48.3], [-66.55243, 49.1331], [-65.05626, 49.232780000000005], [-64.17099, 48.74248], [-65.11545000000001, 48.07085], [-64.79854, 46.99297], [-64.47219, 46.238490000000006], [-63.17329000000001, 45.73902], [-61.520720000000004, 45.883770000000005], [-60.518150000000006, 47.00793], [-60.448600000000006, 46.28264], [-59.80287, 45.9204], [-61.03988, 45.265249999999995], [-63.254709999999996, 44.67014], [-64.24656, 44.265530000000005], [-65.36406000000001, 43.54523], [-66.1234, 43.61867], [-66.16173, 44.46512], [-64.42549, 45.29204], [-66.02605000000001, 45.25931], [-67.13741, 45.13753], [-67.79134, 45.70281000000001], [-67.79046000000001, 47.066359999999996], [-68.23444, 47.354859999999974], [-68.90500000000003, 47.18500000000006], [-69.237216, 47.447781], [-69.99997, 46.69307], [-70.305, 45.915], [-70.66, 45.46], [-71.08482000000004, 45.30524000000014], [-71.405, 45.254999999999995], [-71.50506, 45.0082], [-73.34783, 45.00738], [-74.86700000000002, 45.000480000000096], [-75.31821000000001, 44.81645], [-76.375, 44.09631], [-76.50000000000001, 44.01845889375865], [-76.82003414580558, 43.628784288093755], [-77.7378850979577, 43.62905558936328], [-78.72027991404235, 43.62508942318493], [-79.17167355011186, 43.46633942318426], [-79.01, 43.27], [-78.92, 42.964999999999996], [-78.93936214874375, 42.86361135514798], [-80.24744767934794, 42.36619985612255], [-81.27774654816716, 42.209025987306816], [-82.4392777167916, 41.675105088867326], [-82.69008928092023, 41.675105088867326], [-83.029810146807, 41.83279572200598], [-83.14199968131264, 41.975681057292874], [-83.12, 42.08], [-82.9, 42.43], [-82.42999999999999, 42.980000000000004], [-82.13764238150395, 43.57108755143997], [-82.33776312543114, 44.440000000000055], [-82.55092464875821, 45.34751658790543], [-83.59285071484311, 45.81689362241252], [-83.46955074739469, 45.994686387712534], [-83.61613094759059, 46.116926988299014], [-83.89076534700574, 46.116926988299014], [-84.0918512641615, 46.27541860613826], [-84.1421195136734, 46.51222585711571], [-84.33670000000001, 46.408770000000004], [-84.60490000000004, 46.439599999999984], [-84.54374874544584, 46.538684190449146], [-84.77923824739992, 46.63710195574902], [-84.8760798815149, 46.90008331968238], [-85.65236324740341, 47.22021881773051], [-86.46199083122826, 47.553338019392], [-87.43979262330028, 47.94], [-88.37811418328671, 48.302917588893706], [-89.27291744663665, 48.01980825458281], [-89.60000000000002, 48.010000000000105], [-90.83, 48.27], [-91.64, 48.14], [-92.61000000000001, 48.44999999999993], [-93.63087000000002, 48.609260000000006], [-94.32914000000001, 48.67074], [-94.64, 48.84], [-94.81758000000002, 49.38905], [-95.15609, 49.38425000000001], [-95.15906950917206, 49.0], [-97.2287200000048, 49.0007], [-100.65000000000003, 49.000000000000114], [-104.04826000000003, 48.99986000000007], [-107.05000000000001, 49.0], [-110.05000000000001, 49.0], [-113.0, 49.0], [-116.04818, 49.0], [-117.03121, 49.0], [-120.0, 49.000000000000114], [-122.84000000000003, 49.000000000000114]]], [[[-83.99367000000001, 62.452799999999996], [-83.25048, 62.91409], [-81.87699, 62.90458], [-81.89825, 62.7108], [-83.06857000000001, 62.159220000000005], [-83.77462000000001, 62.18231], [-83.99367000000001, 62.452799999999996]]], [[[-79.77583312988281, 72.8029022216797], [-80.87609863281251, 73.33318328857422], [-80.83388519287111, 73.69318389892578], [-80.35305786132812, 73.75971984863281], [-78.06443786621094, 73.65193176269531], [-76.34, 73.10268498995305], [-76.25140380859375, 72.82638549804688], [-77.31443786621094, 72.85554504394531], [-78.39167022705078, 72.87665557861328], [-79.4862518310547, 72.74220275878906], [-79.77583312988281, 72.8029022216797]]], [[[-80.315395, 62.08556500000001], [-79.92939, 62.3856], [-79.52002, 62.363710000000005], [-79.26582, 62.158674999999995], [-79.65752, 61.63308], [-80.09956000000001, 61.71810000000001], [-80.36215, 62.016490000000005], [-80.315395, 62.08556500000001]]], [[[-93.61275590694046, 74.97999726022438], [-94.15690873897391, 74.59234650338688], [-95.60868058956564, 74.66686391875176], [-96.82093217648455, 74.92762319609658], [-96.28858740922982, 75.37782827422338], [-94.85081987178917, 75.64721751576089], [-93.97774654821797, 75.29648956979595], [-93.61275590694046, 74.97999726022438]]], [[[-93.84000301794399, 77.51999726023455], [-94.29560828324529, 77.49134267852868], [-96.16965410031007, 77.55511139597685], [-96.43630449093614, 77.83462921824362], [-94.42257727738641, 77.820004787905], [-93.7206562975659, 77.63433136668031], [-93.84000301794399, 77.51999726023455]]], [[[-96.75439876990876, 78.76581268992702], [-95.5592779202946, 78.41831452098033], [-95.83029496944934, 78.05694122996324], [-97.30984290239799, 77.85059723582181], [-98.12428931353404, 78.08285696075761], [-98.55286780474668, 78.45810537384507], [-98.63198442258553, 78.87193024363837], [-97.33723141151266, 78.83198436147676], [-96.75439876990876, 78.76581268992702]]], [[[-88.15035030796028, 74.39230703398503], [-89.7647220527584, 74.51555532500116], [-92.42244096552946, 74.83775788034099], [-92.76828548864282, 75.38681997344214], [-92.88990597204175, 75.88265534128267], [-93.89382402217599, 76.31924367950056], [-95.9624574450358, 76.4413809272224], [-97.1213789538295, 76.7510777859476], [-96.74512285031237, 77.16138865834507], [-94.68408586299944, 77.09787832305837], [-93.57392106807313, 76.77629588490605], [-91.6050231595366, 76.7785179714946], [-90.7418458727493, 76.44959747995681], [-90.96966142450802, 76.07401317005947], [-89.82223792189926, 75.84777374948565], [-89.18708289259985, 75.61016551380762], [-87.83827633334965, 75.56618886992725], [-86.37919226758864, 75.4824213731821], [-84.78962521029058, 75.69920400664653], [-82.75344458691006, 75.78431509063124], [-81.12853084992436, 75.71398346628199], [-80.05751095245915, 75.33684886341591], [-79.83393286814837, 74.92312734648716], [-80.45777075877587, 74.65730377877777], [-81.94884253612557, 74.44245901152432], [-83.22889360221143, 74.56402781849094], [-86.09745235873332, 74.41003205026117], [-88.15035030796028, 74.39230703398503]]], [[[-111.26444332563088, 78.15295604116154], [-109.85445187054711, 77.99632477488488], [-110.18693803591302, 77.69701487905034], [-112.0511911690585, 77.4092288276169], [-113.53427893761912, 77.73220652944111], [-112.7245867582539, 78.05105011668196], [-111.26444332563088, 78.15295604116154]]], [[[-110.96366065147602, 78.8044408230652], [-109.6631457182026, 78.60197256134565], [-110.88131425661892, 78.40691986765997], [-112.54209143761516, 78.4079017198735], [-112.52589087609164, 78.55055451121522], [-111.5000103422334, 78.8499935981305], [-110.96366065147602, 78.8044408230652]]], [[[-55.600218268442056, 51.31707469339794], [-56.13403581401709, 50.68700979267928], [-56.795881720595276, 49.81230866149089], [-56.14310502788433, 50.15011749938286], [-55.471492275603, 49.93581533466846], [-55.82240108908096, 49.58712860777905], [-54.935142584845636, 49.3130109726868], [-54.473775397343786, 49.556691189159125], [-53.47654944519137, 49.24913890237404], [-53.786013759971254, 48.516780503933624], [-53.08613399922626, 48.68780365660358], [-52.958648240762216, 48.15716421161447], [-52.64809872090421, 47.53554840757552], [-53.069158291218386, 46.65549876564492], [-53.521456264853, 46.61829173439477], [-54.17893551290251, 46.80706574155698], [-53.9618686590605, 47.62520701760193], [-54.24048214376214, 47.752279364607645], [-55.40077307801157, 46.884993801453135], [-55.99748084168583, 46.919720363953275], [-55.29121904155279, 47.38956248635099], [-56.250798712780586, 47.632545070987376], [-57.32522925477708, 47.57280711525797], [-59.26601518414682, 47.60334788674247], [-59.419494188053676, 47.899453843774886], [-58.79658647320744, 48.25152537697942], [-59.23162451845657, 48.52318838153781], [-58.3918049790652, 49.12558055276418], [-57.35868974468606, 50.71827403421587], [-56.738650071832026, 51.28743825947855], [-55.87097693543532, 51.63209422464921], [-55.40697424988659, 51.5882726100657], [-55.600218268442056, 51.31707469339794]]], [[[-83.88262630891977, 65.10961782496354], [-82.78757687043883, 64.76669302027467], [-81.6420137193926, 64.45513580998697], [-81.55344031444432, 63.97960928003714], [-80.81736121287886, 64.057485663501], [-80.10345130076664, 63.72598135034862], [-80.99101986359572, 63.41124603947496], [-82.54717810741704, 63.65172231714521], [-83.10879757356511, 64.10187571883971], [-84.10041663281388, 63.569711819098], [-85.52340471061905, 63.052379055424055], [-85.8667687649824, 63.63725291610349], [-87.22198320183678, 63.54123810490519], [-86.35275977247133, 64.0358332383707], [-86.2248864407651, 64.82291697860823], [-85.88384782585486, 65.7387783881171], [-85.1613079495499, 65.6572846543928], [-84.97576371940592, 65.21751821558898], [-84.4640120104195, 65.37177236598022], [-83.88262630891977, 65.10961782496354]]], [[[-78.77063859731078, 72.35217316353418], [-77.8246239895596, 72.74961660429098], [-75.60584469267573, 72.2436784939374], [-74.228616095665, 71.76714427355789], [-74.09914079455771, 71.33084015571758], [-72.24222571479768, 71.55692454699452], [-71.20001542833518, 70.92001251899718], [-68.7860542466849, 70.52502370877427], [-67.91497046575694, 70.12194753689765], [-66.9690333726542, 69.18608734809182], [-68.8051228502006, 68.72019847276444], [-66.4498660956339, 68.06716339789203], [-64.86231441919524, 67.84753856065159], [-63.424934454996794, 66.92847321234059], [-61.851981370680605, 66.86212067327783], [-62.16317684594226, 66.16025136988962], [-63.918444383384184, 64.9986685248329], [-65.14886023625368, 65.42603261988667], [-66.72121904159852, 66.38804108343219], [-68.015016038674, 66.26272573512439], [-68.1412874009792, 65.68978913030439], [-67.08964616562342, 65.10845510523696], [-65.73208045109976, 64.64840566675856], [-65.32016760930125, 64.38273712834605], [-64.66940629744968, 63.392926744227495], [-65.01380388045888, 62.67418508569598], [-66.27504472519048, 62.94509878198612], [-68.7831862046927, 63.74567007105183], [-67.36968075221309, 62.88396556258484], [-66.32829728866726, 62.28007477482201], [-66.16556820338015, 61.93089712182582], [-68.87736650254465, 62.330149237712824], [-71.02343705919385, 62.91070811629588], [-72.23537858751902, 63.39783600529522], [-71.88627844917127, 63.67998932560887], [-73.37830624051838, 64.19396312118384], [-74.83441891142263, 64.6790756293238], [-74.81850257027673, 64.38909332951793], [-77.70997982452008, 64.22954234481678], [-78.5559488593542, 64.57290639918013], [-77.89728105336198, 65.30919220647475], [-76.01827429879717, 65.32696889918314], [-73.95979529488268, 65.45476471624094], [-74.29388342964964, 65.81177134872938], [-73.94491248238262, 66.31057811142666], [-72.65116716173942, 67.28457550726391], [-72.92605994331605, 67.72692576768235], [-73.31161780464572, 68.06943716091287], [-74.84330725777684, 68.55462718370127], [-76.86910091826672, 68.89473562283025], [-76.22864905465738, 69.14776927354741], [-77.28736996123715, 69.76954010688321], [-78.1686339993266, 69.82648753526887], [-78.95724219431673, 70.16688019477543], [-79.49245500356366, 69.87180776638884], [-81.30547095409176, 69.74318512641436], [-84.94470618359851, 69.96663401964442], [-87.06000342481789, 70.26000112576538], [-88.68171322300148, 70.4107412787608], [-89.51341956252303, 70.76203766548095], [-88.46772111688082, 71.21818553332132], [-89.88815121128755, 71.22255219184997], [-90.20516028518205, 72.23507436796079], [-89.436576707705, 73.12946421985238], [-88.40824154331287, 73.53788890247121], [-85.82615108920098, 73.80381582304518], [-86.56217851433412, 73.15744700793844], [-85.77437130404454, 72.53412588163387], [-84.85011247428822, 73.34027822538708], [-82.31559017610101, 73.7509508328106], [-80.60008765330768, 72.71654368762417], [-80.74894161652443, 72.06190664335072], [-78.77063859731078, 72.35217316353418]]], [[[-94.50365759965237, 74.13490672473922], [-92.42001217321173, 74.1000251329422], [-90.50979285354263, 73.85673248971206], [-92.00396521682987, 72.96624420845852], [-93.19629553910026, 72.77199249947334], [-94.26904659704726, 72.02459625923599], [-95.40985551632266, 72.06188080513458], [-96.03374508338244, 72.94027680123183], [-96.01826799191102, 73.43742991809582], [-95.49579342322404, 73.86241689726417], [-94.50365759965237, 74.13490672473922]]], [[[-122.85492448615902, 76.11654287383568], [-122.85492529360326, 76.11654287383568], [-121.15753536032824, 76.86450755482828], [-119.1039389718211, 77.51221995717462], [-117.570130784966, 77.4983189968881], [-116.19858659550738, 77.6452867703262], [-116.33581336145845, 76.87696157501061], [-117.10605058476882, 76.53003184681911], [-118.04041215703819, 76.48117178008714], [-119.89931758688572, 76.053213406062], [-121.49999507712648, 75.90001862253276], [-122.85492448615902, 76.11654287383568]]], [[[-132.71000788443126, 54.04000931542356], [-131.74998958400334, 54.12000438090922], [-132.049480347351, 52.98462148702447], [-131.1790425218266, 52.180432847698285], [-131.57782954982298, 52.18237071390928], [-132.18042842677852, 52.639707139692405], [-132.54999243231384, 53.100014960332146], [-133.05461117875552, 53.411468817755406], [-133.2396644827927, 53.851080227262344], [-133.1800040417117, 54.169975490935315], [-132.71000788443126, 54.04000931542356]]], [[[-105.4922891914932, 79.30159393992916], [-103.52928239623795, 79.16534902619163], [-100.8251580472688, 78.80046173777872], [-100.0601918200522, 78.32475434031589], [-99.67093909381364, 77.90754466420744], [-101.30394019245301, 78.01898489044486], [-102.94980872273302, 78.34322866486023], [-105.17613277873151, 78.3803323432458], [-104.21042945027713, 78.67742015249176], [-105.41958045125853, 78.91833567983649], [-105.4922891914932, 79.30159393992916]]], [[[-123.51000158755119, 48.51001089130341], [-124.01289078839955, 48.37084625914139], [-125.65501277733838, 48.8250045843385], [-125.95499446679275, 49.17999583596759], [-126.85000443587185, 49.53000031188043], [-127.02999344954443, 49.81499583597008], [-128.0593363043662, 49.9949590114266], [-128.44458410710214, 50.539137681676095], [-128.35841365625546, 50.77064809834371], [-127.30858109602994, 50.552573554071955], [-126.69500097721235, 50.400903225295394], [-125.7550066738232, 50.29501821552935], [-125.4150015875588, 49.95000051533259], [-124.92076818911934, 49.475274970083376], [-123.92250870832106, 49.06248362893581], [-123.51000158755119, 48.51001089130341]]], [[[-121.53787999999997, 74.44893000000002], [-120.10978, 74.24135000000001], [-117.55563999999993, 74.18576999999993], [-116.58442000000002, 73.89607000000007], [-115.51080999999999, 73.47519], [-116.76793999999995, 73.22291999999999], [-119.22000000000003, 72.51999999999998], [-120.45999999999998, 71.82000000000005], [-120.45999999999998, 71.38360179308756], [-123.09218999999996, 70.90164000000004], [-123.62, 71.34000000000009], [-125.92894873747338, 71.86868846301138], [-125.49999999999994, 72.29226081179502], [-124.80729000000002, 73.02255999999994], [-123.93999999999994, 73.68000000000012], [-124.91774999999996, 74.29275000000013], [-121.53787999999997, 74.44893000000002]]], [[[-107.81943000000001, 75.84552000000001], [-106.92893000000001, 76.01282], [-105.881, 75.96940000000001], [-105.70498, 75.47951], [-106.31347000000001, 75.00527], [-109.70000000000002, 74.85000000000001], [-112.22306999999999, 74.41696], [-113.74381, 74.39427], [-113.87135, 74.72029], [-111.79420999999999, 75.16250000000001], [-116.31221, 75.04343], [-117.7104, 75.2222], [-116.34602000000001, 76.19903000000001], [-115.40487, 76.47887], [-112.59056000000001, 76.14134], [-110.81422, 75.54919], [-109.06710000000001, 75.47321000000001], [-110.49726000000001, 76.42982], [-109.58109999999999, 76.79417], [-108.54858999999999, 76.67832000000001], [-108.21141, 76.20168000000001], [-107.81943000000001, 75.84552000000001]]], [[[-106.52258999999992, 73.07601], [-105.40245999999996, 72.67259000000007], [-104.77484000000004, 71.6984000000001], [-104.4647599999999, 70.99297000000007], [-102.78537, 70.49776000000003], [-100.98077999999992, 70.02431999999999], [-101.08928999999995, 69.58447000000012], [-102.73115999999993, 69.50402000000003], [-102.09329000000002, 69.11962000000011], [-102.43024000000003, 68.75281999999999], [-104.24000000000001, 68.91000000000008], [-105.96000000000004, 69.18000000000012], [-107.12254000000001, 69.11922000000004], [-108.99999999999994, 68.78000000000003], [-111.53414887520017, 68.63005915681794], [-113.31320000000005, 68.53553999999997], [-113.85495999999989, 69.00744000000009], [-115.22000000000003, 69.28000000000009], [-116.10793999999999, 69.16821000000004], [-117.34000000000003, 69.9600000000001], [-116.67472999999995, 70.06655], [-115.13112000000001, 70.23730000000006], [-113.72140999999999, 70.1923700000001], [-112.41610000000003, 70.36637999999999], [-114.35000000000002, 70.60000000000002], [-116.48684000000003, 70.52044999999998], [-117.90480000000002, 70.54056000000014], [-118.43238000000002, 70.90920000000006], [-116.11311, 71.30917999999997], [-117.65567999999996, 71.29520000000002], [-119.40199000000001, 71.55858999999998], [-118.56266999999997, 72.30785000000003], [-117.86641999999995, 72.70594000000006], [-115.18909000000002, 73.31459000000012], [-114.16716999999994, 73.1214500000001], [-114.66633999999999, 72.65277000000009], [-112.44101999999992, 72.95540000000011], [-111.05039, 72.45040000000006], [-109.92034999999993, 72.96113000000008], [-109.00653999999997, 72.63335000000001], [-108.18834999999996, 71.65089], [-107.68599, 72.0654800000001], [-108.39639, 73.08953000000008], [-107.51645000000002, 73.23597999999998], [-106.52258999999992, 73.07601]]], [[[-100.43836, 72.70588000000001], [-101.54, 73.36], [-100.35642000000001, 73.84389], [-99.16387, 73.63339], [-97.38, 73.76], [-97.12, 73.47], [-98.05359, 72.99052], [-96.54, 72.56], [-96.72000000000001, 71.66], [-98.35966, 71.27284999999999], [-99.32286, 71.35639], [-100.01482, 71.73827], [-102.5, 72.51], [-102.48000000000002, 72.83000000000001], [-100.43836, 72.70588000000001]]], [[[-106.6, 73.60000000000001], [-105.26, 73.64], [-104.5, 73.42], [-105.38000000000001, 72.76], [-106.94, 73.46000000000001], [-106.6, 73.60000000000001]]], [[[-98.50000000000001, 76.72], [-97.735585, 76.25656000000001], [-97.70441500000001, 75.74344], [-98.16000000000001, 75.0], [-99.80874, 74.89744], [-100.88365999999999, 75.05736], [-100.86292000000002, 75.64075], [-102.50209, 75.5638], [-102.56552, 76.3366], [-101.48973, 76.30537], [-99.98349, 76.64634], [-98.57699, 76.58859], [-98.50000000000001, 76.72]]], [[[-96.01644, 80.60233000000001], [-95.32345000000001, 80.90729], [-94.29843, 80.97727], [-94.73542, 81.20646000000002], [-92.40983999999999, 81.25739000000003], [-91.13288999999999, 80.72345000000003], [-89.45000000000002, 80.50932203389831], [-87.81, 80.32000000000001], [-87.02000000000001, 79.66000000000001], [-85.81435, 79.3369], [-87.18755999999999, 79.0393], [-89.03535000000001, 78.28723], [-90.80436, 78.21533000000001], [-92.87669000000001, 78.34333000000001], [-93.95116000000002, 78.75099], [-93.93574, 79.11373], [-93.14524, 79.3801], [-94.974, 79.37248], [-96.07614000000001, 79.70502], [-96.70972, 80.15777], [-96.01644, 80.60233000000001]]], [[[-91.58702000000001, 81.89429000000001], [-90.10000000000001, 82.08500000000004], [-88.93227, 82.11751000000001], [-86.97024, 82.27961], [-85.5, 82.65227345805702], [-84.260005, 82.60000000000001], [-83.18, 82.32], [-82.42, 82.86000000000001], [-81.1, 83.02], [-79.30664, 83.13056], [-76.25, 83.17205882352941], [-75.71878000000001, 83.06404000000002], [-72.83153, 83.23324000000001], [-70.66576500000001, 83.16978075838284], [-68.50000000000001, 83.10632151676572], [-65.82735, 83.02801000000001], [-63.68, 82.9], [-61.85, 82.62860000000002], [-61.89388, 82.36165000000001], [-64.334, 81.92775000000002], [-66.75342, 81.72527000000001], [-67.65755, 81.50141], [-65.48031, 81.50657000000002], [-67.84, 80.90000000000003], [-69.4697, 80.61683000000001], [-71.18, 79.8], [-73.2428, 79.63415], [-73.88000000000001, 79.43016220480206], [-76.90773, 79.32309000000001], [-75.52924, 79.19766000000001], [-76.22046, 79.01907], [-75.39345, 78.52581], [-76.34354, 78.18296000000001], [-77.88851000000001, 77.89991], [-78.36269, 77.50859000000001], [-79.75951, 77.20967999999999], [-79.61965000000001, 76.98336], [-77.91089000000001, 77.022045], [-77.88911, 76.777955], [-80.56125, 76.17812], [-83.17439, 76.45403], [-86.11184, 76.29901000000001], [-87.60000000000001, 76.42], [-89.49068, 76.47239], [-89.6161, 76.95213000000001], [-87.76739, 77.17833], [-88.26, 77.9], [-87.65, 77.97022222222223], [-84.97634, 77.53873], [-86.34, 78.18], [-87.96191999999999, 78.37181], [-87.15198000000001, 78.75867], [-85.37868, 78.99690000000001], [-85.09495, 79.34543000000001], [-86.50734, 79.73624], [-86.93179, 80.25145], [-84.19844, 80.20836], [-83.40869565217389, 80.10000000000001], [-81.84823, 80.46442], [-84.1, 80.58], [-87.59895, 80.51627], [-89.36663, 80.85569000000001], [-90.2, 81.26], [-91.36786000000001, 81.5531], [-91.58702000000001, 81.89429000000001]]], [[[-75.21597, 67.44425], [-75.86588, 67.14886], [-76.98687, 67.09873], [-77.2364, 67.58809000000001], [-76.81166, 68.14856], [-75.89521, 68.28721], [-75.11449999999999, 68.01035999999999], [-75.10333, 67.58202], [-75.21597, 67.44425]]], [[[-96.25740120380055, 69.49003035832177], [-95.64768120380054, 69.10769035832178], [-96.26952120380055, 68.75704035832177], [-97.61740120380055, 69.06003035832177], [-98.43180120380055, 68.95070035832177], [-99.79740120380055, 69.40003035832177], [-98.91740120380055, 69.71003035832177], [-98.21826120380055, 70.14354035832177], [-97.15740120380055, 69.86003035832177], [-96.55740120380055, 69.68003035832177], [-96.25740120380055, 69.49003035832177]]], [[[-64.51912, 49.87304], [-64.17322, 49.95718], [-62.858290000000004, 49.70641], [-61.835584999999995, 49.28855], [-61.806304999999995, 49.10506000000001], [-62.29318, 49.08717], [-63.589259999999996, 49.400690000000004], [-64.51912, 49.87304]]], [[[-64.01486, 47.03601], [-63.6645, 46.55001], [-62.9393, 46.41587], [-62.012080000000005, 46.44314], [-62.503910000000005, 46.033390000000004], [-62.87433, 45.968180000000004], [-64.14280000000001, 46.39265], [-64.39261, 46.72747], [-64.01486, 47.03601]]]], &quot;type&quot;: &quot;MultiPolygon&quot;}, &quot;id&quot;: &quot;6&quot;, &quot;properties&quot;: {&quot;Country_std&quot;: &quot;Canada&quot;, &quot;ISO3&quot;: &quot;CAN&quot;, &quot;n_unicorns&quot;: 15, &quot;total_val&quot;: 37.73}, &quot;type&quot;: &quot;Feature&quot;}, {&quot;bbox&quot;: [6.022609490593538, 45.776947740250776, 10.44270145024663, 47.83082754169129], &quot;geometry&quot;: {&quot;coordinates&quot;: [[[9.59422610844635, 47.52505809182027], [9.632931756232978, 47.34760122332999], [9.479969516649021, 47.102809963563374], [9.932448357796659, 46.92072805438296], [10.44270145024663, 46.89354625099743], [10.363378126678612, 46.48357127540986], [9.922836541390382, 46.31489940040919], [9.182881707403055, 46.44021474871698], [8.966305779667806, 46.03693187111119], [8.489952426801324, 46.005150865251686], [8.31662967289438, 46.16364248309086], [7.7559920589598335, 45.82449005795931], [7.2738509456766565, 45.776947740250776], [6.843592970414505, 45.99114655210061], [6.5000997249704255, 46.42967275652944], [6.022609490593538, 46.27298981382047], [6.037388950229001, 46.725778713561866], [6.768713820023606, 47.2877082383037], [6.736571079138059, 47.541801255882845], [7.192202182655507, 47.44976552997102], [7.466759067422231, 47.62058197691181], [8.317301466514095, 47.61357982033627], [8.522611932009767, 47.83082754169129], [9.59422610844635, 47.52505809182027]]], &quot;type&quot;: &quot;Polygon&quot;}, &quot;id&quot;: &quot;7&quot;, &quot;properties&quot;: {&quot;Country_std&quot;: &quot;Switzerland&quot;, &quot;ISO3&quot;: &quot;CHE&quot;, &quot;n_unicorns&quot;: 4, &quot;total_val&quot;: 5.6}, &quot;type&quot;: &quot;Feature&quot;}, {&quot;bbox&quot;: [-75.64439531116545, -55.61183, -66.95992000000001, -17.580011895419332], &quot;geometry&quot;: {&quot;coordinates&quot;: [[[[-68.63401022758323, -52.63637045887449], [-68.63335000000001, -54.869499999999995], [-67.56244, -54.87001], [-66.95992000000001, -54.896810000000016], [-67.29102999999992, -55.30123999999995], [-68.14862999999991, -55.61183], [-68.63999081081187, -55.58001799908692], [-69.2321, -55.49905999999993], [-69.95808999999997, -55.19843000000003], [-71.00567999999998, -55.053830000000005], [-72.26390000000004, -54.49513999999999], [-73.28519999999997, -53.95751999999993], [-74.66253, -52.837489999999946], [-73.8381, -53.04743000000002], [-72.43417999999997, -53.71539999999999], [-71.10773, -54.07432999999992], [-70.59177999999986, -53.61582999999996], [-70.26747999999998, -52.93123000000003], [-69.34564999999992, -52.518299999999954], [-68.63401022758323, -52.63637045887449]]], [[[-69.59042375352405, -17.580011895419332], [-69.10024695501949, -18.260125420812678], [-68.96681840684187, -18.981683444904107], [-68.44222510443092, -19.40506845467143], [-68.75716712103375, -20.372657972904463], [-68.21991309271128, -21.494346612231865], [-67.82817989772273, -22.872918796482175], [-67.1066735500636, -22.735924574476417], [-66.9852339341777, -22.98634856536284], [-67.32844295924417, -24.02530323659095], [-68.41765296087614, -24.51855478281688], [-68.38600114609736, -26.185016371365215], [-68.59479977077268, -26.506908868111296], [-68.29554155137043, -26.89933969493578], [-69.00123491074825, -27.52121388113618], [-69.65613033718317, -28.459141127233686], [-70.01355038112992, -29.367922865518572], [-69.91900834825194, -30.33633920666828], [-70.53506893581951, -31.36501026787031], [-70.0743993801536, -33.09120981214805], [-69.81477698431922, -33.273886000299825], [-69.81730912950152, -34.1935714657983], [-70.38804948594913, -35.16968759535949], [-70.36476925320164, -36.00508879978992], [-71.12188066270987, -36.65812387466232], [-71.11862504747549, -37.57682748794724], [-70.81466427273469, -38.55299529394074], [-71.41351660834906, -38.91602223079114], [-71.68076127794649, -39.808164157878046], [-71.91573401557763, -40.83233936947069], [-71.7468037584155, -42.05138640723598], [-72.14889807807856, -42.254888197601375], [-71.91542395698389, -43.40856454851745], [-71.46405615913051, -43.787611179378345], [-71.79362260607193, -44.207172133156064], [-71.32980078803622, -44.407521661151655], [-71.22277889675976, -44.784242852559416], [-71.65931555854536, -44.973688653341426], [-71.55200944689128, -45.5607329241771], [-71.91725847033024, -46.88483814879177], [-72.44735531278027, -47.73853281025352], [-72.33116085477201, -48.2442383766618], [-72.64824744331494, -48.87861825947683], [-73.4154357571201, -49.31843637471297], [-73.32805091011453, -50.378785088909915], [-72.97574683296469, -50.741450290734285], [-72.30997351753234, -50.67700977966632], [-72.32940385607407, -51.42595631287243], [-71.91480383979638, -52.0090223058659], [-69.49836218939609, -52.14276091263727], [-68.57154537624133, -52.299443855346226], [-69.46128434922667, -52.29195077266391], [-69.9427795071062, -52.53793059037322], [-70.8451016913546, -52.89920052852571], [-71.00633216010525, -53.83325204220132], [-71.429794684521, -53.85645476030037], [-72.55794287788488, -53.53141000118449], [-73.7027567206629, -52.835069268607235], [-73.7027567206629, -52.835070076051494], [-74.94676347522517, -52.262753588419], [-75.2600260077785, -51.62935475037325], [-74.97663245308988, -51.0433956846157], [-75.47975419788355, -50.37837167745158], [-75.60801510283198, -48.67377288187184], [-75.18276974150216, -47.7119194476232], [-74.1265809801047, -46.93925343199511], [-75.64439531116545, -46.64764332457207], [-74.69215369332312, -45.76397633238103], [-74.35170935738425, -44.10304412208794], [-73.24035600451522, -44.454960625995604], [-72.7178039211798, -42.38335580827898], [-73.38889990913822, -42.117532240569574], [-73.70133561877488, -43.365776462579774], [-74.33194312203261, -43.22495818458442], [-74.0179571194272, -41.79481292090683], [-73.67709937202999, -39.94221282324317], [-73.21759253609065, -39.25868865331856], [-73.50555945503712, -38.282882582351114], [-73.58806087919109, -37.15628468195598], [-73.1667170884993, -37.12378020604439], [-72.55313696968174, -35.50884002049106], [-71.86173214383263, -33.90909270603153], [-71.4384504869299, -32.41889942803078], [-71.66872066922247, -30.920644626592495], [-71.37008256700773, -30.09568206148503], [-71.48989437527645, -28.861442152625923], [-70.90512386746161, -27.640379734001247], [-70.72495398627599, -25.705924167587256], [-70.40396582709502, -23.628996677344574], [-70.09124589708074, -21.39331918710126], [-70.16441972520605, -19.756468194256165], [-70.37257239447771, -18.34797535570887], [-69.85844356960587, -18.092693780187012], [-69.59042375352405, -17.580011895419332]]]], &quot;type&quot;: &quot;MultiPolygon&quot;}, &quot;id&quot;: &quot;8&quot;, &quot;properties&quot;: {&quot;Country_std&quot;: &quot;Chile&quot;, &quot;ISO3&quot;: &quot;CHL&quot;, &quot;n_unicorns&quot;: 1, &quot;total_val&quot;: 1.5}, &quot;type&quot;: &quot;Feature&quot;}, {&quot;bbox&quot;: [-78.99093522817104, -4.2981869441943275, -66.87632585312258, 12.437303168177309], &quot;geometry&quot;: {&quot;coordinates&quot;: [[[-66.87632585312258, 1.253360500489336], [-67.0650481838525, 1.130112209473225], [-67.2599975246736, 1.7199986840849562], [-67.5378100246747, 2.03716278727633], [-67.86856502955884, 1.6924551456733923], [-69.81697323269162, 1.7148052026396243], [-69.80459672715773, 1.0890811222334662], [-69.21863766140018, 0.9856765812174331], [-69.25243404811906, 0.6026508650700748], [-69.45239600287246, 0.7061587589506929], [-70.01556576198931, 0.5414142928042054], [-70.02065589057005, -0.18515634521953928], [-69.5770653957766, -0.549991957200163], [-69.42048580593223, -1.1226185034264091], [-69.44410193548961, -1.5562871232198177], [-69.89363521999663, -4.2981869441943275], [-70.39404395209499, -3.7665914852078255], [-70.69268205430971, -3.742872002785859], [-70.04770850287485, -2.725156345229699], [-70.81347571479196, -2.2568645158007428], [-71.41364579942979, -2.3428024227021282], [-71.7747607082854, -2.169789727388938], [-72.32578650581365, -2.434218031426454], [-73.07039221870724, -2.3089543595509525], [-73.6595035468346, -1.2604912247811342], [-74.12239518908906, -1.002832533373848], [-74.44160051135597, -0.5308200008198867], [-75.10662451852008, -0.05720549886486026], [-75.37322323271385, -0.1520317521204504], [-75.8014658271166, 0.08480133707320192], [-76.29231441924097, 0.4160472680641192], [-76.5763797675494, 0.256935533037435], [-77.4249843004304, 0.395686753741117], [-77.66861284047044, 0.8258930525709616], [-77.85506140817952, 0.8099250349927729], [-78.85525875518871, 1.380923773601822], [-78.99093522817104, 1.6913699405952514], [-78.61783138702371, 1.766404120283056], [-78.66211808949785, 2.2673554549204766], [-78.42761043975733, 2.629555568854215], [-77.93154252797149, 2.6966057397529255], [-77.51043128122501, 3.325016994638247], [-77.12768978545526, 3.8496361352653565], [-77.49627193877703, 4.087606105969428], [-77.3076012844794, 4.6679841170394525], [-77.53322058786573, 5.582811997902497], [-77.31881507028675, 5.84535411216136], [-77.47666073272228, 6.691116441266303], [-77.88157141794525, 7.223771267114785], [-77.7534138658614, 7.709839789252143], [-77.43110795765699, 7.638061224798734], [-77.24256649444008, 7.935278225125444], [-77.47472286651133, 8.524286200388218], [-77.35336076527386, 8.67050466555807], [-76.83667395700357, 8.638749497914716], [-76.08638383655786, 9.336820583529487], [-75.67460018584006, 9.443248195834599], [-75.66470414905618, 9.774003200718738], [-75.48042599150335, 10.618990383339309], [-74.90689510771199, 11.083044745320322], [-74.27675269234489, 11.102035834187587], [-74.1972226630477, 11.310472723836867], [-73.41476396350029, 11.22701528568548], [-72.62783525255963, 11.731971543825523], [-72.23819495307892, 11.955549628136326], [-71.75409013536864, 12.437303168177309], [-71.3998223537917, 12.376040757695293], [-71.13746110704588, 12.112981879113505], [-71.3315836249503, 11.776284084515808], [-71.97392167833829, 11.60867157637712], [-72.22757544624294, 11.10870209395324], [-72.61465776232521, 10.821975409381778], [-72.9052860175347, 10.450344346554772], [-73.02760413276957, 9.736770331252444], [-73.30495154488005, 9.151999823437606], [-72.7887298245004, 9.085027167187334], [-72.6604947577681, 8.625287787302682], [-72.43986223009796, 8.405275376820029], [-72.36090064155597, 8.002638454617895], [-72.47967892117885, 7.632506008327354], [-72.44448727078807, 7.423784898300482], [-72.19835242378188, 7.340430813013683], [-71.96017574734864, 6.991614895043539], [-70.67423356798152, 7.087784735538719], [-70.09331295437242, 6.96037649172311], [-69.38947994655712, 6.0998605411988365], [-68.98531856960236, 6.206804917826858], [-68.26505245631823, 6.153268133972475], [-67.69508724635502, 6.267318020040647], [-67.34143958196557, 6.095468044454023], [-67.52153194850275, 5.556870428891969], [-67.74469662135522, 5.221128648291668], [-67.82301225449355, 4.503937282728899], [-67.62183590358129, 3.8394817163199946], [-67.33756384954368, 3.5423422306417223], [-67.30317318385345, 3.31845408773718], [-67.8099381171237, 2.820655015469569], [-67.44709204778631, 2.6002808699608693], [-67.18129431829307, 2.250638129074062], [-66.87632585312258, 1.253360500489336]]], &quot;type&quot;: &quot;Polygon&quot;}, &quot;id&quot;: &quot;9&quot;, &quot;properties&quot;: {&quot;Country_std&quot;: &quot;Colombia&quot;, &quot;ISO3&quot;: &quot;COL&quot;, &quot;n_unicorns&quot;: 2, &quot;total_val&quot;: 6.4}, &quot;type&quot;: &quot;Feature&quot;}, {&quot;bbox&quot;: [5.988658074577813, 47.30248769793916, 15.01699588385867, 54.98310415304803], &quot;geometry&quot;: {&quot;coordinates&quot;: [[[14.119686313542559, 53.75702912049104], [14.353315463934138, 53.24817129171297], [14.074521111719434, 52.98126251892535], [14.437599725002201, 52.62485016540839], [14.685026482815687, 52.0899474147552], [14.607098422919535, 51.74518809671997], [15.01699588385867, 51.10667409932158], [14.570718214586066, 51.002339382524276], [14.307013380600637, 51.117267767941414], [14.056227654688172, 50.9269176295943], [13.338131951560285, 50.73323436136435], [12.966836785543194, 50.484076443069085], [12.240111118222558, 50.266337795607285], [12.415190870827445, 49.96912079528057], [12.521024204161193, 49.547415269562734], [13.031328973043431, 49.30706818297324], [13.595945672264437, 48.87717194273715], [13.243357374737, 48.416114813829054], [12.884102817443875, 48.28914581968786], [13.02585127122049, 47.63758352313583], [12.932626987365948, 47.467645575544], [12.620759718484493, 47.67238760028441], [12.141357456112788, 47.703083401065776], [11.426414015354737, 47.523766181012974], [10.544504021861599, 47.5663992376538], [10.402083774465211, 47.30248769793916], [9.89606814946319, 47.580196845075704], [9.59422610844635, 47.52505809182027], [8.522611932009767, 47.83082754169129], [8.317301466514095, 47.61357982033627], [7.466759067422231, 47.62058197691181], [7.593676385131062, 48.33301911070372], [8.099278598674744, 49.01778351500333], [6.658229607783568, 49.20195831969157], [6.186320428094177, 49.463802802114515], [6.242751092156993, 49.90222565367873], [6.043073357781111, 50.128051662794235], [6.15665815595878, 50.80372101501058], [5.988658074577813, 51.851615709025054], [6.589396599970826, 51.852029120483394], [6.842869500362383, 52.22844025329755], [7.092053256873896, 53.144043280644894], [6.905139601274129, 53.48216217713065], [7.100424838905269, 53.69393219666267], [7.936239454793963, 53.74829580343379], [8.121706170289485, 53.52779246684429], [8.800734490604668, 54.020785630908904], [8.57211795414537, 54.39564647075406], [8.526229282270208, 54.96274363872516], [9.282048780971138, 54.830865383516176], [9.921906365609118, 54.98310415304803], [9.9395797054529, 54.596641954153256], [10.950112338920519, 54.363607082733154], [10.93946699386845, 54.00869334575259], [11.956252475643282, 54.19648550070116], [12.518440382546714, 54.470370591847995], [13.647467075259499, 54.0755109727059], [14.119686313542559, 53.75702912049104]]], &quot;type&quot;: &quot;Polygon&quot;}, &quot;id&quot;: &quot;10&quot;, &quot;properties&quot;: {&quot;Country_std&quot;: &quot;Germany&quot;, &quot;ISO3&quot;: &quot;DEU&quot;, &quot;n_unicorns&quot;: 23, &quot;total_val&quot;: 66.63}, &quot;type&quot;: &quot;Feature&quot;}, {&quot;bbox&quot;: [8.08997684086222, 54.80001455343792, 12.690006137755603, 57.73001658795485], &quot;geometry&quot;: {&quot;coordinates&quot;: [[[[9.921906365609118, 54.98310415304803], [9.282048780971138, 54.830865383516176], [8.526229282270208, 54.96274363872516], [8.120310906617533, 55.5177226833236], [8.08997684086222, 56.54001170513759], [8.256581658571207, 56.80996938743033], [8.543437534223415, 57.11000275331695], [9.424469028367554, 57.1720661484995], [9.775558709358535, 57.44794078228966], [10.580005730846125, 57.73001658795485], [10.546105991262664, 57.21573273378612], [10.250000034230226, 56.89001618105044], [10.369992710011957, 56.60998159446079], [10.912181837618306, 56.458621324277885], [10.667803989310016, 56.08138336854721], [10.369992710011957, 56.19000722922473], [9.649984978889279, 55.469999498102055], [9.921906365609118, 54.98310415304803]]], [[[12.370904168353292, 56.111407375708794], [12.690006137755603, 55.60999095318074], [12.089991082414684, 54.80001455343792], [11.043543328504226, 55.36486379660424], [10.903913608451603, 55.77995473898872], [12.370904168353292, 56.111407375708794]]]], &quot;type&quot;: &quot;MultiPolygon&quot;}, &quot;id&quot;: &quot;11&quot;, &quot;properties&quot;: {&quot;Country_std&quot;: &quot;Denmark&quot;, &quot;ISO3&quot;: &quot;DNK&quot;, &quot;n_unicorns&quot;: 2, &quot;total_val&quot;: 2.7}, &quot;type&quot;: &quot;Feature&quot;}, {&quot;bbox&quot;: [-9.392883673530648, 35.946850083961465, 3.0394840836805486, 43.74833771420099], &quot;geometry&quot;: {&quot;coordinates&quot;: [[[-7.453725551778092, 37.09778758396607], [-7.537105475281024, 37.42890432387624], [-7.166507941099865, 37.803894354802225], [-7.029281175148796, 38.07576406508977], [-7.374092169616318, 38.37305858006492], [-7.098036668313128, 39.03007274022379], [-7.498632371439726, 39.62957103124181], [-7.066591559263529, 39.711891587882775], [-7.026413133156595, 40.184524237624245], [-6.864019944679385, 40.33087189387483], [-6.851126674822552, 41.11108266861753], [-6.389087693700915, 41.381815497394655], [-6.6686055159676565, 41.883386949219584], [-7.251308966490824, 41.91834605566505], [-7.422512986673795, 41.79207469335984], [-8.013174607769912, 41.790886135417125], [-8.263856980817792, 42.28046865495034], [-8.67194576662672, 42.13468943945496], [-9.034817674180246, 41.880570583659676], [-8.984433152695672, 42.59277517350627], [-9.392883673530648, 43.0266246608127], [-7.97818966310831, 43.74833771420099], [-6.754491746436756, 43.567909450853925], [-5.411886359061597, 43.57423981380968], [-4.3478427799557835, 43.40344920508504], [-3.5175317041060907, 43.4559007838613], [-1.901351284177764, 43.42280202897834], [-1.502770961910528, 43.03401439063043], [0.3380469091905809, 42.57954600683955], [0.7015906103638941, 42.795734361332606], [1.8267932470871528, 42.34338471126569], [2.9859989762584576, 42.47301504166986], [3.0394840836805486, 41.892120266276905], [2.0918416683121848, 41.226088568683096], [0.8105245296351882, 41.01473196060934], [0.7213310074994013, 40.678318386389236], [0.10669152181986874, 40.12393362076202], [-0.27871131021294104, 39.30997813573272], [0.11129072429383768, 38.73851430923304], [-0.4671235823491031, 38.29236583104115], [-0.6833894514905978, 37.642353827457825], [-1.4383821272748492, 37.44306366632422], [-2.146452602538119, 36.67414419203729], [-3.4157808089233868, 36.65889964451118], [-4.368900926114719, 36.677839056946155], [-4.995219285492212, 36.32470815687964], [-5.3771597965614575, 35.946850083961465], [-5.866432257500904, 36.02981659600606], [-6.236693894872175, 36.367677110330334], [-6.520190802425404, 36.94291331638732], [-7.453725551778092, 37.09778758396607]]], &quot;type&quot;: &quot;Polygon&quot;}, &quot;id&quot;: &quot;12&quot;, &quot;properties&quot;: {&quot;Country_std&quot;: &quot;Spain&quot;, &quot;ISO3&quot;: &quot;ESP&quot;, &quot;n_unicorns&quot;: 4, &quot;total_val&quot;: 5.95}, &quot;type&quot;: &quot;Feature&quot;}, {&quot;bbox&quot;: [20.645592889089528, 59.846373196036225, 31.516092156711125, 70.16419302029625], &quot;geometry&quot;: {&quot;coordinates&quot;: [[[28.591929559043194, 69.06477692328666], [28.445943637818658, 68.36461294216404], [29.97742638522061, 67.69829702419275], [29.054588657352326, 66.94428620062206], [30.217650000000003, 65.80598], [29.54442955904699, 64.94867157659048], [30.44468468600371, 64.20445343693909], [30.035872430142717, 63.55281362573855], [31.516092156711125, 62.86768748641289], [31.139991082490894, 62.35769277612441], [30.21110721204445, 61.780027777749694], [28.07000000000005, 60.503520000000094], [28.070001921525666, 60.50351912796823], [28.069997592895277, 60.50351654727584], [26.255172967236973, 60.4239606797625], [24.496623976344523, 60.05731639265166], [22.869694858499457, 59.846373196036225], [22.290763787533592, 60.39192129174154], [21.322244093519316, 60.720169989659524], [21.544866163832694, 61.70532949487179], [21.05921105315369, 62.60739329695874], [21.536029493910803, 63.18973501245587], [22.442744174903993, 63.81781037053129], [24.730511508897536, 64.90234365504084], [25.398067661243942, 65.11142650009374], [25.294043003040404, 65.53434642197045], [23.903378533633802, 66.00692739527962], [23.565879754335583, 66.39605093043743], [23.53947309743444, 67.93600861273525], [21.978534783626117, 68.6168456081807], [20.645592889089528, 69.10624726020087], [21.244936150810673, 69.37044302029308], [22.356237827247412, 68.84174144151491], [23.66204959483076, 68.89124746365054], [24.735679152126725, 68.64955678982146], [25.689212680776365, 69.09211375596904], [26.179622023226244, 69.82529897732614], [27.732292107867863, 70.16419302029625], [29.015572950971972, 69.76649119737799], [28.591929559043194, 69.06477692328666]]], &quot;type&quot;: &quot;Polygon&quot;}, &quot;id&quot;: &quot;13&quot;, &quot;properties&quot;: {&quot;Country_std&quot;: &quot;Finland&quot;, &quot;ISO3&quot;: &quot;FIN&quot;, &quot;n_unicorns&quot;: 2, &quot;total_val&quot;: 3.0}, &quot;type&quot;: &quot;Feature&quot;}, {&quot;bbox&quot;: [13.656975538801191, 42.47999136002932, 19.39047570158459, 46.50375092221983], &quot;geometry&quot;: {&quot;coordinates&quot;: [[[16.564808383864857, 46.50375092221983], [16.8825150895953, 46.38063182228444], [17.630066359129557, 45.95176911069419], [18.45606245288286, 45.75948110613615], [18.829824792873946, 45.908872358025285], [19.072768995854176, 45.52151113543209], [19.39047570158459, 45.236515611342384], [19.005484597557594, 44.86023449354299], [18.553214145591653, 45.08158966733146], [17.861783481526402, 45.067740383477144], [17.002146030351014, 45.23377676043094], [16.534939406000206, 45.21160757097772], [16.318156772535872, 45.00412669532591], [15.959367303133376, 45.23377676043094], [15.750026075918981, 44.818711656262565], [16.23966027188453, 44.35114329688571], [16.456442905348865, 44.04123973243128], [16.91615644701733, 43.66772247982567], [17.297373488034452, 43.44634064388737], [17.674921502358984, 43.02856252702361], [18.559999999999945, 42.64999999999998], [18.45001688302086, 42.47999224531218], [18.450016310304818, 42.47999136002932], [17.509970330483327, 42.849994615239154], [16.930005730871642, 43.20999848080038], [16.015384555737683, 43.50721548112722], [15.174453973052096, 44.243191229827914], [15.376250441151797, 44.31791535092208], [14.92030927904051, 44.73848399512946], [14.901602410550879, 45.07606028907611], [14.258747592839995, 45.23377676043094], [13.952254672917036, 44.80212352149687], [13.656975538801191, 45.13693512631596], [13.67940311041582, 45.48414907488501], [13.715059848697223, 45.500323798192376], [14.411968214585414, 45.46616567644746], [14.595109490627806, 45.634940904312714], [14.935243767972935, 45.471695054702685], [15.327674594797429, 45.45231639259333], [15.323953891672405, 45.73178253842768], [15.671529575267556, 45.83415355079788], [15.768732944408553, 46.23810822202345], [16.564808383864857, 46.50375092221983]]], &quot;type&quot;: &quot;Polygon&quot;}, &quot;id&quot;: &quot;15&quot;, &quot;properties&quot;: {&quot;Country_std&quot;: &quot;Croatia&quot;, &quot;ISO3&quot;: &quot;HRV&quot;, &quot;n_unicorns&quot;: 1, &quot;total_val&quot;: 1.0}, &quot;type&quot;: &quot;Feature&quot;}, {&quot;bbox&quot;: [95.29302615761729, -10.359987481327956, 141.03385176001382, 5.479820868344788], &quot;geometry&quot;: {&quot;coordinates&quot;: [[[[141.00021040259185, -2.60015105551566], [141.01705691951895, -5.859021905138071], [141.03385176001382, -9.117892754760483], [140.14341515519254, -8.29716765710095], [139.1277665549281, -8.096042982620979], [138.881476678625, -8.380935153846075], [137.61447391169287, -8.41168263105974], [138.03909915583517, -7.597882175327321], [138.66862145401478, -7.320224704623087], [138.4079138531023, -6.232849216337485], [137.92783979711078, -5.393365573756], [135.98925011611345, -4.54654387778907], [135.16459760959975, -4.462931410340822], [133.66288048719787, -3.538853448097541], [133.36770470594672, -4.024818617370315], [132.98395551974727, -4.112978610860253], [132.75694095268904, -3.7462826473171233], [132.75378869031925, -3.3117872046070502], [131.98980431531618, -2.820551039240499], [133.0668445171434, -2.460417982598436], [133.78003095920354, -2.4798483211401816], [133.69621178602614, -2.214541517753702], [132.23237348849426, -2.2125261368943185], [131.83622195854474, -1.6171619604596472], [130.94283979708285, -1.4325220678807826], [130.5195581401801, -0.9377202286860893], [131.8675378765136, -0.6954611141017892], [132.3801164084167, -0.36953785563694913], [133.98554813042836, -0.7802104630604559], [134.14336795464772, -1.151867364103623], [134.42262739475302, -2.769184665542376], [135.45760298069467, -3.367752780779149], [136.29331424371884, -2.307042331556154], [137.44073774632756, -1.7035132788193648], [138.3297274110447, -1.7026864559026933], [139.18492068904288, -2.0512956681436734], [139.92668419816044, -2.409051608900313], [141.00021040259185, -2.60015105551566]]], [[[124.96868248911623, -8.892790215697083], [125.07001997284061, -9.089987481322872], [125.08852013560109, -9.393173109579294], [124.43595014861933, -10.140000909061449], [123.57998172413669, -10.359987481327956], [123.459989048355, -10.239994805546223], [123.55000939340744, -9.900015557497987], [123.9800089865081, -9.290026950724716], [124.96868248911623, -8.892790215697083]]], [[[134.21013390516885, -6.89523772545472], [134.11277550673094, -6.142467136259], [134.29033572808584, -5.783057549669017], [134.49962527886788, -5.445042006047871], [134.72700158095216, -5.737582289252167], [134.7246244650667, -6.214400730009288], [134.21013390516885, -6.89523772545472]]], [[[117.88203494677018, 4.137551377779516], [117.3132324565335, 3.234428208830593], [118.0483297058854, 2.2876901310273325], [117.87562706916597, 1.8276406925489255], [118.99674726773816, 0.9022191430660627], [117.8118583517178, 0.7842418481437078], [117.47833865770603, 0.10247467691702639], [117.52164350796664, -0.8037232397532676], [116.56004845587947, -1.4876608211362097], [116.5337968282752, -2.483517347832901], [116.14808393764866, -4.012726332214022], [116.00085778204911, -3.6570374487490582], [114.86480309454456, -4.106984144714396], [114.46865156459506, -3.495703627133828], [113.75567182826407, -3.4391696102065197], [113.25699425664752, -3.118775729996905], [112.06812625534067, -3.4783920223160507], [111.70329064336005, -2.9944422339026535], [111.04824018762824, -3.0494259578612106], [110.223846063276, -2.9340324845534553], [110.07093550012434, -1.5928740372824635], [109.571947869914, -1.3149065079844746], [109.0918738139225, -0.45950652425709393], [108.9526575053282, 0.41537547444431766], [109.06913618371408, 1.3419339054376138], [109.66326012577375, 2.0064669864949565], [109.83022667850881, 1.3381356876641632], [110.51406090702716, 0.7731314152009645], [111.15913781132662, 0.976478176269481], [111.79754845586041, 0.9044412296546085], [112.38025190638359, 1.4101209578467433], [112.85980919805218, 1.4977900252299037], [113.8058496440195, 1.2175487329110695], [114.62135542201753, 1.4306881778989011], [115.13403730678522, 2.8214818383862337], [115.51907840379198, 3.169238389494396], [115.8655172058767, 4.3065591495901], [117.01521447150628, 4.3060940616994685], [117.88203494677018, 4.137551377779516]]], [[[129.37099775606094, -2.8021542293445947], [130.47134402885177, -3.093764336767634], [130.83483605359282, -3.8584721818227763], [129.99054650280817, -3.446300957862796], [129.15524865124235, -3.3626368139822485], [128.59068362845363, -3.428679294451264], [127.89889122936235, -3.393435967628207], [128.13587934785284, -2.843650404474971], [129.37099775606094, -2.8021542293445947]]], [[[126.87492272349886, -3.7909827612495874], [126.18380211802736, -3.607376397316564], [125.98903364471926, -3.177273451351305], [127.00065148326497, -3.129317722184446], [127.24921512258891, -3.45906503663889], [126.87492272349886, -3.7909827612495874]]], [[[127.93237755748748, 2.1745962589565693], [128.00415612194087, 1.6285313989283452], [128.5945593608755, 1.5408106551128782], [128.6882487326207, 1.1323859724940633], [128.63595218314134, 0.2584858260061935], [128.1201697124361, 0.3564126651992865], [127.96803429576886, -0.25207732503751856], [128.3799988139997, -0.7800037573313005], [128.1000159038423, -0.8999964331130315], [127.69647464407507, -0.26659840251153355], [127.39949018769369, 1.011721503092545], [127.60051150930906, 1.810690822757195], [127.93237755748748, 2.1745962589565693]]], [[[122.9275667664518, 0.8751923689774088], [124.07752241424288, 0.9171019555661245], [125.0659892111218, 1.6432591821315297], [125.2405005229715, 1.4198361271176054], [124.4370353536974, 0.4278811710589565], [123.6855049988767, 0.235593166500891], [122.72308312387287, 0.4311367862933366], [121.05672488818911, 0.3812173526993945], [120.18308312386272, 0.2372468123342344], [120.04086958219548, -0.5196578914448367], [120.93590538949073, -1.408905938323393], [121.4758207540762, -0.9559620092851304], [123.34056481332846, -0.6156727026431383], [123.25839928598441, -1.0762130672283092], [122.82271528533161, -0.9309506160558526], [122.38852990121529, -1.516858005381117], [121.50827355355551, -1.904482924002458], [122.4545723816843, -3.1860584448409237], [122.2718961935325, -3.5295000138527115], [123.17096276254655, -4.683693129091701], [123.1623327983538, -5.340603936385996], [122.62851525277875, -5.634591159694466], [122.23639448454801, -5.2829330379482675], [122.71956912647701, -4.464171644715826], [121.73823367725436, -4.851331475446543], [121.48946333220127, -4.574552504091265], [121.61917117725386, -4.1884778784386825], [120.89818159391766, -3.602105401222794], [120.97238895068878, -2.627642917494939], [120.30545291552986, -2.9316036922357327], [120.39004723519167, -4.097579034037274], [120.43071658740537, -5.528241062037793], [119.79654341031949, -5.673400160345665], [119.36690555224489, -5.3798780249278195], [119.65360639860017, -4.459417412944973], [119.49883548388601, -3.4944117163265322], [119.07834435432704, -3.487021986508793], [118.76776899625287, -2.801999200047718], [119.18097374885869, -2.1471037736128054], [119.3233939962551, -1.3531470678804638], [119.82599897672587, 0.1542544620734816], [120.0357019389663, 0.5664773624657613], [120.88577925016762, 1.3092227237968501], [121.66681684782696, 1.0139435896810909], [122.9275667664518, 0.8751923689774088]]], [[[120.29501427620689, -10.258649997603591], [118.96780846565471, -9.557969252158074], [119.90030968636157, -9.361340427287502], [120.42575564990534, -9.665921319215798], [120.77550174365675, -9.96967538822743], [120.71560875863045, -10.239581394087885], [120.29501427620689, -10.258649997603591]]], [[[121.34166873584651, -8.536739597206072], [122.00736453663043, -8.460620212440148], [122.90353722543607, -8.094234307490765], [122.75698286345632, -8.649807631060696], [121.2544905945701, -8.933666273639957], [119.92439090380958, -8.81041798262384], [119.92092858284605, -8.444858900591122], [120.71509199430757, -8.236964613480914], [121.34166873584651, -8.536739597206072]]], [[[118.26061648974044, -8.362383314653293], [118.87845991422208, -8.280682875199844], [119.12650678922307, -8.705824883665088], [117.97040164598928, -8.906639499551304], [117.27773074754901, -9.040894870645594], [116.74014082241665, -9.032936700072646], [117.0837374207253, -8.45715789147659], [117.6320243673421, -8.449303073768228], [117.90001834520776, -8.09568124759494], [118.26061648974044, -8.362383314653293]]], [[[108.48684614464926, -6.42198495852574], [108.62347863162896, -6.777673841990705], [110.53922732955328, -6.877357679881726], [110.75957563684585, -6.465186455921747], [112.6148112325564, -6.946035658397626], [112.97876834518806, -7.594213148634594], [114.47893517462114, -7.7765276017603275], [115.70552697150106, -8.370806573116873], [114.56451134649649, -8.751816908404855], [113.46473351446085, -8.348947442257405], [112.55967247930097, -8.376180922075221], [111.52206139531245, -8.302128594600973], [110.58614953007432, -8.122604668819001], [109.42766727095511, -7.740664157749762], [108.69365522668133, -7.641600437046243], [108.27776329959633, -7.766657403192576], [106.45410200401612, -7.354899590690934], [106.28062422081231, -6.924899997590252], [105.36548628135552, -6.851416110871206], [106.05164594932702, -5.895918877794472], [107.2650085795402, -5.954985039904081], [108.07209109907467, -6.3457622208952245], [108.48684614464926, -6.42198495852574]]], [[[104.36999148968489, -1.0848430314210589], [104.53949018760221, -1.7823715144967662], [104.88789269411402, -2.340425306816705], [105.62211144411697, -2.4288436824680986], [106.10859337771265, -3.0617766251789647], [105.85744591677414, -4.305524997579774], [105.8176550639094, -5.85235564537242], [104.71038414919144, -5.873284600450632], [103.86821333213078, -5.037314955264996], [102.5842606954069, -4.2202588842981825], [102.156173130301, -3.6141460099468006], [101.39911339722507, -2.7997771134591645], [100.90250288290015, -2.050262139497832], [100.14198082886065, -0.6503475887109857], [99.26373986206028, 0.1831415877246343], [98.97001102091326, 1.042882391764536], [98.60135135294306, 1.8235065779655741], [97.69959760944985, 2.45318390544206], [97.17694217324984, 3.3087905948985963], [96.42401655475726, 3.868859768077925], [95.3808760925135, 4.970782172053688], [95.29302615761729, 5.479820868344788], [95.93686282754174, 5.439513251157123], [97.4848820332771, 5.246320909033955], [98.36916914265566, 4.2683702661263965], [99.1425586283358, 3.590349636240873], [99.69399783732241, 3.174328518075143], [100.64143354696162, 2.099381211755741], [101.65801232300734, 2.0836974145551608], [102.49827111207323, 1.3987004663102311], [103.07684044801303, 0.5613613956688681], [103.83839603069836, 0.10454173420869493], [103.4376452982749, -0.7119458960029021], [104.01078860882404, -1.0592115210042863], [104.36999148968489, -1.0848430314210589]]]], &quot;type&quot;: &quot;MultiPolygon&quot;}, &quot;id&quot;: &quot;16&quot;, &quot;properties&quot;: {&quot;Country_std&quot;: &quot;Indonesia&quot;, &quot;ISO3&quot;: &quot;IDN&quot;, &quot;n_unicorns&quot;: 4, &quot;total_val&quot;: 26.9}, &quot;type&quot;: &quot;Feature&quot;}, {&quot;bbox&quot;: [68.1766451353734, 7.965534776232332, 97.40256147663614, 35.494009507787766], &quot;geometry&quot;: {&quot;coordinates&quot;: [[[97.32711388549004, 28.26158274994634], [97.40256147663614, 27.882536119085444], [97.0519885599681, 27.69905894623315], [97.1339990580153, 27.083773505149964], [96.41936567585097, 27.264589341739224], [95.12476769407496, 26.5735720891323], [95.1551534362626, 26.001307277932085], [94.60324913938538, 25.162495428970402], [94.55265791217164, 24.675238348890336], [94.10674197792507, 23.85074087167348], [93.3251876159428, 24.078556423432204], [93.28632693885928, 23.043658352139005], [93.06029422401463, 22.70311066333557], [93.16612755734837, 22.278459580977103], [92.67272098182556, 22.041238918541254], [92.14603478390681, 23.627498684172593], [91.86992760617132, 23.624346421802784], [91.70647505083211, 22.985263983649187], [91.15896325069973, 23.50352692310439], [91.46772993364368, 24.072639471934792], [91.91509280799443, 24.130413723237112], [92.37620161333481, 24.976692816664965], [91.79959598182208, 25.147431748957317], [90.87221072791212, 25.132600612889547], [89.92069258012185, 25.26974986419218], [89.83248091019962, 25.96508209889548], [89.35509402868729, 26.014407253518073], [88.56304935094977, 26.446525580342723], [88.2097892598025, 25.768065700782714], [88.93155398962308, 25.238692328384776], [88.30637251175602, 24.866079413344206], [88.08442223506242, 24.501657212821925], [88.69994022009092, 24.23371491138856], [88.52976972855379, 23.631141872649167], [88.87631188350309, 22.87914642993783], [89.03196129756623, 22.055708319582976], [88.88876590368542, 21.690588487224748], [88.20849734899522, 21.703171698487807], [86.97570438024027, 21.49556163175521], [87.03316857294887, 20.743307806882413], [86.49935102737379, 20.151638495356607], [85.0602657409097, 19.4785788029711], [83.94100589390001, 18.302009792549725], [83.18921715691785, 17.67122142177898], [82.19279218946592, 17.016636053937816], [82.19124189649719, 16.556664130107848], [81.69271935417748, 16.310219224507904], [80.79199913933014, 15.951972357644493], [80.32489586784388, 15.89918488205835], [80.02506920768644, 15.136414903214147], [80.2332735533904, 13.835770778859981], [80.28629357292186, 13.006260687710835], [79.8625468281285, 12.056215318240888], [79.85799930208682, 10.35727509199711], [79.340511509116, 10.30885427493962], [78.88534549348918, 9.546135972527722], [79.1897196796883, 9.216543687370148], [78.2779407083305, 8.933046779816934], [77.94116539908435, 8.252959092639742], [77.53989790233794, 7.965534776232332], [76.59297895702167, 8.89927623131419], [76.13006147655108, 10.299630031775521], [75.7464673196485, 11.308250637248307], [75.39610110870959, 11.781245022015824], [74.86481570831683, 12.741935736537897], [74.61671715688354, 13.99258291264968], [74.44385949086723, 14.617221787977698], [73.5341992532334, 15.99065216721496], [73.11990929554943, 17.928570054592498], [72.82090945830865, 19.208233547436166], [72.8244751321368, 20.419503282141534], [72.6305334817454, 21.356009426351008], [71.17527347197395, 20.757441311114235], [70.4704586119451, 20.877330634031384], [69.16413008003883, 22.0892980005727], [69.6449276060824, 22.450774644454338], [69.34959679553435, 22.84317963306269], [68.1766451353734, 23.69196503345671], [68.84259931831878, 24.35913361256094], [71.04324018746823, 24.3565239527302], [70.84469933460284, 25.21510203704352], [70.2828731627256, 25.72222870533983], [70.16892662952202, 26.491871649678842], [69.51439293811313, 26.940965684511372], [70.61649620960193, 27.989196275335868], [71.77766564320032, 27.913180243434525], [72.8237516620847, 28.961591701772054], [73.45063846221743, 29.97641347911987], [74.42138024282028, 30.979814764931177], [74.40592898956501, 31.69263947196528], [75.25864179881322, 32.2711054550405], [74.45155927927871, 32.7648996038055], [74.10429365427734, 33.44147329358685], [73.74994835805197, 34.31769887952785], [74.24020267120497, 34.748887030571254], [75.75706098826834, 34.50492259372132], [76.87172163280403, 34.65354401299274], [77.83745079947457, 35.494009507787766], [78.91226891471322, 34.32193634697579], [78.81108646028574, 33.50619802503242], [79.20889163606859, 32.994394639613716], [79.17612877799553, 32.48377981213771], [78.45844648632601, 32.61816437431273], [78.73889448437401, 31.515906073527063], [79.7213668151071, 30.88271474865473], [81.11125613802932, 30.183480943313402], [80.4767212259174, 29.72986522065534], [80.08842451367627, 28.79447011974014], [81.05720258985203, 28.416095282499043], [81.99998742058497, 27.925479234319994], [83.30424889519955, 27.36450572357556], [84.6750179381738, 27.234901231387536], [85.25177859898338, 26.726198431906344], [86.02439293817918, 26.63098460540857], [87.2274719583663, 26.397898057556077], [88.06023766474982, 26.41461538340249], [88.17480431514092, 26.81040517832595], [88.04313276566123, 27.445818589786825], [88.12044070836987, 27.876541652939594], [88.73032596227856, 28.086864732367516], [88.81424848832056, 27.299315904239364], [88.83564253128938, 27.098966376243762], [89.74452762243885, 26.719402981059957], [90.37327477413407, 26.87572418874288], [91.21751264848643, 26.808648179628022], [92.03348351437509, 26.83831045176356], [92.10371178585974, 27.452614040633208], [91.69665652869668, 27.771741848251665], [92.50311893104364, 27.89687632904645], [93.41334760943269, 28.640629380807226], [94.56599043170294, 29.277438055939985], [95.40480228066464, 29.03171662039213], [96.11767866413103, 29.452802028922466], [96.58659061074749, 28.83097951915434], [96.24883344928779, 28.411030992134442], [97.32711388549004, 28.26158274994634]]], &quot;type&quot;: &quot;Polygon&quot;}, &quot;id&quot;: &quot;17&quot;, &quot;properties&quot;: {&quot;Country_std&quot;: &quot;India&quot;, &quot;ISO3&quot;: &quot;IND&quot;, &quot;n_unicorns&quot;: 48, &quot;total_val&quot;: 138.95}, &quot;type&quot;: &quot;Feature&quot;}, {&quot;bbox&quot;: [-9.977085740590269, 51.669301255899356, -6.032985398777611, 55.13162221945487], &quot;geometry&quot;: {&quot;coordinates&quot;: [[[-6.197884894220991, 53.867565009163364], [-6.032985398777611, 53.15316417094435], [-6.788856573910849, 52.260117906292336], [-8.56161658368356, 51.669301255899356], [-9.977085740590269, 51.82045482035308], [-9.166282517930782, 52.86462881124268], [-9.688524542672454, 53.8813626165853], [-8.327987433292009, 54.66451894796863], [-7.572167934591064, 55.13162221945487], [-7.3660306461787854, 54.59584096945272], [-7.572167934591064, 54.059956366586], [-6.953730231138067, 54.073702297575636], [-6.197884894220991, 53.867565009163364]]], &quot;type&quot;: &quot;Polygon&quot;}, &quot;id&quot;: &quot;18&quot;, &quot;properties&quot;: {&quot;Country_std&quot;: &quot;Ireland&quot;, &quot;ISO3&quot;: &quot;IRL&quot;, &quot;n_unicorns&quot;: 3, &quot;total_val&quot;: 6.2}, &quot;type&quot;: &quot;Feature&quot;}, {&quot;bbox&quot;: [34.26543338393569, 29.501326198844524, 35.836396925608625, 33.2774264592763], &quot;geometry&quot;: {&quot;coordinates&quot;: [[[35.71991824722275, 32.709192409794866], [35.54566531753454, 32.393992011030576], [35.183930291491436, 32.53251068778894], [34.97464074070933, 31.866582343059722], [35.22589155451243, 31.754341132121766], [34.970506626125996, 31.61677846936081], [34.92740848159457, 31.353435370401414], [35.397560662586045, 31.489086005167582], [35.420918409981965, 31.100065822874356], [34.92260257339143, 29.501326198844524], [34.823243288783814, 29.76108076171822], [34.265440000000005, 31.219359999999998], [34.26543474464621, 31.21935730952032], [34.26543338393569, 31.219360866820153], [34.55637169773891, 31.548823960896996], [34.48810713068136, 31.60553884533732], [34.75258711115117, 32.07292633720117], [34.95541710789678, 32.82737641044638], [35.098457472480675, 33.080539252244265], [35.126052687324545, 33.09090037691878], [35.460709262846706, 33.08904002535628], [35.55279666519081, 33.26427480725802], [35.82110070165024, 33.2774264592763], [35.836396925608625, 32.86812327730851], [35.70079796727475, 32.71601369885738], [35.71991824722275, 32.709192409794866]]], &quot;type&quot;: &quot;Polygon&quot;}, &quot;id&quot;: &quot;19&quot;, &quot;properties&quot;: {&quot;Country_std&quot;: &quot;Israel&quot;, &quot;ISO3&quot;: &quot;ISR&quot;, &quot;n_unicorns&quot;: 21, &quot;total_val&quot;: 43.82}, &quot;type&quot;: &quot;Feature&quot;}, {&quot;bbox&quot;: [129.40846316947255, 31.029579169228246, 145.5431372418027, 45.55148346616134], &quot;geometry&quot;: {&quot;coordinates&quot;: [[[[141.88460086483497, 39.180864569651476], [140.95948937394581, 38.17400096287662], [140.97638756730527, 37.14207428644019], [140.5997697287621, 36.3439834661245], [140.77407433488258, 35.842877102190215], [140.2532792502451, 35.138113918593646], [138.9755277853962, 34.66760000257614], [137.21759891169125, 34.60628591566183], [135.79298302626893, 33.46480520276663], [135.1209827007454, 33.849071153289], [135.0794348491827, 34.596544908174806], [133.34031619683202, 34.375938218720805], [132.15677086805124, 33.90493337659652], [130.98614464734345, 33.88576142021624], [132.00003624890996, 33.149992377244544], [131.33279015515734, 31.450354519164822], [130.686317987186, 31.029579169228246], [130.2024198752049, 31.418237616495432], [130.44767622286213, 32.319474595665696], [129.81469160371893, 32.61030955660436], [129.40846316947255, 33.29605581311752], [130.35393517468464, 33.60415070244167], [130.87845096244718, 34.23274282484002], [131.8842293641439, 34.74971385348792], [132.61767296766243, 35.433393052709405], [134.6083008159777, 35.731617743465804], [135.67753787652885, 35.52713410088687], [136.72383060114242, 37.304984239240326], [137.39061160700447, 36.82739065199884], [138.8576021669062, 37.82748464614346], [139.42640465714283, 38.21596222589761], [140.054790073812, 39.43880748143637], [139.88337934789985, 40.56331248632368], [140.30578250545364, 41.19500519465953], [141.3689734234266, 41.378559882160275], [141.91426313697048, 39.991616115878685], [141.88460086483497, 39.180864569651476]]], [[[144.61342654843963, 43.96088288021748], [145.32082523008307, 44.38473297787541], [145.5431372418027, 43.26208832455062], [144.05966189999987, 42.98835826270056], [143.18384972551723, 41.9952147486992], [141.6114909201724, 42.6787905950561], [141.06728641170668, 41.58459381770797], [139.955106235921, 41.56955597591103], [139.81754357315998, 42.563758856774385], [140.31208703019325, 43.33327261003269], [141.38054894426, 43.38882477474644], [141.67195234595386, 44.77212535255146], [141.96764489152798, 45.55148346616134], [143.14287031470974, 44.51035838477697], [143.91016198137947, 44.17409983985374], [144.61342654843963, 43.96088288021748]]], [[[132.37117638563024, 33.46364248304006], [132.92437259331473, 34.06029857028204], [133.4929683778222, 33.94462087659667], [133.90410607313635, 34.36493113864263], [134.63842817600386, 34.149233710256354], [134.76637902235854, 33.80633474378362], [134.2034159689709, 33.20117788342964], [133.79295006727654, 33.5219851750976], [133.28026818250885, 33.28957042086489], [133.0148580262578, 32.70456736910474], [132.36311486219267, 32.989382025681394], [132.37117638563024, 33.46364248304006]]]], &quot;type&quot;: &quot;MultiPolygon&quot;}, &quot;id&quot;: &quot;20&quot;, &quot;properties&quot;: {&quot;Country_std&quot;: &quot;Japan&quot;, &quot;ISO3&quot;: &quot;JPN&quot;, &quot;n_unicorns&quot;: 6, &quot;total_val&quot;: 8.82}, &quot;type&quot;: &quot;Feature&quot;}, {&quot;bbox&quot;: [21.055800408622417, 53.905702216194754, 26.58827924979039, 56.37252838807963], &quot;geometry&quot;: {&quot;coordinates&quot;: [[[26.494331495883756, 55.615106919977634], [26.58827924979039, 55.16717560487167], [25.7684326514798, 54.84696259217509], [25.536353794056993, 54.28242340760253], [24.450683628037037, 53.905702216194754], [23.48412763844985, 53.91249766704114], [23.24398725758951, 54.22056671814914], [22.731098667092652, 54.327536932993326], [22.65105187347254, 54.582740993866736], [22.75776370615526, 54.85657440858138], [22.315723504330577, 55.015298570365864], [21.268448927503467, 55.190481675835315], [21.055800408622417, 56.031076361711065], [22.201156853939494, 56.33780182557949], [23.878263787539964, 56.27367137310527], [24.86068444184076, 56.37252838807963], [25.000934279080894, 56.16453074810484], [25.533046502390334, 56.100296942766036], [26.494331495883756, 55.615106919977634]]], &quot;type&quot;: &quot;Polygon&quot;}, &quot;id&quot;: &quot;21&quot;, &quot;properties&quot;: {&quot;Country_std&quot;: &quot;Lithuania&quot;, &quot;ISO3&quot;: &quot;LTU&quot;, &quot;n_unicorns&quot;: 1, &quot;total_val&quot;: 4.53}, &quot;type&quot;: &quot;Feature&quot;}, {&quot;bbox&quot;: [-117.12775999999985, 14.538828640190928, -86.81198238803296, 32.72082999999992], &quot;geometry&quot;: {&quot;coordinates&quot;: [[[-117.12775999999985, 32.53533999999996], [-115.99134999999995, 32.61239000000012], [-114.72138999999993, 32.72082999999992], [-114.815, 32.52528000000001], [-113.30498, 32.03914000000009], [-111.02361000000002, 31.334719999999948], [-109.03500000000003, 31.341940000000136], [-108.24193999999994, 31.342220000000054], [-108.24000000000001, 31.754853718166373], [-106.50758999999988, 31.754520000000014], [-106.1429, 31.399950000000047], [-105.63159000000002, 31.08383000000009], [-105.03737000000001, 30.644019999999955], [-104.70574999999997, 30.121730000000014], [-104.4569699999999, 29.571960000000047], [-103.94, 29.27000000000004], [-103.11000000000001, 28.970000000000027], [-102.48000000000002, 29.75999999999999], [-101.66239999999999, 29.77930000000009], [-100.95759999999996, 29.380710000000136], [-100.45584000000002, 28.69612000000012], [-100.10999999999996, 28.110000000000127], [-99.51999999999992, 27.54000000000002], [-99.30000000000001, 26.840000000000032], [-99.01999999999992, 26.37000000000006], [-98.23999999999995, 26.06000000000006], [-97.52999999999992, 25.84000000000009], [-97.14000830767071, 25.8699974634784], [-97.52807247596655, 24.9921440699203], [-97.70294552284224, 24.272343044526735], [-97.77604183631905, 22.93257986092766], [-97.87236670611111, 22.44421173755336], [-97.69904395220419, 21.898689480064263], [-97.38895952023677, 21.411018988525825], [-97.18933346229329, 20.635433254473128], [-96.52557552772032, 19.890930894444068], [-96.29212724484177, 19.320371405509547], [-95.90088497595997, 18.82802419684873], [-94.83906348344271, 18.562717393462208], [-94.42572953975622, 18.144370835843347], [-93.5486512926824, 18.423836981677937], [-92.7861138577835, 18.52483856859226], [-92.0373481920904, 18.704569200103435], [-91.40790340855926, 18.87608327888023], [-90.77186987991087, 19.28412038825678], [-90.53358985061305, 19.8674181177513], [-90.45147599970124, 20.707521877520435], [-90.2786183336849, 20.999855454995554], [-89.60132117385149, 21.26172577563449], [-88.54386633986286, 21.49367544197662], [-87.65841651075772, 21.45884552661198], [-87.05189022494807, 21.5435431991383], [-86.81198238803296, 21.331514797444754], [-86.84590796583262, 20.849864610268355], [-87.38329118523586, 20.25540477139873], [-87.62105445021075, 19.64655304613592], [-87.43675045444178, 19.47240346931227], [-87.58656043165593, 19.04013011319074], [-87.83719112827151, 18.25981598558343], [-88.09066402866318, 18.51664785407405], [-88.3000310940937, 18.4999822046599], [-88.49012285027935, 18.486830552641607], [-88.84834387892661, 17.883198147040233], [-89.02985734735182, 18.001511338772488], [-89.15090938999553, 17.95546763760042], [-89.14308041050333, 17.808318996649405], [-90.06793351923098, 17.819326076727478], [-91.00151994501596, 17.81759491624571], [-91.00226925328421, 17.25465770107418], [-91.45392127151516, 17.252177232324172], [-91.08167009150065, 16.918476670799407], [-90.71182186558772, 16.687483018454728], [-90.60084672724093, 16.47077789963879], [-90.43886695022204, 16.410109768128095], [-90.46447262242266, 16.069562079324655], [-91.74796017125595, 16.066564846251765], [-92.2292486234063, 15.251446641495875], [-92.08721594925207, 15.064584662328441], [-92.20322953974733, 14.830102850804069], [-92.22775000686983, 14.538828640190928], [-93.35946387406176, 15.615429592343673], [-93.87516883011853, 15.940164292865916], [-94.69165646033014, 16.200975246642884], [-95.25022701697304, 16.128318182840644], [-96.05338212765332, 15.752087917539598], [-96.55743404822829, 15.653515122942792], [-97.26359249549665, 15.917064927631316], [-98.01302995480961, 16.107311713113916], [-98.94767574745651, 16.566043402568766], [-99.69739742714705, 16.70616404872817], [-100.82949886758132, 17.17107107184205], [-101.66608862995446, 17.649026394109626], [-101.91852800170022, 17.916090196193977], [-102.47813208698892, 17.975750637275098], [-103.50098954955808, 18.29229462327885], [-103.91752743204682, 18.74857168220001], [-104.9920096504755, 19.316133938061682], [-105.49303849976144, 19.946767279535436], [-105.73139604370766, 20.434101874264115], [-105.39777299683135, 20.531718654863425], [-105.50066077352443, 20.81689504646613], [-105.27075232625793, 21.07628489835514], [-105.26581722697404, 21.42210358325235], [-105.6031609769754, 21.87114594165257], [-105.69341386597313, 22.269080308516152], [-106.02871639689897, 22.773752346278627], [-106.90998043498837, 23.767774359628902], [-107.91544877809139, 24.54891531015295], [-108.40190487347098, 25.172313951105934], [-109.26019873740665, 25.58060944264406], [-109.44408932171734, 25.82488393808768], [-109.29164384645628, 26.442934068298428], [-109.80145768923182, 26.676175645447927], [-110.3917317370857, 27.16211497650454], [-110.64101884646163, 27.859876003525528], [-111.17891883018785, 27.94124054616907], [-111.75960689985163, 28.46795258230395], [-112.2282346260904, 28.95440867768349], [-112.27182369672869, 29.266844387320077], [-112.80959448937398, 30.02111359305235], [-113.16381059451868, 30.786880804969428], [-113.14866939985717, 31.170965887978923], [-113.87188106978186, 31.567608344035193], [-114.20573666060352, 31.524045111613134], [-114.77645117883503, 31.79953217216115], [-114.93669979537214, 31.393484605427602], [-114.7712318591735, 30.913617255165263], [-114.67389929895177, 30.162681179315996], [-114.33097449426293, 29.750432440707414], [-113.58887508833544, 29.061611436473015], [-113.42405310754054, 28.82617361095123], [-113.27196936730553, 28.7547826197399], [-113.14003943566439, 28.41128937429596], [-112.9622983467965, 28.42519033458251], [-112.76158708377488, 27.780216783147523], [-112.45791052941166, 27.52581370697476], [-112.2449519519368, 27.17172679291076], [-111.61648902061921, 26.662817287700477], [-111.28467464887302, 25.732589830014433], [-110.9878193835724, 25.294606228124564], [-110.71000688357134, 24.82600434010186], [-110.65504899782889, 24.298594672131117], [-110.17285620811344, 24.265547593680424], [-109.77184709352855, 23.811182562754198], [-109.40910437705571, 23.36467234953625], [-109.43339230023292, 23.1855876734287], [-109.85421932660171, 22.818271592698068], [-110.03139197471444, 22.823077500901206], [-110.29507097048366, 23.43097321216669], [-110.94950130902805, 24.000964260345995], [-111.6705684070127, 24.484423122652515], [-112.18203589562148, 24.738412787367167], [-112.14898881717085, 25.47012523040405], [-112.3007108223797, 26.012004299416617], [-112.77729671919155, 26.32195954030317], [-113.46467078332194, 26.768185533143424], [-113.59672990604383, 26.639459540304472], [-113.84893673384425, 26.90006378835244], [-114.46574662968004, 27.142090358991368], [-115.05514217818501, 27.72272675222291], [-114.98225257043742, 27.798200181585116], [-114.57036556685495, 27.74148529714489], [-114.19932878299926, 28.115002549750557], [-114.16201839888464, 28.566111965442303], [-114.93184221073665, 29.27947927501549], [-115.518653937627, 29.5563615992354], [-115.88736528202958, 30.180793768834178], [-116.25835038945291, 30.836464341753583], [-116.72152625208497, 31.635743720012044], [-117.12775999999985, 32.53533999999996]]], &quot;type&quot;: &quot;Polygon&quot;}, &quot;id&quot;: &quot;22&quot;, &quot;properties&quot;: {&quot;Country_std&quot;: &quot;Mexico&quot;, &quot;ISO3&quot;: &quot;MEX&quot;, &quot;n_unicorns&quot;: 5, &quot;total_val&quot;: 15.2}, &quot;type&quot;: &quot;Feature&quot;}, {&quot;bbox&quot;: [100.0857568705271, 0.7731314152009645, 119.18190392463997, 6.92805288332454], &quot;geometry&quot;: {&quot;coordinates&quot;: [[[[100.0857568705271, 6.4644894474502905], [100.25959638875696, 6.6428248152895435], [101.07551557821336, 6.2048670516159214], [101.15421878459387, 5.691384182147715], [101.81428185425798, 5.8108084171742425], [102.14118696493638, 6.221636053894628], [102.37114708863521, 6.128205064310919], [102.96170535686673, 5.524495144061106], [103.38121463421217, 4.8550011255037475], [103.43857547405612, 4.181605536308339], [103.33212202353486, 3.726697902842986], [103.42942874554049, 3.3828687605890053], [103.50244754436889, 2.7910185815501762], [103.8546741068703, 2.515454006353764], [104.24793175661145, 1.6311410587590842], [104.22881147666348, 1.2930480004894918], [103.51970747275439, 1.2263337264006822], [102.57361535035477, 1.9671153833046873], [101.39063846232919, 2.760813706875581], [101.27353966675582, 3.270291652841152], [100.69543541870664, 3.9391397159948696], [100.55740766805502, 4.767280381688295], [100.19670617065775, 5.312492580583708], [100.30626020711652, 6.0405618351439045], [100.0857568705271, 6.4644894474502905]]], [[[117.88203494677018, 4.137551377779516], [117.01521447150628, 4.3060940616994685], [115.8655172058767, 4.3065591495901], [115.51907840379198, 3.169238389494396], [115.13403730678522, 2.8214818383862337], [114.62135542201753, 1.4306881778989011], [113.8058496440195, 1.2175487329110695], [112.85980919805218, 1.4977900252299037], [112.38025190638359, 1.4101209578467433], [111.79754845586041, 0.9044412296546085], [111.15913781132662, 0.976478176269481], [110.51406090702716, 0.7731314152009645], [109.83022667850881, 1.3381356876641632], [109.66326012577375, 2.0064669864949565], [110.3961352885371, 1.663774725751395], [111.16885298059748, 1.8506367049188128], [111.37008100794205, 2.6973033715888595], [111.7969283386729, 2.885896511238059], [112.99561486211522, 3.102394924324855], [113.71293541875868, 3.8935094262811556], [114.20401655482837, 4.5258739282368055], [114.65959598191353, 4.007636826997754], [114.8695573263154, 4.348313706881925], [115.34746097215066, 4.316636053887009], [115.40570031134361, 4.955227565933839], [115.45071048386981, 5.447729803891534], [116.22074100145102, 6.1431912296755655], [116.72510298061971, 6.924771429873999], [117.12962609260047, 6.92805288332454], [117.64339318244627, 6.422166449403249], [117.68907514859231, 5.987490139180154], [118.34769127815224, 5.708695786965492], [119.18190392463997, 5.407835598162207], [119.11069380094176, 5.016128241389808], [118.43972700406408, 4.966518866389606], [118.6183207540648, 4.478202419447555], [117.88203494677018, 4.137551377779516]]]], &quot;type&quot;: &quot;MultiPolygon&quot;}, &quot;id&quot;: &quot;23&quot;, &quot;properties&quot;: {&quot;Country_std&quot;: &quot;Malaysia&quot;, &quot;ISO3&quot;: &quot;MYS&quot;, &quot;n_unicorns&quot;: 1, &quot;total_val&quot;: 1.3}, &quot;type&quot;: &quot;Feature&quot;}, {&quot;bbox&quot;: [3.3149711442285366, 50.80372101501058, 7.092053256873896, 53.510403347378144], &quot;geometry&quot;: {&quot;coordinates&quot;: [[[6.905139601274129, 53.48216217713065], [7.092053256873896, 53.144043280644894], [6.842869500362383, 52.22844025329755], [6.589396599970826, 51.852029120483394], [5.988658074577813, 51.851615709025054], [6.15665815595878, 50.80372101501058], [5.606975945670001, 51.03729848896978], [4.973991326526914, 51.47502370869813], [4.047071160507528, 51.26725861266857], [3.3149711442285366, 51.34575511331991], [3.3150114849641596, 51.34577662473805], [3.8302885270431375, 51.62054454203195], [4.705997348661185, 53.091798407597764], [6.074182570020923, 53.510403347378144], [6.905139601274129, 53.48216217713065]]], &quot;type&quot;: &quot;Polygon&quot;}, &quot;id&quot;: &quot;24&quot;, &quot;properties&quot;: {&quot;Country_std&quot;: &quot;Netherlands&quot;, &quot;ISO3&quot;: &quot;NLD&quot;, &quot;n_unicorns&quot;: 5, &quot;total_val&quot;: 14.3}, &quot;type&quot;: &quot;Feature&quot;}, {&quot;bbox&quot;: [117.17427453010066, 5.5810033227722755, 126.53742394420061, 18.505227362537525], &quot;geometry&quot;: {&quot;coordinates&quot;: [[[[120.83389611214656, 12.704496161342433], [120.32343631396745, 13.466413479053825], [121.18012820850211, 13.429697373910443], [121.5273938335035, 13.06959015548452], [121.26219038298159, 12.205560207564403], [120.83389611214656, 12.704496161342433]]], [[[122.5860889018671, 9.981044826696134], [122.83708133350875, 10.261156927934225], [122.9474105164519, 10.88186839440806], [123.49884972543845, 10.94062449792392], [123.33777428598472, 10.267383938025404], [124.0779358257012, 11.232725531453738], [123.98243777882584, 10.278778591345755], [123.62318322153271, 9.950090643753299], [123.30992068897939, 9.318268744336706], [122.99588300994166, 9.022188625520414], [122.38005496631942, 9.713360907424217], [122.5860889018671, 9.981044826696134]]], [[[126.37681359263745, 8.414706325713297], [126.47851281138789, 7.750354112168978], [126.53742394420061, 7.189380601424545], [126.19677290253259, 6.274294338400054], [125.83142052622907, 7.293715318221842], [125.36385216685221, 6.786485297060949], [125.68316084198369, 6.049656887227272], [125.39651167206063, 5.5810033227722755], [124.21978763234239, 6.161355495626154], [123.9387195171069, 6.885135606306136], [124.24366214406128, 7.360610459823661], [123.61021243702749, 7.83352732994274], [123.29607140512519, 7.418875637232759], [122.82550581267537, 7.457374579290204], [122.08549930225573, 6.899424139834836], [121.91992801319256, 7.192119452336015], [122.31235884001705, 8.034962063016465], [122.94239790251959, 8.316236883981134], [123.48768761606347, 8.69300975182118], [123.84115441293983, 8.240324204944372], [124.60146976125021, 8.514157619659002], [124.76461225799562, 8.960409450715488], [125.47139082245155, 8.986996975129657], [125.41211795461277, 9.760334784377534], [126.2227144715431, 9.286074327018866], [126.30663699758514, 8.78248749433456], [126.37681359263745, 8.414706325713297]]], [[[118.50458092659036, 9.316382554558047], [117.17427453010066, 8.367499904814679], [117.66447716682137, 9.066888739452892], [118.38691369026175, 9.68449961998921], [118.98734215706105, 10.376292019080523], [119.51149620979751, 11.3696680770272], [119.68967654833989, 10.554291490109875], [119.02945844937892, 10.003653265823829], [118.50458092659036, 9.316382554558047]]], [[[122.336956821788, 18.224882717354106], [122.17427941293317, 17.810282701076403], [122.5156539246533, 17.093504746971973], [122.25231082569393, 16.26244436285407], [121.66278608610821, 15.931017564350142], [121.50506961475342, 15.124813544164622], [121.7288285665772, 14.328376369682275], [122.25892540902726, 14.21820221603599], [122.70127566944569, 14.336541245984378], [123.9502950379403, 13.782130642141027], [123.85510704965867, 13.237771104378425], [124.18128869028493, 12.9975273706535], [124.0774190613783, 12.536676947474575], [123.29803510955225, 13.02752553959894], [122.92865197152994, 13.552919826710422], [122.6713550151487, 13.185836289925092], [122.03464969288052, 13.784481919810304], [121.12638471891857, 13.636687323455547], [120.62863732308324, 13.857655747935596], [120.67938357959386, 14.271015529838294], [120.99181928923053, 14.52539276779504], [120.69333621631267, 14.756670640517312], [120.56414513558299, 14.396279201713796], [120.07042850146644, 14.970869452367126], [119.92092858284605, 15.406346747290739], [119.88377322802819, 16.363704331929995], [120.28648766487875, 16.034628811095345], [120.39004723519167, 17.599081122299523], [120.71586714079191, 18.505227362537525], [121.32130822152351, 18.504064642810945], [121.9376013530364, 18.218552354398355], [122.24600630095429, 18.478949896717097], [122.336956821788, 18.224882717354106]]], [[[122.03837039600555, 11.415840969279998], [121.88354780485909, 11.891755072471994], [122.48382124236149, 11.582187404827538], [123.12021650603594, 11.583660183147856], [123.10083784392646, 11.16593374271649], [122.63771365772669, 10.74130849857417], [122.00261030485957, 10.441016750526089], [121.96736697803652, 10.905691229694625], [122.03837039600555, 11.415840969279998]]], [[[125.50255171112354, 12.162694606978292], [125.78346479706221, 11.046121934447783], [125.01188398651226, 11.311454576050409], [125.03276126515817, 10.975816148314692], [125.27744917206019, 10.358722032101284], [124.80181928924577, 10.134678859899864], [124.76016808481853, 10.837995103392258], [124.45910119028605, 10.889929917845592], [124.30252160044171, 11.495370998577187], [124.89101281138153, 11.415582587118536], [124.87799035044401, 11.794189968304947], [124.26676150929569, 12.557760931849671], [125.22711632700788, 12.53572093347718], [125.50255171112354, 12.162694606978292]]]], &quot;type&quot;: &quot;MultiPolygon&quot;}, &quot;id&quot;: &quot;26&quot;, &quot;properties&quot;: {&quot;Country_std&quot;: &quot;Philippines&quot;, &quot;ISO3&quot;: &quot;PHL&quot;, &quot;n_unicorns&quot;: 2, &quot;total_val&quot;: 3.0}, &quot;type&quot;: &quot;Feature&quot;}, {&quot;bbox&quot;: [11.027368605196868, 55.36173737245058, 23.903378533633802, 69.10624726020087], &quot;geometry&quot;: {&quot;coordinates&quot;: [[[11.027368605196868, 58.85614940045936], [11.468271925511146, 59.43239329694604], [12.3003658382749, 60.11793284773003], [12.631146681375185, 61.293571682370136], [11.992064243221563, 61.80036245385655], [11.930569288794231, 63.12831757267698], [12.579935336973934, 64.06621898055833], [13.571916131248713, 64.04911408146971], [13.919905226302204, 64.44542064071608], [13.55568973150909, 64.78702769638151], [15.108411492583002, 66.19386688909547], [16.108712192456778, 67.30245555283689], [16.768878614985482, 68.0139366726314], [17.729181756265348, 68.01055186631628], [17.993868442464333, 68.56739126247736], [19.878559604581255, 68.40719432237258], [20.025268995857886, 69.0651386583127], [20.645592889089528, 69.10624726020087], [21.978534783626117, 68.6168456081807], [23.53947309743444, 67.93600861273525], [23.565879754335583, 66.39605093043743], [23.903378533633802, 66.00692739527962], [22.18317345550193, 65.72374054632017], [21.21351687997722, 65.02600535751527], [21.369631381930958, 64.41358795842429], [19.77887576669022, 63.60955434839504], [17.84777916837521, 62.74940013289681], [17.119554884518124, 61.34116567651097], [17.83134606290639, 60.63658336042741], [18.78772179533209, 60.081914374422595], [17.86922488777634, 58.9537661810587], [16.829185011470088, 58.71982697207339], [16.447709588291474, 57.041118069071885], [15.879785597403783, 56.10430186626866], [14.666681349352075, 56.200885118222175], [14.100721062891465, 55.40778107362265], [12.942910597392057, 55.36173737245058], [12.625100538797028, 56.30708018658197], [11.787942335668674, 57.44181712506307], [11.027368605196868, 58.85614940045936]]], &quot;type&quot;: &quot;Polygon&quot;}, &quot;id&quot;: &quot;28&quot;, &quot;properties&quot;: {&quot;Country_std&quot;: &quot;Sweden&quot;, &quot;ISO3&quot;: &quot;SWE&quot;, &quot;n_unicorns&quot;: 3, &quot;total_val&quot;: 12.48}, &quot;type&quot;: &quot;Feature&quot;}, {&quot;bbox&quot;: [97.37589643757354, 5.691384182147715, 105.58903852745016, 20.417849636308187], &quot;geometry&quot;: {&quot;coordinates&quot;: [[[105.21877689007889, 14.273211778210694], [104.28141808473661, 14.416743068901367], [102.98842207236163, 14.225721136934467], [102.34809939983302, 13.394247341358223], [102.5849324890267, 12.186594956913282], [101.68715783081996, 12.645740057826572], [100.83180952352487, 12.627084865769206], [100.9784672383692, 13.412721665902566], [100.09779747925111, 13.406856390837433], [100.01873253784456, 12.307001044153354], [99.47892052612363, 10.846366685423547], [99.15377241414316, 9.963061428258555], [99.22239871622676, 9.239255479362427], [99.87383182169813, 9.20786204674512], [100.27964684448622, 8.295152899606052], [100.45927412313276, 7.429572658717177], [101.01732791545273, 6.856868597842478], [101.62307905477806, 6.74062246340192], [102.14118696493638, 6.221636053894628], [101.81428185425798, 5.8108084171742425], [101.15421878459387, 5.691384182147715], [101.07551557821336, 6.2048670516159214], [100.25959638875696, 6.6428248152895435], [100.0857568705271, 6.4644894474502905], [99.69069054565576, 6.8482127954335965], [99.51964155476963, 7.34345388430276], [98.9882528015123, 7.907993068875328], [98.503786248776, 8.382305202666288], [98.339661899817, 7.794511623562386], [98.15000939330582, 8.350007432483878], [98.25915001830626, 8.973922837759801], [98.55355065307305, 9.932959906448545], [99.03812055867398, 10.960545762572437], [99.58728600463972, 11.892762762901697], [99.19635379435167, 12.80474843998867], [99.21201175333609, 13.269293728076464], [99.09775516153876, 13.827502549693278], [98.43081912637987, 14.622027696180837], [98.1920740091914, 15.123702500870351], [98.53737592976572, 15.308497422746084], [98.90334842325676, 16.17782420497612], [98.49376102091135, 16.83783559820793], [97.85912275593486, 17.567946071843664], [97.37589643757354, 18.445437730375815], [97.79778283080441, 18.627080389881755], [98.25372399291561, 19.708203029860044], [98.95967573445488, 19.752980658440947], [99.54330936075931, 20.186597601802063], [100.11598758341785, 20.417849636308187], [100.54888105672688, 20.109237982661128], [100.60629357300316, 19.508344427971224], [101.2820146016517, 19.462584947176765], [101.03593143107777, 18.408928330961615], [101.05954756063517, 17.51249725999449], [102.11359175009248, 18.109101670804165], [102.41300499879162, 17.932781683824288], [102.99870568238771, 17.9616946476916], [103.20019209189374, 18.309632066312773], [103.9564766784853, 18.24095408779688], [104.7169470560925, 17.42885895433008], [104.7793205098688, 16.44186493577145], [105.58903852745016, 15.570316066952858], [105.54433841351769, 14.723933620660418], [105.21877689007889, 14.273211778210694]]], &quot;type&quot;: &quot;Polygon&quot;}, &quot;id&quot;: &quot;29&quot;, &quot;properties&quot;: {&quot;Country_std&quot;: &quot;Thailand&quot;, &quot;ISO3&quot;: &quot;THA&quot;, &quot;n_unicorns&quot;: 2, &quot;total_val&quot;: 2.5}, &quot;type&quot;: &quot;Feature&quot;}, {&quot;bbox&quot;: [-171.79111060289122, 18.91619, -66.96465999999998, 71.35776357694175], &quot;geometry&quot;: {&quot;coordinates&quot;: [[[[-122.84000000000003, 49.000000000000114], [-120.0, 49.000000000000114], [-117.03121, 49.0], [-116.04818, 49.0], [-113.0, 49.0], [-110.05000000000001, 49.0], [-107.05000000000001, 49.0], [-104.04826000000003, 48.99986000000007], [-100.65000000000003, 49.000000000000114], [-97.2287200000048, 49.0007], [-95.15906950917206, 49.0], [-95.15609, 49.38425000000001], [-94.81758000000002, 49.38905], [-94.64, 48.84], [-94.32914000000001, 48.67074], [-93.63087000000002, 48.609260000000006], [-92.61000000000001, 48.44999999999993], [-91.64, 48.14], [-90.83, 48.27], [-89.60000000000002, 48.010000000000105], [-89.27291744663665, 48.01980825458281], [-88.37811418328671, 48.302917588893706], [-87.43979262330028, 47.94], [-86.46199083122826, 47.553338019392], [-85.65236324740341, 47.22021881773051], [-84.8760798815149, 46.90008331968238], [-84.77923824739992, 46.63710195574902], [-84.54374874544584, 46.538684190449146], [-84.60490000000004, 46.439599999999984], [-84.33670000000001, 46.408770000000004], [-84.1421195136734, 46.51222585711571], [-84.0918512641615, 46.27541860613826], [-83.89076534700574, 46.116926988299014], [-83.61613094759059, 46.116926988299014], [-83.46955074739469, 45.994686387712534], [-83.59285071484311, 45.81689362241252], [-82.55092464875821, 45.34751658790543], [-82.33776312543114, 44.440000000000055], [-82.13764238150395, 43.57108755143997], [-82.42999999999999, 42.980000000000004], [-82.9, 42.43], [-83.12, 42.08], [-83.14199968131264, 41.975681057292874], [-83.029810146807, 41.83279572200598], [-82.69008928092023, 41.675105088867326], [-82.4392777167916, 41.675105088867326], [-81.27774654816716, 42.209025987306816], [-80.24744767934794, 42.36619985612255], [-78.93936214874375, 42.86361135514798], [-78.92, 42.964999999999996], [-79.01, 43.27], [-79.17167355011186, 43.46633942318426], [-78.72027991404235, 43.62508942318493], [-77.7378850979577, 43.62905558936328], [-76.82003414580558, 43.628784288093755], [-76.50000000000001, 44.01845889375865], [-76.375, 44.09631], [-75.31821000000001, 44.81645], [-74.86700000000002, 45.000480000000096], [-73.34783, 45.00738], [-71.50506, 45.0082], [-71.405, 45.254999999999995], [-71.08482000000004, 45.30524000000014], [-70.66, 45.46], [-70.305, 45.915], [-69.99997, 46.69307], [-69.237216, 47.447781], [-68.90500000000003, 47.18500000000006], [-68.23444, 47.354859999999974], [-67.79046000000001, 47.066359999999996], [-67.79134, 45.70281000000001], [-67.13741, 45.13753], [-66.96465999999998, 44.809700000000134], [-68.03251999999998, 44.325199999999995], [-69.05999999999995, 43.980000000000075], [-70.11616999999995, 43.68405000000013], [-70.64547563341102, 43.09023834896402], [-70.81488999999999, 42.865299999999934], [-70.82499999999999, 42.33499999999998], [-70.49499999999995, 41.80500000000001], [-70.07999999999998, 41.78000000000003], [-70.185, 42.145000000000095], [-69.88496999999995, 41.92283000000009], [-69.96502999999996, 41.63717000000014], [-70.63999999999999, 41.47500000000002], [-71.12039000000004, 41.49445000000014], [-71.8599999999999, 41.32000000000005], [-72.29500000000002, 41.26999999999998], [-72.87643000000003, 41.220650000000035], [-73.71000000000004, 40.93110235165449], [-72.24125999999995, 41.119480000000124], [-71.94499999999988, 40.930000000000064], [-73.34499999999997, 40.63000000000005], [-73.98200000000003, 40.62799999999993], [-73.95232499999997, 40.75075000000004], [-74.25671, 40.47351000000003], [-73.96243999999996, 40.42763000000002], [-74.17838, 39.70925999999997], [-74.90603999999996, 38.93954000000002], [-74.98041, 39.19640000000004], [-75.20002, 39.248450000000105], [-75.52805000000001, 39.49850000000009], [-75.32, 38.960000000000036], [-75.07183476478986, 38.782032230179254], [-75.05672999999996, 38.40412000000009], [-75.37746999999996, 38.015510000000006], [-75.94022999999999, 37.21689000000009], [-76.03126999999995, 37.25659999999999], [-75.72204999999985, 37.93705000000011], [-76.23286999999999, 38.319214999999986], [-76.35000000000002, 39.14999999999998], [-76.54272499999996, 38.71761500000008], [-76.32933000000003, 38.08326000000005], [-76.98999793161352, 38.23999176691336], [-76.30161999999996, 37.91794499999992], [-76.25873999999999, 36.96640000000008], [-75.97179999999997, 36.89726000000002], [-75.8680399999999, 36.55125000000004], [-75.72748999999999, 35.55074000000013], [-76.36318, 34.80854000000011], [-77.39763499999992, 34.512009999999975], [-78.05496, 33.92547000000002], [-78.55434999999989, 33.86133000000012], [-79.06067000000002, 33.493949999999984], [-79.20357000000001, 33.158390000000054], [-80.30132499999996, 32.509355000000085], [-80.86498, 32.033300000000054], [-81.33629000000002, 31.44049000000001], [-81.49041999999997, 30.7299900000001], [-81.31371000000001, 30.035520000000076], [-80.97999999999996, 29.18000000000012], [-80.53558499999991, 28.472129999999993], [-80.52999999999986, 28.040000000000077], [-80.05653928497759, 26.88000000000011], [-80.08801499999998, 26.205764999999985], [-80.13155999999992, 25.816775000000064], [-80.38103000000001, 25.20616000000001], [-80.67999999999995, 25.08000000000004], [-81.17212999999998, 25.201260000000104], [-81.33000000000004, 25.639999999999986], [-81.70999999999987, 25.870000000000005], [-82.23999999999995, 26.730000000000132], [-82.70515, 27.495040000000074], [-82.85525999999999, 27.886240000000043], [-82.64999999999998, 28.550000000000125], [-82.92999999999995, 29.10000000000008], [-83.70958999999999, 29.936560000000043], [-84.09999999999997, 30.09000000000009], [-85.10881999999998, 29.636150000000043], [-85.28784000000002, 29.68612000000013], [-85.7731, 30.152610000000095], [-86.39999999999992, 30.40000000000009], [-87.53035999999992, 30.27433000000002], [-88.41781999999995, 30.384900000000016], [-89.1804899999999, 30.315980000000025], [-89.5938311784198, 30.159994004836847], [-89.41373499999997, 29.89418999999998], [-89.43, 29.488639999999975], [-89.21767, 29.291080000000022], [-89.40822999999995, 29.159610000000043], [-89.77927999999997, 29.307140000000118], [-90.15463, 29.11743000000007], [-90.88022499999994, 29.148535000000095], [-91.62678499999993, 29.677000000000135], [-92.49905999999999, 29.552300000000002], [-93.22636999999997, 29.783750000000055], [-93.84841999999998, 29.71363000000008], [-94.69, 29.480000000000132], [-95.60025999999999, 28.738630000000057], [-96.59403999999995, 28.307480000000055], [-97.13999999999987, 27.83000000000004], [-97.36999999999995, 27.380000000000052], [-97.37999999999994, 26.690000000000055], [-97.32999999999998, 26.210000000000093], [-97.13999999999987, 25.870000000000005], [-97.52999999999992, 25.84000000000009], [-98.23999999999995, 26.06000000000006], [-99.01999999999992, 26.37000000000006], [-99.30000000000001, 26.840000000000032], [-99.51999999999992, 27.54000000000002], [-100.10999999999996, 28.110000000000127], [-100.45584000000002, 28.69612000000012], [-100.95759999999996, 29.380710000000136], [-101.66239999999999, 29.77930000000009], [-102.48000000000002, 29.75999999999999], [-103.11000000000001, 28.970000000000027], [-103.94, 29.27000000000004], [-104.4569699999999, 29.571960000000047], [-104.70574999999997, 30.121730000000014], [-105.03737000000001, 30.644019999999955], [-105.63159000000002, 31.08383000000009], [-106.1429, 31.399950000000047], [-106.50758999999988, 31.754520000000014], [-108.24000000000001, 31.754853718166373], [-108.24193999999994, 31.342220000000054], [-109.03500000000003, 31.341940000000136], [-111.02361000000002, 31.334719999999948], [-113.30498, 32.03914000000009], [-114.815, 32.52528000000001], [-114.72138999999993, 32.72082999999992], [-115.99134999999995, 32.61239000000012], [-117.12775999999985, 32.53533999999996], [-117.29593769127393, 33.04622461520387], [-117.94400000000002, 33.621236431201396], [-118.41060227589753, 33.74090922312445], [-118.51989482279976, 34.02778157757575], [-119.08100000000002, 34.07799999999992], [-119.43884064201671, 34.34847717828427], [-120.36777999999998, 34.447110000000066], [-120.62286, 34.60854999999998], [-120.74432999999999, 35.15686000000011], [-121.71456999999992, 36.161529999999914], [-122.54746999999998, 37.551760000000115], [-122.51201000000003, 37.78339000000011], [-122.95319, 38.11371000000008], [-123.72720000000004, 38.95166000000012], [-123.86516999999998, 39.76699000000008], [-124.39807000000002, 40.313199999999995], [-124.17885999999999, 41.142020000000116], [-124.21370000000002, 41.99964000000011], [-124.53283999999996, 42.7659900000001], [-124.14213999999998, 43.708380000000034], [-124.020535, 44.615894999999966], [-123.89892999999995, 45.52341000000007], [-124.079635, 46.864750000000015], [-124.39566999999994, 47.72017000000011], [-124.68721008300781, 48.18443298339855], [-124.56610107421875, 48.37971496582037], [-123.12, 48.04000000000002], [-122.58735999999993, 47.09600000000006], [-122.34000000000003, 47.360000000000014], [-122.5, 48.180000000000064], [-122.84000000000003, 49.000000000000114]]], [[[-155.40214, 20.07975], [-155.22452, 19.99302], [-155.06226, 19.8591], [-154.80741, 19.50871], [-154.83147, 19.453280000000003], [-155.22217, 19.23972], [-155.54211, 19.08348], [-155.68817, 18.91619], [-155.93665, 19.05939], [-155.90806, 19.33888], [-156.07347000000001, 19.70294], [-156.02368, 19.81422], [-155.85008000000002, 19.97729], [-155.91907, 20.17395], [-155.86108000000002, 20.267210000000002], [-155.78505, 20.2487], [-155.40214, 20.07975]]], [[[-155.99566000000002, 20.76404], [-156.07926, 20.643970000000003], [-156.41445, 20.57241], [-156.58673, 20.783], [-156.70167, 20.8643], [-156.71054999999998, 20.92676], [-156.61258, 21.01249], [-156.25711, 20.917450000000002], [-155.99566000000002, 20.76404]]], [[[-156.75824, 21.176840000000002], [-156.78933, 21.068730000000002], [-157.32521, 21.097770000000004], [-157.25027, 21.219579999999997], [-156.75824, 21.176840000000002]]], [[[-158.0252, 21.71696], [-157.94161, 21.65272], [-157.65283000000002, 21.322170000000003], [-157.70703, 21.26442], [-157.7786, 21.27729], [-158.12667000000002, 21.31244], [-158.2538, 21.53919], [-158.29265, 21.57912], [-158.0252, 21.71696]]], [[[-159.36569, 22.21494], [-159.34512, 21.982000000000003], [-159.46372, 21.88299], [-159.80051, 22.065330000000003], [-159.74877, 22.1382], [-159.5962, 22.236179999999997], [-159.36569, 22.21494]]], [[[-166.46779212142462, 60.384169826897754], [-165.67442969466364, 60.29360687930625], [-165.57916419173358, 59.90998688418753], [-166.19277014876727, 59.75444082298899], [-166.84833736882197, 59.941406155020985], [-167.45527706609008, 60.21306915957936], [-166.46779212142462, 60.384169826897754]]], [[[-153.22872941792113, 57.96896841087248], [-152.56479061583514, 57.901427313866996], [-152.1411472239064, 57.591058661522], [-153.00631405333692, 57.11584219016593], [-154.0050902984581, 56.734676825581076], [-154.51640275777004, 56.99274892844669], [-154.67099280497118, 57.46119578717253], [-153.7627795074415, 57.81657461204373], [-153.22872941792113, 57.96896841087248]]], [[[-140.98598761037601, 69.71199839952635], [-140.986, 69.712], [-140.9925, 66.00003000000001], [-140.99778, 60.30639000000001], [-140.013, 60.27682000000001], [-139.03900000000002, 60.0], [-138.34089, 59.562110000000004], [-137.4525, 58.905], [-136.47972000000004, 59.46389000000005], [-135.47583, 59.787780000000005], [-134.94500000000005, 59.2705600000001], [-134.27111000000002, 58.86111000000005], [-133.35556000000003, 58.41028000000001], [-132.73042, 57.692890000000006], [-131.70781, 56.55212], [-130.00778000000003, 55.915830000000085], [-129.98, 55.285000000000004], [-130.53611, 54.802780000000006], [-130.53610895273684, 54.80275447679924], [-130.5361101894673, 54.8027534043494], [-131.08581823797215, 55.17890615500204], [-131.9672114671423, 55.497775580459006], [-132.2500107428595, 56.3699962428974], [-133.53918108435641, 57.17888743756214], [-134.07806292029608, 58.12306753196691], [-135.0382110322791, 58.18771474876394], [-136.62806230995471, 58.21220937767043], [-137.800006279686, 58.49999542910376], [-139.867787041413, 59.53776154238915], [-140.825273817133, 59.727517401765056], [-142.57444353556446, 60.08444651960497], [-143.9588809948799, 59.999180406323376], [-145.92555681682788, 60.45860972761426], [-147.11437394914665, 60.884656073644635], [-148.22430620012761, 60.67298940697714], [-148.01806555885082, 59.97832896589364], [-148.57082251686086, 59.914172675203304], [-149.72785783587585, 59.70565827090553], [-150.60824337461642, 59.368211168039466], [-151.7163927886833, 59.15582103131993], [-151.85943315326722, 59.744984035879554], [-151.40971900124717, 60.72580272077937], [-150.3469414947325, 61.03358755150987], [-150.62111080625704, 61.2844249538544], [-151.89583919981683, 60.727197984451266], [-152.57832984109558, 60.061657212964235], [-154.01917212625764, 59.35027944603428], [-153.28751135965317, 58.86472768821977], [-154.23249243875847, 58.14637360293051], [-155.3074914215102, 57.727794501366304], [-156.30833472392305, 57.422774359763594], [-156.55609737854638, 56.97998484967064], [-158.11721655986779, 56.46360809999419], [-158.43332129619714, 55.99415355083852], [-159.60332739971741, 55.56668610292013], [-160.28971961163427, 55.643580634170576], [-161.22304765525777, 55.364734605523495], [-162.23776607974105, 55.02418691672011], [-163.06944658104638, 54.68973704692712], [-164.78556922102717, 54.40417308208214], [-164.94222632552007, 54.57222483989534], [-163.84833960676565, 55.03943146424609], [-162.87000139061595, 55.34804311789321], [-161.80417497459607, 55.89498647727038], [-160.5636047027812, 56.00805451112501], [-160.07055986228448, 56.41805532492873], [-158.6844429189195, 57.01667511659787], [-158.46109737855403, 57.21692129172885], [-157.72277035218391, 57.57000051536306], [-157.55027442119362, 58.328326321030204], [-157.04167497457698, 58.91888458926172], [-158.19473120830554, 58.61580231386978], [-158.51721798402303, 58.78778148053732], [-159.0586061269288, 58.42418610293163], [-159.71166704001737, 58.93139028587632], [-159.98128882550017, 58.572549140041644], [-160.3552711659965, 59.07112335879361], [-161.3550034251151, 58.670837714260756], [-161.96889360252632, 58.67166453717738], [-162.05498653872465, 59.26692536074745], [-161.8741707021354, 59.63362132429057], [-162.51805904849212, 59.98972361921386], [-163.8183414378202, 59.79805573184336], [-164.66221757714652, 60.26748444278263], [-165.3463877024748, 60.50749563256238], [-165.3508318756519, 61.073895168697504], [-166.12137915755602, 61.50001902937623], [-165.73445187077058, 62.074996853271784], [-164.9191786367179, 62.63307648380794], [-164.56250790103934, 63.14637848576302], [-163.75333248599708, 63.21944896102377], [-163.06722449445786, 63.05945872664802], [-162.26055538638175, 63.54193573674115], [-161.53444983624863, 63.455816962326764], [-160.7725066803211, 63.766108100023246], [-160.9583351308426, 64.22279857040274], [-161.51806840721218, 64.40278758407527], [-160.77777767641481, 64.78860382756642], [-161.39192623598765, 64.77723501246231], [-162.4530500966689, 64.55944468856819], [-162.75778601789415, 64.33860545516876], [-163.54639421288428, 64.5591604681905], [-164.96082984114514, 64.44694509546883], [-166.42528825586447, 64.68667206487066], [-166.8450042389391, 65.08889557561452], [-168.11056006576715, 65.66999705673675], [-166.70527116602193, 66.08831777613938], [-164.47470964257548, 66.5766600612975], [-163.65251176659564, 66.5766600612975], [-163.78860165103623, 66.07720734319668], [-161.67777442121013, 66.11611969671242], [-162.48971452538004, 66.73556509059512], [-163.71971696679117, 67.11639455837008], [-164.4309913808565, 67.61633820257777], [-165.39028683170673, 68.04277212185025], [-166.76444068099605, 68.35887685817966], [-166.20470740462667, 68.88303091091615], [-164.43081051334346, 68.91553538682774], [-163.1686136546145, 69.37111481391287], [-162.930566169262, 69.85806183539927], [-161.90889726463556, 70.33332998318764], [-160.93479651593367, 70.44768992784958], [-159.03917578838713, 70.89164215766891], [-158.11972286683394, 70.82472117785102], [-156.58082455139808, 71.35776357694175], [-155.06779029032427, 71.14777639432367], [-154.3441652089412, 70.69640859647018], [-153.9000062733926, 70.88998851183567], [-152.21000606993528, 70.82999217394485], [-152.27000240782613, 70.60000621202983], [-150.73999243874448, 70.43001658800569], [-149.7200030181675, 70.53001048449045], [-147.61336157935705, 70.2140349392418], [-145.68998980022533, 70.12000967068673], [-144.9200109590764, 69.98999176704046], [-143.58944618042523, 70.15251414659832], [-142.07251034871348, 69.85193817817265], [-140.98598752156073, 69.71199839952635], [-140.98598761037601, 69.71199839952635]]], [[[-171.73165686753944, 63.782515367275934], [-171.1144335602453, 63.59219106714495], [-170.4911124339407, 63.694975490973505], [-169.6825054596536, 63.43111562769119], [-168.6894394603007, 63.297506212000556], [-168.77194088445466, 63.18859813094544], [-169.5294398672051, 62.97693146427792], [-170.29055620021595, 63.194437567794424], [-170.67138566799093, 63.3758218451389], [-171.55306311753873, 63.317789211675105], [-171.79111060289122, 63.40584585230046], [-171.73165686753944, 63.782515367275934]]]], &quot;type&quot;: &quot;MultiPolygon&quot;}, &quot;id&quot;: &quot;30&quot;, &quot;properties&quot;: {&quot;Country_std&quot;: &quot;United States&quot;, &quot;ISO3&quot;: &quot;USA&quot;, &quot;n_unicorns&quot;: 463, &quot;total_val&quot;: 1327.83}, &quot;type&quot;: &quot;Feature&quot;}, {&quot;bbox&quot;: [16.344976840895242, -34.81916635512371, 32.830120477028885, -22.091312758067588], &quot;geometry&quot;: {&quot;coordinates&quot;: [[[16.344976840895242, -28.5767050106977], [16.824017368240902, -28.08216155366447], [17.218928663815404, -28.35594329194681], [17.387497185951503, -28.78351409272978], [17.83615197110953, -28.85637786226132], [18.464899122804752, -29.04546192801728], [19.002127312911085, -28.972443129188868], [19.894734327888614, -28.461104831660776], [19.895767856534434, -24.76779021576059], [20.16572553882719, -24.91796192800077], [20.75860924651184, -25.86813648855145], [20.66647016773544, -26.477453301704923], [20.88960900237174, -26.828542982695915], [21.605896030369394, -26.726533705351756], [22.105968865657868, -26.280256036079138], [22.57953169118059, -25.979447523708146], [22.8242712745149, -25.50045867279477], [23.312096795350186, -25.26868987396572], [23.73356977712271, -25.390129489851617], [24.211266717228796, -25.670215752873574], [25.025170525825786, -25.7196700985769], [25.66466637543772, -25.486816094669713], [25.76584882986521, -25.17484547292368], [25.94165205252216, -24.69637338633322], [26.4857532081233, -24.616326592713104], [26.786406691197413, -24.240690606383485], [27.119409620886245, -23.574323011979775], [28.01723595552525, -22.82775359465908], [29.43218834810904, -22.091312758067588], [29.839036899542972, -22.102216485281176], [30.322883335091774, -22.271611830333935], [30.65986535006709, -22.151567478119915], [31.19140913262129, -22.2515096981724], [31.670397983534656, -23.658969008073864], [31.930588820124253, -24.36941659922254], [31.75240848158188, -25.484283949487413], [31.83777794772806, -25.84333180105135], [31.333157586397903, -25.66019052500895], [31.04407962415715, -25.731452325139443], [30.949666782359913, -26.02264902110415], [30.67660851412964, -26.398078301704608], [30.68596194837448, -26.743845310169533], [31.28277306491333, -27.285879408478998], [31.86806033705108, -27.177927341421277], [32.07166548028107, -26.73382008230491], [32.830120477028885, -26.742191664336197], [32.580264926897684, -27.470157566031816], [32.46213260267845, -28.301011244420557], [32.20338870619304, -28.75240488049007], [31.521001417778876, -29.257386976846256], [31.325561150851, -29.401977634398914], [30.901762729625347, -29.909956963828037], [30.62281334811382, -30.42377573010613], [30.05571618014278, -31.140269463832958], [28.92555260591954, -32.1720411109725], [28.2197558936771, -32.771952813448856], [27.464608188595975, -33.2269637997788], [26.419452345492825, -33.61495045342619], [25.90966434093349, -33.6670402971764], [25.780628289500697, -33.94464609144834], [25.172861769315972, -33.796851495093584], [24.677853224392123, -33.98717579522455], [23.594043409934642, -33.794474379208154], [22.988188917744736, -33.91643075941698], [22.574157342222236, -33.86408253350531], [21.542799106541025, -34.258838799782936], [20.689052768647002, -34.417175388325234], [20.071261020597632, -34.79513681410799], [19.61640506356457, -34.81916635512371], [19.193278435958717, -34.46259897230979], [18.85531456876987, -34.444305515278465], [18.42464318204938, -33.99787281670897], [18.377410922934615, -34.13652068454807], [18.24449913907992, -33.86775156019803], [18.250080193767445, -33.28143075941444], [17.92519046394844, -32.61129078545343], [18.247909783611192, -32.42913136162457], [18.22176150887148, -31.66163298922567], [17.56691775886887, -30.725721123987547], [17.064416131262703, -29.878641045859162], [17.062917514726223, -29.875953871379984], [16.344976840895242, -28.5767050106977]], [[28.978262566857243, -28.95559661226171], [28.541700066855498, -28.64750172293757], [28.074338413207784, -28.851468601193588], [27.532511020627478, -29.24271087007536], [26.999261915807637, -29.875953871379984], [27.749397006956485, -30.645105889612225], [28.107204624145425, -30.54573211031495], [28.29106937023991, -30.2262167294543], [28.84839969250774, -30.070050551068256], [29.018415154748027, -29.74376555757737], [29.32516645683259, -29.257386976846256], [28.978262566857243, -28.95559661226171]]], &quot;type&quot;: &quot;Polygon&quot;}, &quot;id&quot;: &quot;31&quot;, &quot;properties&quot;: {&quot;Country_std&quot;: &quot;South Africa&quot;, &quot;ISO3&quot;: &quot;ZAF&quot;, &quot;n_unicorns&quot;: 2, &quot;total_val&quot;: 2.59}, &quot;type&quot;: &quot;Feature&quot;}], &quot;type&quot;: &quot;FeatureCollection&quot;});\n",
       "\n",
       "        \n",
       "    \n",
       "    geo_json_8053dd15cb12bc672476e1977dfaa776.bindTooltip(\n",
       "    function(layer){\n",
       "    let div = L.DomUtil.create(&#x27;div&#x27;);\n",
       "    \n",
       "    let handleObject = feature=&gt;typeof(feature)==&#x27;object&#x27; ? JSON.stringify(feature) : feature;\n",
       "    let fields = [&quot;ISO3&quot;, &quot;Country_std&quot;, &quot;n_unicorns&quot;, &quot;total_val&quot;];\n",
       "    let aliases = [&quot;ISO3&quot;, &quot;Country_std&quot;, &quot;n_unicorns&quot;, &quot;total_val&quot;];\n",
       "    let table = &#x27;&lt;table&gt;&#x27; +\n",
       "        String(\n",
       "        fields.map(\n",
       "        (v,i)=&gt;\n",
       "        `&lt;tr&gt;\n",
       "            &lt;th&gt;${aliases[i]}&lt;/th&gt;\n",
       "            \n",
       "            &lt;td&gt;${handleObject(layer.feature.properties[v])}&lt;/td&gt;\n",
       "        &lt;/tr&gt;`).join(&#x27;&#x27;))\n",
       "    +&#x27;&lt;/table&gt;&#x27;;\n",
       "    div.innerHTML=table;\n",
       "    \n",
       "    return div\n",
       "    }\n",
       "    ,{\n",
       "  &quot;sticky&quot;: true,\n",
       "  &quot;className&quot;: &quot;foliumtooltip&quot;,\n",
       "});\n",
       "                     \n",
       "    \n",
       "            geo_json_8053dd15cb12bc672476e1977dfaa776.addTo(map_5a48651f7ae6ba1cf2f42e974447839d);\n",
       "        \n",
       "&lt;/script&gt;\n",
       "&lt;/html&gt;\" style=\"position:absolute;width:100%;height:100%;left:0;top:0;border:none !important;\" allowfullscreen webkitallowfullscreen mozallowfullscreen></iframe></div></div>"
      ],
      "text/plain": [
       "<folium.folium.Map at 0x1f4f0205590>"
      ]
     },
     "execution_count": 132,
     "metadata": {},
     "output_type": "execute_result"
    }
   ],
   "source": [
    "unicorn_agg_gdf.explore()"
   ]
  },
  {
   "cell_type": "code",
   "execution_count": null,
   "id": "7aeba908",
   "metadata": {},
   "outputs": [
    {
     "data": {
      "text/plain": [
       "np.int64(3)"
      ]
     },
     "metadata": {},
     "output_type": "display_data"
    }
   ],
   "source": [
    "unicorn_agg_gdf.geometry.isna().sum()"
   ]
  },
  {
   "cell_type": "code",
   "execution_count": null,
   "id": "d211ee74",
   "metadata": {},
   "outputs": [
    {
     "data": {
      "application/vnd.plotly.v1+json": {
       "config": {
        "plotlyServerURL": "https://plot.ly"
       },
       "data": [
        {
         "coloraxis": "coloraxis",
         "customdata": {
          "bdata": "AAAAAAAACEAAAAAAAAASQAAAAAAAAPA/mpmZmZmZA0AAAAAAAAAYQM3MzMzMTElAAAAAAAAAAEA+CtejcD0XQAAAAAAAAABAMzMzMzMzHkAAAAAAAAAuQGZmZmZmhk5AAAAAAAAALkA9CtejcN1CQAAAAAAAABBAZmZmZmZmFkAAAAAAAADwPwAAAAAAAPg/AAAAAAAAAECamZmZmZkZQAAAAAAAADdAuB6F61GoUEAAAAAAAAAAQJqZmZmZmQVAAAAAAAAAEEDNzMzMzMwXQAAAAAAAAABAAAAAAAAACEAAAAAAAAAyQD4K16NwHUFAAAAAAAAA8D8AAAAAAADwPwAAAAAAABBAZmZmZmbmOkAAAAAAAABIQGZmZmZmXmFAAAAAAAAACEDNzMzMzMwYQAAAAAAAADVAKVyPwvXoRUAAAAAAAAAYQKRwPQrXoyFAAAAAAAAA8D8fhetRuB4SQAAAAAAAABRAZmZmZmZmLkAAAAAAAADwP83MzMzMzPQ/AAAAAAAAFECamZmZmZksQAAAAAAAAAhAZmZmZmZmDkAAAAAAAAAAQAAAAAAAAAhAAAAAAAAAJkDNzMzMzMwtQAAAAAAAAAhA9ihcj8L1KEAAAAAAAAAAQAAAAAAAAARAAAAAAADwfEC4HoXrUb+UQAAAAAAAAABAuB6F61G4BEA=",
          "dtype": "f8",
          "shape": "32, 2"
         },
         "featureidkey": "properties.ISO3",
         "geojson": {
          "features": [
           {
            "geometry": {
             "coordinates": [
              [
               [
                51.57951867046327,
                24.245497137951105
               ],
               [
                51.757440626844186,
                24.29407298430547
               ],
               [
                51.79438927593287,
                24.019826158132506
               ],
               [
                52.57708051942561,
                24.177439276622707
               ],
               [
                53.404006788960146,
                24.15131684009917
               ],
               [
                54.00800092958758,
                24.121757920828216
               ],
               [
                54.69302371604863,
                24.79789236093509
               ],
               [
                55.43902469261414,
                25.43914520924494
               ],
               [
                56.07082075381456,
                26.05546417897398
               ],
               [
                56.261041701080956,
                25.71460643157677
               ],
               [
                56.396847365144005,
                24.924732163995486
               ],
               [
                55.88623253766801,
                24.920830593357447
               ],
               [
                55.804118686756226,
                24.269604193615265
               ],
               [
                55.98121382022046,
                24.13054291431783
               ],
               [
                55.52863162620824,
                23.933604030853502
               ],
               [
                55.525841098864475,
                23.524869289640932
               ],
               [
                55.234489373602884,
                23.110992743415324
               ],
               [
                55.208341098863194,
                22.708329982997046
               ],
               [
                55.006803012924905,
                22.496947536707136
               ],
               [
                52.000733270074335,
                23.00115448657894
               ],
               [
                51.61770755392698,
                24.01421926522883
               ],
               [
                51.57951867046327,
                24.245497137951105
               ]
              ]
             ],
             "type": "Polygon"
            },
            "id": "0",
            "properties": {
             "Country_std": "United Arab Emirates",
             "ISO3": "ARE",
             "n_unicorns": 3,
             "total_val": 4.5
            },
            "type": "Feature"
           },
           {
            "geometry": {
             "coordinates": [
              [
               [
                [
                 -68.63401022758323,
                 -52.63637045887449
                ],
                [
                 -68.25,
                 -53.1
                ],
                [
                 -67.75,
                 -53.85
                ],
                [
                 -66.45,
                 -54.45
                ],
                [
                 -65.05,
                 -54.699999999999996
                ],
                [
                 -65.5,
                 -55.2
                ],
                [
                 -66.45,
                 -55.25
                ],
                [
                 -66.95992000000001,
                 -54.896810000000016
                ],
                [
                 -67.56244,
                 -54.87001
                ],
                [
                 -68.63335000000001,
                 -54.869499999999995
                ],
                [
                 -68.63401022758323,
                 -52.63637045887449
                ]
               ]
              ],
              [
               [
                [
                 -57.62513342958296,
                 -30.21629485445426
                ],
                [
                 -57.87493730328188,
                 -31.016556084926208
                ],
                [
                 -58.14244035504076,
                 -32.044503676076154
                ],
                [
                 -58.13264767112145,
                 -33.040566908502015
                ],
                [
                 -58.349611172098875,
                 -33.26318897881541
                ],
                [
                 -58.42707414410439,
                 -33.909454441057576
                ],
                [
                 -58.49544206402655,
                 -34.43148976007008
                ],
                [
                 -57.22582963726366,
                 -35.28802662530788
                ],
                [
                 -57.36235877137878,
                 -35.977390232081476
                ],
                [
                 -56.73748735210545,
                 -36.41312590916655
                ],
                [
                 -56.78828528504836,
                 -36.901571547189334
                ],
                [
                 -57.74915686708346,
                 -38.18387053807989
                ],
                [
                 -59.23185706240189,
                 -38.720220228837235
                ],
                [
                 -61.23744523786564,
                 -38.9284245745412
                ],
                [
                 -62.33595699731013,
                 -38.827707208004334
                ],
                [
                 -62.125763108962936,
                 -39.42410491308485
                ],
                [
                 -62.330530971919494,
                 -40.17258635840034
                ],
                [
                 -62.145994432205214,
                 -40.67689666113672
                ],
                [
                 -62.745802781816984,
                 -41.0287614886121
                ],
                [
                 -63.77049475773255,
                 -41.16678923926369
                ],
                [
                 -64.73208980981973,
                 -40.80267709733515
                ],
                [
                 -65.11803524439158,
                 -41.06431487402891
                ],
                [
                 -64.97856055363582,
                 -42.05800099056934
                ],
                [
                 -64.3034079657425,
                 -42.35901620866951
                ],
                [
                 -63.75594784204239,
                 -42.043686618824495
                ],
                [
                 -63.458059048095876,
                 -42.563138116222405
                ],
                [
                 -64.37880388045633,
                 -42.87355844499969
                ],
                [
                 -65.18180396183975,
                 -43.495380954767796
                ],
                [
                 -65.32882341171013,
                 -44.501366062193696
                ],
                [
                 -65.5652689276616,
                 -45.036785577169795
                ],
                [
                 -66.50996578638934,
                 -45.03962778094586
                ],
                [
                 -67.29379391139247,
                 -45.55189625425519
                ],
                [
                 -67.58054643418008,
                 -46.30177296324257
                ],
                [
                 -66.59706641301729,
                 -47.033924655953825
                ],
                [
                 -65.64102657740149,
                 -47.23613453551193
                ],
                [
                 -65.98508826360079,
                 -48.133289076531135
                ],
                [
                 -67.16617896184769,
                 -48.697337334996945
                ],
                [
                 -67.81608761256643,
                 -49.86966887797038
                ],
                [
                 -68.72874508327321,
                 -50.26421843851883
                ],
                [
                 -69.13853919134777,
                 -50.732510267947795
                ],
                [
                 -68.81556148952356,
                 -51.771104011594126
                ],
                [
                 -68.14999487982038,
                 -52.34998340612768
                ],
                [
                 -68.57154537624133,
                 -52.299443855346226
                ],
                [
                 -69.49836218939609,
                 -52.14276091263727
                ],
                [
                 -71.91480383979638,
                 -52.0090223058659
                ],
                [
                 -72.32940385607407,
                 -51.42595631287243
                ],
                [
                 -72.30997351753234,
                 -50.67700977966632
                ],
                [
                 -72.97574683296469,
                 -50.741450290734285
                ],
                [
                 -73.32805091011453,
                 -50.378785088909915
                ],
                [
                 -73.4154357571201,
                 -49.31843637471297
                ],
                [
                 -72.64824744331494,
                 -48.87861825947683
                ],
                [
                 -72.33116085477201,
                 -48.2442383766618
                ],
                [
                 -72.44735531278027,
                 -47.73853281025352
                ],
                [
                 -71.91725847033024,
                 -46.88483814879177
                ],
                [
                 -71.55200944689128,
                 -45.5607329241771
                ],
                [
                 -71.65931555854536,
                 -44.973688653341426
                ],
                [
                 -71.22277889675976,
                 -44.784242852559416
                ],
                [
                 -71.32980078803622,
                 -44.407521661151655
                ],
                [
                 -71.79362260607193,
                 -44.207172133156064
                ],
                [
                 -71.46405615913051,
                 -43.787611179378345
                ],
                [
                 -71.91542395698389,
                 -43.40856454851745
                ],
                [
                 -72.14889807807856,
                 -42.254888197601375
                ],
                [
                 -71.7468037584155,
                 -42.05138640723598
                ],
                [
                 -71.91573401557763,
                 -40.83233936947069
                ],
                [
                 -71.68076127794649,
                 -39.808164157878046
                ],
                [
                 -71.41351660834906,
                 -38.91602223079114
                ],
                [
                 -70.81466427273469,
                 -38.55299529394074
                ],
                [
                 -71.11862504747549,
                 -37.57682748794724
                ],
                [
                 -71.12188066270987,
                 -36.65812387466232
                ],
                [
                 -70.36476925320164,
                 -36.00508879978992
                ],
                [
                 -70.38804948594913,
                 -35.16968759535949
                ],
                [
                 -69.81730912950152,
                 -34.1935714657983
                ],
                [
                 -69.81477698431922,
                 -33.273886000299825
                ],
                [
                 -70.0743993801536,
                 -33.09120981214805
                ],
                [
                 -70.53506893581951,
                 -31.36501026787031
                ],
                [
                 -69.91900834825194,
                 -30.33633920666828
                ],
                [
                 -70.01355038112992,
                 -29.367922865518572
                ],
                [
                 -69.65613033718317,
                 -28.459141127233686
                ],
                [
                 -69.00123491074825,
                 -27.52121388113618
                ],
                [
                 -68.29554155137043,
                 -26.89933969493578
                ],
                [
                 -68.59479977077268,
                 -26.506908868111296
                ],
                [
                 -68.38600114609736,
                 -26.185016371365215
                ],
                [
                 -68.41765296087614,
                 -24.51855478281688
                ],
                [
                 -67.32844295924417,
                 -24.02530323659095
                ],
                [
                 -66.9852339341777,
                 -22.98634856536284
                ],
                [
                 -67.1066735500636,
                 -22.735924574476417
                ],
                [
                 -66.27333940292485,
                 -21.83231047942072
                ],
                [
                 -64.96489213729461,
                 -22.075861504812327
                ],
                [
                 -64.37702104354226,
                 -22.79809132252354
                ],
                [
                 -63.986838141522476,
                 -21.99364430103595
                ],
                [
                 -62.84646847192156,
                 -22.03498544686945
                ],
                [
                 -62.685057135657885,
                 -22.249029229422387
                ],
                [
                 -60.846564704009914,
                 -23.880712579038292
                ],
                [
                 -60.02896603050403,
                 -24.032796319273274
                ],
                [
                 -58.80712846539498,
                 -24.77145924245331
                ],
                [
                 -57.77721716981794,
                 -25.16233977630904
                ],
                [
                 -57.63366004091113,
                 -25.60365650808164
                ],
                [
                 -58.61817359071975,
                 -27.123718763947096
                ],
                [
                 -57.60975969097614,
                 -27.395898532828387
                ],
                [
                 -56.486701626192996,
                 -27.548499037386293
                ],
                [
                 -55.69584550639816,
                 -27.387837009390864
                ],
                [
                 -54.78879492859505,
                 -26.621785577096134
                ],
                [
                 -54.625290696823576,
                 -25.739255466415514
                ],
                [
                 -54.13004960795439,
                 -25.547639255477254
                ],
                [
                 -53.628348965048744,
                 -26.124865004177472
                ],
                [
                 -53.64873531758789,
                 -26.92347258881609
                ],
                [
                 -54.490725267135524,
                 -27.47475676850579
                ],
                [
                 -55.16228634298457,
                 -27.881915378533463
                ],
                [
                 -56.29089962423908,
                 -28.852760512000895
                ],
                [
                 -57.62513342958296,
                 -30.21629485445426
                ]
               ]
              ]
             ],
             "type": "MultiPolygon"
            },
            "id": "1",
            "properties": {
             "Country_std": "Argentina",
             "ISO3": "ARG",
             "n_unicorns": 1,
             "total_val": 2.45
            },
            "type": "Feature"
           },
           {
            "geometry": {
             "coordinates": [
              [
               [
                [
                 147.68925947488418,
                 -40.808258152022674
                ],
                [
                 148.289067824496,
                 -40.87543751400211
                ],
                [
                 148.35986453673587,
                 -42.06244516374644
                ],
                [
                 148.01730146707303,
                 -42.40702361426865
                ],
                [
                 147.91405195535384,
                 -43.211522312188535
                ],
                [
                 147.56456424376393,
                 -42.937688897473905
                ],
                [
                 146.87034305235488,
                 -43.6345972633621
                ],
                [
                 146.66332726459365,
                 -43.58085377377856
                ],
                [
                 146.04837772032033,
                 -43.549744561538844
                ],
                [
                 145.4319295595106,
                 -42.693776137056254
                ],
                [
                 145.29509036680173,
                 -42.033609714527564
                ],
                [
                 144.71807132383066,
                 -41.16255177181576
                ],
                [
                 144.7437545106797,
                 -40.70397511165767
                ],
                [
                 145.3979781434948,
                 -40.79254851660594
                ],
                [
                 146.3641207216237,
                 -41.13769540788336
                ],
                [
                 146.90858361225088,
                 -41.00054615658073
                ],
                [
                 147.68925947488418,
                 -40.808258152022674
                ]
               ]
              ],
              [
               [
                [
                 126.14871382050114,
                 -32.21596607842059
                ],
                [
                 125.08862348846566,
                 -32.72875131605285
                ],
                [
                 124.22164798390492,
                 -32.95948658623607
                ],
                [
                 124.02894656788851,
                 -33.4838473447017
                ],
                [
                 123.65966678273077,
                 -33.89017913181271
                ],
                [
                 122.81103641163364,
                 -33.914467054989885
                ],
                [
                 122.1830644064228,
                 -34.0034021949642
                ],
                [
                 121.29919070850259,
                 -33.821036065406176
                ],
                [
                 120.58026818245806,
                 -33.93017669040661
                ],
                [
                 119.89369510302822,
                 -33.9760653622818
                ],
                [
                 119.29889936734875,
                 -34.50936614353394
                ],
                [
                 119.00734093635802,
                 -34.46414926527854
                ],
                [
                 118.5057178081008,
                 -34.74681934991509
                ],
                [
                 118.02497195848949,
                 -35.0647327613747
                ],
                [
                 117.29550744025741,
                 -35.02545867283287
                ],
                [
                 116.62510908413495,
                 -35.02509693780683
                ],
                [
                 115.56434695847966,
                 -34.38642791111157
                ],
                [
                 115.02680870977957,
                 -34.19651702243893
                ],
                [
                 115.04861616420676,
                 -33.623425388322055
                ],
                [
                 115.54512332566708,
                 -33.48725798923297
                ],
                [
                 115.7146737000167,
                 -33.25957162855497
                ],
                [
                 115.67937869676135,
                 -32.900368747694166
                ],
                [
                 115.80164513556394,
                 -32.205062351207005
                ],
                [
                 115.68961063035516,
                 -31.612437025683807
                ],
                [
                 115.160909051577,
                 -30.601594333622465
                ],
                [
                 114.99704308477948,
                 -30.03072478609414
                ],
                [
                 115.04003787644629,
                 -29.46109547294082
                ],
                [
                 114.64197431850201,
                 -28.81023080822467
                ],
                [
                 114.6164978373821,
                 -28.51639861421308
                ],
                [
                 114.17357913620847,
                 -28.11807667410732
                ],
                [
                 114.04888390508816,
                 -27.334765313427106
                ],
                [
                 113.47749759323692,
                 -26.543134047147902
                ],
                [
                 113.33895307826242,
                 -26.116545098578484
                ],
                [
                 113.77835778204022,
                 -26.549025160429174
                ],
                [
                 113.44096235560656,
                 -25.621278171493167
                ],
                [
                 113.93690107631167,
                 -25.91123463308287
                ],
                [
                 114.23285200404723,
                 -26.29844614024588
                ],
                [
                 114.21616051641698,
                 -25.786281019801123
                ],
                [
                 113.7212553243577,
                 -24.99893889740214
                ],
                [
                 113.62534386602397,
                 -24.683971042583167
                ],
                [
                 113.39352339076264,
                 -24.384764499613226
                ],
                [
                 113.5020438985756,
                 -23.806350192970285
                ],
                [
                 113.70699262904515,
                 -23.56021534596409
                ],
                [
                 113.84341841029567,
                 -23.059987481378755
                ],
                [
                 113.73655154831609,
                 -22.47547535572538
                ],
                [
                 114.1497563009219,
                 -21.75588103606104
                ],
                [
                 114.22530724493262,
                 -22.517488295178673
                ],
                [
                 114.6477620789187,
                 -21.829519952076954
                ],
                [
                 115.46016727097924,
                 -21.495173435148537
                ],
                [
                 115.94737267462702,
                 -21.068687839443704
                ],
                [
                 116.71161543179153,
                 -20.701681817306824
                ],
                [
                 117.16631635952771,
                 -20.623598728113805
                ],
                [
                 117.44154503791424,
                 -20.74689869556221
                ],
                [
                 118.229558953933,
                 -20.37420826587322
                ],
                [
                 118.83608523974274,
                 -20.263310642174858
                ],
                [
                 118.98780724495168,
                 -20.044202569257315
                ],
                [
                 119.25249393115067,
                 -19.952941989829867
                ],
                [
                 119.80522505094451,
                 -19.976506442954964
                ],
                [
                 120.85622033089668,
                 -19.683707777589206
                ],
                [
                 121.39985639860717,
                 -19.239755547769725
                ],
                [
                 121.65513797412902,
                 -18.70531788500717
                ],
                [
                 122.24166548064179,
                 -18.197648614171804
                ],
                [
                 122.28662397673571,
                 -17.798603204013958
                ],
                [
                 122.3127722514754,
                 -17.25496713630345
                ],
                [
                 123.01257449757193,
                 -16.405199883695886
                ],
                [
                 123.43378909718304,
                 -17.268558037996215
                ],
                [
                 123.85934451710659,
                 -17.069035332917288
                ],
                [
                 123.50324222218329,
                 -16.596506036040402
                ],
                [
                 123.81707319549184,
                 -16.111316013252
                ],
                [
                 124.25828657439985,
                 -16.327943617419535
                ],
                [
                 124.37972619028575,
                 -15.56705982835399
                ],
                [
                 124.92615278534004,
                 -15.07510019293536
                ],
                [
                 125.16727501841387,
                 -14.680395603090028
                ],
                [
                 125.67008670461381,
                 -14.510070082256014
                ],
                [
                 125.68579634003055,
                 -14.23065561285385
                ],
                [
                 126.12514936737608,
                 -14.347340996968903
                ],
                [
                 126.14282270721986,
                 -14.095986830301227
                ],
                [
                 126.58258914602374,
                 -13.952791436420448
                ],
                [
                 127.06586714081732,
                 -13.817967624570954
                ],
                [
                 127.80463341686196,
                 -14.27690601975508
                ],
                [
                 128.35968997610894,
                 -14.869169610252243
                ],
                [
                 128.98554324759584,
                 -14.875990899314765
                ],
                [
                 129.62147342337965,
                 -14.969783623924522
                ],
                [
                 129.40960005098293,
                 -14.42066985439107
                ],
                [
                 129.8886405783286,
                 -13.618703301653492
                ],
                [
                 130.33946577364293,
                 -13.357375583553484
                ],
                [
                 130.18350630098604,
                 -13.107520033422276
                ],
                [
                 130.61779503796697,
                 -12.536392103732489
                ],
                [
                 131.22349450086,
                 -12.183648776908166
                ],
                [
                 131.73509118054955,
                 -12.302452894747184
                ],
                [
                 132.5752982931831,
                 -12.114040622611007
                ],
                [
                 132.55721154188097,
                 -11.603012383676678
                ],
                [
                 131.82469811414364,
                 -11.27378183354515
                ],
                [
                 132.3572237489114,
                 -11.128519382372696
                ],
                [
                 133.01956058159635,
                 -11.376411228076812
                ],
                [
                 133.55084598198908,
                 -11.786515394745116
                ],
                [
                 134.39306847548204,
                 -12.042365411022182
                ],
                [
                 134.67863244032696,
                 -11.941182956594693
                ],
                [
                 135.29849124566795,
                 -12.248606052299046
                ],
                [
                 135.8826933127276,
                 -11.962266940969776
                ],
                [
                 136.2583809754895,
                 -12.049341729381588
                ],
                [
                 136.49247521377168,
                 -11.857208754120398
                ],
                [
                 136.951620314685,
                 -12.351958916882793
                ],
                [
                 136.6851249533558,
                 -12.887223402562022
                ],
                [
                 136.3054065288751,
                 -13.291229750219884
                ],
                [
                 135.96175825413417,
                 -13.324509372615852
                ],
                [
                 136.07761681533253,
                 -13.724278252825783
                ],
                [
                 135.78383629775323,
                 -14.2239893530882
                ],
                [
                 135.4286641786112,
                 -14.715432224183912
                ],
                [
                 135.50018436090318,
                 -14.997740573794424
                ],
                [
                 136.2951745952813,
                 -15.55026498785913
                ],
                [
                 137.06536014215942,
                 -15.87076222093333
                ],
                [
                 137.5804708192448,
                 -16.21508228929408
                ],
                [
                 138.30321740127897,
                 -16.807604261952704
                ],
                [
                 138.58516401586343,
                 -16.806622409739155
                ],
                [
                 139.10854292211548,
                 -17.06267913174539
                ],
                [
                 139.2605749859182,
                 -17.371600843986208
                ],
                [
                 140.21524539607827,
                 -17.710804945550066
                ],
                [
                 140.87546349503924,
                 -17.369068698803908
                ],
                [
                 141.07111046769626,
                 -16.83204721442676
                ],
                [
                 141.27409549373874,
                 -16.38887013109165
                ],
                [
                 141.39822228410384,
                 -15.840531508042588
                ],
                [
                 141.70218305884464,
                 -15.044921156476901
                ],
                [
                 141.56338016170866,
                 -14.561333103089552
                ],
                [
                 141.6355204611881,
                 -14.270394789286307
                ],
                [
                 141.5198686057189,
                 -13.698078301653808
                ],
                [
                 141.65092003801107,
                 -12.944687595270585
                ],
                [
                 141.8426912782462,
                 -12.741547539931231
                ],
                [
                 141.68699018775084,
                 -12.407614434461145
                ],
                [
                 141.9286291851476,
                 -11.877465915578817
                ],
                [
                 142.11848839738798,
                 -11.328042087451612
                ],
                [
                 142.1437064963464,
                 -11.042736504768186
                ],
                [
                 142.51526004452495,
                 -10.668185723516686
                ],
                [
                 142.797310011974,
                 -11.157354831591562
                ],
                [
                 142.86676313697427,
                 -11.784706719614903
                ],
                [
                 143.11594689348573,
                 -11.905629571177885
                ],
                [
                 143.15863162655876,
                 -12.325655612846232
                ],
                [
                 143.5221236512998,
                 -12.834358412327433
                ],
                [
                 143.5971578309876,
                 -13.400422051652612
                ],
                [
                 143.5618111513,
                 -13.763655694232192
                ],
                [
                 143.9220992372389,
                 -14.548310642151996
                ],
                [
                 144.56371382057483,
                 -14.171176039285903
                ],
                [
                 144.89490807513346,
                 -14.594457696188641
                ],
                [
                 145.3747237489635,
                 -14.98497649501833
                ],
                [
                 145.27199100156724,
                 -15.428205254785732
                ],
                [
                 145.4852596376358,
                 -16.28567229580478
                ],
                [
                 145.637033319277,
                 -16.78491830817657
                ],
                [
                 145.88890425026761,
                 -16.906926364817686
                ],
                [
                 146.16030887266453,
                 -17.761654554925272
                ],
                [
                 146.06367394427872,
                 -18.28007252367734
                ],
                [
                 146.38747846901964,
                 -18.958274021075887
                ],
                [
                 147.4710815777479,
                 -19.48072275154673
                ],
                [
                 148.17760176004242,
                 -19.9559392229028
                ],
                [
                 148.84841352762322,
                 -20.391209812097244
                ],
                [
                 148.71746544819558,
                 -20.63346892668155
                ],
                [
                 149.28942020080206,
                 -21.260510756111135
                ],
                [
                 149.6783370302307,
                 -22.342511895438385
                ],
                [
                 150.07738244038853,
                 -22.122783705333337
                ],
                [
                 150.48293908101516,
                 -22.556142266532994
                ],
                [
                 150.72726525289113,
                 -22.402404880464665
                ],
                [
                 150.89955447815225,
                 -23.462236830338696
                ],
                [
                 151.60917524638427,
                 -24.07625619883074
                ],
                [
                 152.07353966695905,
                 -24.457886651306225
                ],
                [
                 152.8551973818059,
                 -25.267501316023
                ],
                [
                 153.1361621441768,
                 -26.071173191026215
                ],
                [
                 153.16194868389044,
                 -26.641319268502457
                ],
                [
                 153.0929089703485,
                 -27.260299574494514
                ],
                [
                 153.56946902894418,
                 -28.11006682710208
                ],
                [
                 153.51210818910022,
                 -28.99507740653271
                ],
                [
                 153.339095493787,
                 -29.45820159273248
                ],
                [
                 153.06924116435886,
                 -30.350240166954794
                ],
                [
                 153.08960167868184,
                 -30.923641859665423
                ],
                [
                 152.89157759013938,
                 -31.640445651986
                ],
                [
                 152.45000247620533,
                 -32.550002536755265
                ],
                [
                 151.70911746643674,
                 -33.041342054986394
                ],
                [
                 151.3439717958624,
                 -33.81602345147387
                ],
                [
                 151.0105554547152,
                 -34.31036020277793
                ],
                [
                 150.71413943908902,
                 -35.173459974916796
                ],
                [
                 150.3282198427333,
                 -35.671879164371916
                ],
                [
                 150.0752120302323,
                 -36.42020558039054
                ],
                [
                 149.9461243023672,
                 -37.10905242284121
                ],
                [
                 149.99728397033613,
                 -37.42526051203518
                ],
                [
                 149.42388227762552,
                 -37.77268116633344
                ],
                [
                 148.30462243061584,
                 -37.809061374666925
                ],
                [
                 147.38173302631526,
                 -38.21921721776752
                ],
                [
                 146.92212283751132,
                 -38.606532077795116
                ],
                [
                 146.31792199115478,
                 -39.03575652441141
                ],
                [
                 145.4896521343806,
                 -38.59376799901902
                ],
                [
                 144.87697635312816,
                 -38.41744801203915
                ],
                [
                 145.03221235573295,
                 -37.89618783951102
                ],
                [
                 144.48568240781407,
                 -38.085323581699285
                ],
                [
                 143.60997358619602,
                 -38.8094654274053
                ],
                [
                 142.74542687395297,
                 -38.538267510737555
                ],
                [
                 142.17832970598192,
                 -38.380034275059835
                ],
                [
                 141.60658165910468,
                 -38.30851409276788
                ],
                [
                 140.63857872941327,
                 -38.019332777662555
                ],
                [
                 139.99215823787426,
                 -37.402936293285094
                ],
                [
                 139.8065881695141,
                 -36.64360279718831
                ],
                [
                 139.57414757706528,
                 -36.13836231867066
                ],
                [
                 139.08280805883413,
                 -35.732754001611745
                ],
                [
                 138.12074791885635,
                 -35.61229623793939
                ],
                [
                 138.44946170466494,
                 -35.127261244447865
                ],
                [
                 138.20756432510672,
                 -34.38472258884593
                ],
                [
                 137.71917036351618,
                 -35.076825046531
                ],
                [
                 136.8294055523147,
                 -35.26053476332861
                ],
                [
                 137.35237104710848,
                 -34.7073385556441
                ],
                [
                 137.50388634658827,
                 -34.13026783624075
                ],
                [
                 137.8901160015377,
                 -33.64047861097838
                ],
                [
                 137.81032759007905,
                 -32.90000701266812
                ],
                [
                 136.9968371929404,
                 -33.752771498348615
                ],
                [
                 136.37206912653164,
                 -34.094766127256236
                ],
                [
                 135.98904341038428,
                 -34.89011809666046
                ],
                [
                 135.20821251845405,
                 -34.478670342752565
                ],
                [
                 135.23921837782916,
                 -33.94795338311502
                ],
                [
                 134.6134167827746,
                 -33.222778008763164
                ],
                [
                 134.08590376193916,
                 -32.84807219821479
                ],
                [
                 134.27390262261702,
                 -32.61723357516699
                ],
                [
                 132.99077680880976,
                 -32.01122405368019
                ],
                [
                 132.28808068250487,
                 -31.982646986622782
                ],
                [
                 131.32633060112084,
                 -31.49580331800104
                ],
                [
                 129.53579389863972,
                 -31.590422865527465
                ],
                [
                 128.24093753470225,
                 -31.948488864877852
                ],
                [
                 127.1028674663383,
                 -32.28226694105106
                ],
                [
                 126.14871382050114,
                 -32.21596607842059
                ]
               ]
              ]
             ],
             "type": "MultiPolygon"
            },
            "id": "2",
            "properties": {
             "Country_std": "Australia",
             "ISO3": "AUS",
             "n_unicorns": 6,
             "total_val": 50.6
            },
            "type": "Feature"
           },
           {
            "geometry": {
             "coordinates": [
              [
               [
                16.979666782304037,
                48.123497015976305
               ],
               [
                16.90375410326726,
                47.71486562762833
               ],
               [
                16.340584344150415,
                47.71290192320123
               ],
               [
                16.534267612380376,
                47.49617096616912
               ],
               [
                16.202298211337364,
                46.85238597267696
               ],
               [
                16.011663852612656,
                46.6836107448117
               ],
               [
                15.137091912504985,
                46.65870270444703
               ],
               [
                14.63247155117483,
                46.43181732846955
               ],
               [
                13.806475457421527,
                46.509306138691215
               ],
               [
                12.376485223040817,
                46.76755910906985
               ],
               [
                12.153088006243054,
                47.11539317482645
               ],
               [
                11.16482791509327,
                46.94157949481273
               ],
               [
                11.048555942436536,
                46.75135854754634
               ],
               [
                10.44270145024663,
                46.89354625099743
               ],
               [
                9.932448357796659,
                46.92072805438296
               ],
               [
                9.479969516649021,
                47.102809963563374
               ],
               [
                9.632931756232978,
                47.34760122332999
               ],
               [
                9.59422610844635,
                47.52505809182027
               ],
               [
                9.89606814946319,
                47.580196845075704
               ],
               [
                10.402083774465211,
                47.30248769793916
               ],
               [
                10.544504021861599,
                47.5663992376538
               ],
               [
                11.426414015354737,
                47.523766181012974
               ],
               [
                12.141357456112788,
                47.703083401065776
               ],
               [
                12.620759718484493,
                47.67238760028441
               ],
               [
                12.932626987365948,
                47.467645575544
               ],
               [
                13.02585127122049,
                47.63758352313583
               ],
               [
                12.884102817443875,
                48.28914581968786
               ],
               [
                13.243357374737,
                48.416114813829054
               ],
               [
                13.595945672264437,
                48.87717194273715
               ],
               [
                14.338897739324722,
                48.55530528420721
               ],
               [
                14.901447381254057,
                48.964401760445824
               ],
               [
                15.253415561593982,
                49.03907420510758
               ],
               [
                16.02964725105022,
                48.73389903420793
               ],
               [
                16.499282667718774,
                48.78580801044511
               ],
               [
                16.960288120194576,
                48.5969823268506
               ],
               [
                16.879982944413,
                48.47001333270947
               ],
               [
                16.979666782304037,
                48.123497015976305
               ]
              ]
             ],
             "type": "Polygon"
            },
            "id": "3",
            "properties": {
             "Country_std": "Austria",
             "ISO3": "AUT",
             "n_unicorns": 2,
             "total_val": 5.8100000000000005
            },
            "type": "Feature"
           },
           {
            "geometry": {
             "coordinates": [
              [
               [
                6.15665815595878,
                50.80372101501058
               ],
               [
                6.043073357781111,
                50.128051662794235
               ],
               [
                5.782417433300907,
                50.09032786722122
               ],
               [
                5.674051954784829,
                49.529483547557504
               ],
               [
                4.799221632515724,
                49.98537303323637
               ],
               [
                4.2860229834250845,
                49.907496649772554
               ],
               [
                3.588184441755658,
                50.37899241800356
               ],
               [
                3.1232515804256877,
                50.78036326761455
               ],
               [
                2.658422071960274,
                50.796848049515745
               ],
               [
                2.5135730322461427,
                51.14850617126183
               ],
               [
                3.3149711442285366,
                51.345780951536085
               ],
               [
                3.3150114849641596,
                51.34577662473805
               ],
               [
                3.3149711442285366,
                51.34575511331991
               ],
               [
                4.047071160507528,
                51.26725861266857
               ],
               [
                4.973991326526914,
                51.47502370869813
               ],
               [
                5.606975945670001,
                51.03729848896978
               ],
               [
                6.15665815595878,
                50.80372101501058
               ]
              ]
             ],
             "type": "Polygon"
            },
            "id": "4",
            "properties": {
             "Country_std": "Belgium",
             "ISO3": "BEL",
             "n_unicorns": 2,
             "total_val": 7.55
            },
            "type": "Feature"
           },
           {
            "geometry": {
             "coordinates": [
              [
               [
                -53.373661668498244,
                -33.768377780900764
               ],
               [
                -53.6505439927181,
                -33.20200408298183
               ],
               [
                -53.209588995971544,
                -32.727666110974724
               ],
               [
                -53.78795162618219,
                -32.047242526987624
               ],
               [
                -54.57245154480512,
                -31.494511407193748
               ],
               [
                -55.601510179249345,
                -30.853878676071393
               ],
               [
                -55.97324459494094,
                -30.883075860316303
               ],
               [
                -56.976025763564735,
                -30.109686374636127
               ],
               [
                -57.62513342958296,
                -30.21629485445426
               ],
               [
                -56.29089962423908,
                -28.852760512000895
               ],
               [
                -55.16228634298457,
                -27.881915378533463
               ],
               [
                -54.490725267135524,
                -27.47475676850579
               ],
               [
                -53.64873531758789,
                -26.92347258881609
               ],
               [
                -53.628348965048744,
                -26.124865004177472
               ],
               [
                -54.13004960795439,
                -25.547639255477254
               ],
               [
                -54.625290696823576,
                -25.739255466415514
               ],
               [
                -54.42894609233059,
                -25.162184747012166
               ],
               [
                -54.29347632507745,
                -24.570799655863965
               ],
               [
                -54.29295956075452,
                -24.02101409271073
               ],
               [
                -54.65283423523513,
                -23.83957813893396
               ],
               [
                -55.02790178080955,
                -24.00127369557523
               ],
               [
                -55.40074723979542,
                -23.956935316668805
               ],
               [
                -55.517639329639636,
                -23.571997572526637
               ],
               [
                -55.610682745981144,
                -22.655619398694846
               ],
               [
                -55.79795813660691,
                -22.356929620047822
               ],
               [
                -56.47331743022939,
                -22.086300144135283
               ],
               [
                -56.8815095689029,
                -22.28215382252148
               ],
               [
                -57.937155727761294,
                -22.090175876557172
               ],
               [
                -57.8706739976178,
                -20.73268767668195
               ],
               [
                -58.166392381408045,
                -20.176700941653678
               ],
               [
                -57.85380164247451,
                -19.96999521248619
               ],
               [
                -57.949997321185826,
                -19.40000416430682
               ],
               [
                -57.67600887717431,
                -18.96183969490403
               ],
               [
                -57.49837114117099,
                -18.174187513911292
               ],
               [
                -57.734558274961,
                -17.55246835700777
               ],
               [
                -58.28080400250225,
                -17.271710300366017
               ],
               [
                -58.38805843772404,
                -16.877109063385276
               ],
               [
                -58.24121985536668,
                -16.299573256091293
               ],
               [
                -60.158389655179036,
                -16.258283786690086
               ],
               [
                -60.54296566429515,
                -15.093910414289596
               ],
               [
                -60.251148851142936,
                -15.07721892665932
               ],
               [
                -60.26432634137737,
                -14.645979099183641
               ],
               [
                -60.45919816755003,
                -14.354007256734555
               ],
               [
                -60.503304002511136,
                -13.775954685117659
               ],
               [
                -61.08412126325565,
                -13.479383640194598
               ],
               [
                -61.71320431176078,
                -13.489202162330052
               ],
               [
                -62.127080857986385,
                -13.198780612849724
               ],
               [
                -62.803060268796386,
                -13.000653171442686
               ],
               [
                -63.19649878605057,
                -12.627032565972435
               ],
               [
                -64.3163529120316,
                -12.461978041232193
               ],
               [
                -65.40228146021303,
                -11.566270440317155
               ],
               [
                -65.32189876978302,
                -10.895872084194679
               ],
               [
                -65.44483700220539,
                -10.511451104375432
               ],
               [
                -65.33843522811642,
                -9.761987806846392
               ],
               [
                -66.6469083319628,
                -9.931331475466862
               ],
               [
                -67.17380123561074,
                -10.306812432499612
               ],
               [
                -68.04819230820539,
                -10.712059014532485
               ],
               [
                -68.27125362819326,
                -11.01452117273682
               ],
               [
                -68.78615759954948,
                -11.03638030359628
               ],
               [
                -69.52967810736496,
                -10.951734307502194
               ],
               [
                -70.0937522040469,
                -11.123971856331012
               ],
               [
                -70.54868567572841,
                -11.009146823778465
               ],
               [
                -70.48189388699117,
                -9.490118096558845
               ],
               [
                -71.30241227892154,
                -10.079436130415374
               ],
               [
                -72.18489071316985,
                -10.053597914269432
               ],
               [
                -72.56303300646564,
                -9.520193780152717
               ],
               [
                -73.22671342639016,
                -9.462212823121234
               ],
               [
                -73.01538265653255,
                -9.032833347208062
               ],
               [
                -73.57105933296707,
                -8.424446709835834
               ],
               [
                -73.98723548042966,
                -7.523829847853065
               ],
               [
                -73.7234014553635,
                -7.340998630404414
               ],
               [
                -73.72448666044164,
                -6.91859547285064
               ],
               [
                -73.1200274319236,
                -6.629930922068239
               ],
               [
                -73.21971126981461,
                -6.089188734566078
               ],
               [
                -72.9645072089412,
                -5.7412513159448935
               ],
               [
                -72.89192765978726,
                -5.274561455916981
               ],
               [
                -71.74840572781655,
                -4.593982842633011
               ],
               [
                -70.92884334988358,
                -4.401591485210368
               ],
               [
                -70.7947688463023,
                -4.251264743673303
               ],
               [
                -69.89363521999663,
                -4.2981869441943275
               ],
               [
                -69.44410193548961,
                -1.5562871232198177
               ],
               [
                -69.42048580593223,
                -1.1226185034264091
               ],
               [
                -69.5770653957766,
                -0.549991957200163
               ],
               [
                -70.02065589057005,
                -0.18515634521953928
               ],
               [
                -70.01556576198931,
                0.5414142928042054
               ],
               [
                -69.45239600287246,
                0.7061587589506929
               ],
               [
                -69.25243404811906,
                0.6026508650700748
               ],
               [
                -69.21863766140018,
                0.9856765812174331
               ],
               [
                -69.80459672715773,
                1.0890811222334662
               ],
               [
                -69.81697323269162,
                1.7148052026396243
               ],
               [
                -67.86856502955884,
                1.6924551456733923
               ],
               [
                -67.5378100246747,
                2.03716278727633
               ],
               [
                -67.2599975246736,
                1.7199986840849562
               ],
               [
                -67.0650481838525,
                1.130112209473225
               ],
               [
                -66.87632585312258,
                1.253360500489336
               ],
               [
                -66.32576514348496,
                0.7244522159820121
               ],
               [
                -65.54826738143757,
                0.7892544620760303
               ],
               [
                -65.35471330428837,
                1.0952822941085003
               ],
               [
                -64.61101192895987,
                1.3287305769870417
               ],
               [
                -64.19930579289051,
                1.49285492594602
               ],
               [
                -64.08308549666609,
                1.9163691267940803
               ],
               [
                -63.368788011311665,
                2.200899562993129
               ],
               [
                -63.42286739770512,
                2.4110676131241746
               ],
               [
                -64.2699991522658,
                2.497005520025567
               ],
               [
                -64.40882788761792,
                3.126786200366624
               ],
               [
                -64.3684944322141,
                3.797210394705246
               ],
               [
                -64.81606401229402,
                4.056445217297423
               ],
               [
                -64.62865943058755,
                4.14848094320925
               ],
               [
                -63.88834286157416,
                4.020530096854571
               ],
               [
                -63.093197597899106,
                3.7705711938587854
               ],
               [
                -62.804533047116706,
                4.006965033377952
               ],
               [
                -62.08542965355913,
                4.162123521334308
               ],
               [
                -60.96689327660154,
                4.536467596856639
               ],
               [
                -60.601179165271944,
                4.91809804933213
               ],
               [
                -60.73357418480372,
                5.200277207861901
               ],
               [
                -60.21368343773133,
                5.244486395687602
               ],
               [
                -59.980958624904886,
                5.014061184098139
               ],
               [
                -60.11100236676738,
                4.574966538914083
               ],
               [
                -59.767405768458715,
                4.423502915866607
               ],
               [
                -59.53803992373123,
                3.9588025984819377
               ],
               [
                -59.815413174057866,
                3.6064985213320853
               ],
               [
                -59.97452490908456,
                2.755232652188056
               ],
               [
                -59.71854570172675,
                2.2496304386443597
               ],
               [
                -59.64604366722126,
                1.786893825686789
               ],
               [
                -59.03086157900265,
                1.3176976586927225
               ],
               [
                -58.540012986878295,
                1.2680882836925207
               ],
               [
                -58.429477098205965,
                1.4639419620787208
               ],
               [
                -58.11344987652502,
                1.5071951359070253
               ],
               [
                -57.66097103537737,
                1.6825849471056387
               ],
               [
                -57.335822923396904,
                1.9485377058957594
               ],
               [
                -56.78270423036083,
                1.8637108422886541
               ],
               [
                -56.539385748914555,
                1.8995226098669207
               ],
               [
                -55.995698004771754,
                1.8176671411166012
               ],
               [
                -55.905600145070885,
                2.0219957543986595
               ],
               [
                -56.0733418442903,
                2.2207949894254995
               ],
               [
                -55.973322109589375,
                2.510363877773017
               ],
               [
                -55.569755011606,
                2.4215062524471307
               ],
               [
                -55.09758744975514,
                2.5237480737366127
               ],
               [
                -54.524754197799716,
                2.3118488631237852
               ],
               [
                -54.08806250671725,
                2.105556545414629
               ],
               [
                -53.77852067728892,
                2.3767027856500818
               ],
               [
                -53.554839240113544,
                2.334896551925951
               ],
               [
                -53.41846513529531,
                2.0533891870159806
               ],
               [
                -52.939657151894956,
                2.1248576928756364
               ],
               [
                -52.55642473001842,
                2.504705308437053
               ],
               [
                -52.249337531123956,
                3.241094468596245
               ],
               [
                -51.65779741067889,
                4.156232408053029
               ],
               [
                -51.31714636901086,
                4.203490505383954
               ],
               [
                -51.069771287629656,
                3.650397650564031
               ],
               [
                -50.508875291533656,
                1.901563828942457
               ],
               [
                -49.97407589374506,
                1.736483465986069
               ],
               [
                -49.94710079608871,
                1.0461896834312228
               ],
               [
                -50.699251268096916,
                0.22298411702168153
               ],
               [
                -50.38821082213214,
                -0.07844451253681939
               ],
               [
                -48.62056677915632,
                -0.2354891902718208
               ],
               [
                -48.58449662941659,
                -1.2378052710050014
               ],
               [
                -47.824956427590635,
                -0.5816179337628
               ],
               [
                -46.566583624851226,
                -0.941027520352776
               ],
               [
                -44.905703090990414,
                -1.551739597178134
               ],
               [
                -44.417619187993665,
                -2.137750339367976
               ],
               [
                -44.58158850765578,
                -2.691308282078524
               ],
               [
                -43.418791266440195,
                -2.383110039889793
               ],
               [
                -41.47265682632825,
                -2.9120183243971165
               ],
               [
                -39.97866533055404,
                -2.873054294449041
               ],
               [
                -38.50038347019657,
                -3.7006523576033956
               ],
               [
                -37.2232521225352,
                -4.820945733258917
               ],
               [
                -36.45293738457639,
                -5.109403578312154
               ],
               [
                -35.59779578301047,
                -5.149504489770649
               ],
               [
                -35.23538896334756,
                -5.464937432480247
               ],
               [
                -34.89602983248683,
                -6.738193047719711
               ],
               [
                -34.729993455533034,
                -7.343220716992967
               ],
               [
                -35.12821204277422,
                -8.996401462442286
               ],
               [
                -35.636966518687714,
                -9.649281508017815
               ],
               [
                -37.046518724097,
                -11.040721123908803
               ],
               [
                -37.68361161960736,
                -12.171194756725823
               ],
               [
                -38.42387651218844,
                -13.038118584854288
               ],
               [
                -38.67388709161652,
                -13.057652276260619
               ],
               [
                -38.953275722802545,
                -13.793369642800023
               ],
               [
                -38.88229814304965,
                -15.667053724838768
               ],
               [
                -39.16109249526431,
                -17.208406670808472
               ],
               [
                -39.2673392400564,
                -17.867746270420483
               ],
               [
                -39.58352149103423,
                -18.262295830968938
               ],
               [
                -39.76082333022764,
                -19.59911345792741
               ],
               [
                -40.77474077001034,
                -20.904511814052423
               ],
               [
                -40.94475623225061,
                -21.93731698983781
               ],
               [
                -41.754164191238225,
                -22.370675551037458
               ],
               [
                -41.98828426773656,
                -22.970070489190896
               ],
               [
                -43.07470374202475,
                -22.96769337330547
               ],
               [
                -44.64781185563781,
                -23.351959323827842
               ],
               [
                -45.35213578955992,
                -23.796841729428582
               ],
               [
                -46.47209326840554,
                -24.088968601174543
               ],
               [
                -47.64897233742066,
                -24.885199069927722
               ],
               [
                -48.4954581365777,
                -25.877024834905654
               ],
               [
                -48.64100480812774,
                -26.623697605090932
               ],
               [
                -48.474735887228654,
                -27.17591196056189
               ],
               [
                -48.661520351747626,
                -28.18613453543572
               ],
               [
                -48.8884574041574,
                -28.674115085567884
               ],
               [
                -49.587329474472675,
                -29.224469089476337
               ],
               [
                -50.696874152211485,
                -30.98446502047296
               ],
               [
                -51.576226162306156,
                -31.77769825615321
               ],
               [
                -52.256081305538046,
                -32.24536996839467
               ],
               [
                -52.712099982297694,
                -33.19657805759118
               ],
               [
                -53.373661668498244,
                -33.768377780900764
               ]
              ]
             ],
             "type": "Polygon"
            },
            "id": "5",
            "properties": {
             "Country_std": "Brazil",
             "ISO3": "BRA",
             "n_unicorns": 15,
             "total_val": 61.05
            },
            "type": "Feature"
           },
           {
            "geometry": {
             "coordinates": [
              [
               [
                [
                 -122.84000000000003,
                 49.000000000000114
                ],
                [
                 -122.97421000000001,
                 49.00253777777778
                ],
                [
                 -124.91024,
                 49.98456
                ],
                [
                 -125.62461,
                 50.416560000000004
                ],
                [
                 -127.43561000000001,
                 50.83061
                ],
                [
                 -127.99276,
                 51.71583
                ],
                [
                 -127.85032,
                 52.32961
                ],
                [
                 -129.12979,
                 52.75538
                ],
                [
                 -129.30523,
                 53.561589999999995
                ],
                [
                 -130.51497,
                 54.28757
                ],
                [
                 -130.53610895273684,
                 54.80275447679924
                ],
                [
                 -130.53611,
                 54.802780000000006
                ],
                [
                 -129.98,
                 55.285000000000004
                ],
                [
                 -130.00778000000003,
                 55.915830000000085
                ],
                [
                 -131.70781,
                 56.55212
                ],
                [
                 -132.73042,
                 57.692890000000006
                ],
                [
                 -133.35556000000003,
                 58.41028000000001
                ],
                [
                 -134.27111000000002,
                 58.86111000000005
                ],
                [
                 -134.94500000000005,
                 59.2705600000001
                ],
                [
                 -135.47583,
                 59.787780000000005
                ],
                [
                 -136.47972000000004,
                 59.46389000000005
                ],
                [
                 -137.4525,
                 58.905
                ],
                [
                 -138.34089,
                 59.562110000000004
                ],
                [
                 -139.03900000000002,
                 60
                ],
                [
                 -140.013,
                 60.27682000000001
                ],
                [
                 -140.99778,
                 60.30639000000001
                ],
                [
                 -140.9925,
                 66.00003000000001
                ],
                [
                 -140.986,
                 69.712
                ],
                [
                 -140.98598761037601,
                 69.71199839952635
                ],
                [
                 -139.12052,
                 69.47102
                ],
                [
                 -137.54636000000002,
                 68.99002
                ],
                [
                 -136.50358,
                 68.89804
                ],
                [
                 -135.62576,
                 69.31512000000001
                ],
                [
                 -134.41464000000002,
                 69.62743
                ],
                [
                 -132.92925000000002,
                 69.50534
                ],
                [
                 -131.43135999999998,
                 69.94451
                ],
                [
                 -129.79471,
                 70.19369
                ],
                [
                 -129.10773,
                 69.77927000000001
                ],
                [
                 -128.36156,
                 70.01286
                ],
                [
                 -128.13817,
                 70.48384
                ],
                [
                 -127.44712000000001,
                 70.37721
                ],
                [
                 -125.75632000000002,
                 69.48058
                ],
                [
                 -124.42483,
                 70.1584
                ],
                [
                 -124.28968,
                 69.39968999999999
                ],
                [
                 -123.06108,
                 69.56372
                ],
                [
                 -122.6835,
                 69.85553
                ],
                [
                 -121.47226,
                 69.79778
                ],
                [
                 -119.94288,
                 69.37786
                ],
                [
                 -117.60268,
                 69.01128
                ],
                [
                 -116.22643,
                 68.84151
                ],
                [
                 -115.24690000000001,
                 68.90591
                ],
                [
                 -113.89793999999999,
                 68.3989
                ],
                [
                 -115.30489,
                 67.90261000000001
                ],
                [
                 -113.49727,
                 67.68815000000001
                ],
                [
                 -110.798,
                 67.80611999999999
                ],
                [
                 -109.94619,
                 67.98104000000001
                ],
                [
                 -108.8802,
                 67.38144
                ],
                [
                 -107.79239,
                 67.88736
                ],
                [
                 -108.81299,
                 68.31164
                ],
                [
                 -108.16721000000001,
                 68.65392
                ],
                [
                 -106.95,
                 68.7
                ],
                [
                 -106.15,
                 68.8
                ],
                [
                 -105.34282000000002,
                 68.56122
                ],
                [
                 -104.33791000000001,
                 68.018
                ],
                [
                 -103.22115000000001,
                 68.09775
                ],
                [
                 -101.45433,
                 67.64689
                ],
                [
                 -99.90195,
                 67.80566
                ],
                [
                 -98.4432,
                 67.78165
                ],
                [
                 -98.5586,
                 68.40394
                ],
                [
                 -97.66948000000001,
                 68.57864000000001
                ],
                [
                 -96.11991,
                 68.23939
                ],
                [
                 -96.12588,
                 67.29338
                ],
                [
                 -95.48943,
                 68.0907
                ],
                [
                 -94.685,
                 68.06383
                ],
                [
                 -94.23282000000002,
                 69.06903000000001
                ],
                [
                 -95.30408,
                 69.68571
                ],
                [
                 -96.47131,
                 70.08976
                ],
                [
                 -96.39115,
                 71.19482
                ],
                [
                 -95.2088,
                 71.92053
                ],
                [
                 -93.88997,
                 71.76015
                ],
                [
                 -92.87818,
                 71.31869
                ],
                [
                 -91.51964000000001,
                 70.19129000000001
                ],
                [
                 -92.40692000000001,
                 69.69997000000001
                ],
                [
                 -90.5471,
                 69.49766
                ],
                [
                 -90.55151000000001,
                 68.47499
                ],
                [
                 -89.21515,
                 69.25873
                ],
                [
                 -88.01966,
                 68.61508
                ],
                [
                 -88.31748999999999,
                 67.87338000000001
                ],
                [
                 -87.35017,
                 67.19872
                ],
                [
                 -86.30606999999999,
                 67.92146
                ],
                [
                 -85.57664,
                 68.78456
                ],
                [
                 -85.52197,
                 69.88211
                ],
                [
                 -84.10081000000001,
                 69.80539
                ],
                [
                 -82.62258,
                 69.65826
                ],
                [
                 -81.28043000000001,
                 69.16202000000001
                ],
                [
                 -81.22019999999999,
                 68.66567
                ],
                [
                 -81.96436000000001,
                 68.13253
                ],
                [
                 -81.25928,
                 67.59716
                ],
                [
                 -81.38653000000001,
                 67.11078
                ],
                [
                 -83.34456,
                 66.41154
                ],
                [
                 -84.73542,
                 66.2573
                ],
                [
                 -85.76943,
                 66.55833
                ],
                [
                 -86.06760000000001,
                 66.05625
                ],
                [
                 -87.03143,
                 65.21297
                ],
                [
                 -87.32324,
                 64.77563
                ],
                [
                 -88.48296,
                 64.09897000000001
                ],
                [
                 -89.91444,
                 64.03273
                ],
                [
                 -90.70398,
                 63.610170000000004
                ],
                [
                 -90.77004000000001,
                 62.960210000000004
                ],
                [
                 -91.93342,
                 62.83508
                ],
                [
                 -93.15698,
                 62.02469000000001
                ],
                [
                 -94.24153,
                 60.89865
                ],
                [
                 -94.62930999999999,
                 60.11021
                ],
                [
                 -94.6846,
                 58.94882
                ],
                [
                 -93.21502000000001,
                 58.78212
                ],
                [
                 -92.76462000000001,
                 57.84571
                ],
                [
                 -92.29702999999999,
                 57.08709
                ],
                [
                 -90.89769,
                 57.28468
                ],
                [
                 -89.03953,
                 56.85172
                ],
                [
                 -88.03978000000001,
                 56.47162
                ],
                [
                 -87.32421,
                 55.999140000000004
                ],
                [
                 -86.07121,
                 55.72383
                ],
                [
                 -85.01181000000001,
                 55.302600000000005
                ],
                [
                 -83.36055,
                 55.24489
                ],
                [
                 -82.27285,
                 55.14832
                ],
                [
                 -82.43620000000001,
                 54.282270000000004
                ],
                [
                 -82.12502,
                 53.27703
                ],
                [
                 -81.40075,
                 52.157880000000006
                ],
                [
                 -79.91289,
                 51.208420000000004
                ],
                [
                 -79.14301,
                 51.533930000000005
                ],
                [
                 -78.60191,
                 52.56208
                ],
                [
                 -79.12421,
                 54.14145
                ],
                [
                 -79.82958,
                 54.66772
                ],
                [
                 -78.22874,
                 55.136449999999996
                ],
                [
                 -77.0956,
                 55.83741
                ],
                [
                 -76.54137,
                 56.53423000000001
                ],
                [
                 -76.62319000000001,
                 57.20263
                ],
                [
                 -77.30226,
                 58.05209
                ],
                [
                 -78.51688,
                 58.80458
                ],
                [
                 -77.33676,
                 59.852610000000006
                ],
                [
                 -77.77272,
                 60.75788000000001
                ],
                [
                 -78.10687,
                 62.31964000000001
                ],
                [
                 -77.41067,
                 62.55053
                ],
                [
                 -75.69621000000001,
                 62.2784
                ],
                [
                 -74.6682,
                 62.181110000000004
                ],
                [
                 -73.83988000000001,
                 62.4438
                ],
                [
                 -72.90853,
                 62.10507
                ],
                [
                 -71.67708,
                 61.52535
                ],
                [
                 -71.37369000000001,
                 61.137170000000005
                ],
                [
                 -69.59042,
                 61.06141
                ],
                [
                 -69.62033,
                 60.221250000000005
                ],
                [
                 -69.28790000000001,
                 58.95736
                ],
                [
                 -68.37455,
                 58.80106
                ],
                [
                 -67.64976,
                 58.21206
                ],
                [
                 -66.20178,
                 58.76731
                ],
                [
                 -65.24517,
                 59.87071
                ],
                [
                 -64.58352000000001,
                 60.33558
                ],
                [
                 -63.804750000000006,
                 59.442600000000006
                ],
                [
                 -62.502359999999996,
                 58.16708
                ],
                [
                 -61.396550000000005,
                 56.96745000000001
                ],
                [
                 -61.798660000000005,
                 56.33945
                ],
                [
                 -60.46853,
                 55.775479999999995
                ],
                [
                 -59.56962,
                 55.20407
                ],
                [
                 -57.97508,
                 54.94549000000001
                ],
                [
                 -57.3332,
                 54.6265
                ],
                [
                 -56.93689,
                 53.780319999999996
                ],
                [
                 -56.15811,
                 53.647490000000005
                ],
                [
                 -55.75632,
                 53.27036
                ],
                [
                 -55.68338,
                 52.146640000000005
                ],
                [
                 -56.40916000000001,
                 51.770700000000005
                ],
                [
                 -57.12691,
                 51.419720000000005
                ],
                [
                 -58.77482,
                 51.0643
                ],
                [
                 -60.03309000000001,
                 50.24277
                ],
                [
                 -61.72366,
                 50.08046
                ],
                [
                 -63.86251,
                 50.29099
                ],
                [
                 -65.36331,
                 50.2982
                ],
                [
                 -66.39905,
                 50.228970000000004
                ],
                [
                 -67.23631,
                 49.511559999999996
                ],
                [
                 -68.51114,
                 49.068360000000006
                ],
                [
                 -69.95362,
                 47.74488
                ],
                [
                 -71.10458,
                 46.82171
                ],
                [
                 -70.25522,
                 46.986059999999995
                ],
                [
                 -68.65,
                 48.3
                ],
                [
                 -66.55243,
                 49.1331
                ],
                [
                 -65.05626,
                 49.232780000000005
                ],
                [
                 -64.17099,
                 48.74248
                ],
                [
                 -65.11545000000001,
                 48.07085
                ],
                [
                 -64.79854,
                 46.99297
                ],
                [
                 -64.47219,
                 46.238490000000006
                ],
                [
                 -63.17329000000001,
                 45.73902
                ],
                [
                 -61.520720000000004,
                 45.883770000000005
                ],
                [
                 -60.518150000000006,
                 47.00793
                ],
                [
                 -60.448600000000006,
                 46.28264
                ],
                [
                 -59.80287,
                 45.9204
                ],
                [
                 -61.03988,
                 45.265249999999995
                ],
                [
                 -63.254709999999996,
                 44.67014
                ],
                [
                 -64.24656,
                 44.265530000000005
                ],
                [
                 -65.36406000000001,
                 43.54523
                ],
                [
                 -66.1234,
                 43.61867
                ],
                [
                 -66.16173,
                 44.46512
                ],
                [
                 -64.42549,
                 45.29204
                ],
                [
                 -66.02605000000001,
                 45.25931
                ],
                [
                 -67.13741,
                 45.13753
                ],
                [
                 -67.79134,
                 45.70281000000001
                ],
                [
                 -67.79046000000001,
                 47.066359999999996
                ],
                [
                 -68.23444,
                 47.354859999999974
                ],
                [
                 -68.90500000000003,
                 47.18500000000006
                ],
                [
                 -69.237216,
                 47.447781
                ],
                [
                 -69.99997,
                 46.69307
                ],
                [
                 -70.305,
                 45.915
                ],
                [
                 -70.66,
                 45.46
                ],
                [
                 -71.08482000000004,
                 45.30524000000014
                ],
                [
                 -71.405,
                 45.254999999999995
                ],
                [
                 -71.50506,
                 45.0082
                ],
                [
                 -73.34783,
                 45.00738
                ],
                [
                 -74.86700000000002,
                 45.000480000000096
                ],
                [
                 -75.31821000000001,
                 44.81645
                ],
                [
                 -76.375,
                 44.09631
                ],
                [
                 -76.50000000000001,
                 44.01845889375865
                ],
                [
                 -76.82003414580558,
                 43.628784288093755
                ],
                [
                 -77.7378850979577,
                 43.62905558936328
                ],
                [
                 -78.72027991404235,
                 43.62508942318493
                ],
                [
                 -79.17167355011186,
                 43.46633942318426
                ],
                [
                 -79.01,
                 43.27
                ],
                [
                 -78.92,
                 42.964999999999996
                ],
                [
                 -78.93936214874375,
                 42.86361135514798
                ],
                [
                 -80.24744767934794,
                 42.36619985612255
                ],
                [
                 -81.27774654816716,
                 42.209025987306816
                ],
                [
                 -82.4392777167916,
                 41.675105088867326
                ],
                [
                 -82.69008928092023,
                 41.675105088867326
                ],
                [
                 -83.029810146807,
                 41.83279572200598
                ],
                [
                 -83.14199968131264,
                 41.975681057292874
                ],
                [
                 -83.12,
                 42.08
                ],
                [
                 -82.9,
                 42.43
                ],
                [
                 -82.42999999999999,
                 42.980000000000004
                ],
                [
                 -82.13764238150395,
                 43.57108755143997
                ],
                [
                 -82.33776312543114,
                 44.440000000000055
                ],
                [
                 -82.55092464875821,
                 45.34751658790543
                ],
                [
                 -83.59285071484311,
                 45.81689362241252
                ],
                [
                 -83.46955074739469,
                 45.994686387712534
                ],
                [
                 -83.61613094759059,
                 46.116926988299014
                ],
                [
                 -83.89076534700574,
                 46.116926988299014
                ],
                [
                 -84.0918512641615,
                 46.27541860613826
                ],
                [
                 -84.1421195136734,
                 46.51222585711571
                ],
                [
                 -84.33670000000001,
                 46.408770000000004
                ],
                [
                 -84.60490000000004,
                 46.439599999999984
                ],
                [
                 -84.54374874544584,
                 46.538684190449146
                ],
                [
                 -84.77923824739992,
                 46.63710195574902
                ],
                [
                 -84.8760798815149,
                 46.90008331968238
                ],
                [
                 -85.65236324740341,
                 47.22021881773051
                ],
                [
                 -86.46199083122826,
                 47.553338019392
                ],
                [
                 -87.43979262330028,
                 47.94
                ],
                [
                 -88.37811418328671,
                 48.302917588893706
                ],
                [
                 -89.27291744663665,
                 48.01980825458281
                ],
                [
                 -89.60000000000002,
                 48.010000000000105
                ],
                [
                 -90.83,
                 48.27
                ],
                [
                 -91.64,
                 48.14
                ],
                [
                 -92.61000000000001,
                 48.44999999999993
                ],
                [
                 -93.63087000000002,
                 48.609260000000006
                ],
                [
                 -94.32914000000001,
                 48.67074
                ],
                [
                 -94.64,
                 48.84
                ],
                [
                 -94.81758000000002,
                 49.38905
                ],
                [
                 -95.15609,
                 49.38425000000001
                ],
                [
                 -95.15906950917206,
                 49
                ],
                [
                 -97.2287200000048,
                 49.0007
                ],
                [
                 -100.65000000000003,
                 49.000000000000114
                ],
                [
                 -104.04826000000003,
                 48.99986000000007
                ],
                [
                 -107.05000000000001,
                 49
                ],
                [
                 -110.05000000000001,
                 49
                ],
                [
                 -113,
                 49
                ],
                [
                 -116.04818,
                 49
                ],
                [
                 -117.03121,
                 49
                ],
                [
                 -120,
                 49.000000000000114
                ],
                [
                 -122.84000000000003,
                 49.000000000000114
                ]
               ]
              ],
              [
               [
                [
                 -83.99367000000001,
                 62.452799999999996
                ],
                [
                 -83.25048,
                 62.91409
                ],
                [
                 -81.87699,
                 62.90458
                ],
                [
                 -81.89825,
                 62.7108
                ],
                [
                 -83.06857000000001,
                 62.159220000000005
                ],
                [
                 -83.77462000000001,
                 62.18231
                ],
                [
                 -83.99367000000001,
                 62.452799999999996
                ]
               ]
              ],
              [
               [
                [
                 -79.77583312988281,
                 72.8029022216797
                ],
                [
                 -80.87609863281251,
                 73.33318328857422
                ],
                [
                 -80.83388519287111,
                 73.69318389892578
                ],
                [
                 -80.35305786132812,
                 73.75971984863281
                ],
                [
                 -78.06443786621094,
                 73.65193176269531
                ],
                [
                 -76.34,
                 73.10268498995305
                ],
                [
                 -76.25140380859375,
                 72.82638549804688
                ],
                [
                 -77.31443786621094,
                 72.85554504394531
                ],
                [
                 -78.39167022705078,
                 72.87665557861328
                ],
                [
                 -79.4862518310547,
                 72.74220275878906
                ],
                [
                 -79.77583312988281,
                 72.8029022216797
                ]
               ]
              ],
              [
               [
                [
                 -80.315395,
                 62.08556500000001
                ],
                [
                 -79.92939,
                 62.3856
                ],
                [
                 -79.52002,
                 62.363710000000005
                ],
                [
                 -79.26582,
                 62.158674999999995
                ],
                [
                 -79.65752,
                 61.63308
                ],
                [
                 -80.09956000000001,
                 61.71810000000001
                ],
                [
                 -80.36215,
                 62.016490000000005
                ],
                [
                 -80.315395,
                 62.08556500000001
                ]
               ]
              ],
              [
               [
                [
                 -93.61275590694046,
                 74.97999726022438
                ],
                [
                 -94.15690873897391,
                 74.59234650338688
                ],
                [
                 -95.60868058956564,
                 74.66686391875176
                ],
                [
                 -96.82093217648455,
                 74.92762319609658
                ],
                [
                 -96.28858740922982,
                 75.37782827422338
                ],
                [
                 -94.85081987178917,
                 75.64721751576089
                ],
                [
                 -93.97774654821797,
                 75.29648956979595
                ],
                [
                 -93.61275590694046,
                 74.97999726022438
                ]
               ]
              ],
              [
               [
                [
                 -93.84000301794399,
                 77.51999726023455
                ],
                [
                 -94.29560828324529,
                 77.49134267852868
                ],
                [
                 -96.16965410031007,
                 77.55511139597685
                ],
                [
                 -96.43630449093614,
                 77.83462921824362
                ],
                [
                 -94.42257727738641,
                 77.820004787905
                ],
                [
                 -93.7206562975659,
                 77.63433136668031
                ],
                [
                 -93.84000301794399,
                 77.51999726023455
                ]
               ]
              ],
              [
               [
                [
                 -96.75439876990876,
                 78.76581268992702
                ],
                [
                 -95.5592779202946,
                 78.41831452098033
                ],
                [
                 -95.83029496944934,
                 78.05694122996324
                ],
                [
                 -97.30984290239799,
                 77.85059723582181
                ],
                [
                 -98.12428931353404,
                 78.08285696075761
                ],
                [
                 -98.55286780474668,
                 78.45810537384507
                ],
                [
                 -98.63198442258553,
                 78.87193024363837
                ],
                [
                 -97.33723141151266,
                 78.83198436147676
                ],
                [
                 -96.75439876990876,
                 78.76581268992702
                ]
               ]
              ],
              [
               [
                [
                 -88.15035030796028,
                 74.39230703398503
                ],
                [
                 -89.7647220527584,
                 74.51555532500116
                ],
                [
                 -92.42244096552946,
                 74.83775788034099
                ],
                [
                 -92.76828548864282,
                 75.38681997344214
                ],
                [
                 -92.88990597204175,
                 75.88265534128267
                ],
                [
                 -93.89382402217599,
                 76.31924367950056
                ],
                [
                 -95.9624574450358,
                 76.4413809272224
                ],
                [
                 -97.1213789538295,
                 76.7510777859476
                ],
                [
                 -96.74512285031237,
                 77.16138865834507
                ],
                [
                 -94.68408586299944,
                 77.09787832305837
                ],
                [
                 -93.57392106807313,
                 76.77629588490605
                ],
                [
                 -91.6050231595366,
                 76.7785179714946
                ],
                [
                 -90.7418458727493,
                 76.44959747995681
                ],
                [
                 -90.96966142450802,
                 76.07401317005947
                ],
                [
                 -89.82223792189926,
                 75.84777374948565
                ],
                [
                 -89.18708289259985,
                 75.61016551380762
                ],
                [
                 -87.83827633334965,
                 75.56618886992725
                ],
                [
                 -86.37919226758864,
                 75.4824213731821
                ],
                [
                 -84.78962521029058,
                 75.69920400664653
                ],
                [
                 -82.75344458691006,
                 75.78431509063124
                ],
                [
                 -81.12853084992436,
                 75.71398346628199
                ],
                [
                 -80.05751095245915,
                 75.33684886341591
                ],
                [
                 -79.83393286814837,
                 74.92312734648716
                ],
                [
                 -80.45777075877587,
                 74.65730377877777
                ],
                [
                 -81.94884253612557,
                 74.44245901152432
                ],
                [
                 -83.22889360221143,
                 74.56402781849094
                ],
                [
                 -86.09745235873332,
                 74.41003205026117
                ],
                [
                 -88.15035030796028,
                 74.39230703398503
                ]
               ]
              ],
              [
               [
                [
                 -111.26444332563088,
                 78.15295604116154
                ],
                [
                 -109.85445187054711,
                 77.99632477488488
                ],
                [
                 -110.18693803591302,
                 77.69701487905034
                ],
                [
                 -112.0511911690585,
                 77.4092288276169
                ],
                [
                 -113.53427893761912,
                 77.73220652944111
                ],
                [
                 -112.7245867582539,
                 78.05105011668196
                ],
                [
                 -111.26444332563088,
                 78.15295604116154
                ]
               ]
              ],
              [
               [
                [
                 -110.96366065147602,
                 78.8044408230652
                ],
                [
                 -109.6631457182026,
                 78.60197256134565
                ],
                [
                 -110.88131425661892,
                 78.40691986765997
                ],
                [
                 -112.54209143761516,
                 78.4079017198735
                ],
                [
                 -112.52589087609164,
                 78.55055451121522
                ],
                [
                 -111.5000103422334,
                 78.8499935981305
                ],
                [
                 -110.96366065147602,
                 78.8044408230652
                ]
               ]
              ],
              [
               [
                [
                 -55.600218268442056,
                 51.31707469339794
                ],
                [
                 -56.13403581401709,
                 50.68700979267928
                ],
                [
                 -56.795881720595276,
                 49.81230866149089
                ],
                [
                 -56.14310502788433,
                 50.15011749938286
                ],
                [
                 -55.471492275603,
                 49.93581533466846
                ],
                [
                 -55.82240108908096,
                 49.58712860777905
                ],
                [
                 -54.935142584845636,
                 49.3130109726868
                ],
                [
                 -54.473775397343786,
                 49.556691189159125
                ],
                [
                 -53.47654944519137,
                 49.24913890237404
                ],
                [
                 -53.786013759971254,
                 48.516780503933624
                ],
                [
                 -53.08613399922626,
                 48.68780365660358
                ],
                [
                 -52.958648240762216,
                 48.15716421161447
                ],
                [
                 -52.64809872090421,
                 47.53554840757552
                ],
                [
                 -53.069158291218386,
                 46.65549876564492
                ],
                [
                 -53.521456264853,
                 46.61829173439477
                ],
                [
                 -54.17893551290251,
                 46.80706574155698
                ],
                [
                 -53.9618686590605,
                 47.62520701760193
                ],
                [
                 -54.24048214376214,
                 47.752279364607645
                ],
                [
                 -55.40077307801157,
                 46.884993801453135
                ],
                [
                 -55.99748084168583,
                 46.919720363953275
                ],
                [
                 -55.29121904155279,
                 47.38956248635099
                ],
                [
                 -56.250798712780586,
                 47.632545070987376
                ],
                [
                 -57.32522925477708,
                 47.57280711525797
                ],
                [
                 -59.26601518414682,
                 47.60334788674247
                ],
                [
                 -59.419494188053676,
                 47.899453843774886
                ],
                [
                 -58.79658647320744,
                 48.25152537697942
                ],
                [
                 -59.23162451845657,
                 48.52318838153781
                ],
                [
                 -58.3918049790652,
                 49.12558055276418
                ],
                [
                 -57.35868974468606,
                 50.71827403421587
                ],
                [
                 -56.738650071832026,
                 51.28743825947855
                ],
                [
                 -55.87097693543532,
                 51.63209422464921
                ],
                [
                 -55.40697424988659,
                 51.5882726100657
                ],
                [
                 -55.600218268442056,
                 51.31707469339794
                ]
               ]
              ],
              [
               [
                [
                 -83.88262630891977,
                 65.10961782496354
                ],
                [
                 -82.78757687043883,
                 64.76669302027467
                ],
                [
                 -81.6420137193926,
                 64.45513580998697
                ],
                [
                 -81.55344031444432,
                 63.97960928003714
                ],
                [
                 -80.81736121287886,
                 64.057485663501
                ],
                [
                 -80.10345130076664,
                 63.72598135034862
                ],
                [
                 -80.99101986359572,
                 63.41124603947496
                ],
                [
                 -82.54717810741704,
                 63.65172231714521
                ],
                [
                 -83.10879757356511,
                 64.10187571883971
                ],
                [
                 -84.10041663281388,
                 63.569711819098
                ],
                [
                 -85.52340471061905,
                 63.052379055424055
                ],
                [
                 -85.8667687649824,
                 63.63725291610349
                ],
                [
                 -87.22198320183678,
                 63.54123810490519
                ],
                [
                 -86.35275977247133,
                 64.0358332383707
                ],
                [
                 -86.2248864407651,
                 64.82291697860823
                ],
                [
                 -85.88384782585486,
                 65.7387783881171
                ],
                [
                 -85.1613079495499,
                 65.6572846543928
                ],
                [
                 -84.97576371940592,
                 65.21751821558898
                ],
                [
                 -84.4640120104195,
                 65.37177236598022
                ],
                [
                 -83.88262630891977,
                 65.10961782496354
                ]
               ]
              ],
              [
               [
                [
                 -78.77063859731078,
                 72.35217316353418
                ],
                [
                 -77.8246239895596,
                 72.74961660429098
                ],
                [
                 -75.60584469267573,
                 72.2436784939374
                ],
                [
                 -74.228616095665,
                 71.76714427355789
                ],
                [
                 -74.09914079455771,
                 71.33084015571758
                ],
                [
                 -72.24222571479768,
                 71.55692454699452
                ],
                [
                 -71.20001542833518,
                 70.92001251899718
                ],
                [
                 -68.7860542466849,
                 70.52502370877427
                ],
                [
                 -67.91497046575694,
                 70.12194753689765
                ],
                [
                 -66.9690333726542,
                 69.18608734809182
                ],
                [
                 -68.8051228502006,
                 68.72019847276444
                ],
                [
                 -66.4498660956339,
                 68.06716339789203
                ],
                [
                 -64.86231441919524,
                 67.84753856065159
                ],
                [
                 -63.424934454996794,
                 66.92847321234059
                ],
                [
                 -61.851981370680605,
                 66.86212067327783
                ],
                [
                 -62.16317684594226,
                 66.16025136988962
                ],
                [
                 -63.918444383384184,
                 64.9986685248329
                ],
                [
                 -65.14886023625368,
                 65.42603261988667
                ],
                [
                 -66.72121904159852,
                 66.38804108343219
                ],
                [
                 -68.015016038674,
                 66.26272573512439
                ],
                [
                 -68.1412874009792,
                 65.68978913030439
                ],
                [
                 -67.08964616562342,
                 65.10845510523696
                ],
                [
                 -65.73208045109976,
                 64.64840566675856
                ],
                [
                 -65.32016760930125,
                 64.38273712834605
                ],
                [
                 -64.66940629744968,
                 63.392926744227495
                ],
                [
                 -65.01380388045888,
                 62.67418508569598
                ],
                [
                 -66.27504472519048,
                 62.94509878198612
                ],
                [
                 -68.7831862046927,
                 63.74567007105183
                ],
                [
                 -67.36968075221309,
                 62.88396556258484
                ],
                [
                 -66.32829728866726,
                 62.28007477482201
                ],
                [
                 -66.16556820338015,
                 61.93089712182582
                ],
                [
                 -68.87736650254465,
                 62.330149237712824
                ],
                [
                 -71.02343705919385,
                 62.91070811629588
                ],
                [
                 -72.23537858751902,
                 63.39783600529522
                ],
                [
                 -71.88627844917127,
                 63.67998932560887
                ],
                [
                 -73.37830624051838,
                 64.19396312118384
                ],
                [
                 -74.83441891142263,
                 64.6790756293238
                ],
                [
                 -74.81850257027673,
                 64.38909332951793
                ],
                [
                 -77.70997982452008,
                 64.22954234481678
                ],
                [
                 -78.5559488593542,
                 64.57290639918013
                ],
                [
                 -77.89728105336198,
                 65.30919220647475
                ],
                [
                 -76.01827429879717,
                 65.32696889918314
                ],
                [
                 -73.95979529488268,
                 65.45476471624094
                ],
                [
                 -74.29388342964964,
                 65.81177134872938
                ],
                [
                 -73.94491248238262,
                 66.31057811142666
                ],
                [
                 -72.65116716173942,
                 67.28457550726391
                ],
                [
                 -72.92605994331605,
                 67.72692576768235
                ],
                [
                 -73.31161780464572,
                 68.06943716091287
                ],
                [
                 -74.84330725777684,
                 68.55462718370127
                ],
                [
                 -76.86910091826672,
                 68.89473562283025
                ],
                [
                 -76.22864905465738,
                 69.14776927354741
                ],
                [
                 -77.28736996123715,
                 69.76954010688321
                ],
                [
                 -78.1686339993266,
                 69.82648753526887
                ],
                [
                 -78.95724219431673,
                 70.16688019477543
                ],
                [
                 -79.49245500356366,
                 69.87180776638884
                ],
                [
                 -81.30547095409176,
                 69.74318512641436
                ],
                [
                 -84.94470618359851,
                 69.96663401964442
                ],
                [
                 -87.06000342481789,
                 70.26000112576538
                ],
                [
                 -88.68171322300148,
                 70.4107412787608
                ],
                [
                 -89.51341956252303,
                 70.76203766548095
                ],
                [
                 -88.46772111688082,
                 71.21818553332132
                ],
                [
                 -89.88815121128755,
                 71.22255219184997
                ],
                [
                 -90.20516028518205,
                 72.23507436796079
                ],
                [
                 -89.436576707705,
                 73.12946421985238
                ],
                [
                 -88.40824154331287,
                 73.53788890247121
                ],
                [
                 -85.82615108920098,
                 73.80381582304518
                ],
                [
                 -86.56217851433412,
                 73.15744700793844
                ],
                [
                 -85.77437130404454,
                 72.53412588163387
                ],
                [
                 -84.85011247428822,
                 73.34027822538708
                ],
                [
                 -82.31559017610101,
                 73.7509508328106
                ],
                [
                 -80.60008765330768,
                 72.71654368762417
                ],
                [
                 -80.74894161652443,
                 72.06190664335072
                ],
                [
                 -78.77063859731078,
                 72.35217316353418
                ]
               ]
              ],
              [
               [
                [
                 -94.50365759965237,
                 74.13490672473922
                ],
                [
                 -92.42001217321173,
                 74.1000251329422
                ],
                [
                 -90.50979285354263,
                 73.85673248971206
                ],
                [
                 -92.00396521682987,
                 72.96624420845852
                ],
                [
                 -93.19629553910026,
                 72.77199249947334
                ],
                [
                 -94.26904659704726,
                 72.02459625923599
                ],
                [
                 -95.40985551632266,
                 72.06188080513458
                ],
                [
                 -96.03374508338244,
                 72.94027680123183
                ],
                [
                 -96.01826799191102,
                 73.43742991809582
                ],
                [
                 -95.49579342322404,
                 73.86241689726417
                ],
                [
                 -94.50365759965237,
                 74.13490672473922
                ]
               ]
              ],
              [
               [
                [
                 -122.85492448615902,
                 76.11654287383568
                ],
                [
                 -122.85492529360326,
                 76.11654287383568
                ],
                [
                 -121.15753536032824,
                 76.86450755482828
                ],
                [
                 -119.1039389718211,
                 77.51221995717462
                ],
                [
                 -117.570130784966,
                 77.4983189968881
                ],
                [
                 -116.19858659550738,
                 77.6452867703262
                ],
                [
                 -116.33581336145845,
                 76.87696157501061
                ],
                [
                 -117.10605058476882,
                 76.53003184681911
                ],
                [
                 -118.04041215703819,
                 76.48117178008714
                ],
                [
                 -119.89931758688572,
                 76.053213406062
                ],
                [
                 -121.49999507712648,
                 75.90001862253276
                ],
                [
                 -122.85492448615902,
                 76.11654287383568
                ]
               ]
              ],
              [
               [
                [
                 -132.71000788443126,
                 54.04000931542356
                ],
                [
                 -131.74998958400334,
                 54.12000438090922
                ],
                [
                 -132.049480347351,
                 52.98462148702447
                ],
                [
                 -131.1790425218266,
                 52.180432847698285
                ],
                [
                 -131.57782954982298,
                 52.18237071390928
                ],
                [
                 -132.18042842677852,
                 52.639707139692405
                ],
                [
                 -132.54999243231384,
                 53.100014960332146
                ],
                [
                 -133.05461117875552,
                 53.411468817755406
                ],
                [
                 -133.2396644827927,
                 53.851080227262344
                ],
                [
                 -133.1800040417117,
                 54.169975490935315
                ],
                [
                 -132.71000788443126,
                 54.04000931542356
                ]
               ]
              ],
              [
               [
                [
                 -105.4922891914932,
                 79.30159393992916
                ],
                [
                 -103.52928239623795,
                 79.16534902619163
                ],
                [
                 -100.8251580472688,
                 78.80046173777872
                ],
                [
                 -100.0601918200522,
                 78.32475434031589
                ],
                [
                 -99.67093909381364,
                 77.90754466420744
                ],
                [
                 -101.30394019245301,
                 78.01898489044486
                ],
                [
                 -102.94980872273302,
                 78.34322866486023
                ],
                [
                 -105.17613277873151,
                 78.3803323432458
                ],
                [
                 -104.21042945027713,
                 78.67742015249176
                ],
                [
                 -105.41958045125853,
                 78.91833567983649
                ],
                [
                 -105.4922891914932,
                 79.30159393992916
                ]
               ]
              ],
              [
               [
                [
                 -123.51000158755119,
                 48.51001089130341
                ],
                [
                 -124.01289078839955,
                 48.37084625914139
                ],
                [
                 -125.65501277733838,
                 48.8250045843385
                ],
                [
                 -125.95499446679275,
                 49.17999583596759
                ],
                [
                 -126.85000443587185,
                 49.53000031188043
                ],
                [
                 -127.02999344954443,
                 49.81499583597008
                ],
                [
                 -128.0593363043662,
                 49.9949590114266
                ],
                [
                 -128.44458410710214,
                 50.539137681676095
                ],
                [
                 -128.35841365625546,
                 50.77064809834371
                ],
                [
                 -127.30858109602994,
                 50.552573554071955
                ],
                [
                 -126.69500097721235,
                 50.400903225295394
                ],
                [
                 -125.7550066738232,
                 50.29501821552935
                ],
                [
                 -125.4150015875588,
                 49.95000051533259
                ],
                [
                 -124.92076818911934,
                 49.475274970083376
                ],
                [
                 -123.92250870832106,
                 49.06248362893581
                ],
                [
                 -123.51000158755119,
                 48.51001089130341
                ]
               ]
              ],
              [
               [
                [
                 -121.53787999999997,
                 74.44893000000002
                ],
                [
                 -120.10978,
                 74.24135000000001
                ],
                [
                 -117.55563999999993,
                 74.18576999999993
                ],
                [
                 -116.58442000000002,
                 73.89607000000007
                ],
                [
                 -115.51080999999999,
                 73.47519
                ],
                [
                 -116.76793999999995,
                 73.22291999999999
                ],
                [
                 -119.22000000000003,
                 72.51999999999998
                ],
                [
                 -120.45999999999998,
                 71.82000000000005
                ],
                [
                 -120.45999999999998,
                 71.38360179308756
                ],
                [
                 -123.09218999999996,
                 70.90164000000004
                ],
                [
                 -123.62,
                 71.34000000000009
                ],
                [
                 -125.92894873747338,
                 71.86868846301138
                ],
                [
                 -125.49999999999994,
                 72.29226081179502
                ],
                [
                 -124.80729000000002,
                 73.02255999999994
                ],
                [
                 -123.93999999999994,
                 73.68000000000012
                ],
                [
                 -124.91774999999996,
                 74.29275000000013
                ],
                [
                 -121.53787999999997,
                 74.44893000000002
                ]
               ]
              ],
              [
               [
                [
                 -107.81943000000001,
                 75.84552000000001
                ],
                [
                 -106.92893000000001,
                 76.01282
                ],
                [
                 -105.881,
                 75.96940000000001
                ],
                [
                 -105.70498,
                 75.47951
                ],
                [
                 -106.31347000000001,
                 75.00527
                ],
                [
                 -109.70000000000002,
                 74.85000000000001
                ],
                [
                 -112.22306999999999,
                 74.41696
                ],
                [
                 -113.74381,
                 74.39427
                ],
                [
                 -113.87135,
                 74.72029
                ],
                [
                 -111.79420999999999,
                 75.16250000000001
                ],
                [
                 -116.31221,
                 75.04343
                ],
                [
                 -117.7104,
                 75.2222
                ],
                [
                 -116.34602000000001,
                 76.19903000000001
                ],
                [
                 -115.40487,
                 76.47887
                ],
                [
                 -112.59056000000001,
                 76.14134
                ],
                [
                 -110.81422,
                 75.54919
                ],
                [
                 -109.06710000000001,
                 75.47321000000001
                ],
                [
                 -110.49726000000001,
                 76.42982
                ],
                [
                 -109.58109999999999,
                 76.79417
                ],
                [
                 -108.54858999999999,
                 76.67832000000001
                ],
                [
                 -108.21141,
                 76.20168000000001
                ],
                [
                 -107.81943000000001,
                 75.84552000000001
                ]
               ]
              ],
              [
               [
                [
                 -106.52258999999992,
                 73.07601
                ],
                [
                 -105.40245999999996,
                 72.67259000000007
                ],
                [
                 -104.77484000000004,
                 71.6984000000001
                ],
                [
                 -104.4647599999999,
                 70.99297000000007
                ],
                [
                 -102.78537,
                 70.49776000000003
                ],
                [
                 -100.98077999999992,
                 70.02431999999999
                ],
                [
                 -101.08928999999995,
                 69.58447000000012
                ],
                [
                 -102.73115999999993,
                 69.50402000000003
                ],
                [
                 -102.09329000000002,
                 69.11962000000011
                ],
                [
                 -102.43024000000003,
                 68.75281999999999
                ],
                [
                 -104.24000000000001,
                 68.91000000000008
                ],
                [
                 -105.96000000000004,
                 69.18000000000012
                ],
                [
                 -107.12254000000001,
                 69.11922000000004
                ],
                [
                 -108.99999999999994,
                 68.78000000000003
                ],
                [
                 -111.53414887520017,
                 68.63005915681794
                ],
                [
                 -113.31320000000005,
                 68.53553999999997
                ],
                [
                 -113.85495999999989,
                 69.00744000000009
                ],
                [
                 -115.22000000000003,
                 69.28000000000009
                ],
                [
                 -116.10793999999999,
                 69.16821000000004
                ],
                [
                 -117.34000000000003,
                 69.9600000000001
                ],
                [
                 -116.67472999999995,
                 70.06655
                ],
                [
                 -115.13112000000001,
                 70.23730000000006
                ],
                [
                 -113.72140999999999,
                 70.1923700000001
                ],
                [
                 -112.41610000000003,
                 70.36637999999999
                ],
                [
                 -114.35000000000002,
                 70.60000000000002
                ],
                [
                 -116.48684000000003,
                 70.52044999999998
                ],
                [
                 -117.90480000000002,
                 70.54056000000014
                ],
                [
                 -118.43238000000002,
                 70.90920000000006
                ],
                [
                 -116.11311,
                 71.30917999999997
                ],
                [
                 -117.65567999999996,
                 71.29520000000002
                ],
                [
                 -119.40199000000001,
                 71.55858999999998
                ],
                [
                 -118.56266999999997,
                 72.30785000000003
                ],
                [
                 -117.86641999999995,
                 72.70594000000006
                ],
                [
                 -115.18909000000002,
                 73.31459000000012
                ],
                [
                 -114.16716999999994,
                 73.1214500000001
                ],
                [
                 -114.66633999999999,
                 72.65277000000009
                ],
                [
                 -112.44101999999992,
                 72.95540000000011
                ],
                [
                 -111.05039,
                 72.45040000000006
                ],
                [
                 -109.92034999999993,
                 72.96113000000008
                ],
                [
                 -109.00653999999997,
                 72.63335000000001
                ],
                [
                 -108.18834999999996,
                 71.65089
                ],
                [
                 -107.68599,
                 72.0654800000001
                ],
                [
                 -108.39639,
                 73.08953000000008
                ],
                [
                 -107.51645000000002,
                 73.23597999999998
                ],
                [
                 -106.52258999999992,
                 73.07601
                ]
               ]
              ],
              [
               [
                [
                 -100.43836,
                 72.70588000000001
                ],
                [
                 -101.54,
                 73.36
                ],
                [
                 -100.35642000000001,
                 73.84389
                ],
                [
                 -99.16387,
                 73.63339
                ],
                [
                 -97.38,
                 73.76
                ],
                [
                 -97.12,
                 73.47
                ],
                [
                 -98.05359,
                 72.99052
                ],
                [
                 -96.54,
                 72.56
                ],
                [
                 -96.72000000000001,
                 71.66
                ],
                [
                 -98.35966,
                 71.27284999999999
                ],
                [
                 -99.32286,
                 71.35639
                ],
                [
                 -100.01482,
                 71.73827
                ],
                [
                 -102.5,
                 72.51
                ],
                [
                 -102.48000000000002,
                 72.83000000000001
                ],
                [
                 -100.43836,
                 72.70588000000001
                ]
               ]
              ],
              [
               [
                [
                 -106.6,
                 73.60000000000001
                ],
                [
                 -105.26,
                 73.64
                ],
                [
                 -104.5,
                 73.42
                ],
                [
                 -105.38000000000001,
                 72.76
                ],
                [
                 -106.94,
                 73.46000000000001
                ],
                [
                 -106.6,
                 73.60000000000001
                ]
               ]
              ],
              [
               [
                [
                 -98.50000000000001,
                 76.72
                ],
                [
                 -97.735585,
                 76.25656000000001
                ],
                [
                 -97.70441500000001,
                 75.74344
                ],
                [
                 -98.16000000000001,
                 75
                ],
                [
                 -99.80874,
                 74.89744
                ],
                [
                 -100.88365999999999,
                 75.05736
                ],
                [
                 -100.86292000000002,
                 75.64075
                ],
                [
                 -102.50209,
                 75.5638
                ],
                [
                 -102.56552,
                 76.3366
                ],
                [
                 -101.48973,
                 76.30537
                ],
                [
                 -99.98349,
                 76.64634
                ],
                [
                 -98.57699,
                 76.58859
                ],
                [
                 -98.50000000000001,
                 76.72
                ]
               ]
              ],
              [
               [
                [
                 -96.01644,
                 80.60233000000001
                ],
                [
                 -95.32345000000001,
                 80.90729
                ],
                [
                 -94.29843,
                 80.97727
                ],
                [
                 -94.73542,
                 81.20646000000002
                ],
                [
                 -92.40983999999999,
                 81.25739000000003
                ],
                [
                 -91.13288999999999,
                 80.72345000000003
                ],
                [
                 -89.45000000000002,
                 80.50932203389831
                ],
                [
                 -87.81,
                 80.32000000000001
                ],
                [
                 -87.02000000000001,
                 79.66000000000001
                ],
                [
                 -85.81435,
                 79.3369
                ],
                [
                 -87.18755999999999,
                 79.0393
                ],
                [
                 -89.03535000000001,
                 78.28723
                ],
                [
                 -90.80436,
                 78.21533000000001
                ],
                [
                 -92.87669000000001,
                 78.34333000000001
                ],
                [
                 -93.95116000000002,
                 78.75099
                ],
                [
                 -93.93574,
                 79.11373
                ],
                [
                 -93.14524,
                 79.3801
                ],
                [
                 -94.974,
                 79.37248
                ],
                [
                 -96.07614000000001,
                 79.70502
                ],
                [
                 -96.70972,
                 80.15777
                ],
                [
                 -96.01644,
                 80.60233000000001
                ]
               ]
              ],
              [
               [
                [
                 -91.58702000000001,
                 81.89429000000001
                ],
                [
                 -90.10000000000001,
                 82.08500000000004
                ],
                [
                 -88.93227,
                 82.11751000000001
                ],
                [
                 -86.97024,
                 82.27961
                ],
                [
                 -85.5,
                 82.65227345805702
                ],
                [
                 -84.260005,
                 82.60000000000001
                ],
                [
                 -83.18,
                 82.32
                ],
                [
                 -82.42,
                 82.86000000000001
                ],
                [
                 -81.1,
                 83.02
                ],
                [
                 -79.30664,
                 83.13056
                ],
                [
                 -76.25,
                 83.17205882352941
                ],
                [
                 -75.71878000000001,
                 83.06404000000002
                ],
                [
                 -72.83153,
                 83.23324000000001
                ],
                [
                 -70.66576500000001,
                 83.16978075838284
                ],
                [
                 -68.50000000000001,
                 83.10632151676572
                ],
                [
                 -65.82735,
                 83.02801000000001
                ],
                [
                 -63.68,
                 82.9
                ],
                [
                 -61.85,
                 82.62860000000002
                ],
                [
                 -61.89388,
                 82.36165000000001
                ],
                [
                 -64.334,
                 81.92775000000002
                ],
                [
                 -66.75342,
                 81.72527000000001
                ],
                [
                 -67.65755,
                 81.50141
                ],
                [
                 -65.48031,
                 81.50657000000002
                ],
                [
                 -67.84,
                 80.90000000000003
                ],
                [
                 -69.4697,
                 80.61683000000001
                ],
                [
                 -71.18,
                 79.8
                ],
                [
                 -73.2428,
                 79.63415
                ],
                [
                 -73.88000000000001,
                 79.43016220480206
                ],
                [
                 -76.90773,
                 79.32309000000001
                ],
                [
                 -75.52924,
                 79.19766000000001
                ],
                [
                 -76.22046,
                 79.01907
                ],
                [
                 -75.39345,
                 78.52581
                ],
                [
                 -76.34354,
                 78.18296000000001
                ],
                [
                 -77.88851000000001,
                 77.89991
                ],
                [
                 -78.36269,
                 77.50859000000001
                ],
                [
                 -79.75951,
                 77.20967999999999
                ],
                [
                 -79.61965000000001,
                 76.98336
                ],
                [
                 -77.91089000000001,
                 77.022045
                ],
                [
                 -77.88911,
                 76.777955
                ],
                [
                 -80.56125,
                 76.17812
                ],
                [
                 -83.17439,
                 76.45403
                ],
                [
                 -86.11184,
                 76.29901000000001
                ],
                [
                 -87.60000000000001,
                 76.42
                ],
                [
                 -89.49068,
                 76.47239
                ],
                [
                 -89.6161,
                 76.95213000000001
                ],
                [
                 -87.76739,
                 77.17833
                ],
                [
                 -88.26,
                 77.9
                ],
                [
                 -87.65,
                 77.97022222222223
                ],
                [
                 -84.97634,
                 77.53873
                ],
                [
                 -86.34,
                 78.18
                ],
                [
                 -87.96191999999999,
                 78.37181
                ],
                [
                 -87.15198000000001,
                 78.75867
                ],
                [
                 -85.37868,
                 78.99690000000001
                ],
                [
                 -85.09495,
                 79.34543000000001
                ],
                [
                 -86.50734,
                 79.73624
                ],
                [
                 -86.93179,
                 80.25145
                ],
                [
                 -84.19844,
                 80.20836
                ],
                [
                 -83.40869565217389,
                 80.10000000000001
                ],
                [
                 -81.84823,
                 80.46442
                ],
                [
                 -84.1,
                 80.58
                ],
                [
                 -87.59895,
                 80.51627
                ],
                [
                 -89.36663,
                 80.85569000000001
                ],
                [
                 -90.2,
                 81.26
                ],
                [
                 -91.36786000000001,
                 81.5531
                ],
                [
                 -91.58702000000001,
                 81.89429000000001
                ]
               ]
              ],
              [
               [
                [
                 -75.21597,
                 67.44425
                ],
                [
                 -75.86588,
                 67.14886
                ],
                [
                 -76.98687,
                 67.09873
                ],
                [
                 -77.2364,
                 67.58809000000001
                ],
                [
                 -76.81166,
                 68.14856
                ],
                [
                 -75.89521,
                 68.28721
                ],
                [
                 -75.11449999999999,
                 68.01035999999999
                ],
                [
                 -75.10333,
                 67.58202
                ],
                [
                 -75.21597,
                 67.44425
                ]
               ]
              ],
              [
               [
                [
                 -96.25740120380055,
                 69.49003035832177
                ],
                [
                 -95.64768120380054,
                 69.10769035832178
                ],
                [
                 -96.26952120380055,
                 68.75704035832177
                ],
                [
                 -97.61740120380055,
                 69.06003035832177
                ],
                [
                 -98.43180120380055,
                 68.95070035832177
                ],
                [
                 -99.79740120380055,
                 69.40003035832177
                ],
                [
                 -98.91740120380055,
                 69.71003035832177
                ],
                [
                 -98.21826120380055,
                 70.14354035832177
                ],
                [
                 -97.15740120380055,
                 69.86003035832177
                ],
                [
                 -96.55740120380055,
                 69.68003035832177
                ],
                [
                 -96.25740120380055,
                 69.49003035832177
                ]
               ]
              ],
              [
               [
                [
                 -64.51912,
                 49.87304
                ],
                [
                 -64.17322,
                 49.95718
                ],
                [
                 -62.858290000000004,
                 49.70641
                ],
                [
                 -61.835584999999995,
                 49.28855
                ],
                [
                 -61.806304999999995,
                 49.10506000000001
                ],
                [
                 -62.29318,
                 49.08717
                ],
                [
                 -63.589259999999996,
                 49.400690000000004
                ],
                [
                 -64.51912,
                 49.87304
                ]
               ]
              ],
              [
               [
                [
                 -64.01486,
                 47.03601
                ],
                [
                 -63.6645,
                 46.55001
                ],
                [
                 -62.9393,
                 46.41587
                ],
                [
                 -62.012080000000005,
                 46.44314
                ],
                [
                 -62.503910000000005,
                 46.033390000000004
                ],
                [
                 -62.87433,
                 45.968180000000004
                ],
                [
                 -64.14280000000001,
                 46.39265
                ],
                [
                 -64.39261,
                 46.72747
                ],
                [
                 -64.01486,
                 47.03601
                ]
               ]
              ]
             ],
             "type": "MultiPolygon"
            },
            "id": "6",
            "properties": {
             "Country_std": "Canada",
             "ISO3": "CAN",
             "n_unicorns": 15,
             "total_val": 37.73
            },
            "type": "Feature"
           },
           {
            "geometry": {
             "coordinates": [
              [
               [
                9.59422610844635,
                47.52505809182027
               ],
               [
                9.632931756232978,
                47.34760122332999
               ],
               [
                9.479969516649021,
                47.102809963563374
               ],
               [
                9.932448357796659,
                46.92072805438296
               ],
               [
                10.44270145024663,
                46.89354625099743
               ],
               [
                10.363378126678612,
                46.48357127540986
               ],
               [
                9.922836541390382,
                46.31489940040919
               ],
               [
                9.182881707403055,
                46.44021474871698
               ],
               [
                8.966305779667806,
                46.03693187111119
               ],
               [
                8.489952426801324,
                46.005150865251686
               ],
               [
                8.31662967289438,
                46.16364248309086
               ],
               [
                7.7559920589598335,
                45.82449005795931
               ],
               [
                7.2738509456766565,
                45.776947740250776
               ],
               [
                6.843592970414505,
                45.99114655210061
               ],
               [
                6.5000997249704255,
                46.42967275652944
               ],
               [
                6.022609490593538,
                46.27298981382047
               ],
               [
                6.037388950229001,
                46.725778713561866
               ],
               [
                6.768713820023606,
                47.2877082383037
               ],
               [
                6.736571079138059,
                47.541801255882845
               ],
               [
                7.192202182655507,
                47.44976552997102
               ],
               [
                7.466759067422231,
                47.62058197691181
               ],
               [
                8.317301466514095,
                47.61357982033627
               ],
               [
                8.522611932009767,
                47.83082754169129
               ],
               [
                9.59422610844635,
                47.52505809182027
               ]
              ]
             ],
             "type": "Polygon"
            },
            "id": "7",
            "properties": {
             "Country_std": "Switzerland",
             "ISO3": "CHE",
             "n_unicorns": 4,
             "total_val": 5.6
            },
            "type": "Feature"
           },
           {
            "geometry": {
             "coordinates": [
              [
               [
                [
                 -68.63401022758323,
                 -52.63637045887449
                ],
                [
                 -68.63335000000001,
                 -54.869499999999995
                ],
                [
                 -67.56244,
                 -54.87001
                ],
                [
                 -66.95992000000001,
                 -54.896810000000016
                ],
                [
                 -67.29102999999992,
                 -55.30123999999995
                ],
                [
                 -68.14862999999991,
                 -55.61183
                ],
                [
                 -68.63999081081187,
                 -55.58001799908692
                ],
                [
                 -69.2321,
                 -55.49905999999993
                ],
                [
                 -69.95808999999997,
                 -55.19843000000003
                ],
                [
                 -71.00567999999998,
                 -55.053830000000005
                ],
                [
                 -72.26390000000004,
                 -54.49513999999999
                ],
                [
                 -73.28519999999997,
                 -53.95751999999993
                ],
                [
                 -74.66253,
                 -52.837489999999946
                ],
                [
                 -73.8381,
                 -53.04743000000002
                ],
                [
                 -72.43417999999997,
                 -53.71539999999999
                ],
                [
                 -71.10773,
                 -54.07432999999992
                ],
                [
                 -70.59177999999986,
                 -53.61582999999996
                ],
                [
                 -70.26747999999998,
                 -52.93123000000003
                ],
                [
                 -69.34564999999992,
                 -52.518299999999954
                ],
                [
                 -68.63401022758323,
                 -52.63637045887449
                ]
               ]
              ],
              [
               [
                [
                 -69.59042375352405,
                 -17.580011895419332
                ],
                [
                 -69.10024695501949,
                 -18.260125420812678
                ],
                [
                 -68.96681840684187,
                 -18.981683444904107
                ],
                [
                 -68.44222510443092,
                 -19.40506845467143
                ],
                [
                 -68.75716712103375,
                 -20.372657972904463
                ],
                [
                 -68.21991309271128,
                 -21.494346612231865
                ],
                [
                 -67.82817989772273,
                 -22.872918796482175
                ],
                [
                 -67.1066735500636,
                 -22.735924574476417
                ],
                [
                 -66.9852339341777,
                 -22.98634856536284
                ],
                [
                 -67.32844295924417,
                 -24.02530323659095
                ],
                [
                 -68.41765296087614,
                 -24.51855478281688
                ],
                [
                 -68.38600114609736,
                 -26.185016371365215
                ],
                [
                 -68.59479977077268,
                 -26.506908868111296
                ],
                [
                 -68.29554155137043,
                 -26.89933969493578
                ],
                [
                 -69.00123491074825,
                 -27.52121388113618
                ],
                [
                 -69.65613033718317,
                 -28.459141127233686
                ],
                [
                 -70.01355038112992,
                 -29.367922865518572
                ],
                [
                 -69.91900834825194,
                 -30.33633920666828
                ],
                [
                 -70.53506893581951,
                 -31.36501026787031
                ],
                [
                 -70.0743993801536,
                 -33.09120981214805
                ],
                [
                 -69.81477698431922,
                 -33.273886000299825
                ],
                [
                 -69.81730912950152,
                 -34.1935714657983
                ],
                [
                 -70.38804948594913,
                 -35.16968759535949
                ],
                [
                 -70.36476925320164,
                 -36.00508879978992
                ],
                [
                 -71.12188066270987,
                 -36.65812387466232
                ],
                [
                 -71.11862504747549,
                 -37.57682748794724
                ],
                [
                 -70.81466427273469,
                 -38.55299529394074
                ],
                [
                 -71.41351660834906,
                 -38.91602223079114
                ],
                [
                 -71.68076127794649,
                 -39.808164157878046
                ],
                [
                 -71.91573401557763,
                 -40.83233936947069
                ],
                [
                 -71.7468037584155,
                 -42.05138640723598
                ],
                [
                 -72.14889807807856,
                 -42.254888197601375
                ],
                [
                 -71.91542395698389,
                 -43.40856454851745
                ],
                [
                 -71.46405615913051,
                 -43.787611179378345
                ],
                [
                 -71.79362260607193,
                 -44.207172133156064
                ],
                [
                 -71.32980078803622,
                 -44.407521661151655
                ],
                [
                 -71.22277889675976,
                 -44.784242852559416
                ],
                [
                 -71.65931555854536,
                 -44.973688653341426
                ],
                [
                 -71.55200944689128,
                 -45.5607329241771
                ],
                [
                 -71.91725847033024,
                 -46.88483814879177
                ],
                [
                 -72.44735531278027,
                 -47.73853281025352
                ],
                [
                 -72.33116085477201,
                 -48.2442383766618
                ],
                [
                 -72.64824744331494,
                 -48.87861825947683
                ],
                [
                 -73.4154357571201,
                 -49.31843637471297
                ],
                [
                 -73.32805091011453,
                 -50.378785088909915
                ],
                [
                 -72.97574683296469,
                 -50.741450290734285
                ],
                [
                 -72.30997351753234,
                 -50.67700977966632
                ],
                [
                 -72.32940385607407,
                 -51.42595631287243
                ],
                [
                 -71.91480383979638,
                 -52.0090223058659
                ],
                [
                 -69.49836218939609,
                 -52.14276091263727
                ],
                [
                 -68.57154537624133,
                 -52.299443855346226
                ],
                [
                 -69.46128434922667,
                 -52.29195077266391
                ],
                [
                 -69.9427795071062,
                 -52.53793059037322
                ],
                [
                 -70.8451016913546,
                 -52.89920052852571
                ],
                [
                 -71.00633216010525,
                 -53.83325204220132
                ],
                [
                 -71.429794684521,
                 -53.85645476030037
                ],
                [
                 -72.55794287788488,
                 -53.53141000118449
                ],
                [
                 -73.7027567206629,
                 -52.835069268607235
                ],
                [
                 -73.7027567206629,
                 -52.835070076051494
                ],
                [
                 -74.94676347522517,
                 -52.262753588419
                ],
                [
                 -75.2600260077785,
                 -51.62935475037325
                ],
                [
                 -74.97663245308988,
                 -51.0433956846157
                ],
                [
                 -75.47975419788355,
                 -50.37837167745158
                ],
                [
                 -75.60801510283198,
                 -48.67377288187184
                ],
                [
                 -75.18276974150216,
                 -47.7119194476232
                ],
                [
                 -74.1265809801047,
                 -46.93925343199511
                ],
                [
                 -75.64439531116545,
                 -46.64764332457207
                ],
                [
                 -74.69215369332312,
                 -45.76397633238103
                ],
                [
                 -74.35170935738425,
                 -44.10304412208794
                ],
                [
                 -73.24035600451522,
                 -44.454960625995604
                ],
                [
                 -72.7178039211798,
                 -42.38335580827898
                ],
                [
                 -73.38889990913822,
                 -42.117532240569574
                ],
                [
                 -73.70133561877488,
                 -43.365776462579774
                ],
                [
                 -74.33194312203261,
                 -43.22495818458442
                ],
                [
                 -74.0179571194272,
                 -41.79481292090683
                ],
                [
                 -73.67709937202999,
                 -39.94221282324317
                ],
                [
                 -73.21759253609065,
                 -39.25868865331856
                ],
                [
                 -73.50555945503712,
                 -38.282882582351114
                ],
                [
                 -73.58806087919109,
                 -37.15628468195598
                ],
                [
                 -73.1667170884993,
                 -37.12378020604439
                ],
                [
                 -72.55313696968174,
                 -35.50884002049106
                ],
                [
                 -71.86173214383263,
                 -33.90909270603153
                ],
                [
                 -71.4384504869299,
                 -32.41889942803078
                ],
                [
                 -71.66872066922247,
                 -30.920644626592495
                ],
                [
                 -71.37008256700773,
                 -30.09568206148503
                ],
                [
                 -71.48989437527645,
                 -28.861442152625923
                ],
                [
                 -70.90512386746161,
                 -27.640379734001247
                ],
                [
                 -70.72495398627599,
                 -25.705924167587256
                ],
                [
                 -70.40396582709502,
                 -23.628996677344574
                ],
                [
                 -70.09124589708074,
                 -21.39331918710126
                ],
                [
                 -70.16441972520605,
                 -19.756468194256165
                ],
                [
                 -70.37257239447771,
                 -18.34797535570887
                ],
                [
                 -69.85844356960587,
                 -18.092693780187012
                ],
                [
                 -69.59042375352405,
                 -17.580011895419332
                ]
               ]
              ]
             ],
             "type": "MultiPolygon"
            },
            "id": "8",
            "properties": {
             "Country_std": "Chile",
             "ISO3": "CHL",
             "n_unicorns": 1,
             "total_val": 1.5
            },
            "type": "Feature"
           },
           {
            "geometry": {
             "coordinates": [
              [
               [
                -66.87632585312258,
                1.253360500489336
               ],
               [
                -67.0650481838525,
                1.130112209473225
               ],
               [
                -67.2599975246736,
                1.7199986840849562
               ],
               [
                -67.5378100246747,
                2.03716278727633
               ],
               [
                -67.86856502955884,
                1.6924551456733923
               ],
               [
                -69.81697323269162,
                1.7148052026396243
               ],
               [
                -69.80459672715773,
                1.0890811222334662
               ],
               [
                -69.21863766140018,
                0.9856765812174331
               ],
               [
                -69.25243404811906,
                0.6026508650700748
               ],
               [
                -69.45239600287246,
                0.7061587589506929
               ],
               [
                -70.01556576198931,
                0.5414142928042054
               ],
               [
                -70.02065589057005,
                -0.18515634521953928
               ],
               [
                -69.5770653957766,
                -0.549991957200163
               ],
               [
                -69.42048580593223,
                -1.1226185034264091
               ],
               [
                -69.44410193548961,
                -1.5562871232198177
               ],
               [
                -69.89363521999663,
                -4.2981869441943275
               ],
               [
                -70.39404395209499,
                -3.7665914852078255
               ],
               [
                -70.69268205430971,
                -3.742872002785859
               ],
               [
                -70.04770850287485,
                -2.725156345229699
               ],
               [
                -70.81347571479196,
                -2.2568645158007428
               ],
               [
                -71.41364579942979,
                -2.3428024227021282
               ],
               [
                -71.7747607082854,
                -2.169789727388938
               ],
               [
                -72.32578650581365,
                -2.434218031426454
               ],
               [
                -73.07039221870724,
                -2.3089543595509525
               ],
               [
                -73.6595035468346,
                -1.2604912247811342
               ],
               [
                -74.12239518908906,
                -1.002832533373848
               ],
               [
                -74.44160051135597,
                -0.5308200008198867
               ],
               [
                -75.10662451852008,
                -0.05720549886486026
               ],
               [
                -75.37322323271385,
                -0.1520317521204504
               ],
               [
                -75.8014658271166,
                0.08480133707320192
               ],
               [
                -76.29231441924097,
                0.4160472680641192
               ],
               [
                -76.5763797675494,
                0.256935533037435
               ],
               [
                -77.4249843004304,
                0.395686753741117
               ],
               [
                -77.66861284047044,
                0.8258930525709616
               ],
               [
                -77.85506140817952,
                0.8099250349927729
               ],
               [
                -78.85525875518871,
                1.380923773601822
               ],
               [
                -78.99093522817104,
                1.6913699405952514
               ],
               [
                -78.61783138702371,
                1.766404120283056
               ],
               [
                -78.66211808949785,
                2.2673554549204766
               ],
               [
                -78.42761043975733,
                2.629555568854215
               ],
               [
                -77.93154252797149,
                2.6966057397529255
               ],
               [
                -77.51043128122501,
                3.325016994638247
               ],
               [
                -77.12768978545526,
                3.8496361352653565
               ],
               [
                -77.49627193877703,
                4.087606105969428
               ],
               [
                -77.3076012844794,
                4.6679841170394525
               ],
               [
                -77.53322058786573,
                5.582811997902497
               ],
               [
                -77.31881507028675,
                5.84535411216136
               ],
               [
                -77.47666073272228,
                6.691116441266303
               ],
               [
                -77.88157141794525,
                7.223771267114785
               ],
               [
                -77.7534138658614,
                7.709839789252143
               ],
               [
                -77.43110795765699,
                7.638061224798734
               ],
               [
                -77.24256649444008,
                7.935278225125444
               ],
               [
                -77.47472286651133,
                8.524286200388218
               ],
               [
                -77.35336076527386,
                8.67050466555807
               ],
               [
                -76.83667395700357,
                8.638749497914716
               ],
               [
                -76.08638383655786,
                9.336820583529487
               ],
               [
                -75.67460018584006,
                9.443248195834599
               ],
               [
                -75.66470414905618,
                9.774003200718738
               ],
               [
                -75.48042599150335,
                10.618990383339309
               ],
               [
                -74.90689510771199,
                11.083044745320322
               ],
               [
                -74.27675269234489,
                11.102035834187587
               ],
               [
                -74.1972226630477,
                11.310472723836867
               ],
               [
                -73.41476396350029,
                11.22701528568548
               ],
               [
                -72.62783525255963,
                11.731971543825523
               ],
               [
                -72.23819495307892,
                11.955549628136326
               ],
               [
                -71.75409013536864,
                12.437303168177309
               ],
               [
                -71.3998223537917,
                12.376040757695293
               ],
               [
                -71.13746110704588,
                12.112981879113505
               ],
               [
                -71.3315836249503,
                11.776284084515808
               ],
               [
                -71.97392167833829,
                11.60867157637712
               ],
               [
                -72.22757544624294,
                11.10870209395324
               ],
               [
                -72.61465776232521,
                10.821975409381778
               ],
               [
                -72.9052860175347,
                10.450344346554772
               ],
               [
                -73.02760413276957,
                9.736770331252444
               ],
               [
                -73.30495154488005,
                9.151999823437606
               ],
               [
                -72.7887298245004,
                9.085027167187334
               ],
               [
                -72.6604947577681,
                8.625287787302682
               ],
               [
                -72.43986223009796,
                8.405275376820029
               ],
               [
                -72.36090064155597,
                8.002638454617895
               ],
               [
                -72.47967892117885,
                7.632506008327354
               ],
               [
                -72.44448727078807,
                7.423784898300482
               ],
               [
                -72.19835242378188,
                7.340430813013683
               ],
               [
                -71.96017574734864,
                6.991614895043539
               ],
               [
                -70.67423356798152,
                7.087784735538719
               ],
               [
                -70.09331295437242,
                6.96037649172311
               ],
               [
                -69.38947994655712,
                6.0998605411988365
               ],
               [
                -68.98531856960236,
                6.206804917826858
               ],
               [
                -68.26505245631823,
                6.153268133972475
               ],
               [
                -67.69508724635502,
                6.267318020040647
               ],
               [
                -67.34143958196557,
                6.095468044454023
               ],
               [
                -67.52153194850275,
                5.556870428891969
               ],
               [
                -67.74469662135522,
                5.221128648291668
               ],
               [
                -67.82301225449355,
                4.503937282728899
               ],
               [
                -67.62183590358129,
                3.8394817163199946
               ],
               [
                -67.33756384954368,
                3.5423422306417223
               ],
               [
                -67.30317318385345,
                3.31845408773718
               ],
               [
                -67.8099381171237,
                2.820655015469569
               ],
               [
                -67.44709204778631,
                2.6002808699608693
               ],
               [
                -67.18129431829307,
                2.250638129074062
               ],
               [
                -66.87632585312258,
                1.253360500489336
               ]
              ]
             ],
             "type": "Polygon"
            },
            "id": "9",
            "properties": {
             "Country_std": "Colombia",
             "ISO3": "COL",
             "n_unicorns": 2,
             "total_val": 6.4
            },
            "type": "Feature"
           },
           {
            "geometry": {
             "coordinates": [
              [
               [
                14.119686313542559,
                53.75702912049104
               ],
               [
                14.353315463934138,
                53.24817129171297
               ],
               [
                14.074521111719434,
                52.98126251892535
               ],
               [
                14.437599725002201,
                52.62485016540839
               ],
               [
                14.685026482815687,
                52.0899474147552
               ],
               [
                14.607098422919535,
                51.74518809671997
               ],
               [
                15.01699588385867,
                51.10667409932158
               ],
               [
                14.570718214586066,
                51.002339382524276
               ],
               [
                14.307013380600637,
                51.117267767941414
               ],
               [
                14.056227654688172,
                50.9269176295943
               ],
               [
                13.338131951560285,
                50.73323436136435
               ],
               [
                12.966836785543194,
                50.484076443069085
               ],
               [
                12.240111118222558,
                50.266337795607285
               ],
               [
                12.415190870827445,
                49.96912079528057
               ],
               [
                12.521024204161193,
                49.547415269562734
               ],
               [
                13.031328973043431,
                49.30706818297324
               ],
               [
                13.595945672264437,
                48.87717194273715
               ],
               [
                13.243357374737,
                48.416114813829054
               ],
               [
                12.884102817443875,
                48.28914581968786
               ],
               [
                13.02585127122049,
                47.63758352313583
               ],
               [
                12.932626987365948,
                47.467645575544
               ],
               [
                12.620759718484493,
                47.67238760028441
               ],
               [
                12.141357456112788,
                47.703083401065776
               ],
               [
                11.426414015354737,
                47.523766181012974
               ],
               [
                10.544504021861599,
                47.5663992376538
               ],
               [
                10.402083774465211,
                47.30248769793916
               ],
               [
                9.89606814946319,
                47.580196845075704
               ],
               [
                9.59422610844635,
                47.52505809182027
               ],
               [
                8.522611932009767,
                47.83082754169129
               ],
               [
                8.317301466514095,
                47.61357982033627
               ],
               [
                7.466759067422231,
                47.62058197691181
               ],
               [
                7.593676385131062,
                48.33301911070372
               ],
               [
                8.099278598674744,
                49.01778351500333
               ],
               [
                6.658229607783568,
                49.20195831969157
               ],
               [
                6.186320428094177,
                49.463802802114515
               ],
               [
                6.242751092156993,
                49.90222565367873
               ],
               [
                6.043073357781111,
                50.128051662794235
               ],
               [
                6.15665815595878,
                50.80372101501058
               ],
               [
                5.988658074577813,
                51.851615709025054
               ],
               [
                6.589396599970826,
                51.852029120483394
               ],
               [
                6.842869500362383,
                52.22844025329755
               ],
               [
                7.092053256873896,
                53.144043280644894
               ],
               [
                6.905139601274129,
                53.48216217713065
               ],
               [
                7.100424838905269,
                53.69393219666267
               ],
               [
                7.936239454793963,
                53.74829580343379
               ],
               [
                8.121706170289485,
                53.52779246684429
               ],
               [
                8.800734490604668,
                54.020785630908904
               ],
               [
                8.57211795414537,
                54.39564647075406
               ],
               [
                8.526229282270208,
                54.96274363872516
               ],
               [
                9.282048780971138,
                54.830865383516176
               ],
               [
                9.921906365609118,
                54.98310415304803
               ],
               [
                9.9395797054529,
                54.596641954153256
               ],
               [
                10.950112338920519,
                54.363607082733154
               ],
               [
                10.93946699386845,
                54.00869334575259
               ],
               [
                11.956252475643282,
                54.19648550070116
               ],
               [
                12.518440382546714,
                54.470370591847995
               ],
               [
                13.647467075259499,
                54.0755109727059
               ],
               [
                14.119686313542559,
                53.75702912049104
               ]
              ]
             ],
             "type": "Polygon"
            },
            "id": "10",
            "properties": {
             "Country_std": "Germany",
             "ISO3": "DEU",
             "n_unicorns": 23,
             "total_val": 66.63
            },
            "type": "Feature"
           },
           {
            "geometry": {
             "coordinates": [
              [
               [
                [
                 9.921906365609118,
                 54.98310415304803
                ],
                [
                 9.282048780971138,
                 54.830865383516176
                ],
                [
                 8.526229282270208,
                 54.96274363872516
                ],
                [
                 8.120310906617533,
                 55.5177226833236
                ],
                [
                 8.08997684086222,
                 56.54001170513759
                ],
                [
                 8.256581658571207,
                 56.80996938743033
                ],
                [
                 8.543437534223415,
                 57.11000275331695
                ],
                [
                 9.424469028367554,
                 57.1720661484995
                ],
                [
                 9.775558709358535,
                 57.44794078228966
                ],
                [
                 10.580005730846125,
                 57.73001658795485
                ],
                [
                 10.546105991262664,
                 57.21573273378612
                ],
                [
                 10.250000034230226,
                 56.89001618105044
                ],
                [
                 10.369992710011957,
                 56.60998159446079
                ],
                [
                 10.912181837618306,
                 56.458621324277885
                ],
                [
                 10.667803989310016,
                 56.08138336854721
                ],
                [
                 10.369992710011957,
                 56.19000722922473
                ],
                [
                 9.649984978889279,
                 55.469999498102055
                ],
                [
                 9.921906365609118,
                 54.98310415304803
                ]
               ]
              ],
              [
               [
                [
                 12.370904168353292,
                 56.111407375708794
                ],
                [
                 12.690006137755603,
                 55.60999095318074
                ],
                [
                 12.089991082414684,
                 54.80001455343792
                ],
                [
                 11.043543328504226,
                 55.36486379660424
                ],
                [
                 10.903913608451603,
                 55.77995473898872
                ],
                [
                 12.370904168353292,
                 56.111407375708794
                ]
               ]
              ]
             ],
             "type": "MultiPolygon"
            },
            "id": "11",
            "properties": {
             "Country_std": "Denmark",
             "ISO3": "DNK",
             "n_unicorns": 2,
             "total_val": 2.7
            },
            "type": "Feature"
           },
           {
            "geometry": {
             "coordinates": [
              [
               [
                -7.453725551778092,
                37.09778758396607
               ],
               [
                -7.537105475281024,
                37.42890432387624
               ],
               [
                -7.166507941099865,
                37.803894354802225
               ],
               [
                -7.029281175148796,
                38.07576406508977
               ],
               [
                -7.374092169616318,
                38.37305858006492
               ],
               [
                -7.098036668313128,
                39.03007274022379
               ],
               [
                -7.498632371439726,
                39.62957103124181
               ],
               [
                -7.066591559263529,
                39.711891587882775
               ],
               [
                -7.026413133156595,
                40.184524237624245
               ],
               [
                -6.864019944679385,
                40.33087189387483
               ],
               [
                -6.851126674822552,
                41.11108266861753
               ],
               [
                -6.389087693700915,
                41.381815497394655
               ],
               [
                -6.6686055159676565,
                41.883386949219584
               ],
               [
                -7.251308966490824,
                41.91834605566505
               ],
               [
                -7.422512986673795,
                41.79207469335984
               ],
               [
                -8.013174607769912,
                41.790886135417125
               ],
               [
                -8.263856980817792,
                42.28046865495034
               ],
               [
                -8.67194576662672,
                42.13468943945496
               ],
               [
                -9.034817674180246,
                41.880570583659676
               ],
               [
                -8.984433152695672,
                42.59277517350627
               ],
               [
                -9.392883673530648,
                43.0266246608127
               ],
               [
                -7.97818966310831,
                43.74833771420099
               ],
               [
                -6.754491746436756,
                43.567909450853925
               ],
               [
                -5.411886359061597,
                43.57423981380968
               ],
               [
                -4.3478427799557835,
                43.40344920508504
               ],
               [
                -3.5175317041060907,
                43.4559007838613
               ],
               [
                -1.901351284177764,
                43.42280202897834
               ],
               [
                -1.502770961910528,
                43.03401439063043
               ],
               [
                0.3380469091905809,
                42.57954600683955
               ],
               [
                0.7015906103638941,
                42.795734361332606
               ],
               [
                1.8267932470871528,
                42.34338471126569
               ],
               [
                2.9859989762584576,
                42.47301504166986
               ],
               [
                3.0394840836805486,
                41.892120266276905
               ],
               [
                2.0918416683121848,
                41.226088568683096
               ],
               [
                0.8105245296351882,
                41.01473196060934
               ],
               [
                0.7213310074994013,
                40.678318386389236
               ],
               [
                0.10669152181986874,
                40.12393362076202
               ],
               [
                -0.27871131021294104,
                39.30997813573272
               ],
               [
                0.11129072429383768,
                38.73851430923304
               ],
               [
                -0.4671235823491031,
                38.29236583104115
               ],
               [
                -0.6833894514905978,
                37.642353827457825
               ],
               [
                -1.4383821272748492,
                37.44306366632422
               ],
               [
                -2.146452602538119,
                36.67414419203729
               ],
               [
                -3.4157808089233868,
                36.65889964451118
               ],
               [
                -4.368900926114719,
                36.677839056946155
               ],
               [
                -4.995219285492212,
                36.32470815687964
               ],
               [
                -5.3771597965614575,
                35.946850083961465
               ],
               [
                -5.866432257500904,
                36.02981659600606
               ],
               [
                -6.236693894872175,
                36.367677110330334
               ],
               [
                -6.520190802425404,
                36.94291331638732
               ],
               [
                -7.453725551778092,
                37.09778758396607
               ]
              ]
             ],
             "type": "Polygon"
            },
            "id": "12",
            "properties": {
             "Country_std": "Spain",
             "ISO3": "ESP",
             "n_unicorns": 4,
             "total_val": 5.95
            },
            "type": "Feature"
           },
           {
            "geometry": {
             "coordinates": [
              [
               [
                28.591929559043194,
                69.06477692328666
               ],
               [
                28.445943637818658,
                68.36461294216404
               ],
               [
                29.97742638522061,
                67.69829702419275
               ],
               [
                29.054588657352326,
                66.94428620062206
               ],
               [
                30.217650000000003,
                65.80598
               ],
               [
                29.54442955904699,
                64.94867157659048
               ],
               [
                30.44468468600371,
                64.20445343693909
               ],
               [
                30.035872430142717,
                63.55281362573855
               ],
               [
                31.516092156711125,
                62.86768748641289
               ],
               [
                31.139991082490894,
                62.35769277612441
               ],
               [
                30.21110721204445,
                61.780027777749694
               ],
               [
                28.07000000000005,
                60.503520000000094
               ],
               [
                28.070001921525666,
                60.50351912796823
               ],
               [
                28.069997592895277,
                60.50351654727584
               ],
               [
                26.255172967236973,
                60.4239606797625
               ],
               [
                24.496623976344523,
                60.05731639265166
               ],
               [
                22.869694858499457,
                59.846373196036225
               ],
               [
                22.290763787533592,
                60.39192129174154
               ],
               [
                21.322244093519316,
                60.720169989659524
               ],
               [
                21.544866163832694,
                61.70532949487179
               ],
               [
                21.05921105315369,
                62.60739329695874
               ],
               [
                21.536029493910803,
                63.18973501245587
               ],
               [
                22.442744174903993,
                63.81781037053129
               ],
               [
                24.730511508897536,
                64.90234365504084
               ],
               [
                25.398067661243942,
                65.11142650009374
               ],
               [
                25.294043003040404,
                65.53434642197045
               ],
               [
                23.903378533633802,
                66.00692739527962
               ],
               [
                23.565879754335583,
                66.39605093043743
               ],
               [
                23.53947309743444,
                67.93600861273525
               ],
               [
                21.978534783626117,
                68.6168456081807
               ],
               [
                20.645592889089528,
                69.10624726020087
               ],
               [
                21.244936150810673,
                69.37044302029308
               ],
               [
                22.356237827247412,
                68.84174144151491
               ],
               [
                23.66204959483076,
                68.89124746365054
               ],
               [
                24.735679152126725,
                68.64955678982146
               ],
               [
                25.689212680776365,
                69.09211375596904
               ],
               [
                26.179622023226244,
                69.82529897732614
               ],
               [
                27.732292107867863,
                70.16419302029625
               ],
               [
                29.015572950971972,
                69.76649119737799
               ],
               [
                28.591929559043194,
                69.06477692328666
               ]
              ]
             ],
             "type": "Polygon"
            },
            "id": "13",
            "properties": {
             "Country_std": "Finland",
             "ISO3": "FIN",
             "n_unicorns": 2,
             "total_val": 3
            },
            "type": "Feature"
           },
           {
            "geometry": {
             "coordinates": [
              [
               [
                16.564808383864857,
                46.50375092221983
               ],
               [
                16.8825150895953,
                46.38063182228444
               ],
               [
                17.630066359129557,
                45.95176911069419
               ],
               [
                18.45606245288286,
                45.75948110613615
               ],
               [
                18.829824792873946,
                45.908872358025285
               ],
               [
                19.072768995854176,
                45.52151113543209
               ],
               [
                19.39047570158459,
                45.236515611342384
               ],
               [
                19.005484597557594,
                44.86023449354299
               ],
               [
                18.553214145591653,
                45.08158966733146
               ],
               [
                17.861783481526402,
                45.067740383477144
               ],
               [
                17.002146030351014,
                45.23377676043094
               ],
               [
                16.534939406000206,
                45.21160757097772
               ],
               [
                16.318156772535872,
                45.00412669532591
               ],
               [
                15.959367303133376,
                45.23377676043094
               ],
               [
                15.750026075918981,
                44.818711656262565
               ],
               [
                16.23966027188453,
                44.35114329688571
               ],
               [
                16.456442905348865,
                44.04123973243128
               ],
               [
                16.91615644701733,
                43.66772247982567
               ],
               [
                17.297373488034452,
                43.44634064388737
               ],
               [
                17.674921502358984,
                43.02856252702361
               ],
               [
                18.559999999999945,
                42.64999999999998
               ],
               [
                18.45001688302086,
                42.47999224531218
               ],
               [
                18.450016310304818,
                42.47999136002932
               ],
               [
                17.509970330483327,
                42.849994615239154
               ],
               [
                16.930005730871642,
                43.20999848080038
               ],
               [
                16.015384555737683,
                43.50721548112722
               ],
               [
                15.174453973052096,
                44.243191229827914
               ],
               [
                15.376250441151797,
                44.31791535092208
               ],
               [
                14.92030927904051,
                44.73848399512946
               ],
               [
                14.901602410550879,
                45.07606028907611
               ],
               [
                14.258747592839995,
                45.23377676043094
               ],
               [
                13.952254672917036,
                44.80212352149687
               ],
               [
                13.656975538801191,
                45.13693512631596
               ],
               [
                13.67940311041582,
                45.48414907488501
               ],
               [
                13.715059848697223,
                45.500323798192376
               ],
               [
                14.411968214585414,
                45.46616567644746
               ],
               [
                14.595109490627806,
                45.634940904312714
               ],
               [
                14.935243767972935,
                45.471695054702685
               ],
               [
                15.327674594797429,
                45.45231639259333
               ],
               [
                15.323953891672405,
                45.73178253842768
               ],
               [
                15.671529575267556,
                45.83415355079788
               ],
               [
                15.768732944408553,
                46.23810822202345
               ],
               [
                16.564808383864857,
                46.50375092221983
               ]
              ]
             ],
             "type": "Polygon"
            },
            "id": "15",
            "properties": {
             "Country_std": "Croatia",
             "ISO3": "HRV",
             "n_unicorns": 1,
             "total_val": 1
            },
            "type": "Feature"
           },
           {
            "geometry": {
             "coordinates": [
              [
               [
                [
                 141.00021040259185,
                 -2.60015105551566
                ],
                [
                 141.01705691951895,
                 -5.859021905138071
                ],
                [
                 141.03385176001382,
                 -9.117892754760483
                ],
                [
                 140.14341515519254,
                 -8.29716765710095
                ],
                [
                 139.1277665549281,
                 -8.096042982620979
                ],
                [
                 138.881476678625,
                 -8.380935153846075
                ],
                [
                 137.61447391169287,
                 -8.41168263105974
                ],
                [
                 138.03909915583517,
                 -7.597882175327321
                ],
                [
                 138.66862145401478,
                 -7.320224704623087
                ],
                [
                 138.4079138531023,
                 -6.232849216337485
                ],
                [
                 137.92783979711078,
                 -5.393365573756
                ],
                [
                 135.98925011611345,
                 -4.54654387778907
                ],
                [
                 135.16459760959975,
                 -4.462931410340822
                ],
                [
                 133.66288048719787,
                 -3.538853448097541
                ],
                [
                 133.36770470594672,
                 -4.024818617370315
                ],
                [
                 132.98395551974727,
                 -4.112978610860253
                ],
                [
                 132.75694095268904,
                 -3.7462826473171233
                ],
                [
                 132.75378869031925,
                 -3.3117872046070502
                ],
                [
                 131.98980431531618,
                 -2.820551039240499
                ],
                [
                 133.0668445171434,
                 -2.460417982598436
                ],
                [
                 133.78003095920354,
                 -2.4798483211401816
                ],
                [
                 133.69621178602614,
                 -2.214541517753702
                ],
                [
                 132.23237348849426,
                 -2.2125261368943185
                ],
                [
                 131.83622195854474,
                 -1.6171619604596472
                ],
                [
                 130.94283979708285,
                 -1.4325220678807826
                ],
                [
                 130.5195581401801,
                 -0.9377202286860893
                ],
                [
                 131.8675378765136,
                 -0.6954611141017892
                ],
                [
                 132.3801164084167,
                 -0.36953785563694913
                ],
                [
                 133.98554813042836,
                 -0.7802104630604559
                ],
                [
                 134.14336795464772,
                 -1.151867364103623
                ],
                [
                 134.42262739475302,
                 -2.769184665542376
                ],
                [
                 135.45760298069467,
                 -3.367752780779149
                ],
                [
                 136.29331424371884,
                 -2.307042331556154
                ],
                [
                 137.44073774632756,
                 -1.7035132788193648
                ],
                [
                 138.3297274110447,
                 -1.7026864559026933
                ],
                [
                 139.18492068904288,
                 -2.0512956681436734
                ],
                [
                 139.92668419816044,
                 -2.409051608900313
                ],
                [
                 141.00021040259185,
                 -2.60015105551566
                ]
               ]
              ],
              [
               [
                [
                 124.96868248911623,
                 -8.892790215697083
                ],
                [
                 125.07001997284061,
                 -9.089987481322872
                ],
                [
                 125.08852013560109,
                 -9.393173109579294
                ],
                [
                 124.43595014861933,
                 -10.140000909061449
                ],
                [
                 123.57998172413669,
                 -10.359987481327956
                ],
                [
                 123.459989048355,
                 -10.239994805546223
                ],
                [
                 123.55000939340744,
                 -9.900015557497987
                ],
                [
                 123.9800089865081,
                 -9.290026950724716
                ],
                [
                 124.96868248911623,
                 -8.892790215697083
                ]
               ]
              ],
              [
               [
                [
                 134.21013390516885,
                 -6.89523772545472
                ],
                [
                 134.11277550673094,
                 -6.142467136259
                ],
                [
                 134.29033572808584,
                 -5.783057549669017
                ],
                [
                 134.49962527886788,
                 -5.445042006047871
                ],
                [
                 134.72700158095216,
                 -5.737582289252167
                ],
                [
                 134.7246244650667,
                 -6.214400730009288
                ],
                [
                 134.21013390516885,
                 -6.89523772545472
                ]
               ]
              ],
              [
               [
                [
                 117.88203494677018,
                 4.137551377779516
                ],
                [
                 117.3132324565335,
                 3.234428208830593
                ],
                [
                 118.0483297058854,
                 2.2876901310273325
                ],
                [
                 117.87562706916597,
                 1.8276406925489255
                ],
                [
                 118.99674726773816,
                 0.9022191430660627
                ],
                [
                 117.8118583517178,
                 0.7842418481437078
                ],
                [
                 117.47833865770603,
                 0.10247467691702639
                ],
                [
                 117.52164350796664,
                 -0.8037232397532676
                ],
                [
                 116.56004845587947,
                 -1.4876608211362097
                ],
                [
                 116.5337968282752,
                 -2.483517347832901
                ],
                [
                 116.14808393764866,
                 -4.012726332214022
                ],
                [
                 116.00085778204911,
                 -3.6570374487490582
                ],
                [
                 114.86480309454456,
                 -4.106984144714396
                ],
                [
                 114.46865156459506,
                 -3.495703627133828
                ],
                [
                 113.75567182826407,
                 -3.4391696102065197
                ],
                [
                 113.25699425664752,
                 -3.118775729996905
                ],
                [
                 112.06812625534067,
                 -3.4783920223160507
                ],
                [
                 111.70329064336005,
                 -2.9944422339026535
                ],
                [
                 111.04824018762824,
                 -3.0494259578612106
                ],
                [
                 110.223846063276,
                 -2.9340324845534553
                ],
                [
                 110.07093550012434,
                 -1.5928740372824635
                ],
                [
                 109.571947869914,
                 -1.3149065079844746
                ],
                [
                 109.0918738139225,
                 -0.45950652425709393
                ],
                [
                 108.9526575053282,
                 0.41537547444431766
                ],
                [
                 109.06913618371408,
                 1.3419339054376138
                ],
                [
                 109.66326012577375,
                 2.0064669864949565
                ],
                [
                 109.83022667850881,
                 1.3381356876641632
                ],
                [
                 110.51406090702716,
                 0.7731314152009645
                ],
                [
                 111.15913781132662,
                 0.976478176269481
                ],
                [
                 111.79754845586041,
                 0.9044412296546085
                ],
                [
                 112.38025190638359,
                 1.4101209578467433
                ],
                [
                 112.85980919805218,
                 1.4977900252299037
                ],
                [
                 113.8058496440195,
                 1.2175487329110695
                ],
                [
                 114.62135542201753,
                 1.4306881778989011
                ],
                [
                 115.13403730678522,
                 2.8214818383862337
                ],
                [
                 115.51907840379198,
                 3.169238389494396
                ],
                [
                 115.8655172058767,
                 4.3065591495901
                ],
                [
                 117.01521447150628,
                 4.3060940616994685
                ],
                [
                 117.88203494677018,
                 4.137551377779516
                ]
               ]
              ],
              [
               [
                [
                 129.37099775606094,
                 -2.8021542293445947
                ],
                [
                 130.47134402885177,
                 -3.093764336767634
                ],
                [
                 130.83483605359282,
                 -3.8584721818227763
                ],
                [
                 129.99054650280817,
                 -3.446300957862796
                ],
                [
                 129.15524865124235,
                 -3.3626368139822485
                ],
                [
                 128.59068362845363,
                 -3.428679294451264
                ],
                [
                 127.89889122936235,
                 -3.393435967628207
                ],
                [
                 128.13587934785284,
                 -2.843650404474971
                ],
                [
                 129.37099775606094,
                 -2.8021542293445947
                ]
               ]
              ],
              [
               [
                [
                 126.87492272349886,
                 -3.7909827612495874
                ],
                [
                 126.18380211802736,
                 -3.607376397316564
                ],
                [
                 125.98903364471926,
                 -3.177273451351305
                ],
                [
                 127.00065148326497,
                 -3.129317722184446
                ],
                [
                 127.24921512258891,
                 -3.45906503663889
                ],
                [
                 126.87492272349886,
                 -3.7909827612495874
                ]
               ]
              ],
              [
               [
                [
                 127.93237755748748,
                 2.1745962589565693
                ],
                [
                 128.00415612194087,
                 1.6285313989283452
                ],
                [
                 128.5945593608755,
                 1.5408106551128782
                ],
                [
                 128.6882487326207,
                 1.1323859724940633
                ],
                [
                 128.63595218314134,
                 0.2584858260061935
                ],
                [
                 128.1201697124361,
                 0.3564126651992865
                ],
                [
                 127.96803429576886,
                 -0.25207732503751856
                ],
                [
                 128.3799988139997,
                 -0.7800037573313005
                ],
                [
                 128.1000159038423,
                 -0.8999964331130315
                ],
                [
                 127.69647464407507,
                 -0.26659840251153355
                ],
                [
                 127.39949018769369,
                 1.011721503092545
                ],
                [
                 127.60051150930906,
                 1.810690822757195
                ],
                [
                 127.93237755748748,
                 2.1745962589565693
                ]
               ]
              ],
              [
               [
                [
                 122.9275667664518,
                 0.8751923689774088
                ],
                [
                 124.07752241424288,
                 0.9171019555661245
                ],
                [
                 125.0659892111218,
                 1.6432591821315297
                ],
                [
                 125.2405005229715,
                 1.4198361271176054
                ],
                [
                 124.4370353536974,
                 0.4278811710589565
                ],
                [
                 123.6855049988767,
                 0.235593166500891
                ],
                [
                 122.72308312387287,
                 0.4311367862933366
                ],
                [
                 121.05672488818911,
                 0.3812173526993945
                ],
                [
                 120.18308312386272,
                 0.2372468123342344
                ],
                [
                 120.04086958219548,
                 -0.5196578914448367
                ],
                [
                 120.93590538949073,
                 -1.408905938323393
                ],
                [
                 121.4758207540762,
                 -0.9559620092851304
                ],
                [
                 123.34056481332846,
                 -0.6156727026431383
                ],
                [
                 123.25839928598441,
                 -1.0762130672283092
                ],
                [
                 122.82271528533161,
                 -0.9309506160558526
                ],
                [
                 122.38852990121529,
                 -1.516858005381117
                ],
                [
                 121.50827355355551,
                 -1.904482924002458
                ],
                [
                 122.4545723816843,
                 -3.1860584448409237
                ],
                [
                 122.2718961935325,
                 -3.5295000138527115
                ],
                [
                 123.17096276254655,
                 -4.683693129091701
                ],
                [
                 123.1623327983538,
                 -5.340603936385996
                ],
                [
                 122.62851525277875,
                 -5.634591159694466
                ],
                [
                 122.23639448454801,
                 -5.2829330379482675
                ],
                [
                 122.71956912647701,
                 -4.464171644715826
                ],
                [
                 121.73823367725436,
                 -4.851331475446543
                ],
                [
                 121.48946333220127,
                 -4.574552504091265
                ],
                [
                 121.61917117725386,
                 -4.1884778784386825
                ],
                [
                 120.89818159391766,
                 -3.602105401222794
                ],
                [
                 120.97238895068878,
                 -2.627642917494939
                ],
                [
                 120.30545291552986,
                 -2.9316036922357327
                ],
                [
                 120.39004723519167,
                 -4.097579034037274
                ],
                [
                 120.43071658740537,
                 -5.528241062037793
                ],
                [
                 119.79654341031949,
                 -5.673400160345665
                ],
                [
                 119.36690555224489,
                 -5.3798780249278195
                ],
                [
                 119.65360639860017,
                 -4.459417412944973
                ],
                [
                 119.49883548388601,
                 -3.4944117163265322
                ],
                [
                 119.07834435432704,
                 -3.487021986508793
                ],
                [
                 118.76776899625287,
                 -2.801999200047718
                ],
                [
                 119.18097374885869,
                 -2.1471037736128054
                ],
                [
                 119.3233939962551,
                 -1.3531470678804638
                ],
                [
                 119.82599897672587,
                 0.1542544620734816
                ],
                [
                 120.0357019389663,
                 0.5664773624657613
                ],
                [
                 120.88577925016762,
                 1.3092227237968501
                ],
                [
                 121.66681684782696,
                 1.0139435896810909
                ],
                [
                 122.9275667664518,
                 0.8751923689774088
                ]
               ]
              ],
              [
               [
                [
                 120.29501427620689,
                 -10.258649997603591
                ],
                [
                 118.96780846565471,
                 -9.557969252158074
                ],
                [
                 119.90030968636157,
                 -9.361340427287502
                ],
                [
                 120.42575564990534,
                 -9.665921319215798
                ],
                [
                 120.77550174365675,
                 -9.96967538822743
                ],
                [
                 120.71560875863045,
                 -10.239581394087885
                ],
                [
                 120.29501427620689,
                 -10.258649997603591
                ]
               ]
              ],
              [
               [
                [
                 121.34166873584651,
                 -8.536739597206072
                ],
                [
                 122.00736453663043,
                 -8.460620212440148
                ],
                [
                 122.90353722543607,
                 -8.094234307490765
                ],
                [
                 122.75698286345632,
                 -8.649807631060696
                ],
                [
                 121.2544905945701,
                 -8.933666273639957
                ],
                [
                 119.92439090380958,
                 -8.81041798262384
                ],
                [
                 119.92092858284605,
                 -8.444858900591122
                ],
                [
                 120.71509199430757,
                 -8.236964613480914
                ],
                [
                 121.34166873584651,
                 -8.536739597206072
                ]
               ]
              ],
              [
               [
                [
                 118.26061648974044,
                 -8.362383314653293
                ],
                [
                 118.87845991422208,
                 -8.280682875199844
                ],
                [
                 119.12650678922307,
                 -8.705824883665088
                ],
                [
                 117.97040164598928,
                 -8.906639499551304
                ],
                [
                 117.27773074754901,
                 -9.040894870645594
                ],
                [
                 116.74014082241665,
                 -9.032936700072646
                ],
                [
                 117.0837374207253,
                 -8.45715789147659
                ],
                [
                 117.6320243673421,
                 -8.449303073768228
                ],
                [
                 117.90001834520776,
                 -8.09568124759494
                ],
                [
                 118.26061648974044,
                 -8.362383314653293
                ]
               ]
              ],
              [
               [
                [
                 108.48684614464926,
                 -6.42198495852574
                ],
                [
                 108.62347863162896,
                 -6.777673841990705
                ],
                [
                 110.53922732955328,
                 -6.877357679881726
                ],
                [
                 110.75957563684585,
                 -6.465186455921747
                ],
                [
                 112.6148112325564,
                 -6.946035658397626
                ],
                [
                 112.97876834518806,
                 -7.594213148634594
                ],
                [
                 114.47893517462114,
                 -7.7765276017603275
                ],
                [
                 115.70552697150106,
                 -8.370806573116873
                ],
                [
                 114.56451134649649,
                 -8.751816908404855
                ],
                [
                 113.46473351446085,
                 -8.348947442257405
                ],
                [
                 112.55967247930097,
                 -8.376180922075221
                ],
                [
                 111.52206139531245,
                 -8.302128594600973
                ],
                [
                 110.58614953007432,
                 -8.122604668819001
                ],
                [
                 109.42766727095511,
                 -7.740664157749762
                ],
                [
                 108.69365522668133,
                 -7.641600437046243
                ],
                [
                 108.27776329959633,
                 -7.766657403192576
                ],
                [
                 106.45410200401612,
                 -7.354899590690934
                ],
                [
                 106.28062422081231,
                 -6.924899997590252
                ],
                [
                 105.36548628135552,
                 -6.851416110871206
                ],
                [
                 106.05164594932702,
                 -5.895918877794472
                ],
                [
                 107.2650085795402,
                 -5.954985039904081
                ],
                [
                 108.07209109907467,
                 -6.3457622208952245
                ],
                [
                 108.48684614464926,
                 -6.42198495852574
                ]
               ]
              ],
              [
               [
                [
                 104.36999148968489,
                 -1.0848430314210589
                ],
                [
                 104.53949018760221,
                 -1.7823715144967662
                ],
                [
                 104.88789269411402,
                 -2.340425306816705
                ],
                [
                 105.62211144411697,
                 -2.4288436824680986
                ],
                [
                 106.10859337771265,
                 -3.0617766251789647
                ],
                [
                 105.85744591677414,
                 -4.305524997579774
                ],
                [
                 105.8176550639094,
                 -5.85235564537242
                ],
                [
                 104.71038414919144,
                 -5.873284600450632
                ],
                [
                 103.86821333213078,
                 -5.037314955264996
                ],
                [
                 102.5842606954069,
                 -4.2202588842981825
                ],
                [
                 102.156173130301,
                 -3.6141460099468006
                ],
                [
                 101.39911339722507,
                 -2.7997771134591645
                ],
                [
                 100.90250288290015,
                 -2.050262139497832
                ],
                [
                 100.14198082886065,
                 -0.6503475887109857
                ],
                [
                 99.26373986206028,
                 0.1831415877246343
                ],
                [
                 98.97001102091326,
                 1.042882391764536
                ],
                [
                 98.60135135294306,
                 1.8235065779655741
                ],
                [
                 97.69959760944985,
                 2.45318390544206
                ],
                [
                 97.17694217324984,
                 3.3087905948985963
                ],
                [
                 96.42401655475726,
                 3.868859768077925
                ],
                [
                 95.3808760925135,
                 4.970782172053688
                ],
                [
                 95.29302615761729,
                 5.479820868344788
                ],
                [
                 95.93686282754174,
                 5.439513251157123
                ],
                [
                 97.4848820332771,
                 5.246320909033955
                ],
                [
                 98.36916914265566,
                 4.2683702661263965
                ],
                [
                 99.1425586283358,
                 3.590349636240873
                ],
                [
                 99.69399783732241,
                 3.174328518075143
                ],
                [
                 100.64143354696162,
                 2.099381211755741
                ],
                [
                 101.65801232300734,
                 2.0836974145551608
                ],
                [
                 102.49827111207323,
                 1.3987004663102311
                ],
                [
                 103.07684044801303,
                 0.5613613956688681
                ],
                [
                 103.83839603069836,
                 0.10454173420869493
                ],
                [
                 103.4376452982749,
                 -0.7119458960029021
                ],
                [
                 104.01078860882404,
                 -1.0592115210042863
                ],
                [
                 104.36999148968489,
                 -1.0848430314210589
                ]
               ]
              ]
             ],
             "type": "MultiPolygon"
            },
            "id": "16",
            "properties": {
             "Country_std": "Indonesia",
             "ISO3": "IDN",
             "n_unicorns": 4,
             "total_val": 26.9
            },
            "type": "Feature"
           },
           {
            "geometry": {
             "coordinates": [
              [
               [
                97.32711388549004,
                28.26158274994634
               ],
               [
                97.40256147663614,
                27.882536119085444
               ],
               [
                97.0519885599681,
                27.69905894623315
               ],
               [
                97.1339990580153,
                27.083773505149964
               ],
               [
                96.41936567585097,
                27.264589341739224
               ],
               [
                95.12476769407496,
                26.5735720891323
               ],
               [
                95.1551534362626,
                26.001307277932085
               ],
               [
                94.60324913938538,
                25.162495428970402
               ],
               [
                94.55265791217164,
                24.675238348890336
               ],
               [
                94.10674197792507,
                23.85074087167348
               ],
               [
                93.3251876159428,
                24.078556423432204
               ],
               [
                93.28632693885928,
                23.043658352139005
               ],
               [
                93.06029422401463,
                22.70311066333557
               ],
               [
                93.16612755734837,
                22.278459580977103
               ],
               [
                92.67272098182556,
                22.041238918541254
               ],
               [
                92.14603478390681,
                23.627498684172593
               ],
               [
                91.86992760617132,
                23.624346421802784
               ],
               [
                91.70647505083211,
                22.985263983649187
               ],
               [
                91.15896325069973,
                23.50352692310439
               ],
               [
                91.46772993364368,
                24.072639471934792
               ],
               [
                91.91509280799443,
                24.130413723237112
               ],
               [
                92.37620161333481,
                24.976692816664965
               ],
               [
                91.79959598182208,
                25.147431748957317
               ],
               [
                90.87221072791212,
                25.132600612889547
               ],
               [
                89.92069258012185,
                25.26974986419218
               ],
               [
                89.83248091019962,
                25.96508209889548
               ],
               [
                89.35509402868729,
                26.014407253518073
               ],
               [
                88.56304935094977,
                26.446525580342723
               ],
               [
                88.2097892598025,
                25.768065700782714
               ],
               [
                88.93155398962308,
                25.238692328384776
               ],
               [
                88.30637251175602,
                24.866079413344206
               ],
               [
                88.08442223506242,
                24.501657212821925
               ],
               [
                88.69994022009092,
                24.23371491138856
               ],
               [
                88.52976972855379,
                23.631141872649167
               ],
               [
                88.87631188350309,
                22.87914642993783
               ],
               [
                89.03196129756623,
                22.055708319582976
               ],
               [
                88.88876590368542,
                21.690588487224748
               ],
               [
                88.20849734899522,
                21.703171698487807
               ],
               [
                86.97570438024027,
                21.49556163175521
               ],
               [
                87.03316857294887,
                20.743307806882413
               ],
               [
                86.49935102737379,
                20.151638495356607
               ],
               [
                85.0602657409097,
                19.4785788029711
               ],
               [
                83.94100589390001,
                18.302009792549725
               ],
               [
                83.18921715691785,
                17.67122142177898
               ],
               [
                82.19279218946592,
                17.016636053937816
               ],
               [
                82.19124189649719,
                16.556664130107848
               ],
               [
                81.69271935417748,
                16.310219224507904
               ],
               [
                80.79199913933014,
                15.951972357644493
               ],
               [
                80.32489586784388,
                15.89918488205835
               ],
               [
                80.02506920768644,
                15.136414903214147
               ],
               [
                80.2332735533904,
                13.835770778859981
               ],
               [
                80.28629357292186,
                13.006260687710835
               ],
               [
                79.8625468281285,
                12.056215318240888
               ],
               [
                79.85799930208682,
                10.35727509199711
               ],
               [
                79.340511509116,
                10.30885427493962
               ],
               [
                78.88534549348918,
                9.546135972527722
               ],
               [
                79.1897196796883,
                9.216543687370148
               ],
               [
                78.2779407083305,
                8.933046779816934
               ],
               [
                77.94116539908435,
                8.252959092639742
               ],
               [
                77.53989790233794,
                7.965534776232332
               ],
               [
                76.59297895702167,
                8.89927623131419
               ],
               [
                76.13006147655108,
                10.299630031775521
               ],
               [
                75.7464673196485,
                11.308250637248307
               ],
               [
                75.39610110870959,
                11.781245022015824
               ],
               [
                74.86481570831683,
                12.741935736537897
               ],
               [
                74.61671715688354,
                13.99258291264968
               ],
               [
                74.44385949086723,
                14.617221787977698
               ],
               [
                73.5341992532334,
                15.99065216721496
               ],
               [
                73.11990929554943,
                17.928570054592498
               ],
               [
                72.82090945830865,
                19.208233547436166
               ],
               [
                72.8244751321368,
                20.419503282141534
               ],
               [
                72.6305334817454,
                21.356009426351008
               ],
               [
                71.17527347197395,
                20.757441311114235
               ],
               [
                70.4704586119451,
                20.877330634031384
               ],
               [
                69.16413008003883,
                22.0892980005727
               ],
               [
                69.6449276060824,
                22.450774644454338
               ],
               [
                69.34959679553435,
                22.84317963306269
               ],
               [
                68.1766451353734,
                23.69196503345671
               ],
               [
                68.84259931831878,
                24.35913361256094
               ],
               [
                71.04324018746823,
                24.3565239527302
               ],
               [
                70.84469933460284,
                25.21510203704352
               ],
               [
                70.2828731627256,
                25.72222870533983
               ],
               [
                70.16892662952202,
                26.491871649678842
               ],
               [
                69.51439293811313,
                26.940965684511372
               ],
               [
                70.61649620960193,
                27.989196275335868
               ],
               [
                71.77766564320032,
                27.913180243434525
               ],
               [
                72.8237516620847,
                28.961591701772054
               ],
               [
                73.45063846221743,
                29.97641347911987
               ],
               [
                74.42138024282028,
                30.979814764931177
               ],
               [
                74.40592898956501,
                31.69263947196528
               ],
               [
                75.25864179881322,
                32.2711054550405
               ],
               [
                74.45155927927871,
                32.7648996038055
               ],
               [
                74.10429365427734,
                33.44147329358685
               ],
               [
                73.74994835805197,
                34.31769887952785
               ],
               [
                74.24020267120497,
                34.748887030571254
               ],
               [
                75.75706098826834,
                34.50492259372132
               ],
               [
                76.87172163280403,
                34.65354401299274
               ],
               [
                77.83745079947457,
                35.494009507787766
               ],
               [
                78.91226891471322,
                34.32193634697579
               ],
               [
                78.81108646028574,
                33.50619802503242
               ],
               [
                79.20889163606859,
                32.994394639613716
               ],
               [
                79.17612877799553,
                32.48377981213771
               ],
               [
                78.45844648632601,
                32.61816437431273
               ],
               [
                78.73889448437401,
                31.515906073527063
               ],
               [
                79.7213668151071,
                30.88271474865473
               ],
               [
                81.11125613802932,
                30.183480943313402
               ],
               [
                80.4767212259174,
                29.72986522065534
               ],
               [
                80.08842451367627,
                28.79447011974014
               ],
               [
                81.05720258985203,
                28.416095282499043
               ],
               [
                81.99998742058497,
                27.925479234319994
               ],
               [
                83.30424889519955,
                27.36450572357556
               ],
               [
                84.6750179381738,
                27.234901231387536
               ],
               [
                85.25177859898338,
                26.726198431906344
               ],
               [
                86.02439293817918,
                26.63098460540857
               ],
               [
                87.2274719583663,
                26.397898057556077
               ],
               [
                88.06023766474982,
                26.41461538340249
               ],
               [
                88.17480431514092,
                26.81040517832595
               ],
               [
                88.04313276566123,
                27.445818589786825
               ],
               [
                88.12044070836987,
                27.876541652939594
               ],
               [
                88.73032596227856,
                28.086864732367516
               ],
               [
                88.81424848832056,
                27.299315904239364
               ],
               [
                88.83564253128938,
                27.098966376243762
               ],
               [
                89.74452762243885,
                26.719402981059957
               ],
               [
                90.37327477413407,
                26.87572418874288
               ],
               [
                91.21751264848643,
                26.808648179628022
               ],
               [
                92.03348351437509,
                26.83831045176356
               ],
               [
                92.10371178585974,
                27.452614040633208
               ],
               [
                91.69665652869668,
                27.771741848251665
               ],
               [
                92.50311893104364,
                27.89687632904645
               ],
               [
                93.41334760943269,
                28.640629380807226
               ],
               [
                94.56599043170294,
                29.277438055939985
               ],
               [
                95.40480228066464,
                29.03171662039213
               ],
               [
                96.11767866413103,
                29.452802028922466
               ],
               [
                96.58659061074749,
                28.83097951915434
               ],
               [
                96.24883344928779,
                28.411030992134442
               ],
               [
                97.32711388549004,
                28.26158274994634
               ]
              ]
             ],
             "type": "Polygon"
            },
            "id": "17",
            "properties": {
             "Country_std": "India",
             "ISO3": "IND",
             "n_unicorns": 48,
             "total_val": 138.95
            },
            "type": "Feature"
           },
           {
            "geometry": {
             "coordinates": [
              [
               [
                -6.197884894220991,
                53.867565009163364
               ],
               [
                -6.032985398777611,
                53.15316417094435
               ],
               [
                -6.788856573910849,
                52.260117906292336
               ],
               [
                -8.56161658368356,
                51.669301255899356
               ],
               [
                -9.977085740590269,
                51.82045482035308
               ],
               [
                -9.166282517930782,
                52.86462881124268
               ],
               [
                -9.688524542672454,
                53.8813626165853
               ],
               [
                -8.327987433292009,
                54.66451894796863
               ],
               [
                -7.572167934591064,
                55.13162221945487
               ],
               [
                -7.3660306461787854,
                54.59584096945272
               ],
               [
                -7.572167934591064,
                54.059956366586
               ],
               [
                -6.953730231138067,
                54.073702297575636
               ],
               [
                -6.197884894220991,
                53.867565009163364
               ]
              ]
             ],
             "type": "Polygon"
            },
            "id": "18",
            "properties": {
             "Country_std": "Ireland",
             "ISO3": "IRL",
             "n_unicorns": 3,
             "total_val": 6.2
            },
            "type": "Feature"
           },
           {
            "geometry": {
             "coordinates": [
              [
               [
                35.71991824722275,
                32.709192409794866
               ],
               [
                35.54566531753454,
                32.393992011030576
               ],
               [
                35.183930291491436,
                32.53251068778894
               ],
               [
                34.97464074070933,
                31.866582343059722
               ],
               [
                35.22589155451243,
                31.754341132121766
               ],
               [
                34.970506626125996,
                31.61677846936081
               ],
               [
                34.92740848159457,
                31.353435370401414
               ],
               [
                35.397560662586045,
                31.489086005167582
               ],
               [
                35.420918409981965,
                31.100065822874356
               ],
               [
                34.92260257339143,
                29.501326198844524
               ],
               [
                34.823243288783814,
                29.76108076171822
               ],
               [
                34.265440000000005,
                31.219359999999998
               ],
               [
                34.26543474464621,
                31.21935730952032
               ],
               [
                34.26543338393569,
                31.219360866820153
               ],
               [
                34.55637169773891,
                31.548823960896996
               ],
               [
                34.48810713068136,
                31.60553884533732
               ],
               [
                34.75258711115117,
                32.07292633720117
               ],
               [
                34.95541710789678,
                32.82737641044638
               ],
               [
                35.098457472480675,
                33.080539252244265
               ],
               [
                35.126052687324545,
                33.09090037691878
               ],
               [
                35.460709262846706,
                33.08904002535628
               ],
               [
                35.55279666519081,
                33.26427480725802
               ],
               [
                35.82110070165024,
                33.2774264592763
               ],
               [
                35.836396925608625,
                32.86812327730851
               ],
               [
                35.70079796727475,
                32.71601369885738
               ],
               [
                35.71991824722275,
                32.709192409794866
               ]
              ]
             ],
             "type": "Polygon"
            },
            "id": "19",
            "properties": {
             "Country_std": "Israel",
             "ISO3": "ISR",
             "n_unicorns": 21,
             "total_val": 43.82
            },
            "type": "Feature"
           },
           {
            "geometry": {
             "coordinates": [
              [
               [
                [
                 141.88460086483497,
                 39.180864569651476
                ],
                [
                 140.95948937394581,
                 38.17400096287662
                ],
                [
                 140.97638756730527,
                 37.14207428644019
                ],
                [
                 140.5997697287621,
                 36.3439834661245
                ],
                [
                 140.77407433488258,
                 35.842877102190215
                ],
                [
                 140.2532792502451,
                 35.138113918593646
                ],
                [
                 138.9755277853962,
                 34.66760000257614
                ],
                [
                 137.21759891169125,
                 34.60628591566183
                ],
                [
                 135.79298302626893,
                 33.46480520276663
                ],
                [
                 135.1209827007454,
                 33.849071153289
                ],
                [
                 135.0794348491827,
                 34.596544908174806
                ],
                [
                 133.34031619683202,
                 34.375938218720805
                ],
                [
                 132.15677086805124,
                 33.90493337659652
                ],
                [
                 130.98614464734345,
                 33.88576142021624
                ],
                [
                 132.00003624890996,
                 33.149992377244544
                ],
                [
                 131.33279015515734,
                 31.450354519164822
                ],
                [
                 130.686317987186,
                 31.029579169228246
                ],
                [
                 130.2024198752049,
                 31.418237616495432
                ],
                [
                 130.44767622286213,
                 32.319474595665696
                ],
                [
                 129.81469160371893,
                 32.61030955660436
                ],
                [
                 129.40846316947255,
                 33.29605581311752
                ],
                [
                 130.35393517468464,
                 33.60415070244167
                ],
                [
                 130.87845096244718,
                 34.23274282484002
                ],
                [
                 131.8842293641439,
                 34.74971385348792
                ],
                [
                 132.61767296766243,
                 35.433393052709405
                ],
                [
                 134.6083008159777,
                 35.731617743465804
                ],
                [
                 135.67753787652885,
                 35.52713410088687
                ],
                [
                 136.72383060114242,
                 37.304984239240326
                ],
                [
                 137.39061160700447,
                 36.82739065199884
                ],
                [
                 138.8576021669062,
                 37.82748464614346
                ],
                [
                 139.42640465714283,
                 38.21596222589761
                ],
                [
                 140.054790073812,
                 39.43880748143637
                ],
                [
                 139.88337934789985,
                 40.56331248632368
                ],
                [
                 140.30578250545364,
                 41.19500519465953
                ],
                [
                 141.3689734234266,
                 41.378559882160275
                ],
                [
                 141.91426313697048,
                 39.991616115878685
                ],
                [
                 141.88460086483497,
                 39.180864569651476
                ]
               ]
              ],
              [
               [
                [
                 144.61342654843963,
                 43.96088288021748
                ],
                [
                 145.32082523008307,
                 44.38473297787541
                ],
                [
                 145.5431372418027,
                 43.26208832455062
                ],
                [
                 144.05966189999987,
                 42.98835826270056
                ],
                [
                 143.18384972551723,
                 41.9952147486992
                ],
                [
                 141.6114909201724,
                 42.6787905950561
                ],
                [
                 141.06728641170668,
                 41.58459381770797
                ],
                [
                 139.955106235921,
                 41.56955597591103
                ],
                [
                 139.81754357315998,
                 42.563758856774385
                ],
                [
                 140.31208703019325,
                 43.33327261003269
                ],
                [
                 141.38054894426,
                 43.38882477474644
                ],
                [
                 141.67195234595386,
                 44.77212535255146
                ],
                [
                 141.96764489152798,
                 45.55148346616134
                ],
                [
                 143.14287031470974,
                 44.51035838477697
                ],
                [
                 143.91016198137947,
                 44.17409983985374
                ],
                [
                 144.61342654843963,
                 43.96088288021748
                ]
               ]
              ],
              [
               [
                [
                 132.37117638563024,
                 33.46364248304006
                ],
                [
                 132.92437259331473,
                 34.06029857028204
                ],
                [
                 133.4929683778222,
                 33.94462087659667
                ],
                [
                 133.90410607313635,
                 34.36493113864263
                ],
                [
                 134.63842817600386,
                 34.149233710256354
                ],
                [
                 134.76637902235854,
                 33.80633474378362
                ],
                [
                 134.2034159689709,
                 33.20117788342964
                ],
                [
                 133.79295006727654,
                 33.5219851750976
                ],
                [
                 133.28026818250885,
                 33.28957042086489
                ],
                [
                 133.0148580262578,
                 32.70456736910474
                ],
                [
                 132.36311486219267,
                 32.989382025681394
                ],
                [
                 132.37117638563024,
                 33.46364248304006
                ]
               ]
              ]
             ],
             "type": "MultiPolygon"
            },
            "id": "20",
            "properties": {
             "Country_std": "Japan",
             "ISO3": "JPN",
             "n_unicorns": 6,
             "total_val": 8.82
            },
            "type": "Feature"
           },
           {
            "geometry": {
             "coordinates": [
              [
               [
                26.494331495883756,
                55.615106919977634
               ],
               [
                26.58827924979039,
                55.16717560487167
               ],
               [
                25.7684326514798,
                54.84696259217509
               ],
               [
                25.536353794056993,
                54.28242340760253
               ],
               [
                24.450683628037037,
                53.905702216194754
               ],
               [
                23.48412763844985,
                53.91249766704114
               ],
               [
                23.24398725758951,
                54.22056671814914
               ],
               [
                22.731098667092652,
                54.327536932993326
               ],
               [
                22.65105187347254,
                54.582740993866736
               ],
               [
                22.75776370615526,
                54.85657440858138
               ],
               [
                22.315723504330577,
                55.015298570365864
               ],
               [
                21.268448927503467,
                55.190481675835315
               ],
               [
                21.055800408622417,
                56.031076361711065
               ],
               [
                22.201156853939494,
                56.33780182557949
               ],
               [
                23.878263787539964,
                56.27367137310527
               ],
               [
                24.86068444184076,
                56.37252838807963
               ],
               [
                25.000934279080894,
                56.16453074810484
               ],
               [
                25.533046502390334,
                56.100296942766036
               ],
               [
                26.494331495883756,
                55.615106919977634
               ]
              ]
             ],
             "type": "Polygon"
            },
            "id": "21",
            "properties": {
             "Country_std": "Lithuania",
             "ISO3": "LTU",
             "n_unicorns": 1,
             "total_val": 4.53
            },
            "type": "Feature"
           },
           {
            "geometry": {
             "coordinates": [
              [
               [
                -117.12775999999985,
                32.53533999999996
               ],
               [
                -115.99134999999995,
                32.61239000000012
               ],
               [
                -114.72138999999993,
                32.72082999999992
               ],
               [
                -114.815,
                32.52528000000001
               ],
               [
                -113.30498,
                32.03914000000009
               ],
               [
                -111.02361000000002,
                31.334719999999948
               ],
               [
                -109.03500000000003,
                31.341940000000136
               ],
               [
                -108.24193999999994,
                31.342220000000054
               ],
               [
                -108.24000000000001,
                31.754853718166373
               ],
               [
                -106.50758999999988,
                31.754520000000014
               ],
               [
                -106.1429,
                31.399950000000047
               ],
               [
                -105.63159000000002,
                31.08383000000009
               ],
               [
                -105.03737000000001,
                30.644019999999955
               ],
               [
                -104.70574999999997,
                30.121730000000014
               ],
               [
                -104.4569699999999,
                29.571960000000047
               ],
               [
                -103.94,
                29.27000000000004
               ],
               [
                -103.11000000000001,
                28.970000000000027
               ],
               [
                -102.48000000000002,
                29.75999999999999
               ],
               [
                -101.66239999999999,
                29.77930000000009
               ],
               [
                -100.95759999999996,
                29.380710000000136
               ],
               [
                -100.45584000000002,
                28.69612000000012
               ],
               [
                -100.10999999999996,
                28.110000000000127
               ],
               [
                -99.51999999999992,
                27.54000000000002
               ],
               [
                -99.30000000000001,
                26.840000000000032
               ],
               [
                -99.01999999999992,
                26.37000000000006
               ],
               [
                -98.23999999999995,
                26.06000000000006
               ],
               [
                -97.52999999999992,
                25.84000000000009
               ],
               [
                -97.14000830767071,
                25.8699974634784
               ],
               [
                -97.52807247596655,
                24.9921440699203
               ],
               [
                -97.70294552284224,
                24.272343044526735
               ],
               [
                -97.77604183631905,
                22.93257986092766
               ],
               [
                -97.87236670611111,
                22.44421173755336
               ],
               [
                -97.69904395220419,
                21.898689480064263
               ],
               [
                -97.38895952023677,
                21.411018988525825
               ],
               [
                -97.18933346229329,
                20.635433254473128
               ],
               [
                -96.52557552772032,
                19.890930894444068
               ],
               [
                -96.29212724484177,
                19.320371405509547
               ],
               [
                -95.90088497595997,
                18.82802419684873
               ],
               [
                -94.83906348344271,
                18.562717393462208
               ],
               [
                -94.42572953975622,
                18.144370835843347
               ],
               [
                -93.5486512926824,
                18.423836981677937
               ],
               [
                -92.7861138577835,
                18.52483856859226
               ],
               [
                -92.0373481920904,
                18.704569200103435
               ],
               [
                -91.40790340855926,
                18.87608327888023
               ],
               [
                -90.77186987991087,
                19.28412038825678
               ],
               [
                -90.53358985061305,
                19.8674181177513
               ],
               [
                -90.45147599970124,
                20.707521877520435
               ],
               [
                -90.2786183336849,
                20.999855454995554
               ],
               [
                -89.60132117385149,
                21.26172577563449
               ],
               [
                -88.54386633986286,
                21.49367544197662
               ],
               [
                -87.65841651075772,
                21.45884552661198
               ],
               [
                -87.05189022494807,
                21.5435431991383
               ],
               [
                -86.81198238803296,
                21.331514797444754
               ],
               [
                -86.84590796583262,
                20.849864610268355
               ],
               [
                -87.38329118523586,
                20.25540477139873
               ],
               [
                -87.62105445021075,
                19.64655304613592
               ],
               [
                -87.43675045444178,
                19.47240346931227
               ],
               [
                -87.58656043165593,
                19.04013011319074
               ],
               [
                -87.83719112827151,
                18.25981598558343
               ],
               [
                -88.09066402866318,
                18.51664785407405
               ],
               [
                -88.3000310940937,
                18.4999822046599
               ],
               [
                -88.49012285027935,
                18.486830552641607
               ],
               [
                -88.84834387892661,
                17.883198147040233
               ],
               [
                -89.02985734735182,
                18.001511338772488
               ],
               [
                -89.15090938999553,
                17.95546763760042
               ],
               [
                -89.14308041050333,
                17.808318996649405
               ],
               [
                -90.06793351923098,
                17.819326076727478
               ],
               [
                -91.00151994501596,
                17.81759491624571
               ],
               [
                -91.00226925328421,
                17.25465770107418
               ],
               [
                -91.45392127151516,
                17.252177232324172
               ],
               [
                -91.08167009150065,
                16.918476670799407
               ],
               [
                -90.71182186558772,
                16.687483018454728
               ],
               [
                -90.60084672724093,
                16.47077789963879
               ],
               [
                -90.43886695022204,
                16.410109768128095
               ],
               [
                -90.46447262242266,
                16.069562079324655
               ],
               [
                -91.74796017125595,
                16.066564846251765
               ],
               [
                -92.2292486234063,
                15.251446641495875
               ],
               [
                -92.08721594925207,
                15.064584662328441
               ],
               [
                -92.20322953974733,
                14.830102850804069
               ],
               [
                -92.22775000686983,
                14.538828640190928
               ],
               [
                -93.35946387406176,
                15.615429592343673
               ],
               [
                -93.87516883011853,
                15.940164292865916
               ],
               [
                -94.69165646033014,
                16.200975246642884
               ],
               [
                -95.25022701697304,
                16.128318182840644
               ],
               [
                -96.05338212765332,
                15.752087917539598
               ],
               [
                -96.55743404822829,
                15.653515122942792
               ],
               [
                -97.26359249549665,
                15.917064927631316
               ],
               [
                -98.01302995480961,
                16.107311713113916
               ],
               [
                -98.94767574745651,
                16.566043402568766
               ],
               [
                -99.69739742714705,
                16.70616404872817
               ],
               [
                -100.82949886758132,
                17.17107107184205
               ],
               [
                -101.66608862995446,
                17.649026394109626
               ],
               [
                -101.91852800170022,
                17.916090196193977
               ],
               [
                -102.47813208698892,
                17.975750637275098
               ],
               [
                -103.50098954955808,
                18.29229462327885
               ],
               [
                -103.91752743204682,
                18.74857168220001
               ],
               [
                -104.9920096504755,
                19.316133938061682
               ],
               [
                -105.49303849976144,
                19.946767279535436
               ],
               [
                -105.73139604370766,
                20.434101874264115
               ],
               [
                -105.39777299683135,
                20.531718654863425
               ],
               [
                -105.50066077352443,
                20.81689504646613
               ],
               [
                -105.27075232625793,
                21.07628489835514
               ],
               [
                -105.26581722697404,
                21.42210358325235
               ],
               [
                -105.6031609769754,
                21.87114594165257
               ],
               [
                -105.69341386597313,
                22.269080308516152
               ],
               [
                -106.02871639689897,
                22.773752346278627
               ],
               [
                -106.90998043498837,
                23.767774359628902
               ],
               [
                -107.91544877809139,
                24.54891531015295
               ],
               [
                -108.40190487347098,
                25.172313951105934
               ],
               [
                -109.26019873740665,
                25.58060944264406
               ],
               [
                -109.44408932171734,
                25.82488393808768
               ],
               [
                -109.29164384645628,
                26.442934068298428
               ],
               [
                -109.80145768923182,
                26.676175645447927
               ],
               [
                -110.3917317370857,
                27.16211497650454
               ],
               [
                -110.64101884646163,
                27.859876003525528
               ],
               [
                -111.17891883018785,
                27.94124054616907
               ],
               [
                -111.75960689985163,
                28.46795258230395
               ],
               [
                -112.2282346260904,
                28.95440867768349
               ],
               [
                -112.27182369672869,
                29.266844387320077
               ],
               [
                -112.80959448937398,
                30.02111359305235
               ],
               [
                -113.16381059451868,
                30.786880804969428
               ],
               [
                -113.14866939985717,
                31.170965887978923
               ],
               [
                -113.87188106978186,
                31.567608344035193
               ],
               [
                -114.20573666060352,
                31.524045111613134
               ],
               [
                -114.77645117883503,
                31.79953217216115
               ],
               [
                -114.93669979537214,
                31.393484605427602
               ],
               [
                -114.7712318591735,
                30.913617255165263
               ],
               [
                -114.67389929895177,
                30.162681179315996
               ],
               [
                -114.33097449426293,
                29.750432440707414
               ],
               [
                -113.58887508833544,
                29.061611436473015
               ],
               [
                -113.42405310754054,
                28.82617361095123
               ],
               [
                -113.27196936730553,
                28.7547826197399
               ],
               [
                -113.14003943566439,
                28.41128937429596
               ],
               [
                -112.9622983467965,
                28.42519033458251
               ],
               [
                -112.76158708377488,
                27.780216783147523
               ],
               [
                -112.45791052941166,
                27.52581370697476
               ],
               [
                -112.2449519519368,
                27.17172679291076
               ],
               [
                -111.61648902061921,
                26.662817287700477
               ],
               [
                -111.28467464887302,
                25.732589830014433
               ],
               [
                -110.9878193835724,
                25.294606228124564
               ],
               [
                -110.71000688357134,
                24.82600434010186
               ],
               [
                -110.65504899782889,
                24.298594672131117
               ],
               [
                -110.17285620811344,
                24.265547593680424
               ],
               [
                -109.77184709352855,
                23.811182562754198
               ],
               [
                -109.40910437705571,
                23.36467234953625
               ],
               [
                -109.43339230023292,
                23.1855876734287
               ],
               [
                -109.85421932660171,
                22.818271592698068
               ],
               [
                -110.03139197471444,
                22.823077500901206
               ],
               [
                -110.29507097048366,
                23.43097321216669
               ],
               [
                -110.94950130902805,
                24.000964260345995
               ],
               [
                -111.6705684070127,
                24.484423122652515
               ],
               [
                -112.18203589562148,
                24.738412787367167
               ],
               [
                -112.14898881717085,
                25.47012523040405
               ],
               [
                -112.3007108223797,
                26.012004299416617
               ],
               [
                -112.77729671919155,
                26.32195954030317
               ],
               [
                -113.46467078332194,
                26.768185533143424
               ],
               [
                -113.59672990604383,
                26.639459540304472
               ],
               [
                -113.84893673384425,
                26.90006378835244
               ],
               [
                -114.46574662968004,
                27.142090358991368
               ],
               [
                -115.05514217818501,
                27.72272675222291
               ],
               [
                -114.98225257043742,
                27.798200181585116
               ],
               [
                -114.57036556685495,
                27.74148529714489
               ],
               [
                -114.19932878299926,
                28.115002549750557
               ],
               [
                -114.16201839888464,
                28.566111965442303
               ],
               [
                -114.93184221073665,
                29.27947927501549
               ],
               [
                -115.518653937627,
                29.5563615992354
               ],
               [
                -115.88736528202958,
                30.180793768834178
               ],
               [
                -116.25835038945291,
                30.836464341753583
               ],
               [
                -116.72152625208497,
                31.635743720012044
               ],
               [
                -117.12775999999985,
                32.53533999999996
               ]
              ]
             ],
             "type": "Polygon"
            },
            "id": "22",
            "properties": {
             "Country_std": "Mexico",
             "ISO3": "MEX",
             "n_unicorns": 5,
             "total_val": 15.2
            },
            "type": "Feature"
           },
           {
            "geometry": {
             "coordinates": [
              [
               [
                [
                 100.0857568705271,
                 6.4644894474502905
                ],
                [
                 100.25959638875696,
                 6.6428248152895435
                ],
                [
                 101.07551557821336,
                 6.2048670516159214
                ],
                [
                 101.15421878459387,
                 5.691384182147715
                ],
                [
                 101.81428185425798,
                 5.8108084171742425
                ],
                [
                 102.14118696493638,
                 6.221636053894628
                ],
                [
                 102.37114708863521,
                 6.128205064310919
                ],
                [
                 102.96170535686673,
                 5.524495144061106
                ],
                [
                 103.38121463421217,
                 4.8550011255037475
                ],
                [
                 103.43857547405612,
                 4.181605536308339
                ],
                [
                 103.33212202353486,
                 3.726697902842986
                ],
                [
                 103.42942874554049,
                 3.3828687605890053
                ],
                [
                 103.50244754436889,
                 2.7910185815501762
                ],
                [
                 103.8546741068703,
                 2.515454006353764
                ],
                [
                 104.24793175661145,
                 1.6311410587590842
                ],
                [
                 104.22881147666348,
                 1.2930480004894918
                ],
                [
                 103.51970747275439,
                 1.2263337264006822
                ],
                [
                 102.57361535035477,
                 1.9671153833046873
                ],
                [
                 101.39063846232919,
                 2.760813706875581
                ],
                [
                 101.27353966675582,
                 3.270291652841152
                ],
                [
                 100.69543541870664,
                 3.9391397159948696
                ],
                [
                 100.55740766805502,
                 4.767280381688295
                ],
                [
                 100.19670617065775,
                 5.312492580583708
                ],
                [
                 100.30626020711652,
                 6.0405618351439045
                ],
                [
                 100.0857568705271,
                 6.4644894474502905
                ]
               ]
              ],
              [
               [
                [
                 117.88203494677018,
                 4.137551377779516
                ],
                [
                 117.01521447150628,
                 4.3060940616994685
                ],
                [
                 115.8655172058767,
                 4.3065591495901
                ],
                [
                 115.51907840379198,
                 3.169238389494396
                ],
                [
                 115.13403730678522,
                 2.8214818383862337
                ],
                [
                 114.62135542201753,
                 1.4306881778989011
                ],
                [
                 113.8058496440195,
                 1.2175487329110695
                ],
                [
                 112.85980919805218,
                 1.4977900252299037
                ],
                [
                 112.38025190638359,
                 1.4101209578467433
                ],
                [
                 111.79754845586041,
                 0.9044412296546085
                ],
                [
                 111.15913781132662,
                 0.976478176269481
                ],
                [
                 110.51406090702716,
                 0.7731314152009645
                ],
                [
                 109.83022667850881,
                 1.3381356876641632
                ],
                [
                 109.66326012577375,
                 2.0064669864949565
                ],
                [
                 110.3961352885371,
                 1.663774725751395
                ],
                [
                 111.16885298059748,
                 1.8506367049188128
                ],
                [
                 111.37008100794205,
                 2.6973033715888595
                ],
                [
                 111.7969283386729,
                 2.885896511238059
                ],
                [
                 112.99561486211522,
                 3.102394924324855
                ],
                [
                 113.71293541875868,
                 3.8935094262811556
                ],
                [
                 114.20401655482837,
                 4.5258739282368055
                ],
                [
                 114.65959598191353,
                 4.007636826997754
                ],
                [
                 114.8695573263154,
                 4.348313706881925
                ],
                [
                 115.34746097215066,
                 4.316636053887009
                ],
                [
                 115.40570031134361,
                 4.955227565933839
                ],
                [
                 115.45071048386981,
                 5.447729803891534
                ],
                [
                 116.22074100145102,
                 6.1431912296755655
                ],
                [
                 116.72510298061971,
                 6.924771429873999
                ],
                [
                 117.12962609260047,
                 6.92805288332454
                ],
                [
                 117.64339318244627,
                 6.422166449403249
                ],
                [
                 117.68907514859231,
                 5.987490139180154
                ],
                [
                 118.34769127815224,
                 5.708695786965492
                ],
                [
                 119.18190392463997,
                 5.407835598162207
                ],
                [
                 119.11069380094176,
                 5.016128241389808
                ],
                [
                 118.43972700406408,
                 4.966518866389606
                ],
                [
                 118.6183207540648,
                 4.478202419447555
                ],
                [
                 117.88203494677018,
                 4.137551377779516
                ]
               ]
              ]
             ],
             "type": "MultiPolygon"
            },
            "id": "23",
            "properties": {
             "Country_std": "Malaysia",
             "ISO3": "MYS",
             "n_unicorns": 1,
             "total_val": 1.3
            },
            "type": "Feature"
           },
           {
            "geometry": {
             "coordinates": [
              [
               [
                6.905139601274129,
                53.48216217713065
               ],
               [
                7.092053256873896,
                53.144043280644894
               ],
               [
                6.842869500362383,
                52.22844025329755
               ],
               [
                6.589396599970826,
                51.852029120483394
               ],
               [
                5.988658074577813,
                51.851615709025054
               ],
               [
                6.15665815595878,
                50.80372101501058
               ],
               [
                5.606975945670001,
                51.03729848896978
               ],
               [
                4.973991326526914,
                51.47502370869813
               ],
               [
                4.047071160507528,
                51.26725861266857
               ],
               [
                3.3149711442285366,
                51.34575511331991
               ],
               [
                3.3150114849641596,
                51.34577662473805
               ],
               [
                3.8302885270431375,
                51.62054454203195
               ],
               [
                4.705997348661185,
                53.091798407597764
               ],
               [
                6.074182570020923,
                53.510403347378144
               ],
               [
                6.905139601274129,
                53.48216217713065
               ]
              ]
             ],
             "type": "Polygon"
            },
            "id": "24",
            "properties": {
             "Country_std": "Netherlands",
             "ISO3": "NLD",
             "n_unicorns": 5,
             "total_val": 14.3
            },
            "type": "Feature"
           },
           {
            "geometry": {
             "coordinates": [
              [
               [
                [
                 120.83389611214656,
                 12.704496161342433
                ],
                [
                 120.32343631396745,
                 13.466413479053825
                ],
                [
                 121.18012820850211,
                 13.429697373910443
                ],
                [
                 121.5273938335035,
                 13.06959015548452
                ],
                [
                 121.26219038298159,
                 12.205560207564403
                ],
                [
                 120.83389611214656,
                 12.704496161342433
                ]
               ]
              ],
              [
               [
                [
                 122.5860889018671,
                 9.981044826696134
                ],
                [
                 122.83708133350875,
                 10.261156927934225
                ],
                [
                 122.9474105164519,
                 10.88186839440806
                ],
                [
                 123.49884972543845,
                 10.94062449792392
                ],
                [
                 123.33777428598472,
                 10.267383938025404
                ],
                [
                 124.0779358257012,
                 11.232725531453738
                ],
                [
                 123.98243777882584,
                 10.278778591345755
                ],
                [
                 123.62318322153271,
                 9.950090643753299
                ],
                [
                 123.30992068897939,
                 9.318268744336706
                ],
                [
                 122.99588300994166,
                 9.022188625520414
                ],
                [
                 122.38005496631942,
                 9.713360907424217
                ],
                [
                 122.5860889018671,
                 9.981044826696134
                ]
               ]
              ],
              [
               [
                [
                 126.37681359263745,
                 8.414706325713297
                ],
                [
                 126.47851281138789,
                 7.750354112168978
                ],
                [
                 126.53742394420061,
                 7.189380601424545
                ],
                [
                 126.19677290253259,
                 6.274294338400054
                ],
                [
                 125.83142052622907,
                 7.293715318221842
                ],
                [
                 125.36385216685221,
                 6.786485297060949
                ],
                [
                 125.68316084198369,
                 6.049656887227272
                ],
                [
                 125.39651167206063,
                 5.5810033227722755
                ],
                [
                 124.21978763234239,
                 6.161355495626154
                ],
                [
                 123.9387195171069,
                 6.885135606306136
                ],
                [
                 124.24366214406128,
                 7.360610459823661
                ],
                [
                 123.61021243702749,
                 7.83352732994274
                ],
                [
                 123.29607140512519,
                 7.418875637232759
                ],
                [
                 122.82550581267537,
                 7.457374579290204
                ],
                [
                 122.08549930225573,
                 6.899424139834836
                ],
                [
                 121.91992801319256,
                 7.192119452336015
                ],
                [
                 122.31235884001705,
                 8.034962063016465
                ],
                [
                 122.94239790251959,
                 8.316236883981134
                ],
                [
                 123.48768761606347,
                 8.69300975182118
                ],
                [
                 123.84115441293983,
                 8.240324204944372
                ],
                [
                 124.60146976125021,
                 8.514157619659002
                ],
                [
                 124.76461225799562,
                 8.960409450715488
                ],
                [
                 125.47139082245155,
                 8.986996975129657
                ],
                [
                 125.41211795461277,
                 9.760334784377534
                ],
                [
                 126.2227144715431,
                 9.286074327018866
                ],
                [
                 126.30663699758514,
                 8.78248749433456
                ],
                [
                 126.37681359263745,
                 8.414706325713297
                ]
               ]
              ],
              [
               [
                [
                 118.50458092659036,
                 9.316382554558047
                ],
                [
                 117.17427453010066,
                 8.367499904814679
                ],
                [
                 117.66447716682137,
                 9.066888739452892
                ],
                [
                 118.38691369026175,
                 9.68449961998921
                ],
                [
                 118.98734215706105,
                 10.376292019080523
                ],
                [
                 119.51149620979751,
                 11.3696680770272
                ],
                [
                 119.68967654833989,
                 10.554291490109875
                ],
                [
                 119.02945844937892,
                 10.003653265823829
                ],
                [
                 118.50458092659036,
                 9.316382554558047
                ]
               ]
              ],
              [
               [
                [
                 122.336956821788,
                 18.224882717354106
                ],
                [
                 122.17427941293317,
                 17.810282701076403
                ],
                [
                 122.5156539246533,
                 17.093504746971973
                ],
                [
                 122.25231082569393,
                 16.26244436285407
                ],
                [
                 121.66278608610821,
                 15.931017564350142
                ],
                [
                 121.50506961475342,
                 15.124813544164622
                ],
                [
                 121.7288285665772,
                 14.328376369682275
                ],
                [
                 122.25892540902726,
                 14.21820221603599
                ],
                [
                 122.70127566944569,
                 14.336541245984378
                ],
                [
                 123.9502950379403,
                 13.782130642141027
                ],
                [
                 123.85510704965867,
                 13.237771104378425
                ],
                [
                 124.18128869028493,
                 12.9975273706535
                ],
                [
                 124.0774190613783,
                 12.536676947474575
                ],
                [
                 123.29803510955225,
                 13.02752553959894
                ],
                [
                 122.92865197152994,
                 13.552919826710422
                ],
                [
                 122.6713550151487,
                 13.185836289925092
                ],
                [
                 122.03464969288052,
                 13.784481919810304
                ],
                [
                 121.12638471891857,
                 13.636687323455547
                ],
                [
                 120.62863732308324,
                 13.857655747935596
                ],
                [
                 120.67938357959386,
                 14.271015529838294
                ],
                [
                 120.99181928923053,
                 14.52539276779504
                ],
                [
                 120.69333621631267,
                 14.756670640517312
                ],
                [
                 120.56414513558299,
                 14.396279201713796
                ],
                [
                 120.07042850146644,
                 14.970869452367126
                ],
                [
                 119.92092858284605,
                 15.406346747290739
                ],
                [
                 119.88377322802819,
                 16.363704331929995
                ],
                [
                 120.28648766487875,
                 16.034628811095345
                ],
                [
                 120.39004723519167,
                 17.599081122299523
                ],
                [
                 120.71586714079191,
                 18.505227362537525
                ],
                [
                 121.32130822152351,
                 18.504064642810945
                ],
                [
                 121.9376013530364,
                 18.218552354398355
                ],
                [
                 122.24600630095429,
                 18.478949896717097
                ],
                [
                 122.336956821788,
                 18.224882717354106
                ]
               ]
              ],
              [
               [
                [
                 122.03837039600555,
                 11.415840969279998
                ],
                [
                 121.88354780485909,
                 11.891755072471994
                ],
                [
                 122.48382124236149,
                 11.582187404827538
                ],
                [
                 123.12021650603594,
                 11.583660183147856
                ],
                [
                 123.10083784392646,
                 11.16593374271649
                ],
                [
                 122.63771365772669,
                 10.74130849857417
                ],
                [
                 122.00261030485957,
                 10.441016750526089
                ],
                [
                 121.96736697803652,
                 10.905691229694625
                ],
                [
                 122.03837039600555,
                 11.415840969279998
                ]
               ]
              ],
              [
               [
                [
                 125.50255171112354,
                 12.162694606978292
                ],
                [
                 125.78346479706221,
                 11.046121934447783
                ],
                [
                 125.01188398651226,
                 11.311454576050409
                ],
                [
                 125.03276126515817,
                 10.975816148314692
                ],
                [
                 125.27744917206019,
                 10.358722032101284
                ],
                [
                 124.80181928924577,
                 10.134678859899864
                ],
                [
                 124.76016808481853,
                 10.837995103392258
                ],
                [
                 124.45910119028605,
                 10.889929917845592
                ],
                [
                 124.30252160044171,
                 11.495370998577187
                ],
                [
                 124.89101281138153,
                 11.415582587118536
                ],
                [
                 124.87799035044401,
                 11.794189968304947
                ],
                [
                 124.26676150929569,
                 12.557760931849671
                ],
                [
                 125.22711632700788,
                 12.53572093347718
                ],
                [
                 125.50255171112354,
                 12.162694606978292
                ]
               ]
              ]
             ],
             "type": "MultiPolygon"
            },
            "id": "26",
            "properties": {
             "Country_std": "Philippines",
             "ISO3": "PHL",
             "n_unicorns": 2,
             "total_val": 3
            },
            "type": "Feature"
           },
           {
            "geometry": {
             "coordinates": [
              [
               [
                11.027368605196868,
                58.85614940045936
               ],
               [
                11.468271925511146,
                59.43239329694604
               ],
               [
                12.3003658382749,
                60.11793284773003
               ],
               [
                12.631146681375185,
                61.293571682370136
               ],
               [
                11.992064243221563,
                61.80036245385655
               ],
               [
                11.930569288794231,
                63.12831757267698
               ],
               [
                12.579935336973934,
                64.06621898055833
               ],
               [
                13.571916131248713,
                64.04911408146971
               ],
               [
                13.919905226302204,
                64.44542064071608
               ],
               [
                13.55568973150909,
                64.78702769638151
               ],
               [
                15.108411492583002,
                66.19386688909547
               ],
               [
                16.108712192456778,
                67.30245555283689
               ],
               [
                16.768878614985482,
                68.0139366726314
               ],
               [
                17.729181756265348,
                68.01055186631628
               ],
               [
                17.993868442464333,
                68.56739126247736
               ],
               [
                19.878559604581255,
                68.40719432237258
               ],
               [
                20.025268995857886,
                69.0651386583127
               ],
               [
                20.645592889089528,
                69.10624726020087
               ],
               [
                21.978534783626117,
                68.6168456081807
               ],
               [
                23.53947309743444,
                67.93600861273525
               ],
               [
                23.565879754335583,
                66.39605093043743
               ],
               [
                23.903378533633802,
                66.00692739527962
               ],
               [
                22.18317345550193,
                65.72374054632017
               ],
               [
                21.21351687997722,
                65.02600535751527
               ],
               [
                21.369631381930958,
                64.41358795842429
               ],
               [
                19.77887576669022,
                63.60955434839504
               ],
               [
                17.84777916837521,
                62.74940013289681
               ],
               [
                17.119554884518124,
                61.34116567651097
               ],
               [
                17.83134606290639,
                60.63658336042741
               ],
               [
                18.78772179533209,
                60.081914374422595
               ],
               [
                17.86922488777634,
                58.9537661810587
               ],
               [
                16.829185011470088,
                58.71982697207339
               ],
               [
                16.447709588291474,
                57.041118069071885
               ],
               [
                15.879785597403783,
                56.10430186626866
               ],
               [
                14.666681349352075,
                56.200885118222175
               ],
               [
                14.100721062891465,
                55.40778107362265
               ],
               [
                12.942910597392057,
                55.36173737245058
               ],
               [
                12.625100538797028,
                56.30708018658197
               ],
               [
                11.787942335668674,
                57.44181712506307
               ],
               [
                11.027368605196868,
                58.85614940045936
               ]
              ]
             ],
             "type": "Polygon"
            },
            "id": "28",
            "properties": {
             "Country_std": "Sweden",
             "ISO3": "SWE",
             "n_unicorns": 3,
             "total_val": 12.48
            },
            "type": "Feature"
           },
           {
            "geometry": {
             "coordinates": [
              [
               [
                105.21877689007889,
                14.273211778210694
               ],
               [
                104.28141808473661,
                14.416743068901367
               ],
               [
                102.98842207236163,
                14.225721136934467
               ],
               [
                102.34809939983302,
                13.394247341358223
               ],
               [
                102.5849324890267,
                12.186594956913282
               ],
               [
                101.68715783081996,
                12.645740057826572
               ],
               [
                100.83180952352487,
                12.627084865769206
               ],
               [
                100.9784672383692,
                13.412721665902566
               ],
               [
                100.09779747925111,
                13.406856390837433
               ],
               [
                100.01873253784456,
                12.307001044153354
               ],
               [
                99.47892052612363,
                10.846366685423547
               ],
               [
                99.15377241414316,
                9.963061428258555
               ],
               [
                99.22239871622676,
                9.239255479362427
               ],
               [
                99.87383182169813,
                9.20786204674512
               ],
               [
                100.27964684448622,
                8.295152899606052
               ],
               [
                100.45927412313276,
                7.429572658717177
               ],
               [
                101.01732791545273,
                6.856868597842478
               ],
               [
                101.62307905477806,
                6.74062246340192
               ],
               [
                102.14118696493638,
                6.221636053894628
               ],
               [
                101.81428185425798,
                5.8108084171742425
               ],
               [
                101.15421878459387,
                5.691384182147715
               ],
               [
                101.07551557821336,
                6.2048670516159214
               ],
               [
                100.25959638875696,
                6.6428248152895435
               ],
               [
                100.0857568705271,
                6.4644894474502905
               ],
               [
                99.69069054565576,
                6.8482127954335965
               ],
               [
                99.51964155476963,
                7.34345388430276
               ],
               [
                98.9882528015123,
                7.907993068875328
               ],
               [
                98.503786248776,
                8.382305202666288
               ],
               [
                98.339661899817,
                7.794511623562386
               ],
               [
                98.15000939330582,
                8.350007432483878
               ],
               [
                98.25915001830626,
                8.973922837759801
               ],
               [
                98.55355065307305,
                9.932959906448545
               ],
               [
                99.03812055867398,
                10.960545762572437
               ],
               [
                99.58728600463972,
                11.892762762901697
               ],
               [
                99.19635379435167,
                12.80474843998867
               ],
               [
                99.21201175333609,
                13.269293728076464
               ],
               [
                99.09775516153876,
                13.827502549693278
               ],
               [
                98.43081912637987,
                14.622027696180837
               ],
               [
                98.1920740091914,
                15.123702500870351
               ],
               [
                98.53737592976572,
                15.308497422746084
               ],
               [
                98.90334842325676,
                16.17782420497612
               ],
               [
                98.49376102091135,
                16.83783559820793
               ],
               [
                97.85912275593486,
                17.567946071843664
               ],
               [
                97.37589643757354,
                18.445437730375815
               ],
               [
                97.79778283080441,
                18.627080389881755
               ],
               [
                98.25372399291561,
                19.708203029860044
               ],
               [
                98.95967573445488,
                19.752980658440947
               ],
               [
                99.54330936075931,
                20.186597601802063
               ],
               [
                100.11598758341785,
                20.417849636308187
               ],
               [
                100.54888105672688,
                20.109237982661128
               ],
               [
                100.60629357300316,
                19.508344427971224
               ],
               [
                101.2820146016517,
                19.462584947176765
               ],
               [
                101.03593143107777,
                18.408928330961615
               ],
               [
                101.05954756063517,
                17.51249725999449
               ],
               [
                102.11359175009248,
                18.109101670804165
               ],
               [
                102.41300499879162,
                17.932781683824288
               ],
               [
                102.99870568238771,
                17.9616946476916
               ],
               [
                103.20019209189374,
                18.309632066312773
               ],
               [
                103.9564766784853,
                18.24095408779688
               ],
               [
                104.7169470560925,
                17.42885895433008
               ],
               [
                104.7793205098688,
                16.44186493577145
               ],
               [
                105.58903852745016,
                15.570316066952858
               ],
               [
                105.54433841351769,
                14.723933620660418
               ],
               [
                105.21877689007889,
                14.273211778210694
               ]
              ]
             ],
             "type": "Polygon"
            },
            "id": "29",
            "properties": {
             "Country_std": "Thailand",
             "ISO3": "THA",
             "n_unicorns": 2,
             "total_val": 2.5
            },
            "type": "Feature"
           },
           {
            "geometry": {
             "coordinates": [
              [
               [
                [
                 -122.84000000000003,
                 49.000000000000114
                ],
                [
                 -120,
                 49.000000000000114
                ],
                [
                 -117.03121,
                 49
                ],
                [
                 -116.04818,
                 49
                ],
                [
                 -113,
                 49
                ],
                [
                 -110.05000000000001,
                 49
                ],
                [
                 -107.05000000000001,
                 49
                ],
                [
                 -104.04826000000003,
                 48.99986000000007
                ],
                [
                 -100.65000000000003,
                 49.000000000000114
                ],
                [
                 -97.2287200000048,
                 49.0007
                ],
                [
                 -95.15906950917206,
                 49
                ],
                [
                 -95.15609,
                 49.38425000000001
                ],
                [
                 -94.81758000000002,
                 49.38905
                ],
                [
                 -94.64,
                 48.84
                ],
                [
                 -94.32914000000001,
                 48.67074
                ],
                [
                 -93.63087000000002,
                 48.609260000000006
                ],
                [
                 -92.61000000000001,
                 48.44999999999993
                ],
                [
                 -91.64,
                 48.14
                ],
                [
                 -90.83,
                 48.27
                ],
                [
                 -89.60000000000002,
                 48.010000000000105
                ],
                [
                 -89.27291744663665,
                 48.01980825458281
                ],
                [
                 -88.37811418328671,
                 48.302917588893706
                ],
                [
                 -87.43979262330028,
                 47.94
                ],
                [
                 -86.46199083122826,
                 47.553338019392
                ],
                [
                 -85.65236324740341,
                 47.22021881773051
                ],
                [
                 -84.8760798815149,
                 46.90008331968238
                ],
                [
                 -84.77923824739992,
                 46.63710195574902
                ],
                [
                 -84.54374874544584,
                 46.538684190449146
                ],
                [
                 -84.60490000000004,
                 46.439599999999984
                ],
                [
                 -84.33670000000001,
                 46.408770000000004
                ],
                [
                 -84.1421195136734,
                 46.51222585711571
                ],
                [
                 -84.0918512641615,
                 46.27541860613826
                ],
                [
                 -83.89076534700574,
                 46.116926988299014
                ],
                [
                 -83.61613094759059,
                 46.116926988299014
                ],
                [
                 -83.46955074739469,
                 45.994686387712534
                ],
                [
                 -83.59285071484311,
                 45.81689362241252
                ],
                [
                 -82.55092464875821,
                 45.34751658790543
                ],
                [
                 -82.33776312543114,
                 44.440000000000055
                ],
                [
                 -82.13764238150395,
                 43.57108755143997
                ],
                [
                 -82.42999999999999,
                 42.980000000000004
                ],
                [
                 -82.9,
                 42.43
                ],
                [
                 -83.12,
                 42.08
                ],
                [
                 -83.14199968131264,
                 41.975681057292874
                ],
                [
                 -83.029810146807,
                 41.83279572200598
                ],
                [
                 -82.69008928092023,
                 41.675105088867326
                ],
                [
                 -82.4392777167916,
                 41.675105088867326
                ],
                [
                 -81.27774654816716,
                 42.209025987306816
                ],
                [
                 -80.24744767934794,
                 42.36619985612255
                ],
                [
                 -78.93936214874375,
                 42.86361135514798
                ],
                [
                 -78.92,
                 42.964999999999996
                ],
                [
                 -79.01,
                 43.27
                ],
                [
                 -79.17167355011186,
                 43.46633942318426
                ],
                [
                 -78.72027991404235,
                 43.62508942318493
                ],
                [
                 -77.7378850979577,
                 43.62905558936328
                ],
                [
                 -76.82003414580558,
                 43.628784288093755
                ],
                [
                 -76.50000000000001,
                 44.01845889375865
                ],
                [
                 -76.375,
                 44.09631
                ],
                [
                 -75.31821000000001,
                 44.81645
                ],
                [
                 -74.86700000000002,
                 45.000480000000096
                ],
                [
                 -73.34783,
                 45.00738
                ],
                [
                 -71.50506,
                 45.0082
                ],
                [
                 -71.405,
                 45.254999999999995
                ],
                [
                 -71.08482000000004,
                 45.30524000000014
                ],
                [
                 -70.66,
                 45.46
                ],
                [
                 -70.305,
                 45.915
                ],
                [
                 -69.99997,
                 46.69307
                ],
                [
                 -69.237216,
                 47.447781
                ],
                [
                 -68.90500000000003,
                 47.18500000000006
                ],
                [
                 -68.23444,
                 47.354859999999974
                ],
                [
                 -67.79046000000001,
                 47.066359999999996
                ],
                [
                 -67.79134,
                 45.70281000000001
                ],
                [
                 -67.13741,
                 45.13753
                ],
                [
                 -66.96465999999998,
                 44.809700000000134
                ],
                [
                 -68.03251999999998,
                 44.325199999999995
                ],
                [
                 -69.05999999999995,
                 43.980000000000075
                ],
                [
                 -70.11616999999995,
                 43.68405000000013
                ],
                [
                 -70.64547563341102,
                 43.09023834896402
                ],
                [
                 -70.81488999999999,
                 42.865299999999934
                ],
                [
                 -70.82499999999999,
                 42.33499999999998
                ],
                [
                 -70.49499999999995,
                 41.80500000000001
                ],
                [
                 -70.07999999999998,
                 41.78000000000003
                ],
                [
                 -70.185,
                 42.145000000000095
                ],
                [
                 -69.88496999999995,
                 41.92283000000009
                ],
                [
                 -69.96502999999996,
                 41.63717000000014
                ],
                [
                 -70.63999999999999,
                 41.47500000000002
                ],
                [
                 -71.12039000000004,
                 41.49445000000014
                ],
                [
                 -71.8599999999999,
                 41.32000000000005
                ],
                [
                 -72.29500000000002,
                 41.26999999999998
                ],
                [
                 -72.87643000000003,
                 41.220650000000035
                ],
                [
                 -73.71000000000004,
                 40.93110235165449
                ],
                [
                 -72.24125999999995,
                 41.119480000000124
                ],
                [
                 -71.94499999999988,
                 40.930000000000064
                ],
                [
                 -73.34499999999997,
                 40.63000000000005
                ],
                [
                 -73.98200000000003,
                 40.62799999999993
                ],
                [
                 -73.95232499999997,
                 40.75075000000004
                ],
                [
                 -74.25671,
                 40.47351000000003
                ],
                [
                 -73.96243999999996,
                 40.42763000000002
                ],
                [
                 -74.17838,
                 39.70925999999997
                ],
                [
                 -74.90603999999996,
                 38.93954000000002
                ],
                [
                 -74.98041,
                 39.19640000000004
                ],
                [
                 -75.20002,
                 39.248450000000105
                ],
                [
                 -75.52805000000001,
                 39.49850000000009
                ],
                [
                 -75.32,
                 38.960000000000036
                ],
                [
                 -75.07183476478986,
                 38.782032230179254
                ],
                [
                 -75.05672999999996,
                 38.40412000000009
                ],
                [
                 -75.37746999999996,
                 38.015510000000006
                ],
                [
                 -75.94022999999999,
                 37.21689000000009
                ],
                [
                 -76.03126999999995,
                 37.25659999999999
                ],
                [
                 -75.72204999999985,
                 37.93705000000011
                ],
                [
                 -76.23286999999999,
                 38.319214999999986
                ],
                [
                 -76.35000000000002,
                 39.14999999999998
                ],
                [
                 -76.54272499999996,
                 38.71761500000008
                ],
                [
                 -76.32933000000003,
                 38.08326000000005
                ],
                [
                 -76.98999793161352,
                 38.23999176691336
                ],
                [
                 -76.30161999999996,
                 37.91794499999992
                ],
                [
                 -76.25873999999999,
                 36.96640000000008
                ],
                [
                 -75.97179999999997,
                 36.89726000000002
                ],
                [
                 -75.8680399999999,
                 36.55125000000004
                ],
                [
                 -75.72748999999999,
                 35.55074000000013
                ],
                [
                 -76.36318,
                 34.80854000000011
                ],
                [
                 -77.39763499999992,
                 34.512009999999975
                ],
                [
                 -78.05496,
                 33.92547000000002
                ],
                [
                 -78.55434999999989,
                 33.86133000000012
                ],
                [
                 -79.06067000000002,
                 33.493949999999984
                ],
                [
                 -79.20357000000001,
                 33.158390000000054
                ],
                [
                 -80.30132499999996,
                 32.509355000000085
                ],
                [
                 -80.86498,
                 32.033300000000054
                ],
                [
                 -81.33629000000002,
                 31.44049000000001
                ],
                [
                 -81.49041999999997,
                 30.7299900000001
                ],
                [
                 -81.31371000000001,
                 30.035520000000076
                ],
                [
                 -80.97999999999996,
                 29.18000000000012
                ],
                [
                 -80.53558499999991,
                 28.472129999999993
                ],
                [
                 -80.52999999999986,
                 28.040000000000077
                ],
                [
                 -80.05653928497759,
                 26.88000000000011
                ],
                [
                 -80.08801499999998,
                 26.205764999999985
                ],
                [
                 -80.13155999999992,
                 25.816775000000064
                ],
                [
                 -80.38103000000001,
                 25.20616000000001
                ],
                [
                 -80.67999999999995,
                 25.08000000000004
                ],
                [
                 -81.17212999999998,
                 25.201260000000104
                ],
                [
                 -81.33000000000004,
                 25.639999999999986
                ],
                [
                 -81.70999999999987,
                 25.870000000000005
                ],
                [
                 -82.23999999999995,
                 26.730000000000132
                ],
                [
                 -82.70515,
                 27.495040000000074
                ],
                [
                 -82.85525999999999,
                 27.886240000000043
                ],
                [
                 -82.64999999999998,
                 28.550000000000125
                ],
                [
                 -82.92999999999995,
                 29.10000000000008
                ],
                [
                 -83.70958999999999,
                 29.936560000000043
                ],
                [
                 -84.09999999999997,
                 30.09000000000009
                ],
                [
                 -85.10881999999998,
                 29.636150000000043
                ],
                [
                 -85.28784000000002,
                 29.68612000000013
                ],
                [
                 -85.7731,
                 30.152610000000095
                ],
                [
                 -86.39999999999992,
                 30.40000000000009
                ],
                [
                 -87.53035999999992,
                 30.27433000000002
                ],
                [
                 -88.41781999999995,
                 30.384900000000016
                ],
                [
                 -89.1804899999999,
                 30.315980000000025
                ],
                [
                 -89.5938311784198,
                 30.159994004836847
                ],
                [
                 -89.41373499999997,
                 29.89418999999998
                ],
                [
                 -89.43,
                 29.488639999999975
                ],
                [
                 -89.21767,
                 29.291080000000022
                ],
                [
                 -89.40822999999995,
                 29.159610000000043
                ],
                [
                 -89.77927999999997,
                 29.307140000000118
                ],
                [
                 -90.15463,
                 29.11743000000007
                ],
                [
                 -90.88022499999994,
                 29.148535000000095
                ],
                [
                 -91.62678499999993,
                 29.677000000000135
                ],
                [
                 -92.49905999999999,
                 29.552300000000002
                ],
                [
                 -93.22636999999997,
                 29.783750000000055
                ],
                [
                 -93.84841999999998,
                 29.71363000000008
                ],
                [
                 -94.69,
                 29.480000000000132
                ],
                [
                 -95.60025999999999,
                 28.738630000000057
                ],
                [
                 -96.59403999999995,
                 28.307480000000055
                ],
                [
                 -97.13999999999987,
                 27.83000000000004
                ],
                [
                 -97.36999999999995,
                 27.380000000000052
                ],
                [
                 -97.37999999999994,
                 26.690000000000055
                ],
                [
                 -97.32999999999998,
                 26.210000000000093
                ],
                [
                 -97.13999999999987,
                 25.870000000000005
                ],
                [
                 -97.52999999999992,
                 25.84000000000009
                ],
                [
                 -98.23999999999995,
                 26.06000000000006
                ],
                [
                 -99.01999999999992,
                 26.37000000000006
                ],
                [
                 -99.30000000000001,
                 26.840000000000032
                ],
                [
                 -99.51999999999992,
                 27.54000000000002
                ],
                [
                 -100.10999999999996,
                 28.110000000000127
                ],
                [
                 -100.45584000000002,
                 28.69612000000012
                ],
                [
                 -100.95759999999996,
                 29.380710000000136
                ],
                [
                 -101.66239999999999,
                 29.77930000000009
                ],
                [
                 -102.48000000000002,
                 29.75999999999999
                ],
                [
                 -103.11000000000001,
                 28.970000000000027
                ],
                [
                 -103.94,
                 29.27000000000004
                ],
                [
                 -104.4569699999999,
                 29.571960000000047
                ],
                [
                 -104.70574999999997,
                 30.121730000000014
                ],
                [
                 -105.03737000000001,
                 30.644019999999955
                ],
                [
                 -105.63159000000002,
                 31.08383000000009
                ],
                [
                 -106.1429,
                 31.399950000000047
                ],
                [
                 -106.50758999999988,
                 31.754520000000014
                ],
                [
                 -108.24000000000001,
                 31.754853718166373
                ],
                [
                 -108.24193999999994,
                 31.342220000000054
                ],
                [
                 -109.03500000000003,
                 31.341940000000136
                ],
                [
                 -111.02361000000002,
                 31.334719999999948
                ],
                [
                 -113.30498,
                 32.03914000000009
                ],
                [
                 -114.815,
                 32.52528000000001
                ],
                [
                 -114.72138999999993,
                 32.72082999999992
                ],
                [
                 -115.99134999999995,
                 32.61239000000012
                ],
                [
                 -117.12775999999985,
                 32.53533999999996
                ],
                [
                 -117.29593769127393,
                 33.04622461520387
                ],
                [
                 -117.94400000000002,
                 33.621236431201396
                ],
                [
                 -118.41060227589753,
                 33.74090922312445
                ],
                [
                 -118.51989482279976,
                 34.02778157757575
                ],
                [
                 -119.08100000000002,
                 34.07799999999992
                ],
                [
                 -119.43884064201671,
                 34.34847717828427
                ],
                [
                 -120.36777999999998,
                 34.447110000000066
                ],
                [
                 -120.62286,
                 34.60854999999998
                ],
                [
                 -120.74432999999999,
                 35.15686000000011
                ],
                [
                 -121.71456999999992,
                 36.161529999999914
                ],
                [
                 -122.54746999999998,
                 37.551760000000115
                ],
                [
                 -122.51201000000003,
                 37.78339000000011
                ],
                [
                 -122.95319,
                 38.11371000000008
                ],
                [
                 -123.72720000000004,
                 38.95166000000012
                ],
                [
                 -123.86516999999998,
                 39.76699000000008
                ],
                [
                 -124.39807000000002,
                 40.313199999999995
                ],
                [
                 -124.17885999999999,
                 41.142020000000116
                ],
                [
                 -124.21370000000002,
                 41.99964000000011
                ],
                [
                 -124.53283999999996,
                 42.7659900000001
                ],
                [
                 -124.14213999999998,
                 43.708380000000034
                ],
                [
                 -124.020535,
                 44.615894999999966
                ],
                [
                 -123.89892999999995,
                 45.52341000000007
                ],
                [
                 -124.079635,
                 46.864750000000015
                ],
                [
                 -124.39566999999994,
                 47.72017000000011
                ],
                [
                 -124.68721008300781,
                 48.18443298339855
                ],
                [
                 -124.56610107421875,
                 48.37971496582037
                ],
                [
                 -123.12,
                 48.04000000000002
                ],
                [
                 -122.58735999999993,
                 47.09600000000006
                ],
                [
                 -122.34000000000003,
                 47.360000000000014
                ],
                [
                 -122.5,
                 48.180000000000064
                ],
                [
                 -122.84000000000003,
                 49.000000000000114
                ]
               ]
              ],
              [
               [
                [
                 -155.40214,
                 20.07975
                ],
                [
                 -155.22452,
                 19.99302
                ],
                [
                 -155.06226,
                 19.8591
                ],
                [
                 -154.80741,
                 19.50871
                ],
                [
                 -154.83147,
                 19.453280000000003
                ],
                [
                 -155.22217,
                 19.23972
                ],
                [
                 -155.54211,
                 19.08348
                ],
                [
                 -155.68817,
                 18.91619
                ],
                [
                 -155.93665,
                 19.05939
                ],
                [
                 -155.90806,
                 19.33888
                ],
                [
                 -156.07347000000001,
                 19.70294
                ],
                [
                 -156.02368,
                 19.81422
                ],
                [
                 -155.85008000000002,
                 19.97729
                ],
                [
                 -155.91907,
                 20.17395
                ],
                [
                 -155.86108000000002,
                 20.267210000000002
                ],
                [
                 -155.78505,
                 20.2487
                ],
                [
                 -155.40214,
                 20.07975
                ]
               ]
              ],
              [
               [
                [
                 -155.99566000000002,
                 20.76404
                ],
                [
                 -156.07926,
                 20.643970000000003
                ],
                [
                 -156.41445,
                 20.57241
                ],
                [
                 -156.58673,
                 20.783
                ],
                [
                 -156.70167,
                 20.8643
                ],
                [
                 -156.71054999999998,
                 20.92676
                ],
                [
                 -156.61258,
                 21.01249
                ],
                [
                 -156.25711,
                 20.917450000000002
                ],
                [
                 -155.99566000000002,
                 20.76404
                ]
               ]
              ],
              [
               [
                [
                 -156.75824,
                 21.176840000000002
                ],
                [
                 -156.78933,
                 21.068730000000002
                ],
                [
                 -157.32521,
                 21.097770000000004
                ],
                [
                 -157.25027,
                 21.219579999999997
                ],
                [
                 -156.75824,
                 21.176840000000002
                ]
               ]
              ],
              [
               [
                [
                 -158.0252,
                 21.71696
                ],
                [
                 -157.94161,
                 21.65272
                ],
                [
                 -157.65283000000002,
                 21.322170000000003
                ],
                [
                 -157.70703,
                 21.26442
                ],
                [
                 -157.7786,
                 21.27729
                ],
                [
                 -158.12667000000002,
                 21.31244
                ],
                [
                 -158.2538,
                 21.53919
                ],
                [
                 -158.29265,
                 21.57912
                ],
                [
                 -158.0252,
                 21.71696
                ]
               ]
              ],
              [
               [
                [
                 -159.36569,
                 22.21494
                ],
                [
                 -159.34512,
                 21.982000000000003
                ],
                [
                 -159.46372,
                 21.88299
                ],
                [
                 -159.80051,
                 22.065330000000003
                ],
                [
                 -159.74877,
                 22.1382
                ],
                [
                 -159.5962,
                 22.236179999999997
                ],
                [
                 -159.36569,
                 22.21494
                ]
               ]
              ],
              [
               [
                [
                 -166.46779212142462,
                 60.384169826897754
                ],
                [
                 -165.67442969466364,
                 60.29360687930625
                ],
                [
                 -165.57916419173358,
                 59.90998688418753
                ],
                [
                 -166.19277014876727,
                 59.75444082298899
                ],
                [
                 -166.84833736882197,
                 59.941406155020985
                ],
                [
                 -167.45527706609008,
                 60.21306915957936
                ],
                [
                 -166.46779212142462,
                 60.384169826897754
                ]
               ]
              ],
              [
               [
                [
                 -153.22872941792113,
                 57.96896841087248
                ],
                [
                 -152.56479061583514,
                 57.901427313866996
                ],
                [
                 -152.1411472239064,
                 57.591058661522
                ],
                [
                 -153.00631405333692,
                 57.11584219016593
                ],
                [
                 -154.0050902984581,
                 56.734676825581076
                ],
                [
                 -154.51640275777004,
                 56.99274892844669
                ],
                [
                 -154.67099280497118,
                 57.46119578717253
                ],
                [
                 -153.7627795074415,
                 57.81657461204373
                ],
                [
                 -153.22872941792113,
                 57.96896841087248
                ]
               ]
              ],
              [
               [
                [
                 -140.98598761037601,
                 69.71199839952635
                ],
                [
                 -140.986,
                 69.712
                ],
                [
                 -140.9925,
                 66.00003000000001
                ],
                [
                 -140.99778,
                 60.30639000000001
                ],
                [
                 -140.013,
                 60.27682000000001
                ],
                [
                 -139.03900000000002,
                 60
                ],
                [
                 -138.34089,
                 59.562110000000004
                ],
                [
                 -137.4525,
                 58.905
                ],
                [
                 -136.47972000000004,
                 59.46389000000005
                ],
                [
                 -135.47583,
                 59.787780000000005
                ],
                [
                 -134.94500000000005,
                 59.2705600000001
                ],
                [
                 -134.27111000000002,
                 58.86111000000005
                ],
                [
                 -133.35556000000003,
                 58.41028000000001
                ],
                [
                 -132.73042,
                 57.692890000000006
                ],
                [
                 -131.70781,
                 56.55212
                ],
                [
                 -130.00778000000003,
                 55.915830000000085
                ],
                [
                 -129.98,
                 55.285000000000004
                ],
                [
                 -130.53611,
                 54.802780000000006
                ],
                [
                 -130.53610895273684,
                 54.80275447679924
                ],
                [
                 -130.5361101894673,
                 54.8027534043494
                ],
                [
                 -131.08581823797215,
                 55.17890615500204
                ],
                [
                 -131.9672114671423,
                 55.497775580459006
                ],
                [
                 -132.2500107428595,
                 56.3699962428974
                ],
                [
                 -133.53918108435641,
                 57.17888743756214
                ],
                [
                 -134.07806292029608,
                 58.12306753196691
                ],
                [
                 -135.0382110322791,
                 58.18771474876394
                ],
                [
                 -136.62806230995471,
                 58.21220937767043
                ],
                [
                 -137.800006279686,
                 58.49999542910376
                ],
                [
                 -139.867787041413,
                 59.53776154238915
                ],
                [
                 -140.825273817133,
                 59.727517401765056
                ],
                [
                 -142.57444353556446,
                 60.08444651960497
                ],
                [
                 -143.9588809948799,
                 59.999180406323376
                ],
                [
                 -145.92555681682788,
                 60.45860972761426
                ],
                [
                 -147.11437394914665,
                 60.884656073644635
                ],
                [
                 -148.22430620012761,
                 60.67298940697714
                ],
                [
                 -148.01806555885082,
                 59.97832896589364
                ],
                [
                 -148.57082251686086,
                 59.914172675203304
                ],
                [
                 -149.72785783587585,
                 59.70565827090553
                ],
                [
                 -150.60824337461642,
                 59.368211168039466
                ],
                [
                 -151.7163927886833,
                 59.15582103131993
                ],
                [
                 -151.85943315326722,
                 59.744984035879554
                ],
                [
                 -151.40971900124717,
                 60.72580272077937
                ],
                [
                 -150.3469414947325,
                 61.03358755150987
                ],
                [
                 -150.62111080625704,
                 61.2844249538544
                ],
                [
                 -151.89583919981683,
                 60.727197984451266
                ],
                [
                 -152.57832984109558,
                 60.061657212964235
                ],
                [
                 -154.01917212625764,
                 59.35027944603428
                ],
                [
                 -153.28751135965317,
                 58.86472768821977
                ],
                [
                 -154.23249243875847,
                 58.14637360293051
                ],
                [
                 -155.3074914215102,
                 57.727794501366304
                ],
                [
                 -156.30833472392305,
                 57.422774359763594
                ],
                [
                 -156.55609737854638,
                 56.97998484967064
                ],
                [
                 -158.11721655986779,
                 56.46360809999419
                ],
                [
                 -158.43332129619714,
                 55.99415355083852
                ],
                [
                 -159.60332739971741,
                 55.56668610292013
                ],
                [
                 -160.28971961163427,
                 55.643580634170576
                ],
                [
                 -161.22304765525777,
                 55.364734605523495
                ],
                [
                 -162.23776607974105,
                 55.02418691672011
                ],
                [
                 -163.06944658104638,
                 54.68973704692712
                ],
                [
                 -164.78556922102717,
                 54.40417308208214
                ],
                [
                 -164.94222632552007,
                 54.57222483989534
                ],
                [
                 -163.84833960676565,
                 55.03943146424609
                ],
                [
                 -162.87000139061595,
                 55.34804311789321
                ],
                [
                 -161.80417497459607,
                 55.89498647727038
                ],
                [
                 -160.5636047027812,
                 56.00805451112501
                ],
                [
                 -160.07055986228448,
                 56.41805532492873
                ],
                [
                 -158.6844429189195,
                 57.01667511659787
                ],
                [
                 -158.46109737855403,
                 57.21692129172885
                ],
                [
                 -157.72277035218391,
                 57.57000051536306
                ],
                [
                 -157.55027442119362,
                 58.328326321030204
                ],
                [
                 -157.04167497457698,
                 58.91888458926172
                ],
                [
                 -158.19473120830554,
                 58.61580231386978
                ],
                [
                 -158.51721798402303,
                 58.78778148053732
                ],
                [
                 -159.0586061269288,
                 58.42418610293163
                ],
                [
                 -159.71166704001737,
                 58.93139028587632
                ],
                [
                 -159.98128882550017,
                 58.572549140041644
                ],
                [
                 -160.3552711659965,
                 59.07112335879361
                ],
                [
                 -161.3550034251151,
                 58.670837714260756
                ],
                [
                 -161.96889360252632,
                 58.67166453717738
                ],
                [
                 -162.05498653872465,
                 59.26692536074745
                ],
                [
                 -161.8741707021354,
                 59.63362132429057
                ],
                [
                 -162.51805904849212,
                 59.98972361921386
                ],
                [
                 -163.8183414378202,
                 59.79805573184336
                ],
                [
                 -164.66221757714652,
                 60.26748444278263
                ],
                [
                 -165.3463877024748,
                 60.50749563256238
                ],
                [
                 -165.3508318756519,
                 61.073895168697504
                ],
                [
                 -166.12137915755602,
                 61.50001902937623
                ],
                [
                 -165.73445187077058,
                 62.074996853271784
                ],
                [
                 -164.9191786367179,
                 62.63307648380794
                ],
                [
                 -164.56250790103934,
                 63.14637848576302
                ],
                [
                 -163.75333248599708,
                 63.21944896102377
                ],
                [
                 -163.06722449445786,
                 63.05945872664802
                ],
                [
                 -162.26055538638175,
                 63.54193573674115
                ],
                [
                 -161.53444983624863,
                 63.455816962326764
                ],
                [
                 -160.7725066803211,
                 63.766108100023246
                ],
                [
                 -160.9583351308426,
                 64.22279857040274
                ],
                [
                 -161.51806840721218,
                 64.40278758407527
                ],
                [
                 -160.77777767641481,
                 64.78860382756642
                ],
                [
                 -161.39192623598765,
                 64.77723501246231
                ],
                [
                 -162.4530500966689,
                 64.55944468856819
                ],
                [
                 -162.75778601789415,
                 64.33860545516876
                ],
                [
                 -163.54639421288428,
                 64.5591604681905
                ],
                [
                 -164.96082984114514,
                 64.44694509546883
                ],
                [
                 -166.42528825586447,
                 64.68667206487066
                ],
                [
                 -166.8450042389391,
                 65.08889557561452
                ],
                [
                 -168.11056006576715,
                 65.66999705673675
                ],
                [
                 -166.70527116602193,
                 66.08831777613938
                ],
                [
                 -164.47470964257548,
                 66.5766600612975
                ],
                [
                 -163.65251176659564,
                 66.5766600612975
                ],
                [
                 -163.78860165103623,
                 66.07720734319668
                ],
                [
                 -161.67777442121013,
                 66.11611969671242
                ],
                [
                 -162.48971452538004,
                 66.73556509059512
                ],
                [
                 -163.71971696679117,
                 67.11639455837008
                ],
                [
                 -164.4309913808565,
                 67.61633820257777
                ],
                [
                 -165.39028683170673,
                 68.04277212185025
                ],
                [
                 -166.76444068099605,
                 68.35887685817966
                ],
                [
                 -166.20470740462667,
                 68.88303091091615
                ],
                [
                 -164.43081051334346,
                 68.91553538682774
                ],
                [
                 -163.1686136546145,
                 69.37111481391287
                ],
                [
                 -162.930566169262,
                 69.85806183539927
                ],
                [
                 -161.90889726463556,
                 70.33332998318764
                ],
                [
                 -160.93479651593367,
                 70.44768992784958
                ],
                [
                 -159.03917578838713,
                 70.89164215766891
                ],
                [
                 -158.11972286683394,
                 70.82472117785102
                ],
                [
                 -156.58082455139808,
                 71.35776357694175
                ],
                [
                 -155.06779029032427,
                 71.14777639432367
                ],
                [
                 -154.3441652089412,
                 70.69640859647018
                ],
                [
                 -153.9000062733926,
                 70.88998851183567
                ],
                [
                 -152.21000606993528,
                 70.82999217394485
                ],
                [
                 -152.27000240782613,
                 70.60000621202983
                ],
                [
                 -150.73999243874448,
                 70.43001658800569
                ],
                [
                 -149.7200030181675,
                 70.53001048449045
                ],
                [
                 -147.61336157935705,
                 70.2140349392418
                ],
                [
                 -145.68998980022533,
                 70.12000967068673
                ],
                [
                 -144.9200109590764,
                 69.98999176704046
                ],
                [
                 -143.58944618042523,
                 70.15251414659832
                ],
                [
                 -142.07251034871348,
                 69.85193817817265
                ],
                [
                 -140.98598752156073,
                 69.71199839952635
                ],
                [
                 -140.98598761037601,
                 69.71199839952635
                ]
               ]
              ],
              [
               [
                [
                 -171.73165686753944,
                 63.782515367275934
                ],
                [
                 -171.1144335602453,
                 63.59219106714495
                ],
                [
                 -170.4911124339407,
                 63.694975490973505
                ],
                [
                 -169.6825054596536,
                 63.43111562769119
                ],
                [
                 -168.6894394603007,
                 63.297506212000556
                ],
                [
                 -168.77194088445466,
                 63.18859813094544
                ],
                [
                 -169.5294398672051,
                 62.97693146427792
                ],
                [
                 -170.29055620021595,
                 63.194437567794424
                ],
                [
                 -170.67138566799093,
                 63.3758218451389
                ],
                [
                 -171.55306311753873,
                 63.317789211675105
                ],
                [
                 -171.79111060289122,
                 63.40584585230046
                ],
                [
                 -171.73165686753944,
                 63.782515367275934
                ]
               ]
              ]
             ],
             "type": "MultiPolygon"
            },
            "id": "30",
            "properties": {
             "Country_std": "United States",
             "ISO3": "USA",
             "n_unicorns": 463,
             "total_val": 1327.83
            },
            "type": "Feature"
           },
           {
            "geometry": {
             "coordinates": [
              [
               [
                16.344976840895242,
                -28.5767050106977
               ],
               [
                16.824017368240902,
                -28.08216155366447
               ],
               [
                17.218928663815404,
                -28.35594329194681
               ],
               [
                17.387497185951503,
                -28.78351409272978
               ],
               [
                17.83615197110953,
                -28.85637786226132
               ],
               [
                18.464899122804752,
                -29.04546192801728
               ],
               [
                19.002127312911085,
                -28.972443129188868
               ],
               [
                19.894734327888614,
                -28.461104831660776
               ],
               [
                19.895767856534434,
                -24.76779021576059
               ],
               [
                20.16572553882719,
                -24.91796192800077
               ],
               [
                20.75860924651184,
                -25.86813648855145
               ],
               [
                20.66647016773544,
                -26.477453301704923
               ],
               [
                20.88960900237174,
                -26.828542982695915
               ],
               [
                21.605896030369394,
                -26.726533705351756
               ],
               [
                22.105968865657868,
                -26.280256036079138
               ],
               [
                22.57953169118059,
                -25.979447523708146
               ],
               [
                22.8242712745149,
                -25.50045867279477
               ],
               [
                23.312096795350186,
                -25.26868987396572
               ],
               [
                23.73356977712271,
                -25.390129489851617
               ],
               [
                24.211266717228796,
                -25.670215752873574
               ],
               [
                25.025170525825786,
                -25.7196700985769
               ],
               [
                25.66466637543772,
                -25.486816094669713
               ],
               [
                25.76584882986521,
                -25.17484547292368
               ],
               [
                25.94165205252216,
                -24.69637338633322
               ],
               [
                26.4857532081233,
                -24.616326592713104
               ],
               [
                26.786406691197413,
                -24.240690606383485
               ],
               [
                27.119409620886245,
                -23.574323011979775
               ],
               [
                28.01723595552525,
                -22.82775359465908
               ],
               [
                29.43218834810904,
                -22.091312758067588
               ],
               [
                29.839036899542972,
                -22.102216485281176
               ],
               [
                30.322883335091774,
                -22.271611830333935
               ],
               [
                30.65986535006709,
                -22.151567478119915
               ],
               [
                31.19140913262129,
                -22.2515096981724
               ],
               [
                31.670397983534656,
                -23.658969008073864
               ],
               [
                31.930588820124253,
                -24.36941659922254
               ],
               [
                31.75240848158188,
                -25.484283949487413
               ],
               [
                31.83777794772806,
                -25.84333180105135
               ],
               [
                31.333157586397903,
                -25.66019052500895
               ],
               [
                31.04407962415715,
                -25.731452325139443
               ],
               [
                30.949666782359913,
                -26.02264902110415
               ],
               [
                30.67660851412964,
                -26.398078301704608
               ],
               [
                30.68596194837448,
                -26.743845310169533
               ],
               [
                31.28277306491333,
                -27.285879408478998
               ],
               [
                31.86806033705108,
                -27.177927341421277
               ],
               [
                32.07166548028107,
                -26.73382008230491
               ],
               [
                32.830120477028885,
                -26.742191664336197
               ],
               [
                32.580264926897684,
                -27.470157566031816
               ],
               [
                32.46213260267845,
                -28.301011244420557
               ],
               [
                32.20338870619304,
                -28.75240488049007
               ],
               [
                31.521001417778876,
                -29.257386976846256
               ],
               [
                31.325561150851,
                -29.401977634398914
               ],
               [
                30.901762729625347,
                -29.909956963828037
               ],
               [
                30.62281334811382,
                -30.42377573010613
               ],
               [
                30.05571618014278,
                -31.140269463832958
               ],
               [
                28.92555260591954,
                -32.1720411109725
               ],
               [
                28.2197558936771,
                -32.771952813448856
               ],
               [
                27.464608188595975,
                -33.2269637997788
               ],
               [
                26.419452345492825,
                -33.61495045342619
               ],
               [
                25.90966434093349,
                -33.6670402971764
               ],
               [
                25.780628289500697,
                -33.94464609144834
               ],
               [
                25.172861769315972,
                -33.796851495093584
               ],
               [
                24.677853224392123,
                -33.98717579522455
               ],
               [
                23.594043409934642,
                -33.794474379208154
               ],
               [
                22.988188917744736,
                -33.91643075941698
               ],
               [
                22.574157342222236,
                -33.86408253350531
               ],
               [
                21.542799106541025,
                -34.258838799782936
               ],
               [
                20.689052768647002,
                -34.417175388325234
               ],
               [
                20.071261020597632,
                -34.79513681410799
               ],
               [
                19.61640506356457,
                -34.81916635512371
               ],
               [
                19.193278435958717,
                -34.46259897230979
               ],
               [
                18.85531456876987,
                -34.444305515278465
               ],
               [
                18.42464318204938,
                -33.99787281670897
               ],
               [
                18.377410922934615,
                -34.13652068454807
               ],
               [
                18.24449913907992,
                -33.86775156019803
               ],
               [
                18.250080193767445,
                -33.28143075941444
               ],
               [
                17.92519046394844,
                -32.61129078545343
               ],
               [
                18.247909783611192,
                -32.42913136162457
               ],
               [
                18.22176150887148,
                -31.66163298922567
               ],
               [
                17.56691775886887,
                -30.725721123987547
               ],
               [
                17.064416131262703,
                -29.878641045859162
               ],
               [
                17.062917514726223,
                -29.875953871379984
               ],
               [
                16.344976840895242,
                -28.5767050106977
               ]
              ],
              [
               [
                28.978262566857243,
                -28.95559661226171
               ],
               [
                28.541700066855498,
                -28.64750172293757
               ],
               [
                28.074338413207784,
                -28.851468601193588
               ],
               [
                27.532511020627478,
                -29.24271087007536
               ],
               [
                26.999261915807637,
                -29.875953871379984
               ],
               [
                27.749397006956485,
                -30.645105889612225
               ],
               [
                28.107204624145425,
                -30.54573211031495
               ],
               [
                28.29106937023991,
                -30.2262167294543
               ],
               [
                28.84839969250774,
                -30.070050551068256
               ],
               [
                29.018415154748027,
                -29.74376555757737
               ],
               [
                29.32516645683259,
                -29.257386976846256
               ],
               [
                28.978262566857243,
                -28.95559661226171
               ]
              ]
             ],
             "type": "Polygon"
            },
            "id": "31",
            "properties": {
             "Country_std": "South Africa",
             "ISO3": "ZAF",
             "n_unicorns": 2,
             "total_val": 2.59
            },
            "type": "Feature"
           }
          ],
          "type": "FeatureCollection"
         },
         "hovertemplate": "<b>%{hovertext}</b><br><br>ISO3=%{location}<br># Unicorns=%{customdata[0]}<br>Total Valuation ($B)=%{z:,.2f}<extra></extra>",
         "hovertext": [
          "United Arab Emirates",
          "Argentina",
          "Australia",
          "Austria",
          "Belgium",
          "Brazil",
          "Canada",
          "Switzerland",
          "Chile",
          "Colombia",
          "Germany",
          "Denmark",
          "Spain",
          "Finland",
          "France",
          "Croatia",
          "Indonesia",
          "India",
          "Ireland",
          "Israel",
          "Japan",
          "Lithuania",
          "Mexico",
          "Malaysia",
          "Netherlands",
          "Norway",
          "Philippines",
          "Singapore",
          "Sweden",
          "Thailand",
          "United States",
          "South Africa"
         ],
         "locations": [
          "ARE",
          "ARG",
          "AUS",
          "AUT",
          "BEL",
          "BRA",
          "CAN",
          "CHE",
          "CHL",
          "COL",
          "DEU",
          "DNK",
          "ESP",
          "FIN",
          "FRA",
          "HRV",
          "IDN",
          "IND",
          "IRL",
          "ISR",
          "JPN",
          "LTU",
          "MEX",
          "MYS",
          "NLD",
          "NOR",
          "PHL",
          "SGP",
          "SWE",
          "THA",
          "USA",
          "ZAF"
         ],
         "marker": {
          "opacity": 0.8
         },
         "name": "",
         "subplot": "map",
         "type": "choroplethmap",
         "z": {
          "bdata": "AAAAAAAAEkCamZmZmZkDQM3MzMzMTElAPgrXo3A9F0AzMzMzMzMeQGZmZmZmhk5APQrXo3DdQkBmZmZmZmYWQAAAAAAAAPg/mpmZmZmZGUC4HoXrUahQQJqZmZmZmQVAzczMzMzMF0AAAAAAAAAIQD4K16NwHUFAAAAAAAAA8D9mZmZmZuY6QGZmZmZmXmFAzczMzMzMGEApXI/C9ehFQKRwPQrXoyFAH4XrUbgeEkBmZmZmZmYuQM3MzMzMzPQ/mpmZmZmZLEBmZmZmZmYOQAAAAAAAAAhAzczMzMzMLUD2KFyPwvUoQAAAAAAAAARAuB6F61G/lEC4HoXrUbgEQA==",
          "dtype": "f8"
         }
        }
       ],
       "layout": {
        "coloraxis": {
         "colorbar": {
          "title": {
           "text": "Total Valuation ($B)"
          }
         },
         "colorscale": [
          [
           0,
           "#0d0887"
          ],
          [
           0.1111111111111111,
           "#46039f"
          ],
          [
           0.2222222222222222,
           "#7201a8"
          ],
          [
           0.3333333333333333,
           "#9c179e"
          ],
          [
           0.4444444444444444,
           "#bd3786"
          ],
          [
           0.5555555555555556,
           "#d8576b"
          ],
          [
           0.6666666666666666,
           "#ed7953"
          ],
          [
           0.7777777777777778,
           "#fb9f3a"
          ],
          [
           0.8888888888888888,
           "#fdca26"
          ],
          [
           1,
           "#f0f921"
          ]
         ]
        },
        "legend": {
         "tracegroupgap": 0
        },
        "map": {
         "center": {
          "lat": 20,
          "lon": 0
         },
         "domain": {
          "x": [
           0,
           1
          ],
          "y": [
           0,
           1
          ]
         },
         "zoom": 1
        },
        "mapbox": {
         "center": {
          "lat": 20,
          "lon": 0
         },
         "zoom": 1
        },
        "margin": {
         "b": 0,
         "l": 0,
         "r": 0,
         "t": 0
        },
        "template": {
         "data": {
          "bar": [
           {
            "error_x": {
             "color": "#2a3f5f"
            },
            "error_y": {
             "color": "#2a3f5f"
            },
            "marker": {
             "line": {
              "color": "#E5ECF6",
              "width": 0.5
             },
             "pattern": {
              "fillmode": "overlay",
              "size": 10,
              "solidity": 0.2
             }
            },
            "type": "bar"
           }
          ],
          "barpolar": [
           {
            "marker": {
             "line": {
              "color": "#E5ECF6",
              "width": 0.5
             },
             "pattern": {
              "fillmode": "overlay",
              "size": 10,
              "solidity": 0.2
             }
            },
            "type": "barpolar"
           }
          ],
          "carpet": [
           {
            "aaxis": {
             "endlinecolor": "#2a3f5f",
             "gridcolor": "white",
             "linecolor": "white",
             "minorgridcolor": "white",
             "startlinecolor": "#2a3f5f"
            },
            "baxis": {
             "endlinecolor": "#2a3f5f",
             "gridcolor": "white",
             "linecolor": "white",
             "minorgridcolor": "white",
             "startlinecolor": "#2a3f5f"
            },
            "type": "carpet"
           }
          ],
          "choropleth": [
           {
            "colorbar": {
             "outlinewidth": 0,
             "ticks": ""
            },
            "type": "choropleth"
           }
          ],
          "contour": [
           {
            "colorbar": {
             "outlinewidth": 0,
             "ticks": ""
            },
            "colorscale": [
             [
              0,
              "#0d0887"
             ],
             [
              0.1111111111111111,
              "#46039f"
             ],
             [
              0.2222222222222222,
              "#7201a8"
             ],
             [
              0.3333333333333333,
              "#9c179e"
             ],
             [
              0.4444444444444444,
              "#bd3786"
             ],
             [
              0.5555555555555556,
              "#d8576b"
             ],
             [
              0.6666666666666666,
              "#ed7953"
             ],
             [
              0.7777777777777778,
              "#fb9f3a"
             ],
             [
              0.8888888888888888,
              "#fdca26"
             ],
             [
              1,
              "#f0f921"
             ]
            ],
            "type": "contour"
           }
          ],
          "contourcarpet": [
           {
            "colorbar": {
             "outlinewidth": 0,
             "ticks": ""
            },
            "type": "contourcarpet"
           }
          ],
          "heatmap": [
           {
            "colorbar": {
             "outlinewidth": 0,
             "ticks": ""
            },
            "colorscale": [
             [
              0,
              "#0d0887"
             ],
             [
              0.1111111111111111,
              "#46039f"
             ],
             [
              0.2222222222222222,
              "#7201a8"
             ],
             [
              0.3333333333333333,
              "#9c179e"
             ],
             [
              0.4444444444444444,
              "#bd3786"
             ],
             [
              0.5555555555555556,
              "#d8576b"
             ],
             [
              0.6666666666666666,
              "#ed7953"
             ],
             [
              0.7777777777777778,
              "#fb9f3a"
             ],
             [
              0.8888888888888888,
              "#fdca26"
             ],
             [
              1,
              "#f0f921"
             ]
            ],
            "type": "heatmap"
           }
          ],
          "histogram": [
           {
            "marker": {
             "pattern": {
              "fillmode": "overlay",
              "size": 10,
              "solidity": 0.2
             }
            },
            "type": "histogram"
           }
          ],
          "histogram2d": [
           {
            "colorbar": {
             "outlinewidth": 0,
             "ticks": ""
            },
            "colorscale": [
             [
              0,
              "#0d0887"
             ],
             [
              0.1111111111111111,
              "#46039f"
             ],
             [
              0.2222222222222222,
              "#7201a8"
             ],
             [
              0.3333333333333333,
              "#9c179e"
             ],
             [
              0.4444444444444444,
              "#bd3786"
             ],
             [
              0.5555555555555556,
              "#d8576b"
             ],
             [
              0.6666666666666666,
              "#ed7953"
             ],
             [
              0.7777777777777778,
              "#fb9f3a"
             ],
             [
              0.8888888888888888,
              "#fdca26"
             ],
             [
              1,
              "#f0f921"
             ]
            ],
            "type": "histogram2d"
           }
          ],
          "histogram2dcontour": [
           {
            "colorbar": {
             "outlinewidth": 0,
             "ticks": ""
            },
            "colorscale": [
             [
              0,
              "#0d0887"
             ],
             [
              0.1111111111111111,
              "#46039f"
             ],
             [
              0.2222222222222222,
              "#7201a8"
             ],
             [
              0.3333333333333333,
              "#9c179e"
             ],
             [
              0.4444444444444444,
              "#bd3786"
             ],
             [
              0.5555555555555556,
              "#d8576b"
             ],
             [
              0.6666666666666666,
              "#ed7953"
             ],
             [
              0.7777777777777778,
              "#fb9f3a"
             ],
             [
              0.8888888888888888,
              "#fdca26"
             ],
             [
              1,
              "#f0f921"
             ]
            ],
            "type": "histogram2dcontour"
           }
          ],
          "mesh3d": [
           {
            "colorbar": {
             "outlinewidth": 0,
             "ticks": ""
            },
            "type": "mesh3d"
           }
          ],
          "parcoords": [
           {
            "line": {
             "colorbar": {
              "outlinewidth": 0,
              "ticks": ""
             }
            },
            "type": "parcoords"
           }
          ],
          "pie": [
           {
            "automargin": true,
            "type": "pie"
           }
          ],
          "scatter": [
           {
            "fillpattern": {
             "fillmode": "overlay",
             "size": 10,
             "solidity": 0.2
            },
            "type": "scatter"
           }
          ],
          "scatter3d": [
           {
            "line": {
             "colorbar": {
              "outlinewidth": 0,
              "ticks": ""
             }
            },
            "marker": {
             "colorbar": {
              "outlinewidth": 0,
              "ticks": ""
             }
            },
            "type": "scatter3d"
           }
          ],
          "scattercarpet": [
           {
            "marker": {
             "colorbar": {
              "outlinewidth": 0,
              "ticks": ""
             }
            },
            "type": "scattercarpet"
           }
          ],
          "scattergeo": [
           {
            "marker": {
             "colorbar": {
              "outlinewidth": 0,
              "ticks": ""
             }
            },
            "type": "scattergeo"
           }
          ],
          "scattergl": [
           {
            "marker": {
             "colorbar": {
              "outlinewidth": 0,
              "ticks": ""
             }
            },
            "type": "scattergl"
           }
          ],
          "scattermap": [
           {
            "marker": {
             "colorbar": {
              "outlinewidth": 0,
              "ticks": ""
             }
            },
            "type": "scattermap"
           }
          ],
          "scattermapbox": [
           {
            "marker": {
             "colorbar": {
              "outlinewidth": 0,
              "ticks": ""
             }
            },
            "type": "scattermapbox"
           }
          ],
          "scatterpolar": [
           {
            "marker": {
             "colorbar": {
              "outlinewidth": 0,
              "ticks": ""
             }
            },
            "type": "scatterpolar"
           }
          ],
          "scatterpolargl": [
           {
            "marker": {
             "colorbar": {
              "outlinewidth": 0,
              "ticks": ""
             }
            },
            "type": "scatterpolargl"
           }
          ],
          "scatterternary": [
           {
            "marker": {
             "colorbar": {
              "outlinewidth": 0,
              "ticks": ""
             }
            },
            "type": "scatterternary"
           }
          ],
          "surface": [
           {
            "colorbar": {
             "outlinewidth": 0,
             "ticks": ""
            },
            "colorscale": [
             [
              0,
              "#0d0887"
             ],
             [
              0.1111111111111111,
              "#46039f"
             ],
             [
              0.2222222222222222,
              "#7201a8"
             ],
             [
              0.3333333333333333,
              "#9c179e"
             ],
             [
              0.4444444444444444,
              "#bd3786"
             ],
             [
              0.5555555555555556,
              "#d8576b"
             ],
             [
              0.6666666666666666,
              "#ed7953"
             ],
             [
              0.7777777777777778,
              "#fb9f3a"
             ],
             [
              0.8888888888888888,
              "#fdca26"
             ],
             [
              1,
              "#f0f921"
             ]
            ],
            "type": "surface"
           }
          ],
          "table": [
           {
            "cells": {
             "fill": {
              "color": "#EBF0F8"
             },
             "line": {
              "color": "white"
             }
            },
            "header": {
             "fill": {
              "color": "#C8D4E3"
             },
             "line": {
              "color": "white"
             }
            },
            "type": "table"
           }
          ]
         },
         "layout": {
          "annotationdefaults": {
           "arrowcolor": "#2a3f5f",
           "arrowhead": 0,
           "arrowwidth": 1
          },
          "autotypenumbers": "strict",
          "coloraxis": {
           "colorbar": {
            "outlinewidth": 0,
            "ticks": ""
           }
          },
          "colorscale": {
           "diverging": [
            [
             0,
             "#8e0152"
            ],
            [
             0.1,
             "#c51b7d"
            ],
            [
             0.2,
             "#de77ae"
            ],
            [
             0.3,
             "#f1b6da"
            ],
            [
             0.4,
             "#fde0ef"
            ],
            [
             0.5,
             "#f7f7f7"
            ],
            [
             0.6,
             "#e6f5d0"
            ],
            [
             0.7,
             "#b8e186"
            ],
            [
             0.8,
             "#7fbc41"
            ],
            [
             0.9,
             "#4d9221"
            ],
            [
             1,
             "#276419"
            ]
           ],
           "sequential": [
            [
             0,
             "#0d0887"
            ],
            [
             0.1111111111111111,
             "#46039f"
            ],
            [
             0.2222222222222222,
             "#7201a8"
            ],
            [
             0.3333333333333333,
             "#9c179e"
            ],
            [
             0.4444444444444444,
             "#bd3786"
            ],
            [
             0.5555555555555556,
             "#d8576b"
            ],
            [
             0.6666666666666666,
             "#ed7953"
            ],
            [
             0.7777777777777778,
             "#fb9f3a"
            ],
            [
             0.8888888888888888,
             "#fdca26"
            ],
            [
             1,
             "#f0f921"
            ]
           ],
           "sequentialminus": [
            [
             0,
             "#0d0887"
            ],
            [
             0.1111111111111111,
             "#46039f"
            ],
            [
             0.2222222222222222,
             "#7201a8"
            ],
            [
             0.3333333333333333,
             "#9c179e"
            ],
            [
             0.4444444444444444,
             "#bd3786"
            ],
            [
             0.5555555555555556,
             "#d8576b"
            ],
            [
             0.6666666666666666,
             "#ed7953"
            ],
            [
             0.7777777777777778,
             "#fb9f3a"
            ],
            [
             0.8888888888888888,
             "#fdca26"
            ],
            [
             1,
             "#f0f921"
            ]
           ]
          },
          "colorway": [
           "#636efa",
           "#EF553B",
           "#00cc96",
           "#ab63fa",
           "#FFA15A",
           "#19d3f3",
           "#FF6692",
           "#B6E880",
           "#FF97FF",
           "#FECB52"
          ],
          "font": {
           "color": "#2a3f5f"
          },
          "geo": {
           "bgcolor": "white",
           "lakecolor": "white",
           "landcolor": "#E5ECF6",
           "showlakes": true,
           "showland": true,
           "subunitcolor": "white"
          },
          "hoverlabel": {
           "align": "left"
          },
          "hovermode": "closest",
          "mapbox": {
           "style": "light"
          },
          "paper_bgcolor": "white",
          "plot_bgcolor": "#E5ECF6",
          "polar": {
           "angularaxis": {
            "gridcolor": "white",
            "linecolor": "white",
            "ticks": ""
           },
           "bgcolor": "#E5ECF6",
           "radialaxis": {
            "gridcolor": "white",
            "linecolor": "white",
            "ticks": ""
           }
          },
          "scene": {
           "xaxis": {
            "backgroundcolor": "#E5ECF6",
            "gridcolor": "white",
            "gridwidth": 2,
            "linecolor": "white",
            "showbackground": true,
            "ticks": "",
            "zerolinecolor": "white"
           },
           "yaxis": {
            "backgroundcolor": "#E5ECF6",
            "gridcolor": "white",
            "gridwidth": 2,
            "linecolor": "white",
            "showbackground": true,
            "ticks": "",
            "zerolinecolor": "white"
           },
           "zaxis": {
            "backgroundcolor": "#E5ECF6",
            "gridcolor": "white",
            "gridwidth": 2,
            "linecolor": "white",
            "showbackground": true,
            "ticks": "",
            "zerolinecolor": "white"
           }
          },
          "shapedefaults": {
           "line": {
            "color": "#2a3f5f"
           }
          },
          "ternary": {
           "aaxis": {
            "gridcolor": "white",
            "linecolor": "white",
            "ticks": ""
           },
           "baxis": {
            "gridcolor": "white",
            "linecolor": "white",
            "ticks": ""
           },
           "bgcolor": "#E5ECF6",
           "caxis": {
            "gridcolor": "white",
            "linecolor": "white",
            "ticks": ""
           }
          },
          "title": {
           "x": 0.05
          },
          "xaxis": {
           "automargin": true,
           "gridcolor": "white",
           "linecolor": "white",
           "ticks": "",
           "title": {
            "standoff": 15
           },
           "zerolinecolor": "white",
           "zerolinewidth": 2
          },
          "yaxis": {
           "automargin": true,
           "gridcolor": "white",
           "linecolor": "white",
           "ticks": "",
           "title": {
            "standoff": 15
           },
           "zerolinecolor": "white",
           "zerolinewidth": 2
          }
         }
        }
       }
      }
     },
     "metadata": {},
     "output_type": "display_data"
    }
   ],
   "source": [
    "geojson = json.loads(unicorn_agg_gdf[unicorn_agg_gdf.geometry.notna()].to_json())\n",
    "\n",
    "fig = px.choropleth_map(\n",
    "    unicorn_agg_gdf,\n",
    "    geojson=geojson,\n",
    "    locations=\"ISO3\",                 # column in DataFrame\n",
    "    featureidkey=\"properties.ISO3\",   # identical path in GeoJSON\n",
    "    color=\"total_val\",\n",
    "    hover_name=\"Country_std\",\n",
    "    hover_data={\"n_unicorns\": True, \"total_val\": \":,.2f\"},\n",
    "    zoom=1,\n",
    "    center=dict(lat=20, lon=0),\n",
    "    opacity=0.8,\n",
    "    color_continuous_scale=\"Plasma\",\n",
    "    labels={\"total_val\": \"Total Valuation ($B)\", \"n_unicorns\": \"# Unicorns\"},\n",
    ")\n",
    "fig.update_layout(margin=dict(l=0, r=0, t=0, b=0))\n",
    "fig.show()\n"
   ]
  },
  {
   "cell_type": "markdown",
   "id": "ce0023e5",
   "metadata": {},
   "source": [
    "Merge unicorn + QoL/GDP"
   ]
  },
  {
   "cell_type": "code",
   "execution_count": 108,
   "id": "34abdd03",
   "metadata": {},
   "outputs": [
    {
     "data": {
      "text/html": [
       "<div>\n",
       "<style scoped>\n",
       "    .dataframe tbody tr th:only-of-type {\n",
       "        vertical-align: middle;\n",
       "    }\n",
       "\n",
       "    .dataframe tbody tr th {\n",
       "        vertical-align: top;\n",
       "    }\n",
       "\n",
       "    .dataframe thead th {\n",
       "        text-align: right;\n",
       "    }\n",
       "</style>\n",
       "<table border=\"1\" class=\"dataframe\">\n",
       "  <thead>\n",
       "    <tr style=\"text-align: right;\">\n",
       "      <th></th>\n",
       "      <th>Company</th>\n",
       "      <th>Valuation</th>\n",
       "      <th>Country_uni</th>\n",
       "      <th>City</th>\n",
       "      <th>Industry</th>\n",
       "      <th>Year_uni</th>\n",
       "      <th>Country_std</th>\n",
       "      <th>ISO3</th>\n",
       "      <th>Country_qol</th>\n",
       "      <th>Quality_of_Life_Index</th>\n",
       "      <th>Purchasing_Power_Index</th>\n",
       "      <th>Cost_of_Living_Index</th>\n",
       "      <th>Property_Price_to_Income_Ratio</th>\n",
       "      <th>Year_qol</th>\n",
       "      <th>GDP_per_Capita</th>\n",
       "    </tr>\n",
       "  </thead>\n",
       "  <tbody>\n",
       "    <tr>\n",
       "      <th>0</th>\n",
       "      <td>Red Ventures</td>\n",
       "      <td>1.0</td>\n",
       "      <td>United States</td>\n",
       "      <td>Fort Mill</td>\n",
       "      <td>Other</td>\n",
       "      <td>2015</td>\n",
       "      <td>United States</td>\n",
       "      <td>USA</td>\n",
       "      <td>United States</td>\n",
       "      <td>192.5</td>\n",
       "      <td>126.1</td>\n",
       "      <td>76.5</td>\n",
       "      <td>2.6</td>\n",
       "      <td>2015</td>\n",
       "      <td>56097.922641</td>\n",
       "    </tr>\n",
       "    <tr>\n",
       "      <th>1</th>\n",
       "      <td>Red Ventures</td>\n",
       "      <td>1.0</td>\n",
       "      <td>United States</td>\n",
       "      <td>Fort Mill</td>\n",
       "      <td>Other</td>\n",
       "      <td>2015</td>\n",
       "      <td>United States</td>\n",
       "      <td>USA</td>\n",
       "      <td>United States</td>\n",
       "      <td>184.0</td>\n",
       "      <td>139.2</td>\n",
       "      <td>74.1</td>\n",
       "      <td>3.4</td>\n",
       "      <td>2016</td>\n",
       "      <td>57126.635074</td>\n",
       "    </tr>\n",
       "    <tr>\n",
       "      <th>2</th>\n",
       "      <td>Red Ventures</td>\n",
       "      <td>1.0</td>\n",
       "      <td>United States</td>\n",
       "      <td>Fort Mill</td>\n",
       "      <td>Other</td>\n",
       "      <td>2015</td>\n",
       "      <td>United States</td>\n",
       "      <td>USA</td>\n",
       "      <td>United States</td>\n",
       "      <td>179.7</td>\n",
       "      <td>123.2</td>\n",
       "      <td>75.4</td>\n",
       "      <td>3.3</td>\n",
       "      <td>2017</td>\n",
       "      <td>59036.203767</td>\n",
       "    </tr>\n",
       "    <tr>\n",
       "      <th>3</th>\n",
       "      <td>Red Ventures</td>\n",
       "      <td>1.0</td>\n",
       "      <td>United States</td>\n",
       "      <td>Fort Mill</td>\n",
       "      <td>Other</td>\n",
       "      <td>2015</td>\n",
       "      <td>United States</td>\n",
       "      <td>USA</td>\n",
       "      <td>United States</td>\n",
       "      <td>180.6</td>\n",
       "      <td>127.6</td>\n",
       "      <td>73.0</td>\n",
       "      <td>3.3</td>\n",
       "      <td>2018</td>\n",
       "      <td>61650.844514</td>\n",
       "    </tr>\n",
       "    <tr>\n",
       "      <th>4</th>\n",
       "      <td>Red Ventures</td>\n",
       "      <td>1.0</td>\n",
       "      <td>United States</td>\n",
       "      <td>Fort Mill</td>\n",
       "      <td>Other</td>\n",
       "      <td>2015</td>\n",
       "      <td>United States</td>\n",
       "      <td>USA</td>\n",
       "      <td>United States</td>\n",
       "      <td>179.2</td>\n",
       "      <td>122.0</td>\n",
       "      <td>69.9</td>\n",
       "      <td>3.6</td>\n",
       "      <td>2019</td>\n",
       "      <td>63767.416820</td>\n",
       "    </tr>\n",
       "  </tbody>\n",
       "</table>\n",
       "</div>"
      ],
      "text/plain": [
       "        Company  Valuation    Country_uni       City Industry  Year_uni  \\\n",
       "0  Red Ventures        1.0  United States  Fort Mill    Other      2015   \n",
       "1  Red Ventures        1.0  United States  Fort Mill    Other      2015   \n",
       "2  Red Ventures        1.0  United States  Fort Mill    Other      2015   \n",
       "3  Red Ventures        1.0  United States  Fort Mill    Other      2015   \n",
       "4  Red Ventures        1.0  United States  Fort Mill    Other      2015   \n",
       "\n",
       "     Country_std ISO3    Country_qol  Quality_of_Life_Index  \\\n",
       "0  United States  USA  United States                  192.5   \n",
       "1  United States  USA  United States                  184.0   \n",
       "2  United States  USA  United States                  179.7   \n",
       "3  United States  USA  United States                  180.6   \n",
       "4  United States  USA  United States                  179.2   \n",
       "\n",
       "   Purchasing_Power_Index  Cost_of_Living_Index  \\\n",
       "0                   126.1                  76.5   \n",
       "1                   139.2                  74.1   \n",
       "2                   123.2                  75.4   \n",
       "3                   127.6                  73.0   \n",
       "4                   122.0                  69.9   \n",
       "\n",
       "   Property_Price_to_Income_Ratio  Year_qol  GDP_per_Capita  \n",
       "0                             2.6      2015    56097.922641  \n",
       "1                             3.4      2016    57126.635074  \n",
       "2                             3.3      2017    59036.203767  \n",
       "3                             3.3      2018    61650.844514  \n",
       "4                             3.6      2019    63767.416820  "
      ]
     },
     "execution_count": 108,
     "metadata": {},
     "output_type": "execute_result"
    }
   ],
   "source": [
    "merged = pd.merge(unicorn, qol_gdp, on='Country_std', how='left', suffixes=('_uni','_qol'))\n",
    "merged.head()"
   ]
  },
  {
   "cell_type": "code",
   "execution_count": null,
   "id": "43a5c6e9",
   "metadata": {},
   "outputs": [],
   "source": []
  }
 ],
 "metadata": {
  "kernelspec": {
   "display_name": "info-vis",
   "language": "python",
   "name": "python3"
  },
  "language_info": {
   "codemirror_mode": {
    "name": "ipython",
    "version": 3
   },
   "file_extension": ".py",
   "mimetype": "text/x-python",
   "name": "python",
   "nbconvert_exporter": "python",
   "pygments_lexer": "ipython3",
   "version": "3.11.12"
  }
 },
 "nbformat": 4,
 "nbformat_minor": 5
}
